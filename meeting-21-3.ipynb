{
 "cells": [
  {
   "cell_type": "code",
   "execution_count": 63,
   "metadata": {
    "collapsed": false
   },
   "outputs": [
    {
     "name": "stdout",
     "output_type": "stream",
     "text": [
      "[[ 0.37508311  0.06935237  0.04724908]\n",
      " [ 0.06935237  2.32882366 -0.17189556]\n",
      " [ 0.04724908 -0.17189556  0.49177641]]\n"
     ]
    }
   ],
   "source": [
    "import yaml,logging,numpy\n",
    "from optparse import OptionParser\n",
    "from feature import Feature\n",
    "from matplotlib import pyplot as plt\n",
    "%matplotlib inline\n",
    "features = yaml.load(open('features.yml'))\n",
    "nlangs = 2679\n",
    "logging.basicConfig(level=logging.ERROR)\n",
    "\n",
    "# do the main #\n",
    "base_matrix = numpy.zeros((0,nlangs))\n",
    "for name,data in features.items():\n",
    "    feat =  Feature(name,data)\n",
    "    base_matrix = numpy.vstack((base_matrix,feat.get_languages()))\n",
    "\n",
    "print(numpy.cov(base_matrix))"
   ]
  },
  {
   "cell_type": "code",
   "execution_count": 64,
   "metadata": {
    "collapsed": false
   },
   "outputs": [
    {
     "name": "stdout",
     "output_type": "stream",
     "text": [
      "(239, 2)\n"
     ]
    }
   ],
   "source": [
    "cases = Feature('number_of_cases', features['number_of_cases']).get_languages()\n",
    "orders = Feature('word_order1', features['word_order1']).get_languages()\n",
    "new_base = numpy.zeros((0,2))\n",
    "for o,c in zip(orders,cases):\n",
    "    if c != 0 and o != 0:\n",
    "        new_base = numpy.vstack((new_base,numpy.array([o,c])))\n",
    "print(new_base.shape)"
   ]
  },
  {
   "cell_type": "code",
   "execution_count": 65,
   "metadata": {
    "collapsed": false
   },
   "outputs": [
    {
     "name": "stdout",
     "output_type": "stream",
     "text": [
      "[[ 0.52557927 -0.27681868]\n",
      " [-0.27681868  9.02306529]]\n"
     ]
    }
   ],
   "source": [
    "print(numpy.cov(numpy.transpose(new_base)))"
   ]
  },
  {
   "cell_type": "code",
   "execution_count": 66,
   "metadata": {
    "collapsed": false
   },
   "outputs": [
    {
     "data": {
      "text/plain": [
       "[<matplotlib.lines.Line2D at 0x7f8d51b42e10>]"
      ]
     },
     "execution_count": 66,
     "metadata": {},
     "output_type": "execute_result"
    },
    {
     "data": {
      "image/png": "[encoded data removed]",
      "text/plain": [
       "<matplotlib.figure.Figure at 0x7f8d51d0ed30>"
      ]
     },
     "metadata": {},
     "output_type": "display_data"
    }
   ],
   "source": [
    "cases_counts = numpy.zeros(10)\n",
    "for i in range(new_base.shape[0]):\n",
    "    cases_counts[int(new_base[i,][1])] += new_base[i,][0]\n",
    "plt.plot(range(10),cases_counts,'o')"
   ]
  },
  {
   "cell_type": "code",
   "execution_count": 67,
   "metadata": {
    "collapsed": false
   },
   "outputs": [
    {
     "name": "stdout",
     "output_type": "stream",
     "text": [
      "[[ 0.52557927 -0.27681868]\n",
      " [-0.27681868  9.02306529]]\n"
     ]
    }
   ],
   "source": [
    "print(numpy.cov(numpy.transpose(new_base)))"
   ]
  },
  {
   "cell_type": "code",
   "execution_count": 68,
   "metadata": {
    "collapsed": false
   },
   "outputs": [
    {
     "name": "stdout",
     "output_type": "stream",
     "text": [
      "(239, 2)\n",
      "[[ 0.83878907 -1.00298864]\n",
      " [-1.00298864  9.02306529]]\n"
     ]
    }
   ],
   "source": [
    "cases = Feature('number_of_cases', features['number_of_cases']).get_languages()\n",
    "orders = Feature('issvo', features['issvo']).get_languages()\n",
    "new_base = numpy.zeros((0,2))\n",
    "for o,c in zip(orders,cases):\n",
    "    if c != 0 and o != 0:\n",
    "        new_base = numpy.vstack((new_base,numpy.array([o,c])))\n",
    "print(new_base.shape)\n",
    "print(numpy.cov(numpy.transpose(new_base)))"
   ]
  },
  {
   "cell_type": "code",
   "execution_count": 69,
   "metadata": {
    "collapsed": false
   },
   "outputs": [
    {
     "data": {
      "text/plain": [
       "array([ 0.        ,  3.92050209])"
      ]
     },
     "execution_count": 69,
     "metadata": {},
     "output_type": "execute_result"
    }
   ],
   "source": [
    "svo_counts = numpy.zeros(2)\n",
    "for i in range(new_base.shape[0]):\n",
    "    svo_counts[int(new_base[i,][0])] += new_base[i,][1]\n",
    "svo_counts/new_base.shape[0]"
   ]
  },
  {
   "cell_type": "code",
   "execution_count": 70,
   "metadata": {
    "collapsed": false
   },
   "outputs": [
    {
     "name": "stdout",
     "output_type": "stream",
     "text": [
      "[ 0.92722822  0.07277178]\n"
     ]
    }
   ],
   "source": [
    "from sklearn.decomposition import PCA\n",
    "pca = PCA(n_components=2)\n",
    "pca.fit(new_base)\n",
    "PCA(copy=True, iterated_power='auto', n_components=3, random_state=None, svd_solver='auto', tol=0.0, whiten=False)\n",
    "print(pca.explained_variance_ratio_)"
   ]
  },
  {
   "cell_type": "code",
   "execution_count": 72,
   "metadata": {
    "collapsed": false
   },
   "outputs": [],
   "source": [
    "from feature import languages\n",
    "coverage = languages.ix[:,10:]\n",
    "coverage = coverage.replace(to_replace=\".+\",regex=True,value=1)\n",
    "coverage = coverage.replace(to_replace='',value=0)"
   ]
  },
  {
   "cell_type": "code",
   "execution_count": 74,
   "metadata": {
    "collapsed": false
   },
   "outputs": [
    {
     "data": {
      "text/plain": [
       "49A Number of Cases                       261\n",
       "81A Order of Subject, Object and Verb    1377\n",
       "dtype: int64"
      ]
     },
     "execution_count": 74,
     "metadata": {},
     "output_type": "execute_result"
    }
   ],
   "source": [
    "feature_cover = coverage.apply(lambda f: sum(f))\n",
    "feature_cover[['49A Number of Cases', '81A Order of Subject, Object and Verb']]"
   ]
  },
  {
   "cell_type": "code",
   "execution_count": 18,
   "metadata": {
    "collapsed": false
   },
   "outputs": [
    {
     "data": {
      "text/plain": [
       "count     192.000000\n",
       "mean      398.255208\n",
       "std       349.743066\n",
       "min         5.000000\n",
       "25%       171.500000\n",
       "50%       257.000000\n",
       "75%       508.250000\n",
       "max      1519.000000\n",
       "dtype: float64"
      ]
     },
     "execution_count": 18,
     "metadata": {},
     "output_type": "execute_result"
    }
   ],
   "source": [
    "feature_cover.describe()"
   ]
  },
  {
   "cell_type": "code",
   "execution_count": 20,
   "metadata": {
    "collapsed": false
   },
   "outputs": [
    {
     "data": {
      "text/plain": [
       "19.0"
      ]
     },
     "execution_count": 20,
     "metadata": {},
     "output_type": "execute_result"
    }
   ],
   "source": [
    "from scipy.stats import percentileofscore as pcor\n",
    "round(193*(1 - pcor(feature_cover.values,1000)/100))"
   ]
  },
  {
   "cell_type": "code",
   "execution_count": 24,
   "metadata": {
    "collapsed": false
   },
   "outputs": [
    {
     "name": "stdout",
     "output_type": "stream",
     "text": [
      "33A Coding of Nominal Plurality\n",
      "51A Position of Case Affixes\n",
      "69A Position of Tense-Aspect Affixes\n",
      "81A Order of Subject, Object and Verb\n",
      "82A Order of Subject and Verb\n",
      "83A Order of Object and Verb\n",
      "85A Order of Adposition and Noun Phrase\n",
      "86A Order of Genitive and Noun\n",
      "87A Order of Adjective and Noun\n",
      "88A Order of Demonstrative and Noun\n",
      "89A Order of Numeral and Noun\n",
      "95A Relationship between the Order of Object and Verb and the Order of Adposition and Noun Phrase\n",
      "97A Relationship between the Order of Object and Verb and the Order of Adjective and Noun\n",
      "112A Negative Morphemes\n",
      "143F Postverbal Negative Morphemes\n",
      "144A Position of Negative Word With Respect to Subject, Object, and Verb\n",
      "143E Preverbal Negative Morphemes\n",
      "143A Order of Negative Morpheme and Verb\n",
      "143G Minor morphological means of signaling negation\n"
     ]
    }
   ],
   "source": [
    "for i in feature_cover.keys():\n",
    "    if feature_cover[i] > 1000:\n",
    "        print(i)"
   ]
  },
  {
   "cell_type": "code",
   "execution_count": 75,
   "metadata": {
    "collapsed": false
   },
   "outputs": [
    {
     "data": {
      "text/plain": [
       "count    2679.000000\n",
       "mean       28.542367\n",
       "std        32.509716\n",
       "min         0.000000\n",
       "25%         4.000000\n",
       "50%        19.000000\n",
       "75%        38.000000\n",
       "max       159.000000\n",
       "Name: features_count, dtype: float64"
      ]
     },
     "execution_count": 75,
     "metadata": {},
     "output_type": "execute_result"
    }
   ],
   "source": [
    "coverage['features_count'] = coverage.apply(lambda x: sum(x), axis=1)\n",
    "coverage['features_count'].describe()"
   ]
  },
  {
   "cell_type": "code",
   "execution_count": 76,
   "metadata": {
    "collapsed": false,
    "scrolled": true
   },
   "outputs": [
    {
     "data": {
      "text/plain": [
       "count    107.000000\n",
       "mean     136.841121\n",
       "std       10.499910\n",
       "min      121.000000\n",
       "25%      127.500000\n",
       "50%      137.000000\n",
       "75%      144.000000\n",
       "max      159.000000\n",
       "Name: features_count, dtype: float64"
      ]
     },
     "execution_count": 76,
     "metadata": {},
     "output_type": "execute_result"
    }
   ],
   "source": [
    "coverage[coverage['features_count'] > 120]['features_count'].describe()"
   ]
  },
  {
   "cell_type": "markdown",
   "metadata": {},
   "source": [
    "So we have 107 languages with more than 120 features.\n",
    "Let's intesect these rows with the top quartile of features (that is features that cover more than 508 languages):"
   ]
  },
  {
   "cell_type": "code",
   "execution_count": 87,
   "metadata": {
    "collapsed": false
   },
   "outputs": [
    {
     "data": {
      "text/html": [
       "<div>\n",
       "<table border=\"1\" class=\"dataframe\">\n",
       "  <thead>\n",
       "    <tr style=\"text-align: right;\">\n",
       "      <th></th>\n",
       "      <th>1A Consonant Inventories</th>\n",
       "      <th>2A Vowel Quality Inventories</th>\n",
       "      <th>3A Consonant-Vowel Ratio</th>\n",
       "      <th>4A Voicing in Plosives and Fricatives</th>\n",
       "      <th>5A Voicing and Gaps in Plosive Systems</th>\n",
       "      <th>6A Uvular Consonants</th>\n",
       "      <th>7A Glottalized Consonants</th>\n",
       "      <th>8A Lateral Consonants</th>\n",
       "      <th>9A The Velar Nasal</th>\n",
       "      <th>10A Vowel Nasalization</th>\n",
       "      <th>...</th>\n",
       "      <th>136B M in First Person Singular</th>\n",
       "      <th>109B Other Roles of Applied Objects</th>\n",
       "      <th>10B Nasal Vowels in West Africa</th>\n",
       "      <th>25B Zero Marking of A and P Arguments</th>\n",
       "      <th>21B Exponence of Tense-Aspect-Mood Inflection</th>\n",
       "      <th>108B Productivity of the Antipassive Construction</th>\n",
       "      <th>130B Cultural Categories of Languages with Identity of 'Finger' and 'Hand'</th>\n",
       "      <th>58B Number of Possessive Nouns</th>\n",
       "      <th>79B Suppletion in Imperatives and Hortatives</th>\n",
       "      <th>features_count</th>\n",
       "    </tr>\n",
       "  </thead>\n",
       "  <tbody>\n",
       "    <tr>\n",
       "      <th>count</th>\n",
       "      <td>107.000000</td>\n",
       "      <td>107.000000</td>\n",
       "      <td>107.000000</td>\n",
       "      <td>107.000000</td>\n",
       "      <td>107.000000</td>\n",
       "      <td>107.000000</td>\n",
       "      <td>107.000000</td>\n",
       "      <td>107.000000</td>\n",
       "      <td>107.000000</td>\n",
       "      <td>107.000000</td>\n",
       "      <td>...</td>\n",
       "      <td>107.000000</td>\n",
       "      <td>107.000000</td>\n",
       "      <td>107.0</td>\n",
       "      <td>107.000000</td>\n",
       "      <td>107.000000</td>\n",
       "      <td>107.000000</td>\n",
       "      <td>107.000000</td>\n",
       "      <td>107.000000</td>\n",
       "      <td>107.000000</td>\n",
       "      <td>107.000000</td>\n",
       "    </tr>\n",
       "    <tr>\n",
       "      <th>mean</th>\n",
       "      <td>0.971963</td>\n",
       "      <td>0.981308</td>\n",
       "      <td>0.981308</td>\n",
       "      <td>0.981308</td>\n",
       "      <td>0.981308</td>\n",
       "      <td>0.981308</td>\n",
       "      <td>0.981308</td>\n",
       "      <td>0.981308</td>\n",
       "      <td>0.990654</td>\n",
       "      <td>0.934579</td>\n",
       "      <td>...</td>\n",
       "      <td>0.915888</td>\n",
       "      <td>0.981308</td>\n",
       "      <td>0.0</td>\n",
       "      <td>0.953271</td>\n",
       "      <td>0.915888</td>\n",
       "      <td>0.953271</td>\n",
       "      <td>0.018692</td>\n",
       "      <td>0.953271</td>\n",
       "      <td>0.943925</td>\n",
       "      <td>136.841121</td>\n",
       "    </tr>\n",
       "    <tr>\n",
       "      <th>std</th>\n",
       "      <td>0.165856</td>\n",
       "      <td>0.136071</td>\n",
       "      <td>0.136071</td>\n",
       "      <td>0.136071</td>\n",
       "      <td>0.136071</td>\n",
       "      <td>0.136071</td>\n",
       "      <td>0.136071</td>\n",
       "      <td>0.136071</td>\n",
       "      <td>0.096674</td>\n",
       "      <td>0.248430</td>\n",
       "      <td>...</td>\n",
       "      <td>0.278862</td>\n",
       "      <td>0.136071</td>\n",
       "      <td>0.0</td>\n",
       "      <td>0.212051</td>\n",
       "      <td>0.278862</td>\n",
       "      <td>0.212051</td>\n",
       "      <td>0.136071</td>\n",
       "      <td>0.212051</td>\n",
       "      <td>0.231149</td>\n",
       "      <td>10.499910</td>\n",
       "    </tr>\n",
       "    <tr>\n",
       "      <th>min</th>\n",
       "      <td>0.000000</td>\n",
       "      <td>0.000000</td>\n",
       "      <td>0.000000</td>\n",
       "      <td>0.000000</td>\n",
       "      <td>0.000000</td>\n",
       "      <td>0.000000</td>\n",
       "      <td>0.000000</td>\n",
       "      <td>0.000000</td>\n",
       "      <td>0.000000</td>\n",
       "      <td>0.000000</td>\n",
       "      <td>...</td>\n",
       "      <td>0.000000</td>\n",
       "      <td>0.000000</td>\n",
       "      <td>0.0</td>\n",
       "      <td>0.000000</td>\n",
       "      <td>0.000000</td>\n",
       "      <td>0.000000</td>\n",
       "      <td>0.000000</td>\n",
       "      <td>0.000000</td>\n",
       "      <td>0.000000</td>\n",
       "      <td>121.000000</td>\n",
       "    </tr>\n",
       "    <tr>\n",
       "      <th>25%</th>\n",
       "      <td>1.000000</td>\n",
       "      <td>1.000000</td>\n",
       "      <td>1.000000</td>\n",
       "      <td>1.000000</td>\n",
       "      <td>1.000000</td>\n",
       "      <td>1.000000</td>\n",
       "      <td>1.000000</td>\n",
       "      <td>1.000000</td>\n",
       "      <td>1.000000</td>\n",
       "      <td>1.000000</td>\n",
       "      <td>...</td>\n",
       "      <td>1.000000</td>\n",
       "      <td>1.000000</td>\n",
       "      <td>0.0</td>\n",
       "      <td>1.000000</td>\n",
       "      <td>1.000000</td>\n",
       "      <td>1.000000</td>\n",
       "      <td>0.000000</td>\n",
       "      <td>1.000000</td>\n",
       "      <td>1.000000</td>\n",
       "      <td>127.500000</td>\n",
       "    </tr>\n",
       "    <tr>\n",
       "      <th>50%</th>\n",
       "      <td>1.000000</td>\n",
       "      <td>1.000000</td>\n",
       "      <td>1.000000</td>\n",
       "      <td>1.000000</td>\n",
       "      <td>1.000000</td>\n",
       "      <td>1.000000</td>\n",
       "      <td>1.000000</td>\n",
       "      <td>1.000000</td>\n",
       "      <td>1.000000</td>\n",
       "      <td>1.000000</td>\n",
       "      <td>...</td>\n",
       "      <td>1.000000</td>\n",
       "      <td>1.000000</td>\n",
       "      <td>0.0</td>\n",
       "      <td>1.000000</td>\n",
       "      <td>1.000000</td>\n",
       "      <td>1.000000</td>\n",
       "      <td>0.000000</td>\n",
       "      <td>1.000000</td>\n",
       "      <td>1.000000</td>\n",
       "      <td>137.000000</td>\n",
       "    </tr>\n",
       "    <tr>\n",
       "      <th>75%</th>\n",
       "      <td>1.000000</td>\n",
       "      <td>1.000000</td>\n",
       "      <td>1.000000</td>\n",
       "      <td>1.000000</td>\n",
       "      <td>1.000000</td>\n",
       "      <td>1.000000</td>\n",
       "      <td>1.000000</td>\n",
       "      <td>1.000000</td>\n",
       "      <td>1.000000</td>\n",
       "      <td>1.000000</td>\n",
       "      <td>...</td>\n",
       "      <td>1.000000</td>\n",
       "      <td>1.000000</td>\n",
       "      <td>0.0</td>\n",
       "      <td>1.000000</td>\n",
       "      <td>1.000000</td>\n",
       "      <td>1.000000</td>\n",
       "      <td>0.000000</td>\n",
       "      <td>1.000000</td>\n",
       "      <td>1.000000</td>\n",
       "      <td>144.000000</td>\n",
       "    </tr>\n",
       "    <tr>\n",
       "      <th>max</th>\n",
       "      <td>1.000000</td>\n",
       "      <td>1.000000</td>\n",
       "      <td>1.000000</td>\n",
       "      <td>1.000000</td>\n",
       "      <td>1.000000</td>\n",
       "      <td>1.000000</td>\n",
       "      <td>1.000000</td>\n",
       "      <td>1.000000</td>\n",
       "      <td>1.000000</td>\n",
       "      <td>1.000000</td>\n",
       "      <td>...</td>\n",
       "      <td>1.000000</td>\n",
       "      <td>1.000000</td>\n",
       "      <td>0.0</td>\n",
       "      <td>1.000000</td>\n",
       "      <td>1.000000</td>\n",
       "      <td>1.000000</td>\n",
       "      <td>1.000000</td>\n",
       "      <td>1.000000</td>\n",
       "      <td>1.000000</td>\n",
       "      <td>159.000000</td>\n",
       "    </tr>\n",
       "  </tbody>\n",
       "</table>\n",
       "<p>8 rows × 193 columns</p>\n",
       "</div>"
      ],
      "text/plain": [
       "       1A Consonant Inventories  2A Vowel Quality Inventories  \\\n",
       "count                107.000000                    107.000000   \n",
       "mean                   0.971963                      0.981308   \n",
       "std                    0.165856                      0.136071   \n",
       "min                    0.000000                      0.000000   \n",
       "25%                    1.000000                      1.000000   \n",
       "50%                    1.000000                      1.000000   \n",
       "75%                    1.000000                      1.000000   \n",
       "max                    1.000000                      1.000000   \n",
       "\n",
       "       3A Consonant-Vowel Ratio  4A Voicing in Plosives and Fricatives  \\\n",
       "count                107.000000                             107.000000   \n",
       "mean                   0.981308                               0.981308   \n",
       "std                    0.136071                               0.136071   \n",
       "min                    0.000000                               0.000000   \n",
       "25%                    1.000000                               1.000000   \n",
       "50%                    1.000000                               1.000000   \n",
       "75%                    1.000000                               1.000000   \n",
       "max                    1.000000                               1.000000   \n",
       "\n",
       "       5A Voicing and Gaps in Plosive Systems  6A Uvular Consonants  \\\n",
       "count                              107.000000            107.000000   \n",
       "mean                                 0.981308              0.981308   \n",
       "std                                  0.136071              0.136071   \n",
       "min                                  0.000000              0.000000   \n",
       "25%                                  1.000000              1.000000   \n",
       "50%                                  1.000000              1.000000   \n",
       "75%                                  1.000000              1.000000   \n",
       "max                                  1.000000              1.000000   \n",
       "\n",
       "       7A Glottalized Consonants  8A Lateral Consonants  9A The Velar Nasal  \\\n",
       "count                 107.000000             107.000000          107.000000   \n",
       "mean                    0.981308               0.981308            0.990654   \n",
       "std                     0.136071               0.136071            0.096674   \n",
       "min                     0.000000               0.000000            0.000000   \n",
       "25%                     1.000000               1.000000            1.000000   \n",
       "50%                     1.000000               1.000000            1.000000   \n",
       "75%                     1.000000               1.000000            1.000000   \n",
       "max                     1.000000               1.000000            1.000000   \n",
       "\n",
       "       10A Vowel Nasalization       ...        \\\n",
       "count              107.000000       ...         \n",
       "mean                 0.934579       ...         \n",
       "std                  0.248430       ...         \n",
       "min                  0.000000       ...         \n",
       "25%                  1.000000       ...         \n",
       "50%                  1.000000       ...         \n",
       "75%                  1.000000       ...         \n",
       "max                  1.000000       ...         \n",
       "\n",
       "       136B M in First Person Singular  109B Other Roles of Applied Objects  \\\n",
       "count                       107.000000                           107.000000   \n",
       "mean                          0.915888                             0.981308   \n",
       "std                           0.278862                             0.136071   \n",
       "min                           0.000000                             0.000000   \n",
       "25%                           1.000000                             1.000000   \n",
       "50%                           1.000000                             1.000000   \n",
       "75%                           1.000000                             1.000000   \n",
       "max                           1.000000                             1.000000   \n",
       "\n",
       "       10B Nasal Vowels in West Africa  25B Zero Marking of A and P Arguments  \\\n",
       "count                            107.0                             107.000000   \n",
       "mean                               0.0                               0.953271   \n",
       "std                                0.0                               0.212051   \n",
       "min                                0.0                               0.000000   \n",
       "25%                                0.0                               1.000000   \n",
       "50%                                0.0                               1.000000   \n",
       "75%                                0.0                               1.000000   \n",
       "max                                0.0                               1.000000   \n",
       "\n",
       "       21B Exponence of Tense-Aspect-Mood Inflection  \\\n",
       "count                                     107.000000   \n",
       "mean                                        0.915888   \n",
       "std                                         0.278862   \n",
       "min                                         0.000000   \n",
       "25%                                         1.000000   \n",
       "50%                                         1.000000   \n",
       "75%                                         1.000000   \n",
       "max                                         1.000000   \n",
       "\n",
       "       108B Productivity of the Antipassive Construction  \\\n",
       "count                                         107.000000   \n",
       "mean                                            0.953271   \n",
       "std                                             0.212051   \n",
       "min                                             0.000000   \n",
       "25%                                             1.000000   \n",
       "50%                                             1.000000   \n",
       "75%                                             1.000000   \n",
       "max                                             1.000000   \n",
       "\n",
       "       130B Cultural Categories of Languages with Identity of 'Finger' and 'Hand'  \\\n",
       "count                                         107.000000                            \n",
       "mean                                            0.018692                            \n",
       "std                                             0.136071                            \n",
       "min                                             0.000000                            \n",
       "25%                                             0.000000                            \n",
       "50%                                             0.000000                            \n",
       "75%                                             0.000000                            \n",
       "max                                             1.000000                            \n",
       "\n",
       "       58B Number of Possessive Nouns  \\\n",
       "count                      107.000000   \n",
       "mean                         0.953271   \n",
       "std                          0.212051   \n",
       "min                          0.000000   \n",
       "25%                          1.000000   \n",
       "50%                          1.000000   \n",
       "75%                          1.000000   \n",
       "max                          1.000000   \n",
       "\n",
       "       79B Suppletion in Imperatives and Hortatives  features_count  \n",
       "count                                    107.000000      107.000000  \n",
       "mean                                       0.943925      136.841121  \n",
       "std                                        0.231149       10.499910  \n",
       "min                                        0.000000      121.000000  \n",
       "25%                                        1.000000      127.500000  \n",
       "50%                                        1.000000      137.000000  \n",
       "75%                                        1.000000      144.000000  \n",
       "max                                        1.000000      159.000000  \n",
       "\n",
       "[8 rows x 193 columns]"
      ]
     },
     "execution_count": 87,
     "metadata": {},
     "output_type": "execute_result"
    }
   ],
   "source": [
    "q = feature_cover.quantile(0.75)\n",
    "top_features = list()\n",
    "for i in feature_cover.keys():\n",
    "    if feature_cover[i] > q:\n",
    "        top_features.append(i)\n",
    "\n",
    "top_langs = coverage[coverage['features_count'] > 120]\n",
    "top_langs.describe()"
   ]
  },
  {
   "cell_type": "markdown",
   "metadata": {},
   "source": [
    "The Good 107 languages are:"
   ]
  },
  {
   "cell_type": "code",
   "execution_count": 93,
   "metadata": {
    "collapsed": false
   },
   "outputs": [
    {
     "name": "stdout",
     "output_type": "stream",
     "text": [
      "Abkhaz 148\n",
      "Arabic (Egyptian) 145\n",
      "Ainu 134\n",
      "Alamblak 134\n",
      "Amele 150\n",
      "Apurinã 130\n",
      "Armenian (Eastern) 129\n",
      "Arapesh (Mountain) 122\n",
      "Asmat 122\n",
      "Awa Pit 131\n",
      "Bagirmi 126\n",
      "Burmese 140\n",
      "Basque 149\n",
      "Burushaski 140\n",
      "Chamorro 140\n",
      "Chukchi 137\n",
      "Canela-Krahô 129\n",
      "English 159\n",
      "Epena Pedee 121\n",
      "Evenki 149\n",
      "Fijian 141\n",
      "Finnish 155\n",
      "French 158\n",
      "Georgian 150\n",
      "German 157\n",
      "Gooniyandi 128\n",
      "Grebo 123\n",
      "Greek (Modern) 155\n",
      "Greenlandic (West) 142\n",
      "Guaraní 137\n",
      "Hausa 148\n",
      "Hebrew (Modern) 141\n",
      "Hindi 144\n",
      "Hixkaryana 138\n",
      "Hmong Njua 121\n",
      "Hungarian 155\n",
      "Hunzib 121\n",
      "Imonda 126\n",
      "Indonesian 153\n",
      "Jakaltek 134\n",
      "Japanese 151\n",
      "Ju|'hoan 121\n",
      "Kayardild 132\n",
      "Ket 124\n",
      "Kewa 124\n",
      "Koromfe 121\n",
      "Khalkha 144\n",
      "Khoekhoe 137\n",
      "Kiowa 124\n",
      "Kilivila 121\n",
      "Kannada 145\n",
      "Kanuri 137\n",
      "Koasati 125\n",
      "Kobon 130\n",
      "Korean 149\n",
      "Krongo 138\n",
      "Kutenai 133\n",
      "Lango 141\n",
      "Latvian 126\n",
      "Lavukaleve 135\n",
      "Lezgian 149\n",
      "Lakhota 135\n",
      "Luvale 127\n",
      "Malagasy 144\n",
      "Maori 145\n",
      "Mapudungun 138\n",
      "Maricopa 134\n",
      "Maung 126\n",
      "Maybrat 140\n",
      "Meithei 132\n",
      "Mandarin 153\n",
      "Martuthunira 136\n",
      "Mixtec (Chalcatongo) 132\n",
      "Mangarrayi 133\n",
      "Ngiyambaa 136\n",
      "Nivkh 131\n",
      "Oneida 125\n",
      "Oromo (Harar) 142\n",
      "Paiwan 121\n",
      "Pirahã 133\n",
      "Persian 147\n",
      "Quechua (Imbabura) 129\n",
      "Rama 127\n",
      "Rapanui 135\n",
      "Russian 156\n",
      "Sango 125\n",
      "Slave 143\n",
      "Sanuma 124\n",
      "Spanish 155\n",
      "Supyire 148\n",
      "Swahili 142\n",
      "Tagalog 145\n",
      "Thai 139\n",
      "Tiwi 138\n",
      "Trumai 121\n",
      "Tukang Besi 142\n",
      "Turkish 154\n",
      "Vietnamese 143\n",
      "Wari' 134\n",
      "Wichí 129\n",
      "Wichita 125\n",
      "Warao 123\n",
      "Yagua 127\n",
      "Yaqui 141\n",
      "Yukaghir (Kolyma) 136\n",
      "Yoruba 140\n",
      "Zulu 142\n"
     ]
    }
   ],
   "source": [
    "for i in top_langs.index:\n",
    "    print(languages.iloc[i]['Name'],coverage.iloc[i]['features_count'])"
   ]
  },
  {
   "cell_type": "markdown",
   "metadata": {},
   "source": [
    "How many languages over all have all or allmost all the top features in common?"
   ]
  },
  {
   "cell_type": "code",
   "execution_count": 123,
   "metadata": {
    "collapsed": false
   },
   "outputs": [
    {
     "name": "stdout",
     "output_type": "stream",
     "text": [
      "Abkhaz\n",
      "Basque\n",
      "English\n",
      "Evenki\n",
      "Finnish\n",
      "French\n",
      "Georgian\n",
      "German\n",
      "Greek (Modern)\n",
      "Hausa\n",
      "Hungarian\n",
      "Indonesian\n",
      "Jakaltek\n",
      "Japanese\n",
      "Ju|'hoan\n",
      "Kewa\n",
      "Koromfe\n",
      "Khalkha\n",
      "Kanuri\n",
      "Korean\n",
      "Lezgian\n",
      "Malagasy\n",
      "Maori\n",
      "Mangarrayi\n",
      "Russian\n",
      "Slave\n",
      "Spanish\n",
      "Thai\n",
      "Tiwi\n",
      "Turkish\n",
      "Wichí\n",
      "Yaqui\n"
     ]
    }
   ],
   "source": [
    "intersection = coverage[coverage['features_count'] > 120].filter(items=top_features)\n",
    "for i,r in intersection.iterrows():\n",
    "    if r.sum() > 45:\n",
    "        print(languages.iloc[i]['Name'])"
   ]
  },
  {
   "cell_type": "code",
   "execution_count": null,
   "metadata": {
    "collapsed": true
   },
   "outputs": [],
   "source": []
  }
 ],
 "metadata": {
  "anaconda-cloud": {},
  "kernelspec": {
   "display_name": "Python 3",
   "language": "python",
   "name": "python3"
  },
  "language_info": {
   "codemirror_mode": {
    "name": "ipython",
    "version": 3
   },
   "file_extension": ".py",
   "mimetype": "text/x-python",
   "name": "python",
   "nbconvert_exporter": "python",
   "pygments_lexer": "ipython3",
   "version": "3.5.2"
  }
 },
 "nbformat": 4,
 "nbformat_minor": 1
}
