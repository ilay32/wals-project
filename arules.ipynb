{
 "cells": [
  {
   "cell_type": "markdown",
   "metadata": {},
   "source": [
    "## Association Analysis for Pruning Features"
   ]
  },
  {
   "cell_type": "code",
   "execution_count": 62,
   "metadata": {
    "collapsed": false
   },
   "outputs": [
    {
     "data": {
      "text/html": [
       "<ol class=list-inline>\n",
       "\t<li>'X'</li>\n",
       "\t<li>'wals_code'</li>\n",
       "\t<li>'Name'</li>\n",
       "\t<li>'genus'</li>\n",
       "\t<li>'family'</li>\n",
       "\t<li>'macroarea'</li>\n",
       "\t<li>'X81A.Order.of.Subject..Object.and.Verb'</li>\n",
       "\t<li>'X82A.Order.of.Subject.and.Verb'</li>\n",
       "\t<li>'X83A.Order.of.Object.and.Verb'</li>\n",
       "\t<li>'X87A.Order.of.Adjective.and.Noun'</li>\n",
       "\t<li>'X143F.Postverbal.Negative.Morphemes'</li>\n",
       "\t<li>'X143E.Preverbal.Negative.Morphemes'</li>\n",
       "\t<li>'X143A.Order.of.Negative.Morpheme.and.Verb'</li>\n",
       "\t<li>'X143G.Minor.morphological.means.of.signaling.negation'</li>\n",
       "</ol>\n"
      ],
      "text/latex": [
       "\\begin{enumerate*}\n",
       "\\item 'X'\n",
       "\\item 'wals\\_code'\n",
       "\\item 'Name'\n",
       "\\item 'genus'\n",
       "\\item 'family'\n",
       "\\item 'macroarea'\n",
       "\\item 'X81A.Order.of.Subject..Object.and.Verb'\n",
       "\\item 'X82A.Order.of.Subject.and.Verb'\n",
       "\\item 'X83A.Order.of.Object.and.Verb'\n",
       "\\item 'X87A.Order.of.Adjective.and.Noun'\n",
       "\\item 'X143F.Postverbal.Negative.Morphemes'\n",
       "\\item 'X143E.Preverbal.Negative.Morphemes'\n",
       "\\item 'X143A.Order.of.Negative.Morpheme.and.Verb'\n",
       "\\item 'X143G.Minor.morphological.means.of.signaling.negation'\n",
       "\\end{enumerate*}\n"
      ],
      "text/markdown": [
       "1. 'X'\n",
       "2. 'wals_code'\n",
       "3. 'Name'\n",
       "4. 'genus'\n",
       "5. 'family'\n",
       "6. 'macroarea'\n",
       "7. 'X81A.Order.of.Subject..Object.and.Verb'\n",
       "8. 'X82A.Order.of.Subject.and.Verb'\n",
       "9. 'X83A.Order.of.Object.and.Verb'\n",
       "10. 'X87A.Order.of.Adjective.and.Noun'\n",
       "11. 'X143F.Postverbal.Negative.Morphemes'\n",
       "12. 'X143E.Preverbal.Negative.Morphemes'\n",
       "13. 'X143A.Order.of.Negative.Morpheme.and.Verb'\n",
       "14. 'X143G.Minor.morphological.means.of.signaling.negation'\n",
       "\n",
       "\n"
      ],
      "text/plain": [
       " [1] \"X\"                                                    \n",
       " [2] \"wals_code\"                                            \n",
       " [3] \"Name\"                                                 \n",
       " [4] \"genus\"                                                \n",
       " [5] \"family\"                                               \n",
       " [6] \"macroarea\"                                            \n",
       " [7] \"X81A.Order.of.Subject..Object.and.Verb\"               \n",
       " [8] \"X82A.Order.of.Subject.and.Verb\"                       \n",
       " [9] \"X83A.Order.of.Object.and.Verb\"                        \n",
       "[10] \"X87A.Order.of.Adjective.and.Noun\"                     \n",
       "[11] \"X143F.Postverbal.Negative.Morphemes\"                  \n",
       "[12] \"X143E.Preverbal.Negative.Morphemes\"                   \n",
       "[13] \"X143A.Order.of.Negative.Morpheme.and.Verb\"            \n",
       "[14] \"X143G.Minor.morphological.means.of.signaling.negation\""
      ]
     },
     "metadata": {},
     "output_type": "display_data"
    }
   ],
   "source": [
    "ofdata <- read.csv('raw-order-features-full.csv')\n",
    "library(arules)\n",
    "colnames(ofdata)"
   ]
  },
  {
   "cell_type": "code",
   "execution_count": 63,
   "metadata": {
    "collapsed": false
   },
   "outputs": [],
   "source": [
    "ofdata <- ofdata[,7:14]\n",
    "for(c in colnames(ofdata)) {\n",
    "    ofdata[[c]] <- as.factor(ofdata[[c]])\n",
    "}"
   ]
  },
  {
   "cell_type": "code",
   "execution_count": 64,
   "metadata": {
    "collapsed": false
   },
   "outputs": [
    {
     "data": {
      "text/plain": [
       "transactions in sparse format with\n",
       " 1016 transactions (rows) and\n",
       " 45 items (columns)"
      ]
     },
     "metadata": {},
     "output_type": "display_data"
    }
   ],
   "source": [
    "ofdata <- as(ofdata, \"transactions\")\n",
    "ofdata"
   ]
  },
  {
   "cell_type": "code",
   "execution_count": 76,
   "metadata": {
    "collapsed": false
   },
   "outputs": [
    {
     "name": "stdout",
     "output_type": "stream",
     "text": [
      "Apriori\n",
      "\n",
      "Parameter specification:\n",
      " confidence minval smax arem  aval originalSupport maxtime support minlen\n",
      "        0.7    0.1    1 none FALSE            TRUE       5     0.4      1\n",
      " maxlen target   ext\n",
      "     10  rules FALSE\n",
      "\n",
      "Algorithmic control:\n",
      " filter tree heap memopt load sort verbose\n",
      "    0.1 TRUE TRUE  FALSE TRUE    2    TRUE\n",
      "\n",
      "Absolute minimum support count: 406 \n",
      "\n",
      "set item appearances ...[0 item(s)] done [0.00s].\n",
      "set transactions ...[45 item(s), 1016 transaction(s)] done [0.00s].\n",
      "sorting and recoding items ... [8 item(s)] done [0.00s].\n",
      "creating transaction tree ... done [0.00s].\n",
      "checking subsets of size 1 2 3 4 done [0.00s].\n",
      "writing ... [38 rule(s)] done [0.00s].\n",
      "creating S4 object  ... done [0.00s].\n"
     ]
    }
   ],
   "source": [
    "rules <- apriori(ofdata, parameter=list(support=0.4, confidence=0.7))"
   ]
  },
  {
   "cell_type": "code",
   "execution_count": 77,
   "metadata": {
    "collapsed": false
   },
   "outputs": [
    {
     "data": {
      "text/plain": [
       "set of 38 rules "
      ]
     },
     "metadata": {},
     "output_type": "display_data"
    }
   ],
   "source": [
    "rules"
   ]
  },
  {
   "cell_type": "code",
   "execution_count": 78,
   "metadata": {
    "collapsed": false
   },
   "outputs": [
    {
     "name": "stdout",
     "output_type": "stream",
     "text": [
      "     lhs                                                               rhs                                                              support confidence      lift\n",
      "[1]  {}                                                             => {X82A.Order.of.Subject.and.Verb=1 SV}                          0.7972441  0.7972441 1.0000000\n",
      "[2]  {}                                                             => {X143G.Minor.morphological.means.of.signaling.negation=4 None} 0.9901575  0.9901575 1.0000000\n",
      "[3]  {X143A.Order.of.Negative.Morpheme.and.Verb=1 NegV}             => {X143E.Preverbal.Negative.Morphemes=1 NegV}                    0.4064961  1.0000000 1.8745387\n",
      "[4]  {X143E.Preverbal.Negative.Morphemes=1 NegV}                    => {X143A.Order.of.Negative.Morpheme.and.Verb=1 NegV}             0.4064961  0.7619926 1.8745387\n",
      "[5]  {X143A.Order.of.Negative.Morpheme.and.Verb=1 NegV}             => {X143F.Postverbal.Negative.Morphemes=4 None}                   0.4064961  1.0000000 1.8405797\n",
      "[6]  {X143F.Postverbal.Negative.Morphemes=4 None}                   => {X143A.Order.of.Negative.Morpheme.and.Verb=1 NegV}             0.4064961  0.7481884 1.8405797\n",
      "[7]  {X143A.Order.of.Negative.Morpheme.and.Verb=1 NegV}             => {X143G.Minor.morphological.means.of.signaling.negation=4 None} 0.4064961  1.0000000 1.0099404\n",
      "[8]  {X83A.Order.of.Object.and.Verb=1 OV}                           => {X82A.Order.of.Subject.and.Verb=1 SV}                          0.4045276  0.9647887 1.2101548\n",
      "[9]  {X83A.Order.of.Object.and.Verb=1 OV}                           => {X143G.Minor.morphological.means.of.signaling.negation=4 None} 0.4163386  0.9929577 1.0028281\n",
      "[10] {X83A.Order.of.Object.and.Verb=2 VO}                           => {X143G.Minor.morphological.means.of.signaling.negation=4 None} 0.5147638  0.9886578 0.9984855\n",
      "[11] {X143E.Preverbal.Negative.Morphemes=1 NegV}                    => {X143F.Postverbal.Negative.Morphemes=4 None}                   0.4104331  0.7693727 1.4160918\n",
      "[12] {X143F.Postverbal.Negative.Morphemes=4 None}                   => {X143E.Preverbal.Negative.Morphemes=1 NegV}                    0.4104331  0.7554348 1.4160918\n",
      "[13] {X143E.Preverbal.Negative.Morphemes=1 NegV}                    => {X143G.Minor.morphological.means.of.signaling.negation=4 None} 0.5295276  0.9926199 1.0024869\n",
      "[14] {X143F.Postverbal.Negative.Morphemes=4 None}                   => {X143G.Minor.morphological.means.of.signaling.negation=4 None} 0.5374016  0.9891304 0.9989627\n",
      "[15] {X87A.Order.of.Adjective.and.Noun=2 Noun-Adjective}            => {X82A.Order.of.Subject.and.Verb=1 SV}                          0.5344488  0.8214826 1.0304029\n",
      "[16] {X87A.Order.of.Adjective.and.Noun=2 Noun-Adjective}            => {X143G.Minor.morphological.means.of.signaling.negation=4 None} 0.6427165  0.9878971 0.9977172\n",
      "[17] {X82A.Order.of.Subject.and.Verb=1 SV}                          => {X143G.Minor.morphological.means.of.signaling.negation=4 None} 0.7883858  0.9888889 0.9987188\n",
      "[18] {X143G.Minor.morphological.means.of.signaling.negation=4 None} => {X82A.Order.of.Subject.and.Verb=1 SV}                          0.7883858  0.7962227 0.9987188\n",
      "[19] {X143E.Preverbal.Negative.Morphemes=1 NegV,                                                                                                                    \n",
      "      X143A.Order.of.Negative.Morpheme.and.Verb=1 NegV}             => {X143F.Postverbal.Negative.Morphemes=4 None}                   0.4064961  1.0000000 1.8405797\n",
      "[20] {X143F.Postverbal.Negative.Morphemes=4 None,                                                                                                                   \n",
      "      X143A.Order.of.Negative.Morpheme.and.Verb=1 NegV}             => {X143E.Preverbal.Negative.Morphemes=1 NegV}                    0.4064961  1.0000000 1.8745387\n",
      "[21] {X143F.Postverbal.Negative.Morphemes=4 None,                                                                                                                   \n",
      "      X143E.Preverbal.Negative.Morphemes=1 NegV}                    => {X143A.Order.of.Negative.Morpheme.and.Verb=1 NegV}             0.4064961  0.9904077 2.4364508\n",
      "[22] {X143E.Preverbal.Negative.Morphemes=1 NegV,                                                                                                                    \n",
      "      X143A.Order.of.Negative.Morpheme.and.Verb=1 NegV}             => {X143G.Minor.morphological.means.of.signaling.negation=4 None} 0.4064961  1.0000000 1.0099404\n",
      "[23] {X143A.Order.of.Negative.Morpheme.and.Verb=1 NegV,                                                                                                             \n",
      "      X143G.Minor.morphological.means.of.signaling.negation=4 None} => {X143E.Preverbal.Negative.Morphemes=1 NegV}                    0.4064961  1.0000000 1.8745387\n",
      "[24] {X143E.Preverbal.Negative.Morphemes=1 NegV,                                                                                                                    \n",
      "      X143G.Minor.morphological.means.of.signaling.negation=4 None} => {X143A.Order.of.Negative.Morpheme.and.Verb=1 NegV}             0.4064961  0.7676580 1.8884758\n",
      "[25] {X143F.Postverbal.Negative.Morphemes=4 None,                                                                                                                   \n",
      "      X143A.Order.of.Negative.Morpheme.and.Verb=1 NegV}             => {X143G.Minor.morphological.means.of.signaling.negation=4 None} 0.4064961  1.0000000 1.0099404\n",
      "[26] {X143A.Order.of.Negative.Morpheme.and.Verb=1 NegV,                                                                                                             \n",
      "      X143G.Minor.morphological.means.of.signaling.negation=4 None} => {X143F.Postverbal.Negative.Morphemes=4 None}                   0.4064961  1.0000000 1.8405797\n",
      "[27] {X143F.Postverbal.Negative.Morphemes=4 None,                                                                                                                   \n",
      "      X143G.Minor.morphological.means.of.signaling.negation=4 None} => {X143A.Order.of.Negative.Morpheme.and.Verb=1 NegV}             0.4064961  0.7564103 1.8608059\n",
      "[28] {X82A.Order.of.Subject.and.Verb=1 SV,                                                                                                                          \n",
      "      X83A.Order.of.Object.and.Verb=1 OV}                           => {X143G.Minor.morphological.means.of.signaling.negation=4 None} 0.4015748  0.9927007 1.0025685\n",
      "[29] {X83A.Order.of.Object.and.Verb=1 OV,                                                                                                                           \n",
      "      X143G.Minor.morphological.means.of.signaling.negation=4 None} => {X82A.Order.of.Subject.and.Verb=1 SV}                          0.4015748  0.9645390 1.2098415\n",
      "[30] {X143F.Postverbal.Negative.Morphemes=4 None,                                                                                                                   \n",
      "      X143E.Preverbal.Negative.Morphemes=1 NegV}                    => {X143G.Minor.morphological.means.of.signaling.negation=4 None} 0.4094488  0.9976019 1.0075184\n",
      "[31] {X143E.Preverbal.Negative.Morphemes=1 NegV,                                                                                                                    \n",
      "      X143G.Minor.morphological.means.of.signaling.negation=4 None} => {X143F.Postverbal.Negative.Morphemes=4 None}                   0.4094488  0.7732342 1.4231992\n",
      "[32] {X143F.Postverbal.Negative.Morphemes=4 None,                                                                                                                   \n",
      "      X143G.Minor.morphological.means.of.signaling.negation=4 None} => {X143E.Preverbal.Negative.Morphemes=1 NegV}                    0.4094488  0.7619048 1.4282200\n",
      "[33] {X82A.Order.of.Subject.and.Verb=1 SV,                                                                                                                          \n",
      "      X87A.Order.of.Adjective.and.Noun=2 Noun-Adjective}            => {X143G.Minor.morphological.means.of.signaling.negation=4 None} 0.5275591  0.9871087 0.9969209\n",
      "[34] {X87A.Order.of.Adjective.and.Noun=2 Noun-Adjective,                                                                                                            \n",
      "      X143G.Minor.morphological.means.of.signaling.negation=4 None} => {X82A.Order.of.Subject.and.Verb=1 SV}                          0.5275591  0.8208270 1.0295805\n",
      "[35] {X143F.Postverbal.Negative.Morphemes=4 None,                                                                                                                   \n",
      "      X143E.Preverbal.Negative.Morphemes=1 NegV,                                                                                                                    \n",
      "      X143A.Order.of.Negative.Morpheme.and.Verb=1 NegV}             => {X143G.Minor.morphological.means.of.signaling.negation=4 None} 0.4064961  1.0000000 1.0099404\n",
      "[36] {X143E.Preverbal.Negative.Morphemes=1 NegV,                                                                                                                    \n",
      "      X143A.Order.of.Negative.Morpheme.and.Verb=1 NegV,                                                                                                             \n",
      "      X143G.Minor.morphological.means.of.signaling.negation=4 None} => {X143F.Postverbal.Negative.Morphemes=4 None}                   0.4064961  1.0000000 1.8405797\n",
      "[37] {X143F.Postverbal.Negative.Morphemes=4 None,                                                                                                                   \n",
      "      X143A.Order.of.Negative.Morpheme.and.Verb=1 NegV,                                                                                                             \n",
      "      X143G.Minor.morphological.means.of.signaling.negation=4 None} => {X143E.Preverbal.Negative.Morphemes=1 NegV}                    0.4064961  1.0000000 1.8745387\n",
      "[38] {X143F.Postverbal.Negative.Morphemes=4 None,                                                                                                                   \n",
      "      X143E.Preverbal.Negative.Morphemes=1 NegV,                                                                                                                    \n",
      "      X143G.Minor.morphological.means.of.signaling.negation=4 None} => {X143A.Order.of.Negative.Morpheme.and.Verb=1 NegV}             0.4064961  0.9927885 2.4423077\n"
     ]
    }
   ],
   "source": [
    "inspect(rules)"
   ]
  },
  {
   "cell_type": "code",
   "execution_count": 55,
   "metadata": {
    "collapsed": false
   },
   "outputs": [
    {
     "name": "stdout",
     "output_type": "stream",
     "text": [
      "    lhs                                                               rhs                                                              support confidence      lift\n",
      "[1] {X83A.Order.of.Object.and.Verb=1 OV}                           => {X82A.Order.of.Subject.and.Verb=1 SV}                          0.4045276  0.9647887 1.2101548\n",
      "[2] {X83A.Order.of.Object.and.Verb=1 OV}                           => {X143G.Minor.morphological.means.of.signaling.negation=4 None} 0.4163386  0.9929577 1.0028281\n",
      "[3] {X83A.Order.of.Object.and.Verb=2 VO}                           => {X143G.Minor.morphological.means.of.signaling.negation=4 None} 0.5147638  0.9886578 0.9984855\n",
      "[4] {X82A.Order.of.Subject.and.Verb=1 SV,                                                                                                                          \n",
      "     X83A.Order.of.Object.and.Verb=1 OV}                           => {X143G.Minor.morphological.means.of.signaling.negation=4 None} 0.4015748  0.9927007 1.0025685\n",
      "[5] {X83A.Order.of.Object.and.Verb=1 OV,                                                                                                                           \n",
      "     X143G.Minor.morphological.means.of.signaling.negation=4 None} => {X82A.Order.of.Subject.and.Verb=1 SV}                          0.4015748  0.9645390 1.2098415\n"
     ]
    }
   ],
   "source": [
    "inspect(order1)"
   ]
  },
  {
   "cell_type": "code",
   "execution_count": 60,
   "metadata": {
    "collapsed": false
   },
   "outputs": [],
   "source": [
    "order2 <- subset(rules, subset = lhs %pin% \"143A\")"
   ]
  },
  {
   "cell_type": "code",
   "execution_count": 61,
   "metadata": {
    "collapsed": false
   },
   "outputs": [
    {
     "name": "stdout",
     "output_type": "stream",
     "text": [
      "     lhs                                                               rhs                                                              support confidence     lift\n",
      "[1]  {X143A.Order.of.Negative.Morpheme.and.Verb=1 NegV}             => {X143E.Preverbal.Negative.Morphemes=1 NegV}                    0.4064961          1 1.874539\n",
      "[2]  {X143A.Order.of.Negative.Morpheme.and.Verb=1 NegV}             => {X143F.Postverbal.Negative.Morphemes=4 None}                   0.4064961          1 1.840580\n",
      "[3]  {X143A.Order.of.Negative.Morpheme.and.Verb=1 NegV}             => {X143G.Minor.morphological.means.of.signaling.negation=4 None} 0.4064961          1 1.009940\n",
      "[4]  {X143E.Preverbal.Negative.Morphemes=1 NegV,                                                                                                                   \n",
      "      X143A.Order.of.Negative.Morpheme.and.Verb=1 NegV}             => {X143F.Postverbal.Negative.Morphemes=4 None}                   0.4064961          1 1.840580\n",
      "[5]  {X143F.Postverbal.Negative.Morphemes=4 None,                                                                                                                  \n",
      "      X143A.Order.of.Negative.Morpheme.and.Verb=1 NegV}             => {X143E.Preverbal.Negative.Morphemes=1 NegV}                    0.4064961          1 1.874539\n",
      "[6]  {X143E.Preverbal.Negative.Morphemes=1 NegV,                                                                                                                   \n",
      "      X143A.Order.of.Negative.Morpheme.and.Verb=1 NegV}             => {X143G.Minor.morphological.means.of.signaling.negation=4 None} 0.4064961          1 1.009940\n",
      "[7]  {X143A.Order.of.Negative.Morpheme.and.Verb=1 NegV,                                                                                                            \n",
      "      X143G.Minor.morphological.means.of.signaling.negation=4 None} => {X143E.Preverbal.Negative.Morphemes=1 NegV}                    0.4064961          1 1.874539\n",
      "[8]  {X143F.Postverbal.Negative.Morphemes=4 None,                                                                                                                  \n",
      "      X143A.Order.of.Negative.Morpheme.and.Verb=1 NegV}             => {X143G.Minor.morphological.means.of.signaling.negation=4 None} 0.4064961          1 1.009940\n",
      "[9]  {X143A.Order.of.Negative.Morpheme.and.Verb=1 NegV,                                                                                                            \n",
      "      X143G.Minor.morphological.means.of.signaling.negation=4 None} => {X143F.Postverbal.Negative.Morphemes=4 None}                   0.4064961          1 1.840580\n",
      "[10] {X143F.Postverbal.Negative.Morphemes=4 None,                                                                                                                  \n",
      "      X143E.Preverbal.Negative.Morphemes=1 NegV,                                                                                                                   \n",
      "      X143A.Order.of.Negative.Morpheme.and.Verb=1 NegV}             => {X143G.Minor.morphological.means.of.signaling.negation=4 None} 0.4064961          1 1.009940\n",
      "[11] {X143E.Preverbal.Negative.Morphemes=1 NegV,                                                                                                                   \n",
      "      X143A.Order.of.Negative.Morpheme.and.Verb=1 NegV,                                                                                                            \n",
      "      X143G.Minor.morphological.means.of.signaling.negation=4 None} => {X143F.Postverbal.Negative.Morphemes=4 None}                   0.4064961          1 1.840580\n",
      "[12] {X143F.Postverbal.Negative.Morphemes=4 None,                                                                                                                  \n",
      "      X143A.Order.of.Negative.Morpheme.and.Verb=1 NegV,                                                                                                            \n",
      "      X143G.Minor.morphological.means.of.signaling.negation=4 None} => {X143E.Preverbal.Negative.Morphemes=1 NegV}                    0.4064961          1 1.874539\n"
     ]
    }
   ],
   "source": [
    "inspect(order2)"
   ]
  },
  {
   "cell_type": "code",
   "execution_count": 59,
   "metadata": {
    "collapsed": false
   },
   "outputs": [
    {
     "data": {
      "text/plain": [
       "set of 0 rules "
      ]
     },
     "metadata": {},
     "output_type": "display_data"
    }
   ],
   "source": [
    "order2\n"
   ]
  },
  {
   "cell_type": "code",
   "execution_count": null,
   "metadata": {
    "collapsed": true
   },
   "outputs": [],
   "source": []
  }
 ],
 "metadata": {
  "kernelspec": {
   "display_name": "R",
   "language": "R",
   "name": "ir"
  },
  "language_info": {
   "codemirror_mode": "r",
   "file_extension": ".r",
   "mimetype": "text/x-r-source",
   "name": "R",
   "pygments_lexer": "r",
   "version": "3.3.3"
  }
 },
 "nbformat": 4,
 "nbformat_minor": 1
}
