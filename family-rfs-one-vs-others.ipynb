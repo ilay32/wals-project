{
 "cells": [
  {
   "cell_type": "markdown",
   "metadata": {},
   "source": [
    "# Random Forests -- One Family vs Others"
   ]
  },
  {
   "cell_type": "code",
   "execution_count": 1,
   "metadata": {
    "collapsed": true
   },
   "outputs": [],
   "source": [
    "from locator import *\n",
    "import seaborn as sns\n",
    "%matplotlib inline"
   ]
  },
  {
   "cell_type": "code",
   "execution_count": 2,
   "metadata": {
    "collapsed": false
   },
   "outputs": [],
   "source": [
    "nig04 = pd.read_pickle('feature-sets/800-Niger-80-04.pkl')\n",
    "nigrnd = pd.read_pickle('feature-sets/800-Niger-80-rnd.pkl')\n",
    "\n",
    "nig04 = [ColGroup(g) for g in nig04]\n",
    "nigrnd = [ColGroup(g) for g in nigrnd]"
   ]
  },
  {
   "cell_type": "code",
   "execution_count": 2,
   "metadata": {
    "collapsed": false
   },
   "outputs": [],
   "source": [
    "def rfstats(column_groups,family):\n",
    "    #groups = [ColGroup(g) for g in column_groups]\n",
    "    stats = pd.DataFrame(index=range(len(column_groups)), \\\n",
    "        columns=['oob','precision','recall','f-measure','rerror','silhouette'])\n",
    "    for i,g in enumerate(column_groups):\n",
    "        g.gen_separation(family=family)\n",
    "        g.family_rfs(family)\n",
    "        stats.iloc[i][g.family_rfs_data[family].columns] = g.family_rfs_data[family].mean()\n",
    "        stats.iloc[i]['silhouette'] = g.best_silhouette(family)[0]\n",
    "    return stats.astype(float)"
   ]
  },
  {
   "cell_type": "markdown",
   "metadata": {},
   "source": [
    "## Good Silhouettes:\n",
    "### Criteria:\n",
    "    \n",
    "  1. No area restriction\n",
    "  \n",
    "  2. At least 80 Niger-Congo\n",
    "  \n",
    "  3. At least 800 total\n",
    "  \n",
    "  4. At least 0.4 Silhoutte of Niger-Congo vs. Others\n",
    "  \n",
    "  \n",
    "### General Statistics:"
   ]
  },
  {
   "cell_type": "code",
   "execution_count": 4,
   "metadata": {
    "collapsed": false
   },
   "outputs": [
    {
     "data": {
      "text/html": [
       "<div>\n",
       "<style>\n",
       "    .dataframe thead tr:only-child th {\n",
       "        text-align: right;\n",
       "    }\n",
       "\n",
       "    .dataframe thead th {\n",
       "        text-align: left;\n",
       "    }\n",
       "\n",
       "    .dataframe tbody tr th {\n",
       "        vertical-align: top;\n",
       "    }\n",
       "</style>\n",
       "<table border=\"1\" class=\"dataframe\">\n",
       "  <thead>\n",
       "    <tr style=\"text-align: right;\">\n",
       "      <th></th>\n",
       "      <th>oob</th>\n",
       "      <th>precision</th>\n",
       "      <th>recall</th>\n",
       "      <th>f-measure</th>\n",
       "      <th>rerror</th>\n",
       "      <th>silhouette</th>\n",
       "    </tr>\n",
       "  </thead>\n",
       "  <tbody>\n",
       "    <tr>\n",
       "      <th>count</th>\n",
       "      <td>74.000000</td>\n",
       "      <td>74.000000</td>\n",
       "      <td>74.000000</td>\n",
       "      <td>74.000000</td>\n",
       "      <td>74.000000</td>\n",
       "      <td>74.000000</td>\n",
       "    </tr>\n",
       "    <tr>\n",
       "      <th>mean</th>\n",
       "      <td>0.154794</td>\n",
       "      <td>0.808758</td>\n",
       "      <td>0.906728</td>\n",
       "      <td>0.854140</td>\n",
       "      <td>0.093272</td>\n",
       "      <td>0.418840</td>\n",
       "    </tr>\n",
       "    <tr>\n",
       "      <th>std</th>\n",
       "      <td>0.024661</td>\n",
       "      <td>0.025185</td>\n",
       "      <td>0.036543</td>\n",
       "      <td>0.024220</td>\n",
       "      <td>0.036543</td>\n",
       "      <td>0.020894</td>\n",
       "    </tr>\n",
       "    <tr>\n",
       "      <th>min</th>\n",
       "      <td>0.116807</td>\n",
       "      <td>0.717889</td>\n",
       "      <td>0.766292</td>\n",
       "      <td>0.779316</td>\n",
       "      <td>0.055446</td>\n",
       "      <td>0.400126</td>\n",
       "    </tr>\n",
       "    <tr>\n",
       "      <th>25%</th>\n",
       "      <td>0.137898</td>\n",
       "      <td>0.791152</td>\n",
       "      <td>0.898031</td>\n",
       "      <td>0.841611</td>\n",
       "      <td>0.070970</td>\n",
       "      <td>0.404976</td>\n",
       "    </tr>\n",
       "    <tr>\n",
       "      <th>50%</th>\n",
       "      <td>0.150909</td>\n",
       "      <td>0.811943</td>\n",
       "      <td>0.919836</td>\n",
       "      <td>0.859332</td>\n",
       "      <td>0.080164</td>\n",
       "      <td>0.411001</td>\n",
       "    </tr>\n",
       "    <tr>\n",
       "      <th>75%</th>\n",
       "      <td>0.171240</td>\n",
       "      <td>0.826224</td>\n",
       "      <td>0.929030</td>\n",
       "      <td>0.870461</td>\n",
       "      <td>0.101969</td>\n",
       "      <td>0.426984</td>\n",
       "    </tr>\n",
       "    <tr>\n",
       "      <th>max</th>\n",
       "      <td>0.223140</td>\n",
       "      <td>0.858611</td>\n",
       "      <td>0.944554</td>\n",
       "      <td>0.889804</td>\n",
       "      <td>0.233708</td>\n",
       "      <td>0.509783</td>\n",
       "    </tr>\n",
       "  </tbody>\n",
       "</table>\n",
       "</div>"
      ],
      "text/plain": [
       "             oob  precision     recall  f-measure     rerror  silhouette\n",
       "count  74.000000  74.000000  74.000000  74.000000  74.000000   74.000000\n",
       "mean    0.154794   0.808758   0.906728   0.854140   0.093272    0.418840\n",
       "std     0.024661   0.025185   0.036543   0.024220   0.036543    0.020894\n",
       "min     0.116807   0.717889   0.766292   0.779316   0.055446    0.400126\n",
       "25%     0.137898   0.791152   0.898031   0.841611   0.070970    0.404976\n",
       "50%     0.150909   0.811943   0.919836   0.859332   0.080164    0.411001\n",
       "75%     0.171240   0.826224   0.929030   0.870461   0.101969    0.426984\n",
       "max     0.223140   0.858611   0.944554   0.889804   0.233708    0.509783"
      ]
     },
     "execution_count": 4,
     "metadata": {},
     "output_type": "execute_result"
    }
   ],
   "source": [
    "stats = rfstats(nig04,\"Niger-Congo\")\n",
    "stats.describe()"
   ]
  },
  {
   "cell_type": "markdown",
   "metadata": {},
   "source": [
    "## Relation to Silhouette"
   ]
  },
  {
   "cell_type": "code",
   "execution_count": 5,
   "metadata": {
    "collapsed": false
   },
   "outputs": [
    {
     "data": {
      "image/png": "[encoded data removed]",
      "text/plain": [
       "<matplotlib.figure.Figure at 0x7fe8376a1a20>"
      ]
     },
     "metadata": {},
     "output_type": "display_data"
    }
   ],
   "source": [
    "fig,ax  = plt.subplots(figsize=(10,6))\n",
    "sns.regplot(x=\"silhouette\", y=\"f-measure\", data=stats, ax=ax);"
   ]
  },
  {
   "cell_type": "code",
   "execution_count": 6,
   "metadata": {
    "collapsed": false
   },
   "outputs": [
    {
     "data": {
      "text/html": [
       "<div>\n",
       "<style>\n",
       "    .dataframe thead tr:only-child th {\n",
       "        text-align: right;\n",
       "    }\n",
       "\n",
       "    .dataframe thead th {\n",
       "        text-align: left;\n",
       "    }\n",
       "\n",
       "    .dataframe tbody tr th {\n",
       "        vertical-align: top;\n",
       "    }\n",
       "</style>\n",
       "<table border=\"1\" class=\"dataframe\">\n",
       "  <thead>\n",
       "    <tr style=\"text-align: right;\">\n",
       "      <th></th>\n",
       "      <th>oob</th>\n",
       "      <th>precision</th>\n",
       "      <th>recall</th>\n",
       "      <th>f-measure</th>\n",
       "      <th>rerror</th>\n",
       "      <th>silhouette</th>\n",
       "    </tr>\n",
       "  </thead>\n",
       "  <tbody>\n",
       "    <tr>\n",
       "      <th>oob</th>\n",
       "      <td>1.000000</td>\n",
       "      <td>-0.843339</td>\n",
       "      <td>-0.690311</td>\n",
       "      <td>-0.982480</td>\n",
       "      <td>0.690311</td>\n",
       "      <td>-0.026975</td>\n",
       "    </tr>\n",
       "    <tr>\n",
       "      <th>precision</th>\n",
       "      <td>-0.843339</td>\n",
       "      <td>1.000000</td>\n",
       "      <td>0.196327</td>\n",
       "      <td>0.731714</td>\n",
       "      <td>-0.196327</td>\n",
       "      <td>0.053883</td>\n",
       "    </tr>\n",
       "    <tr>\n",
       "      <th>recall</th>\n",
       "      <td>-0.690311</td>\n",
       "      <td>0.196327</td>\n",
       "      <td>1.000000</td>\n",
       "      <td>0.811372</td>\n",
       "      <td>-1.000000</td>\n",
       "      <td>-0.005881</td>\n",
       "    </tr>\n",
       "    <tr>\n",
       "      <th>f-measure</th>\n",
       "      <td>-0.982480</td>\n",
       "      <td>0.731714</td>\n",
       "      <td>0.811372</td>\n",
       "      <td>1.000000</td>\n",
       "      <td>-0.811372</td>\n",
       "      <td>0.025718</td>\n",
       "    </tr>\n",
       "    <tr>\n",
       "      <th>rerror</th>\n",
       "      <td>0.690311</td>\n",
       "      <td>-0.196327</td>\n",
       "      <td>-1.000000</td>\n",
       "      <td>-0.811372</td>\n",
       "      <td>1.000000</td>\n",
       "      <td>0.005881</td>\n",
       "    </tr>\n",
       "    <tr>\n",
       "      <th>silhouette</th>\n",
       "      <td>-0.026975</td>\n",
       "      <td>0.053883</td>\n",
       "      <td>-0.005881</td>\n",
       "      <td>0.025718</td>\n",
       "      <td>0.005881</td>\n",
       "      <td>1.000000</td>\n",
       "    </tr>\n",
       "  </tbody>\n",
       "</table>\n",
       "</div>"
      ],
      "text/plain": [
       "                 oob  precision    recall  f-measure    rerror  silhouette\n",
       "oob         1.000000  -0.843339 -0.690311  -0.982480  0.690311   -0.026975\n",
       "precision  -0.843339   1.000000  0.196327   0.731714 -0.196327    0.053883\n",
       "recall     -0.690311   0.196327  1.000000   0.811372 -1.000000   -0.005881\n",
       "f-measure  -0.982480   0.731714  0.811372   1.000000 -0.811372    0.025718\n",
       "rerror      0.690311  -0.196327 -1.000000  -0.811372  1.000000    0.005881\n",
       "silhouette -0.026975   0.053883 -0.005881   0.025718  0.005881    1.000000"
      ]
     },
     "execution_count": 6,
     "metadata": {},
     "output_type": "execute_result"
    }
   ],
   "source": [
    "stats.corr()"
   ]
  },
  {
   "cell_type": "code",
   "execution_count": 10,
   "metadata": {
    "collapsed": false
   },
   "outputs": [],
   "source": [
    "nig04.sort(key=lambda g : g.family_rfs_data['Niger-Congo']['oob'].mean())"
   ]
  },
  {
   "cell_type": "code",
   "execution_count": 11,
   "metadata": {
    "collapsed": false
   },
   "outputs": [
    {
     "name": "stdout",
     "output_type": "stream",
     "text": [
      "3 long group covering 911 languages\n",
      "in mode PCA:\n",
      "quality index: 7.42\n",
      "PC1: 44%\n",
      "PC2: 21%\n",
      "fields: 'word_order': 3\n",
      "features:\n",
      "81A Order of Subject, Object and Verb\n",
      "\r",
      "88A Order of Demonstrative and Noun\n",
      "\r",
      "89A Order of Numeral and Noun\n",
      "family1: 138 (Austronesian)\n",
      "family2: 119 (Niger-Congo)\n",
      "silhouettes:\n",
      "\r",
      "Niger-Congo: 0.43 (1 PCs)\n",
      "\r\n",
      "\n",
      "Niger-Congo vs others: oob: 0.117 f-measure: 0.890 (5 samples)\n",
      "---\n",
      "\n",
      "\n",
      "4 long group covering 869 languages\n",
      "in mode PCA:\n",
      "quality index: 8.12\n",
      "PC1: 25%\n",
      "PC2: 21%\n",
      "fields: 'word_order': 4\n",
      "features:\n",
      "143A Order of Negative Morpheme and Verb\n",
      "\r",
      "81A Order of Subject, Object and Verb\n",
      "\r",
      "89A Order of Numeral and Noun\n",
      "\r",
      "97A Relationship between the Order of Object and Verb and the Order of Adjective and Noun\n",
      "family1: 131 (Austronesian)\n",
      "family2: 110 (Niger-Congo)\n",
      "silhouettes:\n",
      "\r",
      "Niger-Congo: 0.51 (1 PCs)\n",
      "\r\n",
      "\n",
      "Niger-Congo vs others: oob: 0.118 f-measure: 0.886 (5 samples)\n",
      "---\n",
      "\n",
      "\n",
      "3 long group covering 836 languages\n",
      "in mode PCA:\n",
      "quality index: 6.27\n",
      "PC1: 39%\n",
      "PC2: 26%\n",
      "fields: 'word_order': 3\n",
      "features:\n",
      "81A Order of Subject, Object and Verb\n",
      "\r",
      "89A Order of Numeral and Noun\n",
      "\r",
      "95A Relationship between the Order of Object and Verb and the Order of Adposition and Noun Phrase\n",
      "family1: 132 (Austronesian)\n",
      "family2: 101 (Niger-Congo)\n",
      "silhouettes:\n",
      "\r",
      "Niger-Congo: 0.41 (2 PCs)\n",
      "\r\n",
      "\n",
      "Niger-Congo vs others: oob: 0.120 f-measure: 0.888 (5 samples)\n",
      "---\n",
      "\n",
      "\n"
     ]
    }
   ],
   "source": [
    "for g in nig04[:3]:\n",
    "    print(g)\n",
    "    print(\"---\\n\\n\")"
   ]
  },
  {
   "cell_type": "markdown",
   "metadata": {
    "collapsed": true
   },
   "source": [
    "## Relation to Silhouette in General\n",
    "### Criteria:\n",
    "    \n",
    "  1. No area restriction\n",
    "  \n",
    "  2. At least 80 Niger-Congo\n",
    "  \n",
    "  3. At least 800 total\n",
    "\n",
    "### Groups: a random sample of 1000 groups of meeting these criteria\n",
    "  "
   ]
  },
  {
   "cell_type": "code",
   "execution_count": 12,
   "metadata": {
    "collapsed": false
   },
   "outputs": [
    {
     "data": {
      "text/html": [
       "<div>\n",
       "<style>\n",
       "    .dataframe thead tr:only-child th {\n",
       "        text-align: right;\n",
       "    }\n",
       "\n",
       "    .dataframe thead th {\n",
       "        text-align: left;\n",
       "    }\n",
       "\n",
       "    .dataframe tbody tr th {\n",
       "        vertical-align: top;\n",
       "    }\n",
       "</style>\n",
       "<table border=\"1\" class=\"dataframe\">\n",
       "  <thead>\n",
       "    <tr style=\"text-align: right;\">\n",
       "      <th></th>\n",
       "      <th>oob</th>\n",
       "      <th>precision</th>\n",
       "      <th>recall</th>\n",
       "      <th>f-measure</th>\n",
       "      <th>rerror</th>\n",
       "      <th>silhouette</th>\n",
       "    </tr>\n",
       "  </thead>\n",
       "  <tbody>\n",
       "    <tr>\n",
       "      <th>count</th>\n",
       "      <td>1000.000000</td>\n",
       "      <td>1000.000000</td>\n",
       "      <td>1000.000000</td>\n",
       "      <td>1000.000000</td>\n",
       "      <td>1000.000000</td>\n",
       "      <td>1000.000000</td>\n",
       "    </tr>\n",
       "    <tr>\n",
       "      <th>mean</th>\n",
       "      <td>0.189828</td>\n",
       "      <td>0.788512</td>\n",
       "      <td>0.851713</td>\n",
       "      <td>0.817023</td>\n",
       "      <td>0.148287</td>\n",
       "      <td>0.238969</td>\n",
       "    </tr>\n",
       "    <tr>\n",
       "      <th>std</th>\n",
       "      <td>0.036014</td>\n",
       "      <td>0.034780</td>\n",
       "      <td>0.063378</td>\n",
       "      <td>0.037685</td>\n",
       "      <td>0.063378</td>\n",
       "      <td>0.068204</td>\n",
       "    </tr>\n",
       "    <tr>\n",
       "      <th>min</th>\n",
       "      <td>0.108943</td>\n",
       "      <td>0.614439</td>\n",
       "      <td>0.645545</td>\n",
       "      <td>0.662899</td>\n",
       "      <td>0.034940</td>\n",
       "      <td>0.065045</td>\n",
       "    </tr>\n",
       "    <tr>\n",
       "      <th>25%</th>\n",
       "      <td>0.166667</td>\n",
       "      <td>0.774269</td>\n",
       "      <td>0.814702</td>\n",
       "      <td>0.796765</td>\n",
       "      <td>0.096412</td>\n",
       "      <td>0.194786</td>\n",
       "    </tr>\n",
       "    <tr>\n",
       "      <th>50%</th>\n",
       "      <td>0.185502</td>\n",
       "      <td>0.792775</td>\n",
       "      <td>0.862436</td>\n",
       "      <td>0.823209</td>\n",
       "      <td>0.137564</td>\n",
       "      <td>0.250002</td>\n",
       "    </tr>\n",
       "    <tr>\n",
       "      <th>75%</th>\n",
       "      <td>0.207646</td>\n",
       "      <td>0.811182</td>\n",
       "      <td>0.903588</td>\n",
       "      <td>0.843551</td>\n",
       "      <td>0.185298</td>\n",
       "      <td>0.284846</td>\n",
       "    </tr>\n",
       "    <tr>\n",
       "      <th>max</th>\n",
       "      <td>0.367901</td>\n",
       "      <td>0.862069</td>\n",
       "      <td>0.965060</td>\n",
       "      <td>0.896297</td>\n",
       "      <td>0.354455</td>\n",
       "      <td>0.436989</td>\n",
       "    </tr>\n",
       "  </tbody>\n",
       "</table>\n",
       "</div>"
      ],
      "text/plain": [
       "               oob    precision       recall    f-measure       rerror  \\\n",
       "count  1000.000000  1000.000000  1000.000000  1000.000000  1000.000000   \n",
       "mean      0.189828     0.788512     0.851713     0.817023     0.148287   \n",
       "std       0.036014     0.034780     0.063378     0.037685     0.063378   \n",
       "min       0.108943     0.614439     0.645545     0.662899     0.034940   \n",
       "25%       0.166667     0.774269     0.814702     0.796765     0.096412   \n",
       "50%       0.185502     0.792775     0.862436     0.823209     0.137564   \n",
       "75%       0.207646     0.811182     0.903588     0.843551     0.185298   \n",
       "max       0.367901     0.862069     0.965060     0.896297     0.354455   \n",
       "\n",
       "        silhouette  \n",
       "count  1000.000000  \n",
       "mean      0.238969  \n",
       "std       0.068204  \n",
       "min       0.065045  \n",
       "25%       0.194786  \n",
       "50%       0.250002  \n",
       "75%       0.284846  \n",
       "max       0.436989  "
      ]
     },
     "execution_count": 12,
     "metadata": {},
     "output_type": "execute_result"
    }
   ],
   "source": [
    "rndstats = pd.read_pickle('tmp1000rndnigstats.pkl')\n",
    "#rndstats = rfstats(nigrnd,\"Niger-Congo\")\n",
    "rndstats.describe()"
   ]
  },
  {
   "cell_type": "code",
   "execution_count": 13,
   "metadata": {
    "collapsed": true
   },
   "outputs": [],
   "source": [
    "#with open('tmp1000rndnigstats.pkl','wb') as f:\n",
    "#    pickle.dump(rndstats,f)"
   ]
  },
  {
   "cell_type": "code",
   "execution_count": 14,
   "metadata": {
    "collapsed": false
   },
   "outputs": [
    {
     "data": {
      "image/png": "[encoded data removed]",
      "text/plain": [
       "<matplotlib.figure.Figure at 0x7fe8376d5cc0>"
      ]
     },
     "metadata": {},
     "output_type": "display_data"
    }
   ],
   "source": [
    "fig,ax  = plt.subplots(figsize=(10,6))\n",
    "sns.regplot(x=\"silhouette\", y=\"f-measure\", data=rndstats, ax=ax);"
   ]
  },
  {
   "cell_type": "code",
   "execution_count": 15,
   "metadata": {
    "collapsed": false
   },
   "outputs": [
    {
     "data": {
      "text/html": [
       "<div>\n",
       "<style>\n",
       "    .dataframe thead tr:only-child th {\n",
       "        text-align: right;\n",
       "    }\n",
       "\n",
       "    .dataframe thead th {\n",
       "        text-align: left;\n",
       "    }\n",
       "\n",
       "    .dataframe tbody tr th {\n",
       "        vertical-align: top;\n",
       "    }\n",
       "</style>\n",
       "<table border=\"1\" class=\"dataframe\">\n",
       "  <thead>\n",
       "    <tr style=\"text-align: right;\">\n",
       "      <th></th>\n",
       "      <th>oob</th>\n",
       "      <th>precision</th>\n",
       "      <th>recall</th>\n",
       "      <th>f-measure</th>\n",
       "      <th>rerror</th>\n",
       "      <th>silhouette</th>\n",
       "    </tr>\n",
       "  </thead>\n",
       "  <tbody>\n",
       "    <tr>\n",
       "      <th>oob</th>\n",
       "      <td>1.000000</td>\n",
       "      <td>-0.772618</td>\n",
       "      <td>-0.716462</td>\n",
       "      <td>-0.970897</td>\n",
       "      <td>0.716462</td>\n",
       "      <td>-0.467987</td>\n",
       "    </tr>\n",
       "    <tr>\n",
       "      <th>precision</th>\n",
       "      <td>-0.772618</td>\n",
       "      <td>1.000000</td>\n",
       "      <td>0.116933</td>\n",
       "      <td>0.603923</td>\n",
       "      <td>-0.116933</td>\n",
       "      <td>0.179215</td>\n",
       "    </tr>\n",
       "    <tr>\n",
       "      <th>recall</th>\n",
       "      <td>-0.716462</td>\n",
       "      <td>0.116933</td>\n",
       "      <td>1.000000</td>\n",
       "      <td>0.860160</td>\n",
       "      <td>-1.000000</td>\n",
       "      <td>0.553232</td>\n",
       "    </tr>\n",
       "    <tr>\n",
       "      <th>f-measure</th>\n",
       "      <td>-0.970897</td>\n",
       "      <td>0.603923</td>\n",
       "      <td>0.860160</td>\n",
       "      <td>1.000000</td>\n",
       "      <td>-0.860160</td>\n",
       "      <td>0.528154</td>\n",
       "    </tr>\n",
       "    <tr>\n",
       "      <th>rerror</th>\n",
       "      <td>0.716462</td>\n",
       "      <td>-0.116933</td>\n",
       "      <td>-1.000000</td>\n",
       "      <td>-0.860160</td>\n",
       "      <td>1.000000</td>\n",
       "      <td>-0.553232</td>\n",
       "    </tr>\n",
       "    <tr>\n",
       "      <th>silhouette</th>\n",
       "      <td>-0.467987</td>\n",
       "      <td>0.179215</td>\n",
       "      <td>0.553232</td>\n",
       "      <td>0.528154</td>\n",
       "      <td>-0.553232</td>\n",
       "      <td>1.000000</td>\n",
       "    </tr>\n",
       "  </tbody>\n",
       "</table>\n",
       "</div>"
      ],
      "text/plain": [
       "                 oob  precision    recall  f-measure    rerror  silhouette\n",
       "oob         1.000000  -0.772618 -0.716462  -0.970897  0.716462   -0.467987\n",
       "precision  -0.772618   1.000000  0.116933   0.603923 -0.116933    0.179215\n",
       "recall     -0.716462   0.116933  1.000000   0.860160 -1.000000    0.553232\n",
       "f-measure  -0.970897   0.603923  0.860160   1.000000 -0.860160    0.528154\n",
       "rerror      0.716462  -0.116933 -1.000000  -0.860160  1.000000   -0.553232\n",
       "silhouette -0.467987   0.179215  0.553232   0.528154 -0.553232    1.000000"
      ]
     },
     "execution_count": 15,
     "metadata": {},
     "output_type": "execute_result"
    }
   ],
   "source": [
    "rndstats.corr()"
   ]
  },
  {
   "cell_type": "markdown",
   "metadata": {},
   "source": [
    "## Austronesian"
   ]
  },
  {
   "cell_type": "code",
   "execution_count": 16,
   "metadata": {
    "collapsed": true
   },
   "outputs": [],
   "source": [
    "rndstats_aus = rfstats(nigrnd,\"Austronesian\")"
   ]
  },
  {
   "cell_type": "code",
   "execution_count": 17,
   "metadata": {
    "collapsed": false
   },
   "outputs": [
    {
     "data": {
      "text/html": [
       "<div>\n",
       "<style>\n",
       "    .dataframe thead tr:only-child th {\n",
       "        text-align: right;\n",
       "    }\n",
       "\n",
       "    .dataframe thead th {\n",
       "        text-align: left;\n",
       "    }\n",
       "\n",
       "    .dataframe tbody tr th {\n",
       "        vertical-align: top;\n",
       "    }\n",
       "</style>\n",
       "<table border=\"1\" class=\"dataframe\">\n",
       "  <thead>\n",
       "    <tr style=\"text-align: right;\">\n",
       "      <th></th>\n",
       "      <th>oob</th>\n",
       "      <th>precision</th>\n",
       "      <th>recall</th>\n",
       "      <th>f-measure</th>\n",
       "      <th>rerror</th>\n",
       "      <th>silhouette</th>\n",
       "    </tr>\n",
       "  </thead>\n",
       "  <tbody>\n",
       "    <tr>\n",
       "      <th>count</th>\n",
       "      <td>1000.000000</td>\n",
       "      <td>1000.000000</td>\n",
       "      <td>1000.000000</td>\n",
       "      <td>1000.000000</td>\n",
       "      <td>1000.000000</td>\n",
       "      <td>1000.000000</td>\n",
       "    </tr>\n",
       "    <tr>\n",
       "      <th>mean</th>\n",
       "      <td>0.245196</td>\n",
       "      <td>0.723954</td>\n",
       "      <td>0.828635</td>\n",
       "      <td>0.771715</td>\n",
       "      <td>0.171365</td>\n",
       "      <td>0.213034</td>\n",
       "    </tr>\n",
       "    <tr>\n",
       "      <th>std</th>\n",
       "      <td>0.025107</td>\n",
       "      <td>0.029104</td>\n",
       "      <td>0.034534</td>\n",
       "      <td>0.023150</td>\n",
       "      <td>0.034534</td>\n",
       "      <td>0.063450</td>\n",
       "    </tr>\n",
       "    <tr>\n",
       "      <th>min</th>\n",
       "      <td>0.168293</td>\n",
       "      <td>0.602259</td>\n",
       "      <td>0.372059</td>\n",
       "      <td>0.485623</td>\n",
       "      <td>0.075000</td>\n",
       "      <td>0.035093</td>\n",
       "    </tr>\n",
       "    <tr>\n",
       "      <th>25%</th>\n",
       "      <td>0.231789</td>\n",
       "      <td>0.707064</td>\n",
       "      <td>0.808677</td>\n",
       "      <td>0.760576</td>\n",
       "      <td>0.147761</td>\n",
       "      <td>0.168672</td>\n",
       "    </tr>\n",
       "    <tr>\n",
       "      <th>50%</th>\n",
       "      <td>0.245123</td>\n",
       "      <td>0.721560</td>\n",
       "      <td>0.831152</td>\n",
       "      <td>0.772400</td>\n",
       "      <td>0.168848</td>\n",
       "      <td>0.220535</td>\n",
       "    </tr>\n",
       "    <tr>\n",
       "      <th>75%</th>\n",
       "      <td>0.258655</td>\n",
       "      <td>0.736280</td>\n",
       "      <td>0.852239</td>\n",
       "      <td>0.784179</td>\n",
       "      <td>0.191323</td>\n",
       "      <td>0.258868</td>\n",
       "    </tr>\n",
       "    <tr>\n",
       "      <th>max</th>\n",
       "      <td>0.394118</td>\n",
       "      <td>0.812559</td>\n",
       "      <td>0.925000</td>\n",
       "      <td>0.838518</td>\n",
       "      <td>0.627941</td>\n",
       "      <td>0.381682</td>\n",
       "    </tr>\n",
       "  </tbody>\n",
       "</table>\n",
       "</div>"
      ],
      "text/plain": [
       "               oob    precision       recall    f-measure       rerror  \\\n",
       "count  1000.000000  1000.000000  1000.000000  1000.000000  1000.000000   \n",
       "mean      0.245196     0.723954     0.828635     0.771715     0.171365   \n",
       "std       0.025107     0.029104     0.034534     0.023150     0.034534   \n",
       "min       0.168293     0.602259     0.372059     0.485623     0.075000   \n",
       "25%       0.231789     0.707064     0.808677     0.760576     0.147761   \n",
       "50%       0.245123     0.721560     0.831152     0.772400     0.168848   \n",
       "75%       0.258655     0.736280     0.852239     0.784179     0.191323   \n",
       "max       0.394118     0.812559     0.925000     0.838518     0.627941   \n",
       "\n",
       "        silhouette  \n",
       "count  1000.000000  \n",
       "mean      0.213034  \n",
       "std       0.063450  \n",
       "min       0.035093  \n",
       "25%       0.168672  \n",
       "50%       0.220535  \n",
       "75%       0.258868  \n",
       "max       0.381682  "
      ]
     },
     "execution_count": 17,
     "metadata": {},
     "output_type": "execute_result"
    }
   ],
   "source": [
    "rndstats_aus.describe()"
   ]
  },
  {
   "cell_type": "code",
   "execution_count": 18,
   "metadata": {
    "collapsed": false
   },
   "outputs": [
    {
     "data": {
      "image/png": "[encoded data removed]",
      "text/plain": [
       "<matplotlib.figure.Figure at 0x7fe834bb1e80>"
      ]
     },
     "metadata": {},
     "output_type": "display_data"
    }
   ],
   "source": [
    "fig,ax  = plt.subplots(figsize=(10,6))\n",
    "sns.regplot(x=\"silhouette\", y=\"f-measure\", data=rndstats_aus, ax=ax);"
   ]
  },
  {
   "cell_type": "code",
   "execution_count": 8,
   "metadata": {
    "collapsed": false
   },
   "outputs": [
    {
     "name": "stdout",
     "output_type": "stream",
     "text": [
      "checking 0.4K feature groups of length 2\n",
      "Percent: [##################################################] 100% skipped:0.0K passed: 36\n",
      "checking 1.4K feature groups of length 3\n",
      "Percent: [##################################################] 100% skipped:0.0K passed: 84\n",
      "checking 5.0K feature groups of length 4\n",
      "Percent: [##################################################] 100% skipped:0.0K passed: 126\n",
      "checking 10.1K feature groups of length 5\n",
      "Percent: [##################################################] 100% skipped:0.0K passed: 126\n",
      "checking 12.6K feature groups of length 6\n",
      "Percent: [##################################################] 100% skipped:0.0K passed: 84\n",
      "checking 10.1K feature groups of length 7\n",
      "Percent: [##################################################] 100% skipped:0.0K passed: 36\n",
      "checking 5.0K feature groups of length 8\n",
      "Percent: [##################################################] 100% skipped:0.0K passed: 9\n",
      "checking 1.4K feature groups of length 9\n",
      "Percent: [##################################################] 100% skipped:0.0K passed: 1\n",
      "checking 0.2K feature groups of length 10\n",
      "Percent: [##################################################] 100% skipped:0.0K passed: 0\n"
     ]
    }
   ],
   "source": [
    "loi = list(wals[wals['family']=='Niger-Congo']['Name'])\n",
    "loc = Locator(110,include='phonology',loi=loi,loi_count=55,asess=None)\n",
    "loc.main('discard')"
   ]
  },
  {
   "cell_type": "code",
   "execution_count": 9,
   "metadata": {
    "collapsed": false
   },
   "outputs": [
    {
     "name": "stderr",
     "output_type": "stream",
     "text": [
      "/home/ilay/WALS/wals-project/locator.py:873: RuntimeWarning: invalid value encountered in double_scalars\n",
      "  fmeas  =  (2 * prec * rec)/(prec + rec)\n"
     ]
    }
   ],
   "source": [
    "phonstats = rfstats(loc.flagged,'Niger-Congo')"
   ]
  },
  {
   "cell_type": "code",
   "execution_count": 10,
   "metadata": {
    "collapsed": false
   },
   "outputs": [
    {
     "data": {
      "text/html": [
       "<div>\n",
       "<style>\n",
       "    .dataframe thead tr:only-child th {\n",
       "        text-align: right;\n",
       "    }\n",
       "\n",
       "    .dataframe thead th {\n",
       "        text-align: left;\n",
       "    }\n",
       "\n",
       "    .dataframe tbody tr th {\n",
       "        vertical-align: top;\n",
       "    }\n",
       "</style>\n",
       "<table border=\"1\" class=\"dataframe\">\n",
       "  <thead>\n",
       "    <tr style=\"text-align: right;\">\n",
       "      <th></th>\n",
       "      <th>oob</th>\n",
       "      <th>precision</th>\n",
       "      <th>recall</th>\n",
       "      <th>f-measure</th>\n",
       "      <th>rerror</th>\n",
       "      <th>silhouette</th>\n",
       "    </tr>\n",
       "  </thead>\n",
       "  <tbody>\n",
       "    <tr>\n",
       "      <th>count</th>\n",
       "      <td>521.000000</td>\n",
       "      <td>521.000000</td>\n",
       "      <td>521.000000</td>\n",
       "      <td>521.000000</td>\n",
       "      <td>521.000000</td>\n",
       "      <td>521.000000</td>\n",
       "    </tr>\n",
       "    <tr>\n",
       "      <th>mean</th>\n",
       "      <td>0.238782</td>\n",
       "      <td>0.768779</td>\n",
       "      <td>0.771084</td>\n",
       "      <td>0.764491</td>\n",
       "      <td>0.228916</td>\n",
       "      <td>0.219984</td>\n",
       "    </tr>\n",
       "    <tr>\n",
       "      <th>std</th>\n",
       "      <td>0.071972</td>\n",
       "      <td>0.089265</td>\n",
       "      <td>0.080437</td>\n",
       "      <td>0.061126</td>\n",
       "      <td>0.080437</td>\n",
       "      <td>0.096996</td>\n",
       "    </tr>\n",
       "    <tr>\n",
       "      <th>min</th>\n",
       "      <td>0.138182</td>\n",
       "      <td>0.309524</td>\n",
       "      <td>0.307143</td>\n",
       "      <td>0.404339</td>\n",
       "      <td>0.000000</td>\n",
       "      <td>-0.083182</td>\n",
       "    </tr>\n",
       "    <tr>\n",
       "      <th>25%</th>\n",
       "      <td>0.194545</td>\n",
       "      <td>0.724889</td>\n",
       "      <td>0.717857</td>\n",
       "      <td>0.737405</td>\n",
       "      <td>0.174545</td>\n",
       "      <td>0.159479</td>\n",
       "    </tr>\n",
       "    <tr>\n",
       "      <th>50%</th>\n",
       "      <td>0.216364</td>\n",
       "      <td>0.788992</td>\n",
       "      <td>0.782143</td>\n",
       "      <td>0.770344</td>\n",
       "      <td>0.217857</td>\n",
       "      <td>0.211596</td>\n",
       "    </tr>\n",
       "    <tr>\n",
       "      <th>75%</th>\n",
       "      <td>0.262500</td>\n",
       "      <td>0.822088</td>\n",
       "      <td>0.825455</td>\n",
       "      <td>0.807330</td>\n",
       "      <td>0.282143</td>\n",
       "      <td>0.282365</td>\n",
       "    </tr>\n",
       "    <tr>\n",
       "      <th>max</th>\n",
       "      <td>0.716667</td>\n",
       "      <td>0.984068</td>\n",
       "      <td>1.000000</td>\n",
       "      <td>0.864352</td>\n",
       "      <td>0.692857</td>\n",
       "      <td>0.544176</td>\n",
       "    </tr>\n",
       "  </tbody>\n",
       "</table>\n",
       "</div>"
      ],
      "text/plain": [
       "              oob   precision      recall   f-measure      rerror  silhouette\n",
       "count  521.000000  521.000000  521.000000  521.000000  521.000000  521.000000\n",
       "mean     0.238782    0.768779    0.771084    0.764491    0.228916    0.219984\n",
       "std      0.071972    0.089265    0.080437    0.061126    0.080437    0.096996\n",
       "min      0.138182    0.309524    0.307143    0.404339    0.000000   -0.083182\n",
       "25%      0.194545    0.724889    0.717857    0.737405    0.174545    0.159479\n",
       "50%      0.216364    0.788992    0.782143    0.770344    0.217857    0.211596\n",
       "75%      0.262500    0.822088    0.825455    0.807330    0.282143    0.282365\n",
       "max      0.716667    0.984068    1.000000    0.864352    0.692857    0.544176"
      ]
     },
     "execution_count": 10,
     "metadata": {},
     "output_type": "execute_result"
    }
   ],
   "source": [
    "phonstats.describe()"
   ]
  },
  {
   "cell_type": "code",
   "execution_count": 11,
   "metadata": {
    "collapsed": false
   },
   "outputs": [
    {
     "data": {
      "image/png": "[encoded data removed]",
      "text/plain": [
       "<matplotlib.figure.Figure at 0x7f9b5f4287b8>"
      ]
     },
     "metadata": {},
     "output_type": "display_data"
    }
   ],
   "source": [
    "fig,ax  = plt.subplots(figsize=(10,6))\n",
    "sns.regplot(x=\"silhouette\", y=\"f-measure\", data=phonstats, ax=ax);"
   ]
  },
  {
   "cell_type": "code",
   "execution_count": 12,
   "metadata": {
    "collapsed": false
   },
   "outputs": [
    {
     "name": "stdout",
     "output_type": "stream",
     "text": [
      "6 long group covering 523 languages\n",
      "in mode PCA:\n",
      "quality index: 5.19\n",
      "PC1: 17%\n",
      "PC2: 12%\n",
      "fields: 'phonology': 6\n",
      "features:\n",
      "13A Tone\n",
      "\r",
      "19A Presence of Uncommon Consonants\n",
      "\r",
      "1A Consonant Inventories\n",
      "\r",
      "4A Voicing in Plosives and Fricatives\n",
      "\r",
      "6A Uvular Consonants\n",
      "\r",
      "7A Glottalized Consonants\n",
      "family1: 55 (Niger-Congo)\n",
      "family2: 42 (Austronesian)\n",
      "silhouettes:\n",
      "\r",
      "Niger-Congo: 0.31 (1 PCs)\n",
      "\r\n",
      "Niger-Congo vs others: oob: 0.138 f-measure: 0.864 (5 samples)\n",
      "\n",
      "6 long group covering 523 languages\n",
      "in mode PCA:\n",
      "quality index: 5.06\n",
      "PC1: 16%\n",
      "PC2: 14%\n",
      "fields: 'phonology': 6\n",
      "features:\n",
      "13A Tone\n",
      "\r",
      "19A Presence of Uncommon Consonants\n",
      "\r",
      "1A Consonant Inventories\n",
      "\r",
      "6A Uvular Consonants\n",
      "\r",
      "7A Glottalized Consonants\n",
      "\r",
      "8A Lateral Consonants\n",
      "family1: 55 (Niger-Congo)\n",
      "family2: 42 (Austronesian)\n",
      "silhouettes:\n",
      "\r",
      "Niger-Congo: 0.23 (1 PCs)\n",
      "\r\n",
      "Niger-Congo vs others: oob: 0.147 f-measure: 0.850 (5 samples)\n",
      "\n",
      "6 long group covering 527 languages\n",
      "in mode PCA:\n",
      "quality index: 6.17\n",
      "PC1: 19%\n",
      "PC2: 14%\n",
      "fields: 'phonology': 6\n",
      "features:\n",
      "13A Tone\n",
      "\r",
      "18A Absence of Common Consonants\n",
      "\r",
      "19A Presence of Uncommon Consonants\n",
      "\r",
      "4A Voicing in Plosives and Fricatives\n",
      "\r",
      "6A Uvular Consonants\n",
      "\r",
      "7A Glottalized Consonants\n",
      "family1: 55 (Niger-Congo)\n",
      "family2: 42 (Austronesian)\n",
      "silhouettes:\n",
      "\r",
      "Niger-Congo: 0.31 (1 PCs)\n",
      "\r\n",
      "Niger-Congo vs others: oob: 0.153 f-measure: 0.845 (5 samples)\n",
      "\n"
     ]
    }
   ],
   "source": [
    "loc.flagged.sort(key=lambda g : g.family_rfs_data['Niger-Congo']['oob'].mean())\n",
    "for g in loc.flagged[:3]:\n",
    "    print(g)"
   ]
  },
  {
   "cell_type": "code",
   "execution_count": 14,
   "metadata": {
    "collapsed": false
   },
   "outputs": [],
   "source": [
    "goodphon = [g for g in loc.flagged if g.best_silhouette('Niger-Congo')[0] > 0.4]"
   ]
  },
  {
   "cell_type": "code",
   "execution_count": 15,
   "metadata": {
    "collapsed": false
   },
   "outputs": [
    {
     "data": {
      "text/plain": [
       "17"
      ]
     },
     "execution_count": 15,
     "metadata": {},
     "output_type": "execute_result"
    }
   ],
   "source": [
    "len(goodphon)"
   ]
  },
  {
   "cell_type": "code",
   "execution_count": 17,
   "metadata": {
    "collapsed": false
   },
   "outputs": [
    {
     "data": {
      "text/html": [
       "<div>\n",
       "<style>\n",
       "    .dataframe thead tr:only-child th {\n",
       "        text-align: right;\n",
       "    }\n",
       "\n",
       "    .dataframe thead th {\n",
       "        text-align: left;\n",
       "    }\n",
       "\n",
       "    .dataframe tbody tr th {\n",
       "        vertical-align: top;\n",
       "    }\n",
       "</style>\n",
       "<table border=\"1\" class=\"dataframe\">\n",
       "  <thead>\n",
       "    <tr style=\"text-align: right;\">\n",
       "      <th></th>\n",
       "      <th>oob</th>\n",
       "      <th>precision</th>\n",
       "      <th>recall</th>\n",
       "      <th>f-measure</th>\n",
       "      <th>rerror</th>\n",
       "      <th>silhouette</th>\n",
       "    </tr>\n",
       "  </thead>\n",
       "  <tbody>\n",
       "    <tr>\n",
       "      <th>count</th>\n",
       "      <td>17.000000</td>\n",
       "      <td>17.000000</td>\n",
       "      <td>17.000000</td>\n",
       "      <td>17.000000</td>\n",
       "      <td>17.000000</td>\n",
       "      <td>17.000000</td>\n",
       "    </tr>\n",
       "    <tr>\n",
       "      <th>mean</th>\n",
       "      <td>0.191765</td>\n",
       "      <td>0.799042</td>\n",
       "      <td>0.829733</td>\n",
       "      <td>0.811890</td>\n",
       "      <td>0.170267</td>\n",
       "      <td>0.441963</td>\n",
       "    </tr>\n",
       "    <tr>\n",
       "      <th>std</th>\n",
       "      <td>0.020349</td>\n",
       "      <td>0.029070</td>\n",
       "      <td>0.047224</td>\n",
       "      <td>0.022156</td>\n",
       "      <td>0.047224</td>\n",
       "      <td>0.039914</td>\n",
       "    </tr>\n",
       "    <tr>\n",
       "      <th>min</th>\n",
       "      <td>0.158182</td>\n",
       "      <td>0.732330</td>\n",
       "      <td>0.727273</td>\n",
       "      <td>0.764766</td>\n",
       "      <td>0.072727</td>\n",
       "      <td>0.401236</td>\n",
       "    </tr>\n",
       "    <tr>\n",
       "      <th>25%</th>\n",
       "      <td>0.181818</td>\n",
       "      <td>0.787034</td>\n",
       "      <td>0.800000</td>\n",
       "      <td>0.798685</td>\n",
       "      <td>0.145455</td>\n",
       "      <td>0.407772</td>\n",
       "    </tr>\n",
       "    <tr>\n",
       "      <th>50%</th>\n",
       "      <td>0.190909</td>\n",
       "      <td>0.795859</td>\n",
       "      <td>0.836364</td>\n",
       "      <td>0.816439</td>\n",
       "      <td>0.163636</td>\n",
       "      <td>0.432602</td>\n",
       "    </tr>\n",
       "    <tr>\n",
       "      <th>75%</th>\n",
       "      <td>0.201818</td>\n",
       "      <td>0.817684</td>\n",
       "      <td>0.854545</td>\n",
       "      <td>0.825189</td>\n",
       "      <td>0.200000</td>\n",
       "      <td>0.463806</td>\n",
       "    </tr>\n",
       "    <tr>\n",
       "      <th>max</th>\n",
       "      <td>0.236364</td>\n",
       "      <td>0.853089</td>\n",
       "      <td>0.927273</td>\n",
       "      <td>0.844778</td>\n",
       "      <td>0.272727</td>\n",
       "      <td>0.544176</td>\n",
       "    </tr>\n",
       "  </tbody>\n",
       "</table>\n",
       "</div>"
      ],
      "text/plain": [
       "             oob  precision     recall  f-measure     rerror  silhouette\n",
       "count  17.000000  17.000000  17.000000  17.000000  17.000000   17.000000\n",
       "mean    0.191765   0.799042   0.829733   0.811890   0.170267    0.441963\n",
       "std     0.020349   0.029070   0.047224   0.022156   0.047224    0.039914\n",
       "min     0.158182   0.732330   0.727273   0.764766   0.072727    0.401236\n",
       "25%     0.181818   0.787034   0.800000   0.798685   0.145455    0.407772\n",
       "50%     0.190909   0.795859   0.836364   0.816439   0.163636    0.432602\n",
       "75%     0.201818   0.817684   0.854545   0.825189   0.200000    0.463806\n",
       "max     0.236364   0.853089   0.927273   0.844778   0.272727    0.544176"
      ]
     },
     "execution_count": 17,
     "metadata": {},
     "output_type": "execute_result"
    }
   ],
   "source": [
    "rfstats(goodphon,'Niger-Congo').describe()"
   ]
  }
 ],
 "metadata": {
  "kernelspec": {
   "display_name": "Python 3",
   "language": "python",
   "name": "python3"
  },
  "language_info": {
   "codemirror_mode": {
    "name": "ipython",
    "version": 3
   },
   "file_extension": ".py",
   "mimetype": "text/x-python",
   "name": "python",
   "nbconvert_exporter": "python",
   "pygments_lexer": "ipython3",
   "version": "3.5.2"
  }
 },
 "nbformat": 4,
 "nbformat_minor": 1
}
