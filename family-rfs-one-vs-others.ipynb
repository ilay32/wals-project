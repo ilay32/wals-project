{
 "cells": [
  {
   "cell_type": "markdown",
   "metadata": {},
   "source": [
    "# Random Forests -- One Family vs Others\n",
    "\n",
    " * It is possible to find random forests that classify Niger-Congo or Austronesian with good accuracy (f-measure 0.8 \\-- 0.9) \\-- Out[4], Out[16]\n",
    " \n",
    "\n",
    " * If no restriction is imposed on the WALS area, we get mostly word order featues.\n",
    " \n",
    "\n",
    " * Taking only phonology featues, we can find some good random forests too \\-- Out[22]\n",
    " \n",
    "\n",
    " * Looking at all the possible groups (not just those with good silhouttes) we can see that clustring is correlated with the RF accuracy \\-- In [12]\n",
    " \n",
    " \n",
    " * As for the important featues, at least in the sampled groups, it seems that they are different for Niger-Congo and Austronesian \\-- In[9], In[21]"
   ]
  },
  {
   "cell_type": "code",
   "execution_count": 1,
   "metadata": {
    "collapsed": true
   },
   "outputs": [],
   "source": [
    "from locator import *\n",
    "import seaborn as sns\n",
    "%matplotlib inline"
   ]
  },
  {
   "cell_type": "code",
   "execution_count": 2,
   "metadata": {
    "collapsed": false
   },
   "outputs": [],
   "source": [
    "nig04 = pd.read_pickle('feature-sets/800-Niger-80-04.pkl')\n",
    "nigrnd = pd.read_pickle('feature-sets/800-Niger-80-rnd.pkl')\n",
    "\n",
    "nig04 = [ColGroup(g) for g in nig04]\n",
    "nigrnd = [ColGroup(g) for g in nigrnd]"
   ]
  },
  {
   "cell_type": "code",
   "execution_count": 15,
   "metadata": {
    "collapsed": false
   },
   "outputs": [],
   "source": [
    "def rfstats(column_groups,family):\n",
    "    #groups = [ColGroup(g) for g in column_groups]\n",
    "    stats = pd.DataFrame(index=range(len(column_groups)), \\\n",
    "        columns=['oob','precision','recall','f-measure','rerror','silhouette'])\n",
    "    key = 'family: '+family+' vs others'\n",
    "    for i,g in enumerate(column_groups):\n",
    "        g.gen_separation(family=family)\n",
    "        g.random_forests(supp='family',suppv=family)\n",
    "        stats.iloc[i][g.rfs_data[key].columns] = g.rfs_data[key].mean()\n",
    "        stats.iloc[i]['silhouette'] = g.best_silhouette(family)[0]\n",
    "    return stats.astype(float)"
   ]
  },
  {
   "cell_type": "markdown",
   "metadata": {},
   "source": [
    "## Good Silhouettes:\n",
    "### Criteria:\n",
    "    \n",
    "  1. No area restriction\n",
    "  \n",
    "  2. At least 80 Niger-Congo\n",
    "  \n",
    "  3. At least 800 total\n",
    "  \n",
    "  4. At least 0.4 Silhoutte of Niger-Congo vs. Others\n",
    "  \n",
    "  \n",
    "### General Statistics:"
   ]
  },
  {
   "cell_type": "code",
   "execution_count": 4,
   "metadata": {
    "collapsed": false
   },
   "outputs": [
    {
     "data": {
      "text/html": [
       "<div>\n",
       "<style>\n",
       "    .dataframe thead tr:only-child th {\n",
       "        text-align: right;\n",
       "    }\n",
       "\n",
       "    .dataframe thead th {\n",
       "        text-align: left;\n",
       "    }\n",
       "\n",
       "    .dataframe tbody tr th {\n",
       "        vertical-align: top;\n",
       "    }\n",
       "</style>\n",
       "<table border=\"1\" class=\"dataframe\">\n",
       "  <thead>\n",
       "    <tr style=\"text-align: right;\">\n",
       "      <th></th>\n",
       "      <th>oob</th>\n",
       "      <th>precision</th>\n",
       "      <th>recall</th>\n",
       "      <th>f-measure</th>\n",
       "      <th>rerror</th>\n",
       "      <th>silhouette</th>\n",
       "    </tr>\n",
       "  </thead>\n",
       "  <tbody>\n",
       "    <tr>\n",
       "      <th>count</th>\n",
       "      <td>74.000000</td>\n",
       "      <td>74.000000</td>\n",
       "      <td>74.000000</td>\n",
       "      <td>74.000000</td>\n",
       "      <td>74.000000</td>\n",
       "      <td>74.000000</td>\n",
       "    </tr>\n",
       "    <tr>\n",
       "      <th>mean</th>\n",
       "      <td>0.155744</td>\n",
       "      <td>0.807964</td>\n",
       "      <td>0.905588</td>\n",
       "      <td>0.853223</td>\n",
       "      <td>0.094412</td>\n",
       "      <td>0.418840</td>\n",
       "    </tr>\n",
       "    <tr>\n",
       "      <th>std</th>\n",
       "      <td>0.025597</td>\n",
       "      <td>0.025864</td>\n",
       "      <td>0.037763</td>\n",
       "      <td>0.025218</td>\n",
       "      <td>0.037763</td>\n",
       "      <td>0.020894</td>\n",
       "    </tr>\n",
       "    <tr>\n",
       "      <th>min</th>\n",
       "      <td>0.119091</td>\n",
       "      <td>0.717984</td>\n",
       "      <td>0.768539</td>\n",
       "      <td>0.784218</td>\n",
       "      <td>0.058929</td>\n",
       "      <td>0.400126</td>\n",
       "    </tr>\n",
       "    <tr>\n",
       "      <th>25%</th>\n",
       "      <td>0.138345</td>\n",
       "      <td>0.787614</td>\n",
       "      <td>0.896515</td>\n",
       "      <td>0.840642</td>\n",
       "      <td>0.072114</td>\n",
       "      <td>0.404976</td>\n",
       "    </tr>\n",
       "    <tr>\n",
       "      <th>50%</th>\n",
       "      <td>0.150455</td>\n",
       "      <td>0.810923</td>\n",
       "      <td>0.918799</td>\n",
       "      <td>0.858750</td>\n",
       "      <td>0.081201</td>\n",
       "      <td>0.411001</td>\n",
       "    </tr>\n",
       "    <tr>\n",
       "      <th>75%</th>\n",
       "      <td>0.170767</td>\n",
       "      <td>0.826500</td>\n",
       "      <td>0.927886</td>\n",
       "      <td>0.870129</td>\n",
       "      <td>0.103485</td>\n",
       "      <td>0.426984</td>\n",
       "    </tr>\n",
       "    <tr>\n",
       "      <th>max</th>\n",
       "      <td>0.222314</td>\n",
       "      <td>0.859636</td>\n",
       "      <td>0.941071</td>\n",
       "      <td>0.887357</td>\n",
       "      <td>0.231461</td>\n",
       "      <td>0.509783</td>\n",
       "    </tr>\n",
       "  </tbody>\n",
       "</table>\n",
       "</div>"
      ],
      "text/plain": [
       "             oob  precision     recall  f-measure     rerror  silhouette\n",
       "count  74.000000  74.000000  74.000000  74.000000  74.000000   74.000000\n",
       "mean    0.155744   0.807964   0.905588   0.853223   0.094412    0.418840\n",
       "std     0.025597   0.025864   0.037763   0.025218   0.037763    0.020894\n",
       "min     0.119091   0.717984   0.768539   0.784218   0.058929    0.400126\n",
       "25%     0.138345   0.787614   0.896515   0.840642   0.072114    0.404976\n",
       "50%     0.150455   0.810923   0.918799   0.858750   0.081201    0.411001\n",
       "75%     0.170767   0.826500   0.927886   0.870129   0.103485    0.426984\n",
       "max     0.222314   0.859636   0.941071   0.887357   0.231461    0.509783"
      ]
     },
     "execution_count": 4,
     "metadata": {},
     "output_type": "execute_result"
    }
   ],
   "source": [
    "stats = rfstats(nig04,\"Niger-Congo\")\n",
    "stats.describe()"
   ]
  },
  {
   "cell_type": "markdown",
   "metadata": {},
   "source": [
    "## Relation to Silhouette"
   ]
  },
  {
   "cell_type": "code",
   "execution_count": 5,
   "metadata": {
    "collapsed": false
   },
   "outputs": [
    {
     "data": {
      "image/png": "[encoded data removed]",
      "text/plain": [
       "<matplotlib.figure.Figure at 0x7fc18d6fc940>"
      ]
     },
     "metadata": {},
     "output_type": "display_data"
    }
   ],
   "source": [
    "fig,ax  = plt.subplots(figsize=(10,6))\n",
    "sns.regplot(x=\"silhouette\", y=\"f-measure\", data=stats, ax=ax);"
   ]
  },
  {
   "cell_type": "markdown",
   "metadata": {},
   "source": [
    "There is no correlation, but it isn't surprising since these are only good silhouttes. See a better test below."
   ]
  },
  {
   "cell_type": "code",
   "execution_count": 6,
   "metadata": {
    "collapsed": false
   },
   "outputs": [
    {
     "data": {
      "text/html": [
       "<div>\n",
       "<style>\n",
       "    .dataframe thead tr:only-child th {\n",
       "        text-align: right;\n",
       "    }\n",
       "\n",
       "    .dataframe thead th {\n",
       "        text-align: left;\n",
       "    }\n",
       "\n",
       "    .dataframe tbody tr th {\n",
       "        vertical-align: top;\n",
       "    }\n",
       "</style>\n",
       "<table border=\"1\" class=\"dataframe\">\n",
       "  <thead>\n",
       "    <tr style=\"text-align: right;\">\n",
       "      <th></th>\n",
       "      <th>oob</th>\n",
       "      <th>precision</th>\n",
       "      <th>recall</th>\n",
       "      <th>f-measure</th>\n",
       "      <th>rerror</th>\n",
       "      <th>silhouette</th>\n",
       "    </tr>\n",
       "  </thead>\n",
       "  <tbody>\n",
       "    <tr>\n",
       "      <th>oob</th>\n",
       "      <td>1.000000</td>\n",
       "      <td>-0.849503</td>\n",
       "      <td>-0.705376</td>\n",
       "      <td>-0.983323</td>\n",
       "      <td>0.705376</td>\n",
       "      <td>-0.019493</td>\n",
       "    </tr>\n",
       "    <tr>\n",
       "      <th>precision</th>\n",
       "      <td>-0.849503</td>\n",
       "      <td>1.000000</td>\n",
       "      <td>0.228340</td>\n",
       "      <td>0.742700</td>\n",
       "      <td>-0.228340</td>\n",
       "      <td>0.054605</td>\n",
       "    </tr>\n",
       "    <tr>\n",
       "      <th>recall</th>\n",
       "      <td>-0.705376</td>\n",
       "      <td>0.228340</td>\n",
       "      <td>1.000000</td>\n",
       "      <td>0.820918</td>\n",
       "      <td>-1.000000</td>\n",
       "      <td>-0.018546</td>\n",
       "    </tr>\n",
       "    <tr>\n",
       "      <th>f-measure</th>\n",
       "      <td>-0.983323</td>\n",
       "      <td>0.742700</td>\n",
       "      <td>0.820918</td>\n",
       "      <td>1.000000</td>\n",
       "      <td>-0.820918</td>\n",
       "      <td>0.016310</td>\n",
       "    </tr>\n",
       "    <tr>\n",
       "      <th>rerror</th>\n",
       "      <td>0.705376</td>\n",
       "      <td>-0.228340</td>\n",
       "      <td>-1.000000</td>\n",
       "      <td>-0.820918</td>\n",
       "      <td>1.000000</td>\n",
       "      <td>0.018546</td>\n",
       "    </tr>\n",
       "    <tr>\n",
       "      <th>silhouette</th>\n",
       "      <td>-0.019493</td>\n",
       "      <td>0.054605</td>\n",
       "      <td>-0.018546</td>\n",
       "      <td>0.016310</td>\n",
       "      <td>0.018546</td>\n",
       "      <td>1.000000</td>\n",
       "    </tr>\n",
       "  </tbody>\n",
       "</table>\n",
       "</div>"
      ],
      "text/plain": [
       "                 oob  precision    recall  f-measure    rerror  silhouette\n",
       "oob         1.000000  -0.849503 -0.705376  -0.983323  0.705376   -0.019493\n",
       "precision  -0.849503   1.000000  0.228340   0.742700 -0.228340    0.054605\n",
       "recall     -0.705376   0.228340  1.000000   0.820918 -1.000000   -0.018546\n",
       "f-measure  -0.983323   0.742700  0.820918   1.000000 -0.820918    0.016310\n",
       "rerror      0.705376  -0.228340 -1.000000  -0.820918  1.000000    0.018546\n",
       "silhouette -0.019493   0.054605 -0.018546   0.016310  0.018546    1.000000"
      ]
     },
     "execution_count": 6,
     "metadata": {},
     "output_type": "execute_result"
    }
   ],
   "source": [
    "stats.corr()"
   ]
  },
  {
   "cell_type": "code",
   "execution_count": 7,
   "metadata": {
    "collapsed": false
   },
   "outputs": [],
   "source": [
    "nig04.sort(key=lambda g : g.family_rfs_data['Niger-Congo']['oob'].mean())"
   ]
  },
  {
   "cell_type": "markdown",
   "metadata": {},
   "source": [
    "### Details of the Best Three Feature Groups\n",
    "best by out of bag cross validationm, it's almost the same as f-measure (see the correlations table above)"
   ]
  },
  {
   "cell_type": "code",
   "execution_count": 9,
   "metadata": {
    "collapsed": false
   },
   "outputs": [
    {
     "name": "stdout",
     "output_type": "stream",
     "text": [
      "4 long group covering 869 languages\n",
      "in mode PCA:\n",
      "quality index: 8.12\n",
      "PC1: 25%\n",
      "PC2: 21%\n",
      "fields: 'word_order': 4\n",
      "features:\n",
      "143A Order of Negative Morpheme and Verb\n",
      "\r",
      "81A Order of Subject, Object and Verb\n",
      "\r",
      "89A Order of Numeral and Noun\n",
      "\r",
      "97A Relationship between the Order of Object and Verb and the Order of Adjective and Noun\n",
      "family1: 131 (Austronesian)\n",
      "family2: 110 (Niger-Congo)\n",
      "silhouettes:\n",
      "\r",
      "Niger-Congo: 0.51 (1 PCs)\n",
      "\r",
      "Niger-Congo vs others: oob: 0.119 f-measure: 0.884 (5 samples)\n",
      "\n",
      "feature importances\n",
      "       Niger-Congo     other  MeanDecreaseAccuracy  MeanDecreaseGini\n",
      "X143A     0.020947  0.020887              0.020772         15.264760\n",
      "X81A      0.203496  0.112020              0.156075         31.298250\n",
      "X89A      0.174185  0.084053              0.128274         20.954456\n",
      "X97A      0.068349  0.015999              0.041609         13.399317\n",
      "---\n",
      "\n",
      "\n",
      "3 long group covering 911 languages\n",
      "in mode PCA:\n",
      "quality index: 7.42\n",
      "PC1: 44%\n",
      "PC2: 21%\n",
      "fields: 'word_order': 3\n",
      "features:\n",
      "81A Order of Subject, Object and Verb\n",
      "\r",
      "88A Order of Demonstrative and Noun\n",
      "\r",
      "89A Order of Numeral and Noun\n",
      "family1: 138 (Austronesian)\n",
      "family2: 119 (Niger-Congo)\n",
      "silhouettes:\n",
      "\r",
      "Niger-Congo: 0.43 (1 PCs)\n",
      "\r",
      "Niger-Congo vs others: oob: 0.119 f-measure: 0.887 (5 samples)\n",
      "\n",
      "feature importances\n",
      "      Niger-Congo     other  MeanDecreaseAccuracy  MeanDecreaseGini\n",
      "X81A     0.188700  0.132419              0.159642         29.664331\n",
      "X88A     0.051821  0.023624              0.037715         12.840510\n",
      "X89A     0.153929  0.083272              0.117757         18.488076\n",
      "---\n",
      "\n",
      "\n",
      "4 long group covering 834 languages\n",
      "in mode PCA:\n",
      "quality index: 9.47\n",
      "PC1: 50%\n",
      "PC2: 21%\n",
      "fields: 'word_order': 4\n",
      "features:\n",
      "81A Order of Subject, Object and Verb\n",
      "\r",
      "83A Order of Object and Verb\n",
      "\r",
      "85A Order of Adposition and Noun Phrase\n",
      "\r",
      "89A Order of Numeral and Noun\n",
      "family1: 131 (Austronesian)\n",
      "family2: 98 (Niger-Congo)\n",
      "silhouettes:\n",
      "\r",
      "Niger-Congo: 0.40 (2 PCs)\n",
      "\r",
      "Niger-Congo vs others: oob: 0.119 f-measure: 0.885 (5 samples)\n",
      "\n",
      "feature importances\n",
      "      Niger-Congo     other  MeanDecreaseAccuracy  MeanDecreaseGini\n",
      "X81A     0.229482  0.140925              0.183600         31.178960\n",
      "X83A     0.078337  0.036281              0.057079         11.250220\n",
      "X85A    -0.005135  0.014477              0.004828          3.333606\n",
      "X89A     0.164373  0.080583              0.121381         15.261480\n",
      "---\n",
      "\n",
      "\n"
     ]
    }
   ],
   "source": [
    "for g in nig04[:3]:\n",
    "    print(g)\n",
    "    print('feature importances')\n",
    "    print(g.get_rforest_data('importance'))\n",
    "    print(\"---\\n\\n\")"
   ]
  },
  {
   "cell_type": "markdown",
   "metadata": {},
   "source": [
    "### Niger-Congo Important features\n",
    "It seems then that at least in these three groups, the important features are 81A and 89A."
   ]
  },
  {
   "cell_type": "markdown",
   "metadata": {
    "collapsed": true
   },
   "source": [
    "## Relation to Silhouette in General\n",
    "### Criteria:\n",
    "    \n",
    "  1. No area restriction\n",
    "  \n",
    "  2. At least 80 Niger-Congo\n",
    "  \n",
    "  3. At least 800 total\n",
    "\n",
    "### Groups: a random sample of 1000 groups of meeting these criteria\n",
    "  "
   ]
  },
  {
   "cell_type": "code",
   "execution_count": 22,
   "metadata": {
    "collapsed": false
   },
   "outputs": [
    {
     "data": {
      "text/html": [
       "<div>\n",
       "<style>\n",
       "    .dataframe thead tr:only-child th {\n",
       "        text-align: right;\n",
       "    }\n",
       "\n",
       "    .dataframe thead th {\n",
       "        text-align: left;\n",
       "    }\n",
       "\n",
       "    .dataframe tbody tr th {\n",
       "        vertical-align: top;\n",
       "    }\n",
       "</style>\n",
       "<table border=\"1\" class=\"dataframe\">\n",
       "  <thead>\n",
       "    <tr style=\"text-align: right;\">\n",
       "      <th></th>\n",
       "      <th>oob</th>\n",
       "      <th>precision</th>\n",
       "      <th>recall</th>\n",
       "      <th>f-measure</th>\n",
       "      <th>rerror</th>\n",
       "      <th>silhouette</th>\n",
       "    </tr>\n",
       "  </thead>\n",
       "  <tbody>\n",
       "    <tr>\n",
       "      <th>count</th>\n",
       "      <td>1000.000000</td>\n",
       "      <td>1000.000000</td>\n",
       "      <td>1000.000000</td>\n",
       "      <td>1000.000000</td>\n",
       "      <td>1000.000000</td>\n",
       "      <td>1000.000000</td>\n",
       "    </tr>\n",
       "    <tr>\n",
       "      <th>mean</th>\n",
       "      <td>0.189828</td>\n",
       "      <td>0.788512</td>\n",
       "      <td>0.851713</td>\n",
       "      <td>0.817023</td>\n",
       "      <td>0.148287</td>\n",
       "      <td>0.238969</td>\n",
       "    </tr>\n",
       "    <tr>\n",
       "      <th>std</th>\n",
       "      <td>0.036014</td>\n",
       "      <td>0.034780</td>\n",
       "      <td>0.063378</td>\n",
       "      <td>0.037685</td>\n",
       "      <td>0.063378</td>\n",
       "      <td>0.068204</td>\n",
       "    </tr>\n",
       "    <tr>\n",
       "      <th>min</th>\n",
       "      <td>0.108943</td>\n",
       "      <td>0.614439</td>\n",
       "      <td>0.645545</td>\n",
       "      <td>0.662899</td>\n",
       "      <td>0.034940</td>\n",
       "      <td>0.065045</td>\n",
       "    </tr>\n",
       "    <tr>\n",
       "      <th>25%</th>\n",
       "      <td>0.166667</td>\n",
       "      <td>0.774269</td>\n",
       "      <td>0.814702</td>\n",
       "      <td>0.796765</td>\n",
       "      <td>0.096412</td>\n",
       "      <td>0.194786</td>\n",
       "    </tr>\n",
       "    <tr>\n",
       "      <th>50%</th>\n",
       "      <td>0.185502</td>\n",
       "      <td>0.792775</td>\n",
       "      <td>0.862436</td>\n",
       "      <td>0.823209</td>\n",
       "      <td>0.137564</td>\n",
       "      <td>0.250002</td>\n",
       "    </tr>\n",
       "    <tr>\n",
       "      <th>75%</th>\n",
       "      <td>0.207646</td>\n",
       "      <td>0.811182</td>\n",
       "      <td>0.903588</td>\n",
       "      <td>0.843551</td>\n",
       "      <td>0.185298</td>\n",
       "      <td>0.284846</td>\n",
       "    </tr>\n",
       "    <tr>\n",
       "      <th>max</th>\n",
       "      <td>0.367901</td>\n",
       "      <td>0.862069</td>\n",
       "      <td>0.965060</td>\n",
       "      <td>0.896297</td>\n",
       "      <td>0.354455</td>\n",
       "      <td>0.436989</td>\n",
       "    </tr>\n",
       "  </tbody>\n",
       "</table>\n",
       "</div>"
      ],
      "text/plain": [
       "               oob    precision       recall    f-measure       rerror  \\\n",
       "count  1000.000000  1000.000000  1000.000000  1000.000000  1000.000000   \n",
       "mean      0.189828     0.788512     0.851713     0.817023     0.148287   \n",
       "std       0.036014     0.034780     0.063378     0.037685     0.063378   \n",
       "min       0.108943     0.614439     0.645545     0.662899     0.034940   \n",
       "25%       0.166667     0.774269     0.814702     0.796765     0.096412   \n",
       "50%       0.185502     0.792775     0.862436     0.823209     0.137564   \n",
       "75%       0.207646     0.811182     0.903588     0.843551     0.185298   \n",
       "max       0.367901     0.862069     0.965060     0.896297     0.354455   \n",
       "\n",
       "        silhouette  \n",
       "count  1000.000000  \n",
       "mean      0.238969  \n",
       "std       0.068204  \n",
       "min       0.065045  \n",
       "25%       0.194786  \n",
       "50%       0.250002  \n",
       "75%       0.284846  \n",
       "max       0.436989  "
      ]
     },
     "execution_count": 22,
     "metadata": {},
     "output_type": "execute_result"
    }
   ],
   "source": [
    "rndstats = pd.read_pickle('tmp1000rndnigstats.pkl')\n",
    "#rndstats = rfstats(nigrnd,\"Niger-Congo\")\n",
    "rndstats.describe()"
   ]
  },
  {
   "cell_type": "code",
   "execution_count": 11,
   "metadata": {
    "collapsed": true
   },
   "outputs": [],
   "source": [
    "#with open('tmp1000rndnigstats.pkl','wb') as f:\n",
    "#    pickle.dump(rndstats,f)"
   ]
  },
  {
   "cell_type": "code",
   "execution_count": 12,
   "metadata": {
    "collapsed": false
   },
   "outputs": [
    {
     "data": {
      "image/png": "[encoded data removed]",
      "text/plain": [
       "<matplotlib.figure.Figure at 0x7fc18d783a90>"
      ]
     },
     "metadata": {},
     "output_type": "display_data"
    }
   ],
   "source": [
    "fig,ax  = plt.subplots(figsize=(10,6))\n",
    "sns.regplot(x=\"silhouette\", y=\"f-measure\", data=rndstats, ax=ax);"
   ]
  },
  {
   "cell_type": "code",
   "execution_count": 13,
   "metadata": {
    "collapsed": false
   },
   "outputs": [
    {
     "data": {
      "text/html": [
       "<div>\n",
       "<style>\n",
       "    .dataframe thead tr:only-child th {\n",
       "        text-align: right;\n",
       "    }\n",
       "\n",
       "    .dataframe thead th {\n",
       "        text-align: left;\n",
       "    }\n",
       "\n",
       "    .dataframe tbody tr th {\n",
       "        vertical-align: top;\n",
       "    }\n",
       "</style>\n",
       "<table border=\"1\" class=\"dataframe\">\n",
       "  <thead>\n",
       "    <tr style=\"text-align: right;\">\n",
       "      <th></th>\n",
       "      <th>oob</th>\n",
       "      <th>precision</th>\n",
       "      <th>recall</th>\n",
       "      <th>f-measure</th>\n",
       "      <th>rerror</th>\n",
       "      <th>silhouette</th>\n",
       "    </tr>\n",
       "  </thead>\n",
       "  <tbody>\n",
       "    <tr>\n",
       "      <th>oob</th>\n",
       "      <td>1.000000</td>\n",
       "      <td>-0.772618</td>\n",
       "      <td>-0.716462</td>\n",
       "      <td>-0.970897</td>\n",
       "      <td>0.716462</td>\n",
       "      <td>-0.467987</td>\n",
       "    </tr>\n",
       "    <tr>\n",
       "      <th>precision</th>\n",
       "      <td>-0.772618</td>\n",
       "      <td>1.000000</td>\n",
       "      <td>0.116933</td>\n",
       "      <td>0.603923</td>\n",
       "      <td>-0.116933</td>\n",
       "      <td>0.179215</td>\n",
       "    </tr>\n",
       "    <tr>\n",
       "      <th>recall</th>\n",
       "      <td>-0.716462</td>\n",
       "      <td>0.116933</td>\n",
       "      <td>1.000000</td>\n",
       "      <td>0.860160</td>\n",
       "      <td>-1.000000</td>\n",
       "      <td>0.553232</td>\n",
       "    </tr>\n",
       "    <tr>\n",
       "      <th>f-measure</th>\n",
       "      <td>-0.970897</td>\n",
       "      <td>0.603923</td>\n",
       "      <td>0.860160</td>\n",
       "      <td>1.000000</td>\n",
       "      <td>-0.860160</td>\n",
       "      <td>0.528154</td>\n",
       "    </tr>\n",
       "    <tr>\n",
       "      <th>rerror</th>\n",
       "      <td>0.716462</td>\n",
       "      <td>-0.116933</td>\n",
       "      <td>-1.000000</td>\n",
       "      <td>-0.860160</td>\n",
       "      <td>1.000000</td>\n",
       "      <td>-0.553232</td>\n",
       "    </tr>\n",
       "    <tr>\n",
       "      <th>silhouette</th>\n",
       "      <td>-0.467987</td>\n",
       "      <td>0.179215</td>\n",
       "      <td>0.553232</td>\n",
       "      <td>0.528154</td>\n",
       "      <td>-0.553232</td>\n",
       "      <td>1.000000</td>\n",
       "    </tr>\n",
       "  </tbody>\n",
       "</table>\n",
       "</div>"
      ],
      "text/plain": [
       "                 oob  precision    recall  f-measure    rerror  silhouette\n",
       "oob         1.000000  -0.772618 -0.716462  -0.970897  0.716462   -0.467987\n",
       "precision  -0.772618   1.000000  0.116933   0.603923 -0.116933    0.179215\n",
       "recall     -0.716462   0.116933  1.000000   0.860160 -1.000000    0.553232\n",
       "f-measure  -0.970897   0.603923  0.860160   1.000000 -0.860160    0.528154\n",
       "rerror      0.716462  -0.116933 -1.000000  -0.860160  1.000000   -0.553232\n",
       "silhouette -0.467987   0.179215  0.553232   0.528154 -0.553232    1.000000"
      ]
     },
     "execution_count": 13,
     "metadata": {},
     "output_type": "execute_result"
    }
   ],
   "source": [
    "rndstats.corr()"
   ]
  },
  {
   "cell_type": "markdown",
   "metadata": {},
   "source": [
    "So good random forest classification is positively correlated with silhouette.\n",
    "\n",
    "\n",
    "## Could The Good Forests Be Obtained On a Bogus Family?\n",
    "\n",
    "**select a random list of languages as a bogus family**: "
   ]
  },
  {
   "cell_type": "code",
   "execution_count": 17,
   "metadata": {
    "collapsed": true
   },
   "outputs": [],
   "source": [
    "loi = list(wals['Name'].sample(len(wals[wals['family']=='Niger-Congo'])))"
   ]
  },
  {
   "cell_type": "markdown",
   "metadata": {},
   "source": [
    "**set this family in the wals table as if real**:"
   ]
  },
  {
   "cell_type": "code",
   "execution_count": 9,
   "metadata": {
    "collapsed": false
   },
   "outputs": [],
   "source": [
    "wals['family'] = wals.apply(lambda r: 'Bogus' if r['Name'] in loi else r[\"Name\"],axis=1) "
   ]
  },
  {
   "cell_type": "markdown",
   "metadata": {},
   "source": [
    "** run the exact same method on \"Bogus\" **:"
   ]
  },
  {
   "cell_type": "code",
   "execution_count": 16,
   "metadata": {
    "collapsed": false
   },
   "outputs": [],
   "source": [
    "bogus_rndstats = rfstats(nigrnd,\"Bogus\")"
   ]
  },
  {
   "cell_type": "code",
   "execution_count": 18,
   "metadata": {
    "collapsed": false
   },
   "outputs": [
    {
     "data": {
      "text/html": [
       "<div>\n",
       "<style>\n",
       "    .dataframe thead tr:only-child th {\n",
       "        text-align: right;\n",
       "    }\n",
       "\n",
       "    .dataframe thead th {\n",
       "        text-align: left;\n",
       "    }\n",
       "\n",
       "    .dataframe tbody tr th {\n",
       "        vertical-align: top;\n",
       "    }\n",
       "</style>\n",
       "<table border=\"1\" class=\"dataframe\">\n",
       "  <thead>\n",
       "    <tr style=\"text-align: right;\">\n",
       "      <th></th>\n",
       "      <th>oob</th>\n",
       "      <th>precision</th>\n",
       "      <th>recall</th>\n",
       "      <th>f-measure</th>\n",
       "      <th>rerror</th>\n",
       "      <th>silhouette</th>\n",
       "    </tr>\n",
       "  </thead>\n",
       "  <tbody>\n",
       "    <tr>\n",
       "      <th>count</th>\n",
       "      <td>1000.000000</td>\n",
       "      <td>1000.000000</td>\n",
       "      <td>1000.000000</td>\n",
       "      <td>1000.000000</td>\n",
       "      <td>1000.000000</td>\n",
       "      <td>1000.000000</td>\n",
       "    </tr>\n",
       "    <tr>\n",
       "      <th>mean</th>\n",
       "      <td>0.509484</td>\n",
       "      <td>0.490743</td>\n",
       "      <td>0.487871</td>\n",
       "      <td>0.487209</td>\n",
       "      <td>0.512129</td>\n",
       "      <td>0.001058</td>\n",
       "    </tr>\n",
       "    <tr>\n",
       "      <th>std</th>\n",
       "      <td>0.028521</td>\n",
       "      <td>0.029236</td>\n",
       "      <td>0.046810</td>\n",
       "      <td>0.033530</td>\n",
       "      <td>0.046810</td>\n",
       "      <td>0.005637</td>\n",
       "    </tr>\n",
       "    <tr>\n",
       "      <th>min</th>\n",
       "      <td>0.419835</td>\n",
       "      <td>0.331313</td>\n",
       "      <td>0.290741</td>\n",
       "      <td>0.307777</td>\n",
       "      <td>0.343548</td>\n",
       "      <td>-0.006665</td>\n",
       "    </tr>\n",
       "    <tr>\n",
       "      <th>25%</th>\n",
       "      <td>0.488774</td>\n",
       "      <td>0.470882</td>\n",
       "      <td>0.457549</td>\n",
       "      <td>0.465876</td>\n",
       "      <td>0.484415</td>\n",
       "      <td>-0.002649</td>\n",
       "    </tr>\n",
       "    <tr>\n",
       "      <th>50%</th>\n",
       "      <td>0.508585</td>\n",
       "      <td>0.491134</td>\n",
       "      <td>0.485958</td>\n",
       "      <td>0.487804</td>\n",
       "      <td>0.514042</td>\n",
       "      <td>-0.000364</td>\n",
       "    </tr>\n",
       "    <tr>\n",
       "      <th>75%</th>\n",
       "      <td>0.528853</td>\n",
       "      <td>0.511900</td>\n",
       "      <td>0.515585</td>\n",
       "      <td>0.508704</td>\n",
       "      <td>0.542451</td>\n",
       "      <td>0.003214</td>\n",
       "    </tr>\n",
       "    <tr>\n",
       "      <th>max</th>\n",
       "      <td>0.630556</td>\n",
       "      <td>0.583162</td>\n",
       "      <td>0.656452</td>\n",
       "      <td>0.580906</td>\n",
       "      <td>0.709259</td>\n",
       "      <td>0.033175</td>\n",
       "    </tr>\n",
       "  </tbody>\n",
       "</table>\n",
       "</div>"
      ],
      "text/plain": [
       "               oob    precision       recall    f-measure       rerror  \\\n",
       "count  1000.000000  1000.000000  1000.000000  1000.000000  1000.000000   \n",
       "mean      0.509484     0.490743     0.487871     0.487209     0.512129   \n",
       "std       0.028521     0.029236     0.046810     0.033530     0.046810   \n",
       "min       0.419835     0.331313     0.290741     0.307777     0.343548   \n",
       "25%       0.488774     0.470882     0.457549     0.465876     0.484415   \n",
       "50%       0.508585     0.491134     0.485958     0.487804     0.514042   \n",
       "75%       0.528853     0.511900     0.515585     0.508704     0.542451   \n",
       "max       0.630556     0.583162     0.656452     0.580906     0.709259   \n",
       "\n",
       "        silhouette  \n",
       "count  1000.000000  \n",
       "mean      0.001058  \n",
       "std       0.005637  \n",
       "min      -0.006665  \n",
       "25%      -0.002649  \n",
       "50%      -0.000364  \n",
       "75%       0.003214  \n",
       "max       0.033175  "
      ]
     },
     "execution_count": 18,
     "metadata": {},
     "output_type": "execute_result"
    }
   ],
   "source": [
    "bogus_rndstats.describe()"
   ]
  },
  {
   "cell_type": "markdown",
   "metadata": {},
   "source": [
    "So, Over the same set of 1000 feature groups selected at random from some 15000 groups that have at least 80 Niger-Congo languages, we can't find a random forest that classifies \"Bogus\" with a better f-measure than 0.58, and the average f-measure is 0.48 for Bogus vs. 0.81 for Niger-Congo. \n",
    "\n",
    "True, these groups are not based on a scan that requires a minimum of 80 Bogus, but I don't think it matters much.\n",
    "\n",
    "In[28] shows the count statistics for Bogus over the tested set of 1000 feature groups\n",
    "\n",
    "### Significance:"
   ]
  },
  {
   "cell_type": "code",
   "execution_count": 24,
   "metadata": {
    "collapsed": false
   },
   "outputs": [
    {
     "data": {
      "text/plain": [
       "Ttest_indResult(statistic=206.76172632656977, pvalue=0.0)"
      ]
     },
     "execution_count": 24,
     "metadata": {},
     "output_type": "execute_result"
    }
   ],
   "source": [
    "from scipy.stats import ttest_ind\n",
    "ttest_ind(rndstats['f-measure'],bogus_rndstats['f-measure'])"
   ]
  },
  {
   "cell_type": "code",
   "execution_count": 28,
   "metadata": {
    "collapsed": false
   },
   "outputs": [
    {
     "data": {
      "text/plain": [
       "count    1000.000000\n",
       "mean      120.117000\n",
       "std         9.561733\n",
       "min       107.000000\n",
       "25%       114.000000\n",
       "50%       118.000000\n",
       "75%       125.000000\n",
       "max       165.000000\n",
       "dtype: float64"
      ]
     },
     "execution_count": 28,
     "metadata": {},
     "output_type": "execute_result"
    }
   ],
   "source": [
    "bog = list()\n",
    "for g in nigrnd:\n",
    "    d = g.get_table()\n",
    "    bog.append(len(d[d['family'] == 'Bogus']))\n",
    "bog = pd.Series(bog)\n",
    "bog.describe()"
   ]
  },
  {
   "cell_type": "markdown",
   "metadata": {},
   "source": [
    "## Austronesian"
   ]
  },
  {
   "cell_type": "code",
   "execution_count": 14,
   "metadata": {
    "collapsed": true
   },
   "outputs": [],
   "source": [
    "rndstats_aus = rfstats(nigrnd,\"Austronesian\")"
   ]
  },
  {
   "cell_type": "code",
   "execution_count": 15,
   "metadata": {
    "collapsed": true
   },
   "outputs": [],
   "source": [
    "with open('tmp1000rndausstats.pkl','wb') as f:\n",
    "    pickle.dump(rndstats_aus,f)"
   ]
  },
  {
   "cell_type": "code",
   "execution_count": 16,
   "metadata": {
    "collapsed": false
   },
   "outputs": [
    {
     "data": {
      "text/html": [
       "<div>\n",
       "<style>\n",
       "    .dataframe thead tr:only-child th {\n",
       "        text-align: right;\n",
       "    }\n",
       "\n",
       "    .dataframe thead th {\n",
       "        text-align: left;\n",
       "    }\n",
       "\n",
       "    .dataframe tbody tr th {\n",
       "        vertical-align: top;\n",
       "    }\n",
       "</style>\n",
       "<table border=\"1\" class=\"dataframe\">\n",
       "  <thead>\n",
       "    <tr style=\"text-align: right;\">\n",
       "      <th></th>\n",
       "      <th>oob</th>\n",
       "      <th>precision</th>\n",
       "      <th>recall</th>\n",
       "      <th>f-measure</th>\n",
       "      <th>rerror</th>\n",
       "      <th>silhouette</th>\n",
       "    </tr>\n",
       "  </thead>\n",
       "  <tbody>\n",
       "    <tr>\n",
       "      <th>count</th>\n",
       "      <td>1000.000000</td>\n",
       "      <td>1000.000000</td>\n",
       "      <td>1000.000000</td>\n",
       "      <td>1000.000000</td>\n",
       "      <td>1000.000000</td>\n",
       "      <td>1000.000000</td>\n",
       "    </tr>\n",
       "    <tr>\n",
       "      <th>mean</th>\n",
       "      <td>0.245277</td>\n",
       "      <td>0.723893</td>\n",
       "      <td>0.828541</td>\n",
       "      <td>0.771639</td>\n",
       "      <td>0.171459</td>\n",
       "      <td>0.213034</td>\n",
       "    </tr>\n",
       "    <tr>\n",
       "      <th>std</th>\n",
       "      <td>0.025420</td>\n",
       "      <td>0.029391</td>\n",
       "      <td>0.034817</td>\n",
       "      <td>0.023445</td>\n",
       "      <td>0.034817</td>\n",
       "      <td>0.063450</td>\n",
       "    </tr>\n",
       "    <tr>\n",
       "      <th>min</th>\n",
       "      <td>0.163441</td>\n",
       "      <td>0.587312</td>\n",
       "      <td>0.369118</td>\n",
       "      <td>0.479107</td>\n",
       "      <td>0.079687</td>\n",
       "      <td>0.035093</td>\n",
       "    </tr>\n",
       "    <tr>\n",
       "      <th>25%</th>\n",
       "      <td>0.232308</td>\n",
       "      <td>0.707598</td>\n",
       "      <td>0.809160</td>\n",
       "      <td>0.760217</td>\n",
       "      <td>0.148092</td>\n",
       "      <td>0.168672</td>\n",
       "    </tr>\n",
       "    <tr>\n",
       "      <th>50%</th>\n",
       "      <td>0.246002</td>\n",
       "      <td>0.721557</td>\n",
       "      <td>0.830341</td>\n",
       "      <td>0.771967</td>\n",
       "      <td>0.169659</td>\n",
       "      <td>0.220535</td>\n",
       "    </tr>\n",
       "    <tr>\n",
       "      <th>75%</th>\n",
       "      <td>0.258453</td>\n",
       "      <td>0.735956</td>\n",
       "      <td>0.851908</td>\n",
       "      <td>0.784685</td>\n",
       "      <td>0.190840</td>\n",
       "      <td>0.258868</td>\n",
       "    </tr>\n",
       "    <tr>\n",
       "      <th>max</th>\n",
       "      <td>0.400735</td>\n",
       "      <td>0.818225</td>\n",
       "      <td>0.920312</td>\n",
       "      <td>0.841522</td>\n",
       "      <td>0.630882</td>\n",
       "      <td>0.381682</td>\n",
       "    </tr>\n",
       "  </tbody>\n",
       "</table>\n",
       "</div>"
      ],
      "text/plain": [
       "               oob    precision       recall    f-measure       rerror  \\\n",
       "count  1000.000000  1000.000000  1000.000000  1000.000000  1000.000000   \n",
       "mean      0.245277     0.723893     0.828541     0.771639     0.171459   \n",
       "std       0.025420     0.029391     0.034817     0.023445     0.034817   \n",
       "min       0.163441     0.587312     0.369118     0.479107     0.079687   \n",
       "25%       0.232308     0.707598     0.809160     0.760217     0.148092   \n",
       "50%       0.246002     0.721557     0.830341     0.771967     0.169659   \n",
       "75%       0.258453     0.735956     0.851908     0.784685     0.190840   \n",
       "max       0.400735     0.818225     0.920312     0.841522     0.630882   \n",
       "\n",
       "        silhouette  \n",
       "count  1000.000000  \n",
       "mean      0.213034  \n",
       "std       0.063450  \n",
       "min       0.035093  \n",
       "25%       0.168672  \n",
       "50%       0.220535  \n",
       "75%       0.258868  \n",
       "max       0.381682  "
      ]
     },
     "execution_count": 16,
     "metadata": {},
     "output_type": "execute_result"
    }
   ],
   "source": [
    "rndstats_aus.describe()"
   ]
  },
  {
   "cell_type": "code",
   "execution_count": 17,
   "metadata": {
    "collapsed": false
   },
   "outputs": [
    {
     "data": {
      "image/png": "[encoded data removed]",
      "text/plain": [
       "<matplotlib.figure.Figure at 0x7fc186c03668>"
      ]
     },
     "metadata": {},
     "output_type": "display_data"
    }
   ],
   "source": [
    "fig,ax  = plt.subplots(figsize=(10,6))\n",
    "sns.regplot(x=\"silhouette\", y=\"f-measure\", data=rndstats_aus, ax=ax);"
   ]
  },
  {
   "cell_type": "code",
   "execution_count": 21,
   "metadata": {
    "collapsed": false
   },
   "outputs": [
    {
     "name": "stdout",
     "output_type": "stream",
     "text": [
      "5 long group covering 959 languages\n",
      "in mode PCA:\n",
      "quality index: 5.94\n",
      "PC1: 33%\n",
      "PC2: 17%\n",
      "fields: 'word_order': 4, 'verbal_categories': 1\n",
      "features:\n",
      "143E Preverbal Negative Morphemes\n",
      "\r",
      "143G Minor morphological means of signaling negation\n",
      "\r",
      "69A Position of Tense-Aspect Affixes\n",
      "\r",
      "82A Order of Subject and Verb\n",
      "\r",
      "83A Order of Object and Verb\n",
      "family1: 96 (Niger-Congo)\n",
      "family2: 93 (Austronesian)\n",
      "silhouettes:\n",
      "\r",
      "Austronesian: 0.33 (1 PCs)\n",
      "\r",
      "Austronesian vs others: oob: 0.163 f-measure: 0.842 (5 samples)\n",
      "\n",
      "feature importances\n",
      "       Austronesian     other  MeanDecreaseAccuracy  MeanDecreaseGini\n",
      "X143E      0.039503  0.018665              0.028753          6.594521\n",
      "X143G      0.000000  0.000000              0.000000          0.290364\n",
      "X69A       0.239223  0.204391              0.220044         32.528328\n",
      "X82A       0.012100  0.013446              0.012556          3.533550\n",
      "X83A       0.044885  0.034732              0.039572         11.727002\n",
      "---\n",
      "\n",
      "\n",
      "5 long group covering 816 languages\n",
      "in mode PCA:\n",
      "quality index: 8.58\n",
      "PC1: 25%\n",
      "PC2: 17%\n",
      "fields: 'word_order': 3, 'verbal_categories': 1, 'simple_clauses': 1\n",
      "features:\n",
      "112A Negative Morphemes\n",
      "\r",
      "143A Order of Negative Morpheme and Verb\n",
      "\r",
      "143F Postverbal Negative Morphemes\n",
      "\r",
      "69A Position of Tense-Aspect Affixes\n",
      "\r",
      "87A Order of Adjective and Noun\n",
      "family1: 92 (Niger-Congo)\n",
      "family2: 82 (Austronesian)\n",
      "silhouettes:\n",
      "\r",
      "Austronesian: 0.19 (1 PCs)\n",
      "\r",
      "Austronesian vs others: oob: 0.166 f-measure: 0.841 (5 samples)\n",
      "\n",
      "feature importances\n",
      "       Austronesian     other  MeanDecreaseAccuracy  MeanDecreaseGini\n",
      "X112A      0.064435  0.037829              0.050993         10.314429\n",
      "X143A      0.123482  0.010891              0.066279         12.035070\n",
      "X143F      0.059779 -0.002244              0.028227          5.453591\n",
      "X69A       0.132828  0.107897              0.118721         23.093018\n",
      "X87A       0.032654  0.008110              0.020221          6.488882\n",
      "---\n",
      "\n",
      "\n",
      "6 long group covering 887 languages\n",
      "in mode PCA:\n",
      "quality index: 10.39\n",
      "PC1: 28%\n",
      "PC2: 14%\n",
      "fields: 'word_order': 4, 'verbal_categories': 1, 'simple_clauses': 1\n",
      "features:\n",
      "112A Negative Morphemes\n",
      "\r",
      "143A Order of Negative Morpheme and Verb\n",
      "\r",
      "143F Postverbal Negative Morphemes\n",
      "\r",
      "69A Position of Tense-Aspect Affixes\n",
      "\r",
      "82A Order of Subject and Verb\n",
      "\r",
      "83A Order of Object and Verb\n",
      "family1: 94 (Niger-Congo)\n",
      "family2: 81 (Austronesian)\n",
      "silhouettes:\n",
      "\r",
      "Austronesian: 0.24 (1 PCs)\n",
      "\r",
      "Austronesian vs others: oob: 0.167 f-measure: 0.838 (5 samples)\n",
      "\n",
      "feature importances\n",
      "       Austronesian     other  MeanDecreaseAccuracy  MeanDecreaseGini\n",
      "X112A      0.064371  0.047600              0.055472          8.431319\n",
      "X143A      0.119060  0.030479              0.074508         12.369159\n",
      "X143F      0.040113  0.006992              0.023588          3.698350\n",
      "X69A       0.095072  0.075393              0.084063         17.357227\n",
      "X82A       0.000656  0.017006              0.008702          2.690784\n",
      "X83A       0.120412  0.073219              0.096568         17.491383\n",
      "---\n",
      "\n",
      "\n"
     ]
    }
   ],
   "source": [
    "nigrnd.sort(key=lambda g : g.family_rfs_data['Austronesian']['oob'].mean())\n",
    "for g in nigrnd[:3]:\n",
    "    print(g)\n",
    "    print('feature importances')\n",
    "    print(g.get_rforest_data('importance'))\n",
    "    print(\"---\\n\\n\")"
   ]
  },
  {
   "cell_type": "markdown",
   "metadata": {},
   "source": [
    "### Austronesian Important Features\n",
    "For Austronesian, it seems, the important features are 143A and 69A"
   ]
  },
  {
   "cell_type": "markdown",
   "metadata": {},
   "source": [
    "## Just Phonology"
   ]
  },
  {
   "cell_type": "code",
   "execution_count": 18,
   "metadata": {
    "collapsed": false
   },
   "outputs": [
    {
     "name": "stdout",
     "output_type": "stream",
     "text": [
      "checking 0.4K feature groups of length 2\n",
      "Percent: [##################################################] 100% skipped:0.0K passed: 36\n",
      "checking 1.4K feature groups of length 3\n",
      "Percent: [##################################################] 100% skipped:0.0K passed: 84\n",
      "checking 5.0K feature groups of length 4\n",
      "Percent: [##################################################] 100% skipped:0.0K passed: 126\n",
      "checking 10.1K feature groups of length 5\n",
      "Percent: [##################################################] 100% skipped:0.0K passed: 126\n",
      "checking 12.6K feature groups of length 6\n",
      "Percent: [##################################################] 100% skipped:0.0K passed: 84\n",
      "checking 10.1K feature groups of length 7\n",
      "Percent: [##################################################] 100% skipped:0.0K passed: 36\n",
      "checking 5.0K feature groups of length 8\n",
      "Percent: [##################################################] 100% skipped:0.0K passed: 9\n",
      "checking 1.4K feature groups of length 9\n",
      "Percent: [##################################################] 100% skipped:0.0K passed: 1\n",
      "checking 0.2K feature groups of length 10\n",
      "Percent: [##################################################] 100% skipped:0.0K passed: 0\n"
     ]
    }
   ],
   "source": [
    "loi = list(wals[wals['family']=='Niger-Congo']['Name'])\n",
    "loc = Locator(110,include='phonology',loi=loi,loi_count=55,asess=None)\n",
    "loc.main('discard')"
   ]
  },
  {
   "cell_type": "code",
   "execution_count": 20,
   "metadata": {
    "collapsed": false
   },
   "outputs": [
    {
     "name": "stderr",
     "output_type": "stream",
     "text": [
      "/home/ilay/WALS/wals-project/locator.py:873: RuntimeWarning: invalid value encountered in double_scalars\n",
      "  fmeas  =  (2 * prec * rec)/(prec + rec)\n"
     ]
    }
   ],
   "source": [
    "phonstats = rfstats(loc.flagged,'Niger-Congo')"
   ]
  },
  {
   "cell_type": "code",
   "execution_count": 22,
   "metadata": {
    "collapsed": false
   },
   "outputs": [
    {
     "data": {
      "text/html": [
       "<div>\n",
       "<style>\n",
       "    .dataframe thead tr:only-child th {\n",
       "        text-align: right;\n",
       "    }\n",
       "\n",
       "    .dataframe thead th {\n",
       "        text-align: left;\n",
       "    }\n",
       "\n",
       "    .dataframe tbody tr th {\n",
       "        vertical-align: top;\n",
       "    }\n",
       "</style>\n",
       "<table border=\"1\" class=\"dataframe\">\n",
       "  <thead>\n",
       "    <tr style=\"text-align: right;\">\n",
       "      <th></th>\n",
       "      <th>oob</th>\n",
       "      <th>precision</th>\n",
       "      <th>recall</th>\n",
       "      <th>f-measure</th>\n",
       "      <th>rerror</th>\n",
       "      <th>silhouette</th>\n",
       "    </tr>\n",
       "  </thead>\n",
       "  <tbody>\n",
       "    <tr>\n",
       "      <th>count</th>\n",
       "      <td>521.000000</td>\n",
       "      <td>521.000000</td>\n",
       "      <td>521.000000</td>\n",
       "      <td>521.000000</td>\n",
       "      <td>521.000000</td>\n",
       "      <td>521.000000</td>\n",
       "    </tr>\n",
       "    <tr>\n",
       "      <th>mean</th>\n",
       "      <td>0.238467</td>\n",
       "      <td>0.769034</td>\n",
       "      <td>0.771558</td>\n",
       "      <td>0.765058</td>\n",
       "      <td>0.228442</td>\n",
       "      <td>0.219984</td>\n",
       "    </tr>\n",
       "    <tr>\n",
       "      <th>std</th>\n",
       "      <td>0.071504</td>\n",
       "      <td>0.089142</td>\n",
       "      <td>0.079617</td>\n",
       "      <td>0.059270</td>\n",
       "      <td>0.079617</td>\n",
       "      <td>0.096996</td>\n",
       "    </tr>\n",
       "    <tr>\n",
       "      <th>min</th>\n",
       "      <td>0.141818</td>\n",
       "      <td>0.239683</td>\n",
       "      <td>0.300000</td>\n",
       "      <td>0.427473</td>\n",
       "      <td>0.000000</td>\n",
       "      <td>-0.083182</td>\n",
       "    </tr>\n",
       "    <tr>\n",
       "      <th>25%</th>\n",
       "      <td>0.194643</td>\n",
       "      <td>0.719470</td>\n",
       "      <td>0.725000</td>\n",
       "      <td>0.736285</td>\n",
       "      <td>0.174545</td>\n",
       "      <td>0.159479</td>\n",
       "    </tr>\n",
       "    <tr>\n",
       "      <th>50%</th>\n",
       "      <td>0.216364</td>\n",
       "      <td>0.791314</td>\n",
       "      <td>0.782143</td>\n",
       "      <td>0.771011</td>\n",
       "      <td>0.217857</td>\n",
       "      <td>0.211596</td>\n",
       "    </tr>\n",
       "    <tr>\n",
       "      <th>75%</th>\n",
       "      <td>0.266071</td>\n",
       "      <td>0.821509</td>\n",
       "      <td>0.825455</td>\n",
       "      <td>0.806949</td>\n",
       "      <td>0.275000</td>\n",
       "      <td>0.282365</td>\n",
       "    </tr>\n",
       "    <tr>\n",
       "      <th>max</th>\n",
       "      <td>0.766667</td>\n",
       "      <td>0.984068</td>\n",
       "      <td>1.000000</td>\n",
       "      <td>0.859300</td>\n",
       "      <td>0.700000</td>\n",
       "      <td>0.544176</td>\n",
       "    </tr>\n",
       "  </tbody>\n",
       "</table>\n",
       "</div>"
      ],
      "text/plain": [
       "              oob   precision      recall   f-measure      rerror  silhouette\n",
       "count  521.000000  521.000000  521.000000  521.000000  521.000000  521.000000\n",
       "mean     0.238467    0.769034    0.771558    0.765058    0.228442    0.219984\n",
       "std      0.071504    0.089142    0.079617    0.059270    0.079617    0.096996\n",
       "min      0.141818    0.239683    0.300000    0.427473    0.000000   -0.083182\n",
       "25%      0.194643    0.719470    0.725000    0.736285    0.174545    0.159479\n",
       "50%      0.216364    0.791314    0.782143    0.771011    0.217857    0.211596\n",
       "75%      0.266071    0.821509    0.825455    0.806949    0.275000    0.282365\n",
       "max      0.766667    0.984068    1.000000    0.859300    0.700000    0.544176"
      ]
     },
     "execution_count": 22,
     "metadata": {},
     "output_type": "execute_result"
    }
   ],
   "source": [
    "phonstats.describe()"
   ]
  },
  {
   "cell_type": "code",
   "execution_count": 23,
   "metadata": {
    "collapsed": false
   },
   "outputs": [
    {
     "data": {
      "image/png": "[encoded data removed]",
      "text/plain": [
       "<matplotlib.figure.Figure at 0x7fc185cc80f0>"
      ]
     },
     "metadata": {},
     "output_type": "display_data"
    }
   ],
   "source": [
    "fig,ax  = plt.subplots(figsize=(10,6))\n",
    "sns.regplot(x=\"silhouette\", y=\"f-measure\", data=phonstats, ax=ax);"
   ]
  },
  {
   "cell_type": "code",
   "execution_count": 24,
   "metadata": {
    "collapsed": false
   },
   "outputs": [
    {
     "name": "stdout",
     "output_type": "stream",
     "text": [
      "6 long group covering 523 languages\n",
      "in mode PCA:\n",
      "quality index: 5.19\n",
      "PC1: 17%\n",
      "PC2: 12%\n",
      "fields: 'phonology': 6\n",
      "features:\n",
      "13A Tone\n",
      "\r",
      "19A Presence of Uncommon Consonants\n",
      "\r",
      "1A Consonant Inventories\n",
      "\r",
      "4A Voicing in Plosives and Fricatives\n",
      "\r",
      "6A Uvular Consonants\n",
      "\r",
      "7A Glottalized Consonants\n",
      "family1: 55 (Niger-Congo)\n",
      "family2: 42 (Austronesian)\n",
      "silhouettes:\n",
      "\r",
      "Niger-Congo: 0.31 (1 PCs)\n",
      "\r",
      "Niger-Congo vs others: oob: 0.142 f-measure: 0.859 (5 samples)\n",
      "\n",
      "feature importances\n",
      "      Niger-Congo     other  MeanDecreaseAccuracy  MeanDecreaseGini\n",
      "X13A     0.160185  0.108715              0.131850         16.260272\n",
      "X19A     0.086195  0.108335              0.095830         13.157258\n",
      "X1A      0.001240  0.006027              0.004006          3.699074\n",
      "X4A      0.046465  0.030975              0.038365          7.306332\n",
      "X6A      0.022630  0.001045              0.011449          1.643631\n",
      "X7A      0.008824 -0.002716              0.002581          2.939544\n",
      "---\n",
      "\n",
      "\n",
      "4 long group covering 527 languages\n",
      "in mode PCA:\n",
      "quality index: 5.16\n",
      "PC1: 26%\n",
      "PC2: 18%\n",
      "fields: 'phonology': 4\n",
      "features:\n",
      "13A Tone\n",
      "\r",
      "18A Absence of Common Consonants\n",
      "\r",
      "19A Presence of Uncommon Consonants\n",
      "\r",
      "4A Voicing in Plosives and Fricatives\n",
      "family1: 55 (Niger-Congo)\n",
      "family2: 42 (Austronesian)\n",
      "silhouettes:\n",
      "\r",
      "Niger-Congo: 0.28 (1 PCs)\n",
      "\r",
      "Niger-Congo vs others: oob: 0.144 f-measure: 0.857 (5 samples)\n",
      "\n",
      "feature importances\n",
      "      Niger-Congo     other  MeanDecreaseAccuracy  MeanDecreaseGini\n",
      "X13A     0.151852  0.168281              0.157951         16.201371\n",
      "X18A    -0.000808 -0.000457             -0.000604          0.408665\n",
      "X19A     0.116648  0.206256              0.159648         20.651823\n",
      "X4A      0.033191  0.001279              0.016857          5.621152\n",
      "---\n",
      "\n",
      "\n",
      "7 long group covering 523 languages\n",
      "in mode PCA:\n",
      "quality index: 6.06\n",
      "PC1: 16%\n",
      "PC2: 12%\n",
      "fields: 'phonology': 7\n",
      "features:\n",
      "13A Tone\n",
      "\r",
      "18A Absence of Common Consonants\n",
      "\r",
      "19A Presence of Uncommon Consonants\n",
      "\r",
      "1A Consonant Inventories\n",
      "\r",
      "4A Voicing in Plosives and Fricatives\n",
      "\r",
      "6A Uvular Consonants\n",
      "\r",
      "7A Glottalized Consonants\n",
      "family1: 55 (Niger-Congo)\n",
      "family2: 42 (Austronesian)\n",
      "silhouettes:\n",
      "\r",
      "Niger-Congo: 0.31 (1 PCs)\n",
      "\r",
      "Niger-Congo vs others: oob: 0.145 f-measure: 0.857 (5 samples)\n",
      "\n",
      "feature importances\n",
      "      Niger-Congo     other  MeanDecreaseAccuracy  MeanDecreaseGini\n",
      "X13A     0.184019  0.107714              0.143251         15.640065\n",
      "X18A     0.004116 -0.000769              0.001688          0.821641\n",
      "X19A     0.090228  0.081681              0.084707         12.774545\n",
      "X1A      0.003040 -0.001387              0.000882          3.301745\n",
      "X4A      0.058385  0.023126              0.040003          7.122720\n",
      "X6A      0.018621  0.006321              0.012289          1.814286\n",
      "X7A      0.004712  0.000852              0.002722          2.535881\n",
      "---\n",
      "\n",
      "\n"
     ]
    }
   ],
   "source": [
    "loc.flagged.sort(key=lambda g : g.family_rfs_data['Niger-Congo']['oob'].mean())\n",
    "for g in loc.flagged[:3]:\n",
    "    print(g)\n",
    "    print('feature importances')\n",
    "    print(g.get_rforest_data('importance'))\n",
    "    print(\"---\\n\\n\")"
   ]
  },
  {
   "cell_type": "markdown",
   "metadata": {},
   "source": [
    "13A -- tonality: none/simple/complex -- is very clearly the crucial feature here"
   ]
  },
  {
   "cell_type": "code",
   "execution_count": 25,
   "metadata": {
    "collapsed": false
   },
   "outputs": [],
   "source": [
    "goodphon = [g for g in loc.flagged if g.best_silhouette('Niger-Congo')[0] > 0.4]"
   ]
  },
  {
   "cell_type": "code",
   "execution_count": 26,
   "metadata": {
    "collapsed": false
   },
   "outputs": [
    {
     "data": {
      "text/plain": [
       "17"
      ]
     },
     "execution_count": 26,
     "metadata": {},
     "output_type": "execute_result"
    }
   ],
   "source": [
    "len(goodphon)"
   ]
  },
  {
   "cell_type": "code",
   "execution_count": 27,
   "metadata": {
    "collapsed": false
   },
   "outputs": [
    {
     "data": {
      "text/html": [
       "<div>\n",
       "<style>\n",
       "    .dataframe thead tr:only-child th {\n",
       "        text-align: right;\n",
       "    }\n",
       "\n",
       "    .dataframe thead th {\n",
       "        text-align: left;\n",
       "    }\n",
       "\n",
       "    .dataframe tbody tr th {\n",
       "        vertical-align: top;\n",
       "    }\n",
       "</style>\n",
       "<table border=\"1\" class=\"dataframe\">\n",
       "  <thead>\n",
       "    <tr style=\"text-align: right;\">\n",
       "      <th></th>\n",
       "      <th>oob</th>\n",
       "      <th>precision</th>\n",
       "      <th>recall</th>\n",
       "      <th>f-measure</th>\n",
       "      <th>rerror</th>\n",
       "      <th>silhouette</th>\n",
       "    </tr>\n",
       "  </thead>\n",
       "  <tbody>\n",
       "    <tr>\n",
       "      <th>count</th>\n",
       "      <td>17.000000</td>\n",
       "      <td>17.000000</td>\n",
       "      <td>17.000000</td>\n",
       "      <td>17.000000</td>\n",
       "      <td>17.000000</td>\n",
       "      <td>17.000000</td>\n",
       "    </tr>\n",
       "    <tr>\n",
       "      <th>mean</th>\n",
       "      <td>0.190053</td>\n",
       "      <td>0.800593</td>\n",
       "      <td>0.831658</td>\n",
       "      <td>0.813664</td>\n",
       "      <td>0.168342</td>\n",
       "      <td>0.441963</td>\n",
       "    </tr>\n",
       "    <tr>\n",
       "      <th>std</th>\n",
       "      <td>0.023629</td>\n",
       "      <td>0.030382</td>\n",
       "      <td>0.046970</td>\n",
       "      <td>0.024951</td>\n",
       "      <td>0.046970</td>\n",
       "      <td>0.039914</td>\n",
       "    </tr>\n",
       "    <tr>\n",
       "      <th>min</th>\n",
       "      <td>0.152727</td>\n",
       "      <td>0.728360</td>\n",
       "      <td>0.741818</td>\n",
       "      <td>0.770157</td>\n",
       "      <td>0.072727</td>\n",
       "      <td>0.401236</td>\n",
       "    </tr>\n",
       "    <tr>\n",
       "      <th>25%</th>\n",
       "      <td>0.180000</td>\n",
       "      <td>0.786250</td>\n",
       "      <td>0.800000</td>\n",
       "      <td>0.797076</td>\n",
       "      <td>0.141818</td>\n",
       "      <td>0.407772</td>\n",
       "    </tr>\n",
       "    <tr>\n",
       "      <th>50%</th>\n",
       "      <td>0.185455</td>\n",
       "      <td>0.803110</td>\n",
       "      <td>0.825455</td>\n",
       "      <td>0.820432</td>\n",
       "      <td>0.174545</td>\n",
       "      <td>0.432602</td>\n",
       "    </tr>\n",
       "    <tr>\n",
       "      <th>75%</th>\n",
       "      <td>0.200000</td>\n",
       "      <td>0.820276</td>\n",
       "      <td>0.858182</td>\n",
       "      <td>0.828887</td>\n",
       "      <td>0.200000</td>\n",
       "      <td>0.463806</td>\n",
       "    </tr>\n",
       "    <tr>\n",
       "      <th>max</th>\n",
       "      <td>0.241818</td>\n",
       "      <td>0.856381</td>\n",
       "      <td>0.927273</td>\n",
       "      <td>0.850316</td>\n",
       "      <td>0.258182</td>\n",
       "      <td>0.544176</td>\n",
       "    </tr>\n",
       "  </tbody>\n",
       "</table>\n",
       "</div>"
      ],
      "text/plain": [
       "             oob  precision     recall  f-measure     rerror  silhouette\n",
       "count  17.000000  17.000000  17.000000  17.000000  17.000000   17.000000\n",
       "mean    0.190053   0.800593   0.831658   0.813664   0.168342    0.441963\n",
       "std     0.023629   0.030382   0.046970   0.024951   0.046970    0.039914\n",
       "min     0.152727   0.728360   0.741818   0.770157   0.072727    0.401236\n",
       "25%     0.180000   0.786250   0.800000   0.797076   0.141818    0.407772\n",
       "50%     0.185455   0.803110   0.825455   0.820432   0.174545    0.432602\n",
       "75%     0.200000   0.820276   0.858182   0.828887   0.200000    0.463806\n",
       "max     0.241818   0.856381   0.927273   0.850316   0.258182    0.544176"
      ]
     },
     "execution_count": 27,
     "metadata": {},
     "output_type": "execute_result"
    }
   ],
   "source": [
    "rfstats(goodphon,'Niger-Congo').describe()"
   ]
  },
  {
   "cell_type": "code",
   "execution_count": null,
   "metadata": {
    "collapsed": true
   },
   "outputs": [],
   "source": []
  }
 ],
 "metadata": {
  "kernelspec": {
   "display_name": "Python 3",
   "language": "python",
   "name": "python3"
  },
  "language_info": {
   "codemirror_mode": {
    "name": "ipython",
    "version": 3
   },
   "file_extension": ".py",
   "mimetype": "text/x-python",
   "name": "python",
   "nbconvert_exporter": "python",
   "pygments_lexer": "ipython3",
   "version": "3.5.2"
  }
 },
 "nbformat": 4,
 "nbformat_minor": 1
}
