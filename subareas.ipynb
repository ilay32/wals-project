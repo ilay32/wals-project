{
 "cells": [
  {
   "cell_type": "markdown",
   "metadata": {},
   "source": [
    "# Clustering Quality of  WALS Subareas\n",
    "\n",
    "## phonology subareas:\n",
    "    - Consonants: 10 features\n",
    "    - Vowels: 4 features\n",
    "    - Prosody: 5 features (including 13A -- Tone)\n",
    " * 12A -- syllable structure is not assigned any subarea\n",
    " * 3A -- consonant / vowel ratio is listed as both vowel-related and consonant-related \n",
    " * 10B -- Nasal vowels in west Africa is out of the statistics alltogether\n",
    "\n",
    "\n",
    "\n",
    "### The following three tables show the best silhoutte score of all feature groups restricted to the these subfields with at least 30 languages. "
   ]
  },
  {
   "cell_type": "code",
   "execution_count": 3,
   "metadata": {
    "collapsed": true
   },
   "outputs": [],
   "source": [
    "import pandas as pd\n",
    "import pickle\n",
    "import numpy as np\n",
    "from matplotlib import pyplot as plt\n",
    "%matplotlib inline\n",
    "consonants = pd.read_csv('../miscsv/consonants-silhouettes.csv')\n",
    "vowels = pd.read_csv('../miscsv/vowels-silhouettes.csv')\n",
    "prosody = pd.read_csv('../miscsv/prosody-silhouettes.csv')"
   ]
  },
  {
   "cell_type": "code",
   "execution_count": 4,
   "metadata": {
    "collapsed": false
   },
   "outputs": [
    {
     "data": {
      "text/html": [
       "<div>\n",
       "<table border=\"1\" class=\"dataframe\">\n",
       "  <thead>\n",
       "    <tr style=\"text-align: right;\">\n",
       "      <th></th>\n",
       "      <th>silhouette score</th>\n",
       "    </tr>\n",
       "  </thead>\n",
       "  <tbody>\n",
       "    <tr>\n",
       "      <th>count</th>\n",
       "      <td>883.000000</td>\n",
       "    </tr>\n",
       "    <tr>\n",
       "      <th>mean</th>\n",
       "      <td>0.199526</td>\n",
       "    </tr>\n",
       "    <tr>\n",
       "      <th>std</th>\n",
       "      <td>0.066717</td>\n",
       "    </tr>\n",
       "    <tr>\n",
       "      <th>min</th>\n",
       "      <td>0.006535</td>\n",
       "    </tr>\n",
       "    <tr>\n",
       "      <th>25%</th>\n",
       "      <td>0.165422</td>\n",
       "    </tr>\n",
       "    <tr>\n",
       "      <th>50%</th>\n",
       "      <td>0.197799</td>\n",
       "    </tr>\n",
       "    <tr>\n",
       "      <th>75%</th>\n",
       "      <td>0.239928</td>\n",
       "    </tr>\n",
       "    <tr>\n",
       "      <th>max</th>\n",
       "      <td>0.375377</td>\n",
       "    </tr>\n",
       "  </tbody>\n",
       "</table>\n",
       "</div>"
      ],
      "text/plain": [
       "       silhouette score\n",
       "count        883.000000\n",
       "mean           0.199526\n",
       "std            0.066717\n",
       "min            0.006535\n",
       "25%            0.165422\n",
       "50%            0.197799\n",
       "75%            0.239928\n",
       "max            0.375377"
      ]
     },
     "execution_count": 4,
     "metadata": {},
     "output_type": "execute_result"
    }
   ],
   "source": [
    "consonants.describe()"
   ]
  },
  {
   "cell_type": "code",
   "execution_count": 5,
   "metadata": {
    "collapsed": false
   },
   "outputs": [
    {
     "data": {
      "text/html": [
       "<div>\n",
       "<table border=\"1\" class=\"dataframe\">\n",
       "  <thead>\n",
       "    <tr style=\"text-align: right;\">\n",
       "      <th></th>\n",
       "      <th>silhouette score</th>\n",
       "    </tr>\n",
       "  </thead>\n",
       "  <tbody>\n",
       "    <tr>\n",
       "      <th>0</th>\n",
       "      <td>0.415485</td>\n",
       "    </tr>\n",
       "    <tr>\n",
       "      <th>1</th>\n",
       "      <td>0.267270</td>\n",
       "    </tr>\n",
       "    <tr>\n",
       "      <th>2</th>\n",
       "      <td>0.150418</td>\n",
       "    </tr>\n",
       "    <tr>\n",
       "      <th>3</th>\n",
       "      <td>0.269262</td>\n",
       "    </tr>\n",
       "  </tbody>\n",
       "</table>\n",
       "</div>"
      ],
      "text/plain": [
       "   silhouette score\n",
       "0          0.415485\n",
       "1          0.267270\n",
       "2          0.150418\n",
       "3          0.269262"
      ]
     },
     "execution_count": 5,
     "metadata": {},
     "output_type": "execute_result"
    }
   ],
   "source": [
    "vowels"
   ]
  },
  {
   "cell_type": "code",
   "execution_count": 6,
   "metadata": {
    "collapsed": false
   },
   "outputs": [
    {
     "data": {
      "text/html": [
       "<div>\n",
       "<table border=\"1\" class=\"dataframe\">\n",
       "  <thead>\n",
       "    <tr style=\"text-align: right;\">\n",
       "      <th></th>\n",
       "      <th>silhouette score</th>\n",
       "    </tr>\n",
       "  </thead>\n",
       "  <tbody>\n",
       "    <tr>\n",
       "      <th>count</th>\n",
       "      <td>37.000000</td>\n",
       "    </tr>\n",
       "    <tr>\n",
       "      <th>mean</th>\n",
       "      <td>0.142081</td>\n",
       "    </tr>\n",
       "    <tr>\n",
       "      <th>std</th>\n",
       "      <td>0.052859</td>\n",
       "    </tr>\n",
       "    <tr>\n",
       "      <th>min</th>\n",
       "      <td>0.028417</td>\n",
       "    </tr>\n",
       "    <tr>\n",
       "      <th>25%</th>\n",
       "      <td>0.112963</td>\n",
       "    </tr>\n",
       "    <tr>\n",
       "      <th>50%</th>\n",
       "      <td>0.134855</td>\n",
       "    </tr>\n",
       "    <tr>\n",
       "      <th>75%</th>\n",
       "      <td>0.188024</td>\n",
       "    </tr>\n",
       "    <tr>\n",
       "      <th>max</th>\n",
       "      <td>0.230584</td>\n",
       "    </tr>\n",
       "  </tbody>\n",
       "</table>\n",
       "</div>"
      ],
      "text/plain": [
       "       silhouette score\n",
       "count         37.000000\n",
       "mean           0.142081\n",
       "std            0.052859\n",
       "min            0.028417\n",
       "25%            0.112963\n",
       "50%            0.134855\n",
       "75%            0.188024\n",
       "max            0.230584"
      ]
     },
     "execution_count": 6,
     "metadata": {},
     "output_type": "execute_result"
    }
   ],
   "source": [
    "prosody.describe()"
   ]
  },
  {
   "cell_type": "markdown",
   "metadata": {},
   "source": [
    "As you can see, there were only 4 groups in the vowels set, so it can't really be compared with the consonant groups, which are only slightly better than the 'prosody' groups (thre were 37 of those)."
   ]
  },
  {
   "cell_type": "markdown",
   "metadata": {
    "collapsed": true
   },
   "source": [
    "## Mixed Feature Sets\n",
    "\n",
    "The following statistics were computed on 1500 phonological feature sets including at least 4 features, from exactlyt two subgroups -- either consonants, vowels or consonants,prosody --  with a maximal proportion of 0.7 for the dominant subarea."
   ]
  },
  {
   "cell_type": "code",
   "execution_count": 8,
   "metadata": {
    "collapsed": true
   },
   "outputs": [],
   "source": [
    "groups = pickle.load(open('feature-sets/phon-2subs-1832-index5-with-gensep.pkl','rb'))\n",
    "groups = groups[:1500]"
   ]
  },
  {
   "cell_type": "code",
   "execution_count": 9,
   "metadata": {
    "collapsed": false
   },
   "outputs": [],
   "source": [
    "gstats = list()\n",
    "for g in groups:\n",
    "    top2fams = g.families.most_common(2)\n",
    "    gstats.append({\n",
    "        'spectral index' : g.quality_index,\n",
    "        'genetic silhouette' : g.genetic_silhouette_score,\n",
    "        'silhouette dims' : sorted(g.genetic_silhouettes,key=lambda x: x[1],reverse=True)[0][0],\n",
    "        'family 1' : top2fams[0][1],\n",
    "        'family 2' : top2fams[1][1]\n",
    "    })\n",
    "gstats = pd.DataFrame(gstats)"
   ]
  },
  {
   "cell_type": "code",
   "execution_count": 10,
   "metadata": {
    "collapsed": false
   },
   "outputs": [
    {
     "data": {
      "text/html": [
       "<div>\n",
       "<table border=\"1\" class=\"dataframe\">\n",
       "  <thead>\n",
       "    <tr style=\"text-align: right;\">\n",
       "      <th></th>\n",
       "      <th>family 1</th>\n",
       "      <th>family 2</th>\n",
       "      <th>genetic silhouette</th>\n",
       "      <th>silhouette dims</th>\n",
       "      <th>spectral index</th>\n",
       "    </tr>\n",
       "  </thead>\n",
       "  <tbody>\n",
       "    <tr>\n",
       "      <th>count</th>\n",
       "      <td>1500.000000</td>\n",
       "      <td>1500.000000</td>\n",
       "      <td>1500.000000</td>\n",
       "      <td>1500.000000</td>\n",
       "      <td>1500.000000</td>\n",
       "    </tr>\n",
       "    <tr>\n",
       "      <th>mean</th>\n",
       "      <td>32.434000</td>\n",
       "      <td>26.212667</td>\n",
       "      <td>0.280332</td>\n",
       "      <td>1.320000</td>\n",
       "      <td>6.320377</td>\n",
       "    </tr>\n",
       "    <tr>\n",
       "      <th>std</th>\n",
       "      <td>15.325085</td>\n",
       "      <td>11.975435</td>\n",
       "      <td>0.106397</td>\n",
       "      <td>0.879839</td>\n",
       "      <td>1.166929</td>\n",
       "    </tr>\n",
       "    <tr>\n",
       "      <th>min</th>\n",
       "      <td>15.000000</td>\n",
       "      <td>12.000000</td>\n",
       "      <td>0.144273</td>\n",
       "      <td>0.000000</td>\n",
       "      <td>5.000447</td>\n",
       "    </tr>\n",
       "    <tr>\n",
       "      <th>25%</th>\n",
       "      <td>15.000000</td>\n",
       "      <td>14.000000</td>\n",
       "      <td>0.192800</td>\n",
       "      <td>1.000000</td>\n",
       "      <td>5.457913</td>\n",
       "    </tr>\n",
       "    <tr>\n",
       "      <th>50%</th>\n",
       "      <td>25.000000</td>\n",
       "      <td>21.000000</td>\n",
       "      <td>0.263774</td>\n",
       "      <td>1.000000</td>\n",
       "      <td>5.972155</td>\n",
       "    </tr>\n",
       "    <tr>\n",
       "      <th>75%</th>\n",
       "      <td>50.000000</td>\n",
       "      <td>39.000000</td>\n",
       "      <td>0.345658</td>\n",
       "      <td>2.000000</td>\n",
       "      <td>6.829360</td>\n",
       "    </tr>\n",
       "    <tr>\n",
       "      <th>max</th>\n",
       "      <td>54.000000</td>\n",
       "      <td>45.000000</td>\n",
       "      <td>0.706213</td>\n",
       "      <td>12.000000</td>\n",
       "      <td>10.650957</td>\n",
       "    </tr>\n",
       "  </tbody>\n",
       "</table>\n",
       "</div>"
      ],
      "text/plain": [
       "          family 1     family 2  genetic silhouette  silhouette dims  \\\n",
       "count  1500.000000  1500.000000         1500.000000      1500.000000   \n",
       "mean     32.434000    26.212667            0.280332         1.320000   \n",
       "std      15.325085    11.975435            0.106397         0.879839   \n",
       "min      15.000000    12.000000            0.144273         0.000000   \n",
       "25%      15.000000    14.000000            0.192800         1.000000   \n",
       "50%      25.000000    21.000000            0.263774         1.000000   \n",
       "75%      50.000000    39.000000            0.345658         2.000000   \n",
       "max      54.000000    45.000000            0.706213        12.000000   \n",
       "\n",
       "       spectral index  \n",
       "count     1500.000000  \n",
       "mean         6.320377  \n",
       "std          1.166929  \n",
       "min          5.000447  \n",
       "25%          5.457913  \n",
       "50%          5.972155  \n",
       "75%          6.829360  \n",
       "max         10.650957  "
      ]
     },
     "execution_count": 10,
     "metadata": {},
     "output_type": "execute_result"
    }
   ],
   "source": [
    "gstats.describe()"
   ]
  },
  {
   "cell_type": "markdown",
   "metadata": {},
   "source": [
    "* family 1 : number of languages from the most common family among the languages covered by the feature set\n",
    "\n",
    "* family 2 : number of languages from the second most common family\n",
    "\n",
    "* genetic silhouette : silhouette computed on two clusters (family1,family2) -- optimized over the number of PCs representing the points (languages). O means no silhuette computed by Manhattan distance between raw points. By \"raw\" I mean not projected on any eigen vector basis.  -1 (never occuring in this collection) means the same, with euclidean distance.\n",
    "\n",
    "* silhuette dims: the number of dimensions yielding the highest silhouette. In most cases, representing languages only by their 1st PC coordinate yields the best results. But a non-negligable number of cases works better with raw points or with 2 or 3 PCs. Hence my question regarding the computation of feature significance. Following is some statistics about this point."
   ]
  },
  {
   "cell_type": "code",
   "execution_count": 12,
   "metadata": {
    "collapsed": false
   },
   "outputs": [
    {
     "data": {
      "text/plain": [
       "555"
      ]
     },
     "execution_count": 12,
     "metadata": {},
     "output_type": "execute_result"
    }
   ],
   "source": [
    "# Number of feature sets for which the best silhouette is provided by some representation other than\n",
    "# purely 1st PC\n",
    "len(gstats.loc[gstats['silhouette dims'] != 1])"
   ]
  },
  {
   "cell_type": "code",
   "execution_count": 14,
   "metadata": {
    "collapsed": false
   },
   "outputs": [
    {
     "data": {
      "text/plain": [
       "443"
      ]
     },
     "execution_count": 14,
     "metadata": {},
     "output_type": "execute_result"
    }
   ],
   "source": [
    "# Number of feature sets for which the best silhouette is provided by some representation other than\n",
    "# raw or 1st PC alone\n",
    "len(gstats.loc[gstats['silhouette dims'] > 1])"
   ]
  },
  {
   "cell_type": "code",
   "execution_count": 16,
   "metadata": {
    "collapsed": false
   },
   "outputs": [
    {
     "data": {
      "image/png": "[encoded data removed]",
      "text/plain": [
       "<matplotlib.figure.Figure at 0x7ff79c9954a8>"
      ]
     },
     "metadata": {},
     "output_type": "display_data"
    }
   ],
   "source": [
    "dfs = list()\n",
    "x = np.arange(-1,13)\n",
    "for i in x:\n",
    "    dfs.append(gstats.loc[gstats['silhouette dims'] == i])\n",
    "\n",
    "from matplotlib import cm\n",
    "means = np.array([df['genetic silhouette'].mean() for df in dfs])\n",
    "stds = np.array([df['genetic silhouette'].std() for df in dfs])\n",
    "counts = np.array([len(df) for df in dfs])\n",
    "\n",
    "plt.title(\"Silhouette by Number of PCs Used\")\n",
    "plt.ylabel('Average Silhouette')\n",
    "plt.xlabel('Number of PCs')\n",
    "plt.bar(x, means,color='c')\n",
    "plt.errorbar(x, means, yerr=stds, fmt='.')\n",
    "plt.show()"
   ]
  },
  {
   "cell_type": "code",
   "execution_count": 17,
   "metadata": {
    "collapsed": false
   },
   "outputs": [
    {
     "data": {
      "image/png": "[encoded data removed]",
      "text/plain": [
       "<matplotlib.figure.Figure at 0x7ff79c9d9a58>"
      ]
     },
     "metadata": {},
     "output_type": "display_data"
    }
   ],
   "source": [
    "plt.bar(x,counts,color='r')\n",
    "plt.xticks = 1\n",
    "plt.ylabel('Number of Feature Sets')\n",
    "plt.xlabel('PCs')\n",
    "plt.show()"
   ]
  },
  {
   "cell_type": "markdown",
   "metadata": {},
   "source": [
    "So, in considering feature significance, we might have to take into account the 2nd and 3rd PC as well. \n",
    "\n",
    "I am not sure what to make of the case where the raw data is better than the MCA/PCA transformation of it."
   ]
  },
  {
   "cell_type": "markdown",
   "metadata": {},
   "source": [
    "### Feature Contributions for 1st and 2nd PCs in the 1500 feature sets described above."
   ]
  },
  {
   "cell_type": "code",
   "execution_count": 20,
   "metadata": {
    "collapsed": false
   },
   "outputs": [],
   "source": [
    "agg = pickle.load(open('phonology-summary-stats.pkl','rb'))\n",
    "comp1 = agg['component 1']\n",
    "comp2 = agg['component 2']"
   ]
  },
  {
   "cell_type": "markdown",
   "metadata": {},
   "source": [
    "### 1st PC"
   ]
  },
  {
   "cell_type": "code",
   "execution_count": 21,
   "metadata": {
    "collapsed": false
   },
   "outputs": [
    {
     "data": {
      "text/html": [
       "<div>\n",
       "<table border=\"1\" class=\"dataframe\">\n",
       "  <thead>\n",
       "    <tr style=\"text-align: right;\">\n",
       "      <th></th>\n",
       "      <th>mean_loading</th>\n",
       "      <th>std</th>\n",
       "      <th>participation</th>\n",
       "      <th>subarea</th>\n",
       "    </tr>\n",
       "  </thead>\n",
       "  <tbody>\n",
       "    <tr>\n",
       "      <th>5A</th>\n",
       "      <td>0.397711</td>\n",
       "      <td>0.161549</td>\n",
       "      <td>823</td>\n",
       "      <td>consonants</td>\n",
       "    </tr>\n",
       "    <tr>\n",
       "      <th>14A</th>\n",
       "      <td>0.323989</td>\n",
       "      <td>0.119807</td>\n",
       "      <td>422</td>\n",
       "      <td>prosody</td>\n",
       "    </tr>\n",
       "    <tr>\n",
       "      <th>15A</th>\n",
       "      <td>0.313426</td>\n",
       "      <td>0.101406</td>\n",
       "      <td>386</td>\n",
       "      <td>prosody</td>\n",
       "    </tr>\n",
       "    <tr>\n",
       "      <th>9A</th>\n",
       "      <td>0.253778</td>\n",
       "      <td>0.160439</td>\n",
       "      <td>401</td>\n",
       "      <td>consonants</td>\n",
       "    </tr>\n",
       "    <tr>\n",
       "      <th>4A</th>\n",
       "      <td>0.25339</td>\n",
       "      <td>0.109048</td>\n",
       "      <td>712</td>\n",
       "      <td>consonants</td>\n",
       "    </tr>\n",
       "    <tr>\n",
       "      <th>16A</th>\n",
       "      <td>0.246005</td>\n",
       "      <td>0.109644</td>\n",
       "      <td>334</td>\n",
       "      <td>prosody</td>\n",
       "    </tr>\n",
       "    <tr>\n",
       "      <th>2A</th>\n",
       "      <td>0.216192</td>\n",
       "      <td>0.199304</td>\n",
       "      <td>779</td>\n",
       "      <td>vowels</td>\n",
       "    </tr>\n",
       "    <tr>\n",
       "      <th>12A</th>\n",
       "      <td>0.152401</td>\n",
       "      <td>0.193628</td>\n",
       "      <td>786</td>\n",
       "      <td>None</td>\n",
       "    </tr>\n",
       "    <tr>\n",
       "      <th>13A</th>\n",
       "      <td>0.15179</td>\n",
       "      <td>0.17796</td>\n",
       "      <td>110</td>\n",
       "      <td>prosody</td>\n",
       "    </tr>\n",
       "    <tr>\n",
       "      <th>8A</th>\n",
       "      <td>0.0886649</td>\n",
       "      <td>0.0805542</td>\n",
       "      <td>621</td>\n",
       "      <td>consonants</td>\n",
       "    </tr>\n",
       "    <tr>\n",
       "      <th>1A</th>\n",
       "      <td>0.0747572</td>\n",
       "      <td>0.0522717</td>\n",
       "      <td>595</td>\n",
       "      <td>consonants</td>\n",
       "    </tr>\n",
       "    <tr>\n",
       "      <th>3A</th>\n",
       "      <td>0.0656629</td>\n",
       "      <td>0.0361443</td>\n",
       "      <td>279</td>\n",
       "      <td>consontants and vowels</td>\n",
       "    </tr>\n",
       "    <tr>\n",
       "      <th>6A</th>\n",
       "      <td>0.0478077</td>\n",
       "      <td>0.0603477</td>\n",
       "      <td>658</td>\n",
       "      <td>consonants</td>\n",
       "    </tr>\n",
       "    <tr>\n",
       "      <th>7A</th>\n",
       "      <td>0.0453026</td>\n",
       "      <td>0.04844</td>\n",
       "      <td>739</td>\n",
       "      <td>consonants</td>\n",
       "    </tr>\n",
       "    <tr>\n",
       "      <th>18A</th>\n",
       "      <td>0.0385621</td>\n",
       "      <td>0.0333085</td>\n",
       "      <td>718</td>\n",
       "      <td>consonants</td>\n",
       "    </tr>\n",
       "    <tr>\n",
       "      <th>19A</th>\n",
       "      <td>0.0349785</td>\n",
       "      <td>0.027864</td>\n",
       "      <td>747</td>\n",
       "      <td>consonants</td>\n",
       "    </tr>\n",
       "    <tr>\n",
       "      <th>11A</th>\n",
       "      <td>0.0106069</td>\n",
       "      <td>0.00815465</td>\n",
       "      <td>860</td>\n",
       "      <td>vowels</td>\n",
       "    </tr>\n",
       "  </tbody>\n",
       "</table>\n",
       "</div>"
      ],
      "text/plain": [
       "    mean_loading         std participation                 subarea\n",
       "5A      0.397711    0.161549           823              consonants\n",
       "14A     0.323989    0.119807           422                 prosody\n",
       "15A     0.313426    0.101406           386                 prosody\n",
       "9A      0.253778    0.160439           401              consonants\n",
       "4A       0.25339    0.109048           712              consonants\n",
       "16A     0.246005    0.109644           334                 prosody\n",
       "2A      0.216192    0.199304           779                  vowels\n",
       "12A     0.152401    0.193628           786                    None\n",
       "13A      0.15179     0.17796           110                 prosody\n",
       "8A     0.0886649   0.0805542           621              consonants\n",
       "1A     0.0747572   0.0522717           595              consonants\n",
       "3A     0.0656629   0.0361443           279  consontants and vowels\n",
       "6A     0.0478077   0.0603477           658              consonants\n",
       "7A     0.0453026     0.04844           739              consonants\n",
       "18A    0.0385621   0.0333085           718              consonants\n",
       "19A    0.0349785    0.027864           747              consonants\n",
       "11A    0.0106069  0.00815465           860                  vowels"
      ]
     },
     "execution_count": 21,
     "metadata": {},
     "output_type": "execute_result"
    }
   ],
   "source": [
    "comp1.sort_values(by='mean_loading',ascending=False)"
   ]
  },
  {
   "cell_type": "markdown",
   "metadata": {},
   "source": [
    "### Mean Loading by Subarea"
   ]
  },
  {
   "cell_type": "code",
   "execution_count": 22,
   "metadata": {
    "collapsed": false
   },
   "outputs": [],
   "source": [
    "comp1cons = comp1.loc[comp1['subarea'].isin(['consonants','consonants and vowels'])]\n",
    "comp1vowels = comp1.loc[comp1['subarea'].isin(['vowels','consonants and vowels'])]\n",
    "comp1pros = comp1.loc[comp1['subarea'] == 'prosody']"
   ]
  },
  {
   "cell_type": "code",
   "execution_count": 24,
   "metadata": {
    "collapsed": false
   },
   "outputs": [
    {
     "data": {
      "image/png": "[encoded data removed]",
      "text/plain": [
       "<matplotlib.figure.Figure at 0x7ff79c6e1e80>"
      ]
     },
     "metadata": {},
     "output_type": "display_data"
    }
   ],
   "source": [
    "means = [df['mean_loading'].mean() for df in (comp1cons,comp1vowels,comp1pros)]\n",
    "stds = [df['mean_loading'].std() for df in (comp1cons,comp1vowels,comp1pros)]\n",
    "\n",
    "xlabs = [\n",
    "    \"consonants\\n(\" + str(int(comp1cons['participation'].mean())) + \")\",\n",
    "    \"vowels\\n(\"+str(int(comp1vowels['participation'].mean()))+\")\",\n",
    "    \"prosody\\n(\" + str(int(comp1pros['participation'].mean()))+\")\"\n",
    "]\n",
    "\n",
    "s = pd.Series(\n",
    "    means,\n",
    "    index = xlabs\n",
    ")\n",
    "\n",
    "plt.title(\"Subarea Comparisson\")\n",
    "plt.ylabel('Average Loadings on PC1')\n",
    "plt.xlabel('Subarea')\n",
    "\n",
    "s.plot(\n",
    "    kind='bar', \n",
    "    color='rgb',\n",
    "    yerr = stds\n",
    ")\n",
    "\n",
    "plt.show()"
   ]
  },
  {
   "cell_type": "markdown",
   "metadata": {},
   "source": [
    "The parenthesized numbers are the average number of feature sets participated by features from this subarea in the 1500 sets. The vowels average is high, since there are only 4 vowel features. The consonant average is pretty high, because all the 1500 sets included the consonant-related subarea as one of their two subareas.\n",
    "\n",
    "It seems then, that for the 1st PC it is prosody  that contributes the most while consonants and vowels contributions are highly varied and not significantly different."
   ]
  },
  {
   "cell_type": "markdown",
   "metadata": {},
   "source": [
    "## 2nd PC"
   ]
  },
  {
   "cell_type": "code",
   "execution_count": 25,
   "metadata": {
    "collapsed": false
   },
   "outputs": [
    {
     "data": {
      "text/html": [
       "<div>\n",
       "<table border=\"1\" class=\"dataframe\">\n",
       "  <thead>\n",
       "    <tr style=\"text-align: right;\">\n",
       "      <th></th>\n",
       "      <th>mean_loading</th>\n",
       "      <th>std</th>\n",
       "      <th>participation</th>\n",
       "      <th>subarea</th>\n",
       "    </tr>\n",
       "  </thead>\n",
       "  <tbody>\n",
       "    <tr>\n",
       "      <th>12A</th>\n",
       "      <td>0.408789</td>\n",
       "      <td>0.220747</td>\n",
       "      <td>786</td>\n",
       "      <td>None</td>\n",
       "    </tr>\n",
       "    <tr>\n",
       "      <th>2A</th>\n",
       "      <td>0.262768</td>\n",
       "      <td>0.239671</td>\n",
       "      <td>779</td>\n",
       "      <td>vowels</td>\n",
       "    </tr>\n",
       "    <tr>\n",
       "      <th>9A</th>\n",
       "      <td>0.213745</td>\n",
       "      <td>0.169338</td>\n",
       "      <td>401</td>\n",
       "      <td>consonants</td>\n",
       "    </tr>\n",
       "    <tr>\n",
       "      <th>4A</th>\n",
       "      <td>0.212447</td>\n",
       "      <td>0.16631</td>\n",
       "      <td>712</td>\n",
       "      <td>consonants</td>\n",
       "    </tr>\n",
       "    <tr>\n",
       "      <th>13A</th>\n",
       "      <td>0.211549</td>\n",
       "      <td>0.117288</td>\n",
       "      <td>110</td>\n",
       "      <td>prosody</td>\n",
       "    </tr>\n",
       "    <tr>\n",
       "      <th>5A</th>\n",
       "      <td>0.189032</td>\n",
       "      <td>0.215342</td>\n",
       "      <td>823</td>\n",
       "      <td>consonants</td>\n",
       "    </tr>\n",
       "    <tr>\n",
       "      <th>8A</th>\n",
       "      <td>0.154624</td>\n",
       "      <td>0.168738</td>\n",
       "      <td>621</td>\n",
       "      <td>consonants</td>\n",
       "    </tr>\n",
       "    <tr>\n",
       "      <th>16A</th>\n",
       "      <td>0.149319</td>\n",
       "      <td>0.123356</td>\n",
       "      <td>334</td>\n",
       "      <td>prosody</td>\n",
       "    </tr>\n",
       "    <tr>\n",
       "      <th>1A</th>\n",
       "      <td>0.138509</td>\n",
       "      <td>0.114684</td>\n",
       "      <td>595</td>\n",
       "      <td>consonants</td>\n",
       "    </tr>\n",
       "    <tr>\n",
       "      <th>14A</th>\n",
       "      <td>0.123877</td>\n",
       "      <td>0.119582</td>\n",
       "      <td>422</td>\n",
       "      <td>prosody</td>\n",
       "    </tr>\n",
       "    <tr>\n",
       "      <th>6A</th>\n",
       "      <td>0.108594</td>\n",
       "      <td>0.104864</td>\n",
       "      <td>658</td>\n",
       "      <td>consonants</td>\n",
       "    </tr>\n",
       "    <tr>\n",
       "      <th>15A</th>\n",
       "      <td>0.105204</td>\n",
       "      <td>0.100948</td>\n",
       "      <td>386</td>\n",
       "      <td>prosody</td>\n",
       "    </tr>\n",
       "    <tr>\n",
       "      <th>3A</th>\n",
       "      <td>0.10143</td>\n",
       "      <td>0.1054</td>\n",
       "      <td>279</td>\n",
       "      <td>consontants and vowels</td>\n",
       "    </tr>\n",
       "    <tr>\n",
       "      <th>7A</th>\n",
       "      <td>0.0860238</td>\n",
       "      <td>0.130219</td>\n",
       "      <td>739</td>\n",
       "      <td>consonants</td>\n",
       "    </tr>\n",
       "    <tr>\n",
       "      <th>18A</th>\n",
       "      <td>0.0478102</td>\n",
       "      <td>0.0624322</td>\n",
       "      <td>718</td>\n",
       "      <td>consonants</td>\n",
       "    </tr>\n",
       "    <tr>\n",
       "      <th>19A</th>\n",
       "      <td>0.0376173</td>\n",
       "      <td>0.0627187</td>\n",
       "      <td>747</td>\n",
       "      <td>consonants</td>\n",
       "    </tr>\n",
       "    <tr>\n",
       "      <th>11A</th>\n",
       "      <td>0.0130606</td>\n",
       "      <td>0.0176309</td>\n",
       "      <td>860</td>\n",
       "      <td>vowels</td>\n",
       "    </tr>\n",
       "  </tbody>\n",
       "</table>\n",
       "</div>"
      ],
      "text/plain": [
       "    mean_loading        std participation                 subarea\n",
       "12A     0.408789   0.220747           786                    None\n",
       "2A      0.262768   0.239671           779                  vowels\n",
       "9A      0.213745   0.169338           401              consonants\n",
       "4A      0.212447    0.16631           712              consonants\n",
       "13A     0.211549   0.117288           110                 prosody\n",
       "5A      0.189032   0.215342           823              consonants\n",
       "8A      0.154624   0.168738           621              consonants\n",
       "16A     0.149319   0.123356           334                 prosody\n",
       "1A      0.138509   0.114684           595              consonants\n",
       "14A     0.123877   0.119582           422                 prosody\n",
       "6A      0.108594   0.104864           658              consonants\n",
       "15A     0.105204   0.100948           386                 prosody\n",
       "3A       0.10143     0.1054           279  consontants and vowels\n",
       "7A     0.0860238   0.130219           739              consonants\n",
       "18A    0.0478102  0.0624322           718              consonants\n",
       "19A    0.0376173  0.0627187           747              consonants\n",
       "11A    0.0130606  0.0176309           860                  vowels"
      ]
     },
     "execution_count": 25,
     "metadata": {},
     "output_type": "execute_result"
    }
   ],
   "source": [
    "comp2.sort_values(by='mean_loading',ascending=False)"
   ]
  },
  {
   "cell_type": "code",
   "execution_count": 27,
   "metadata": {
    "collapsed": false
   },
   "outputs": [
    {
     "data": {
      "image/png": "[encoded data removed]",
      "text/plain": [
       "<matplotlib.figure.Figure at 0x7ff79c57ff98>"
      ]
     },
     "metadata": {},
     "output_type": "display_data"
    }
   ],
   "source": [
    "comp2cons = comp2.loc[comp2['subarea'].isin(['consonants','consonants and vowels'])]\n",
    "comp2vowels = comp2.loc[comp2['subarea'].isin(['vowels','consonants and vowels'])]\n",
    "comp2pros = comp2.loc[comp2['subarea'] == 'prosody']\n",
    "means = [df['mean_loading'].mean() for df in (comp2cons,comp2vowels,comp2pros)]\n",
    "stds = [df['mean_loading'].std() for df in (comp2cons,comp2vowels,comp2pros)]\n",
    "\n",
    "xlabs = [\n",
    "    \"consonants\\n(\" + str(int(comp2cons['participation'].mean())) + \")\",\n",
    "    \"vowels\\n(\"+str(int(comp2vowels['participation'].mean()))+\")\",\n",
    "    \"prosody\\n(\" + str(int(comp2pros['participation'].mean()))+\")\"\n",
    "]\n",
    "\n",
    "s = pd.Series(\n",
    "    means,\n",
    "    index = xlabs\n",
    ")\n",
    "\n",
    "plt.title(\"Subarea Comparisson\")\n",
    "plt.ylabel('Average Loadings on PC2')\n",
    "plt.xlabel('Subarea')\n",
    "\n",
    "s.plot(\n",
    "    kind='bar', \n",
    "    color='rgb',\n",
    "    yerr = stds\n",
    ")\n",
    "\n",
    "plt.show()"
   ]
  },
  {
   "cell_type": "markdown",
   "metadata": {},
   "source": [
    "### For example, the feature set with the best silhouette:"
   ]
  },
  {
   "cell_type": "code",
   "execution_count": 28,
   "metadata": {
    "collapsed": false
   },
   "outputs": [
    {
     "name": "stdout",
     "output_type": "stream",
     "text": [
      "5 long group covering 217 languages\n",
      "quality index: 5.16\n",
      "dim1: 25%\n",
      "dim2: 18%\n",
      "fields: 'phonology': 5\n",
      "features:\n",
      "12A Syllable Structure\n",
      "\r",
      "13A Tone\n",
      "\r",
      "18A Absence of Common Consonants\n",
      "\r",
      "7A Glottalized Consonants\n",
      "\r",
      "9A The Velar Nasal\n",
      "family1: 15 (Austronesian), \n",
      "family2: 12 (Indo-European), \n",
      "separation: 0.71\n"
     ]
    }
   ],
   "source": [
    "g = groups[0]\n",
    "print(g)"
   ]
  },
  {
   "cell_type": "code",
   "execution_count": 21,
   "metadata": {
    "collapsed": false
   },
   "outputs": [
    {
     "name": "stdout",
     "output_type": "stream",
     "text": [
      "12A\n",
      "comp.0    0.415143\n",
      "comp.1    0.205070\n",
      "comp.2    0.420243\n",
      "comp.3    0.103761\n",
      "comp.4    0.166857\n",
      "dtype: float64\n",
      "\n",
      "\n",
      "13A\n",
      "comp.0    0.045654\n",
      "comp.1    0.419444\n",
      "comp.2    0.417775\n",
      "comp.3    0.001169\n",
      "comp.4    0.076713\n",
      "dtype: float64\n",
      "\n",
      "\n",
      "18A\n",
      "comp.0    0.021715\n",
      "comp.1    0.005645\n",
      "comp.2    0.003534\n",
      "comp.3    0.004119\n",
      "comp.4    0.179715\n",
      "dtype: float64\n",
      "\n",
      "\n",
      "7A\n",
      "comp.0    0.089418\n",
      "comp.1    0.077168\n",
      "comp.2    0.034822\n",
      "comp.3    0.668964\n",
      "comp.4    0.007806\n",
      "dtype: float64\n",
      "\n",
      "\n",
      "9A\n",
      "comp.0    0.428071\n",
      "comp.1    0.292673\n",
      "comp.2    0.123626\n",
      "comp.3    0.221987\n",
      "comp.4    0.568909\n",
      "dtype: float64\n",
      "\n",
      "\n"
     ]
    }
   ],
   "source": [
    "w = g.weights()\n",
    "for c in g.cols:\n",
    "    print(c)\n",
    "    print(w[c])\n",
    "    print(\"\\n\")"
   ]
  }
 ],
 "metadata": {
  "kernelspec": {
   "display_name": "Python 3",
   "language": "python",
   "name": "python3"
  },
  "language_info": {
   "codemirror_mode": {
    "name": "ipython",
    "version": 3
   },
   "file_extension": ".py",
   "mimetype": "text/x-python",
   "name": "python",
   "nbconvert_exporter": "python",
   "pygments_lexer": "ipython3",
   "version": "3.5.2"
  }
 },
 "nbformat": 4,
 "nbformat_minor": 1
}
