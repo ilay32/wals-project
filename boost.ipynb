{
 "cells": [
  {
   "cell_type": "markdown",
   "metadata": {},
   "source": [
    "## Boosting"
   ]
  },
  {
   "cell_type": "code",
   "execution_count": 1,
   "metadata": {
    "collapsed": false
   },
   "outputs": [
    {
     "name": "stderr",
     "output_type": "stream",
     "text": [
      "randomForest 4.6-12\n",
      "Type rfNews() to see new features/changes/bug fixes.\n",
      "Loading required package: survival\n",
      "Loading required package: lattice\n",
      "Loading required package: splines\n",
      "Loading required package: parallel\n",
      "Loaded gbm 2.1.3\n"
     ]
    }
   ],
   "source": [
    "library(rpart)\n",
    "library(randomForest)\n",
    "library(rpart.plot)\n",
    "library(xgboost)\n",
    "library(gbm)\n",
    "wals <- read.csv('wals.csv')\n",
    "binwals <- read.csv('binarized-wals.csv')\n",
    "\n",
    "colnames(wals) <- sub(\"(X[0-9]+[A-Z])(.*)\",\"\\\\1\",colnames(wals))\n",
    "binwals$X <- NULL"
   ]
  },
  {
   "cell_type": "code",
   "execution_count": 13,
   "metadata": {
    "collapsed": true
   },
   "outputs": [],
   "source": [
    "chunk_wals <- function(cols,supp) {\n",
    "    cols <- unlist(lapply(cols,function(f){paste('X',f,sep=\"\")}))\n",
    "    wals[rowSums(binwals[,cols]) >= length(cols),c(cols,supp)]\n",
    "}\n",
    "exampletree <- function(langs,wals_chunk,cp=0.01,minsplit=8) {\n",
    "    dat <- wals_chunk[wals_chunk$family %in% langs,]\n",
    "    dat$family <-  droplevels(dat$family)\n",
    "    dat <- lapply(dat,as.factor)\n",
    "    tree <- rpart(family ~ ., data = dat,control=c(minsplit=minsplit,cp=cp),method='class')\n",
    "    tree\n",
    "}\n",
    "exampleforest <- function(langs,wals_chunk) {\n",
    "    dat <- wals_chunk[wals_chunk$family %in% langs,]\n",
    "    dat$family <- droplevels(dat$family)\n",
    "    dat <- lapply(dat,as.factor)\n",
    "    forest <- randomForest(family ~ ., data=dat, importance=TRUE)\n",
    "    forest\n",
    "}\n",
    "one_vs_others <- function(family,chunk) {\n",
    "    tar <- chunk[chunk$family == family,]\n",
    "    others <- chunk[chunk$family != family,]\n",
    "    others <- others[sample(nrow(others),nrow(tar)),]\n",
    "    others$family <- 0\n",
    "    tar$family <- 1\n",
    "    rbind(tar,others)\n",
    "}\n",
    "\n",
    "xify <- function(cols) {\n",
    "    unlist(lapply(cols,function(f){paste('X',f,sep=\"\")}))\n",
    "}"
   ]
  },
  {
   "cell_type": "code",
   "execution_count": 14,
   "metadata": {
    "collapsed": false
   },
   "outputs": [],
   "source": [
    "g = c('143A','81A','89A','97A')\n",
    "chunk <- chunk_wals(g,'family')\n",
    "bchunk <- one_vs_others('Niger-Congo',chunk)\n",
    "t <- gbm(family ~ ., data = bchunk,distribution=\"bernoulli\")"
   ]
  },
  {
   "cell_type": "code",
   "execution_count": 47,
   "metadata": {
    "collapsed": false
   },
   "outputs": [
    {
     "data": {
      "text/html": [
       "<table>\n",
       "<thead><tr><th></th><th scope=col>var</th><th scope=col>rel.inf</th></tr></thead>\n",
       "<tbody>\n",
       "\t<tr><th scope=row>X81A</th><td>X81A    </td><td>87.52251</td></tr>\n",
       "\t<tr><th scope=row>X89A</th><td>X89A    </td><td>12.47749</td></tr>\n",
       "\t<tr><th scope=row>X143A</th><td>X143A   </td><td> 0.00000</td></tr>\n",
       "\t<tr><th scope=row>X97A</th><td>X97A    </td><td> 0.00000</td></tr>\n",
       "</tbody>\n",
       "</table>\n"
      ],
      "text/latex": [
       "\\begin{tabular}{r|ll}\n",
       "  & var & rel.inf\\\\\n",
       "\\hline\n",
       "\tX81A & X81A     & 87.52251\\\\\n",
       "\tX89A & X89A     & 12.47749\\\\\n",
       "\tX143A & X143A    &  0.00000\\\\\n",
       "\tX97A & X97A     &  0.00000\\\\\n",
       "\\end{tabular}\n"
      ],
      "text/markdown": [
       "\n",
       "| <!--/--> | var | rel.inf | \n",
       "|---|---|---|---|\n",
       "| X81A | X81A     | 87.52251 | \n",
       "| X89A | X89A     | 12.47749 | \n",
       "| X143A | X143A    |  0.00000 | \n",
       "| X97A | X97A     |  0.00000 | \n",
       "\n",
       "\n"
      ],
      "text/plain": [
       "      var   rel.inf \n",
       "X81A  X81A  87.52251\n",
       "X89A  X89A  12.47749\n",
       "X143A X143A  0.00000\n",
       "X97A  X97A   0.00000"
      ]
     },
     "metadata": {},
     "output_type": "display_data"
    },
    {
     "data": {
      "image/png": "[encoded data removed]",
      "text/plain": [
       "plot without title"
      ]
     },
     "metadata": {},
     "output_type": "display_data"
    }
   ],
   "source": [
    "summary(t)"
   ]
  },
  {
   "cell_type": "code",
   "execution_count": 69,
   "metadata": {
    "collapsed": false
   },
   "outputs": [],
   "source": [
    "test <- wals[wals$X81A != \"\",xify(g)]"
   ]
  },
  {
   "cell_type": "code",
   "execution_count": 70,
   "metadata": {
    "collapsed": true
   },
   "outputs": [],
   "source": [
    "x <- predict(t, newdata=test, type=\"response\",n.trees=100)"
   ]
  }
 ],
 "metadata": {
  "kernelspec": {
   "display_name": "R",
   "language": "R",
   "name": "ir"
  },
  "language_info": {
   "codemirror_mode": "r",
   "file_extension": ".r",
   "mimetype": "text/x-r-source",
   "name": "R",
   "pygments_lexer": "r",
   "version": "3.4.3"
  }
 },
 "nbformat": 4,
 "nbformat_minor": 1
}
