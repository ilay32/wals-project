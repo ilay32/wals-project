{
 "cells": [
  {
   "cell_type": "markdown",
   "metadata": {},
   "source": [
    "### WALS Project mini-Test ###\n",
    "We set up the basic functionality and tested the two features:\n",
    " - number of cases\n",
    " - word order\n"
   ]
  },
  {
   "cell_type": "code",
   "execution_count": 1,
   "metadata": {
    "collapsed": false
   },
   "outputs": [
    {
     "name": "stdout",
     "output_type": "stream",
     "text": [
      "[[ 0.9875766   0.2157909 ]\n",
      " [ 0.2157909   2.32882366]]\n"
     ]
    }
   ],
   "source": [
    "import yaml,logging,numpy\n",
    "from optparse import OptionParser\n",
    "from feature import Feature\n",
    "features = yaml.load(open('features.yml'))\n",
    "nlangs = 2679\n",
    "logging.basicConfig(level=logging.ERROR)\n",
    "\n",
    "# do the main #\n",
    "base_matrix = numpy.zeros((0,nlangs))\n",
    "for name,data in features.items():\n",
    "    feat =  Feature(name,data)\n",
    "    base_matrix = numpy.vstack((base_matrix,feat.get_languages()))\n",
    "\n",
    "print(numpy.cov(base_matrix))"
   ]
  },
  {
   "cell_type": "markdown",
   "metadata": {},
   "source": [
    "The resulting covariance matrix doesn't seem very promissing we expected a negative number outside the diagonal.\n",
    "You may note tough that only 261 of the languages have a value for this feature.\n",
    "Now if we take just those 261:"
   ]
  },
  {
   "cell_type": "code",
   "execution_count": 2,
   "metadata": {
    "collapsed": false
   },
   "outputs": [
    {
     "name": "stdout",
     "output_type": "stream",
     "text": [
      "(261, 2) [[ 1.  1.]\n",
      " [ 1.  2.]\n",
      " [-1.  1.]\n",
      " [ 1.  1.]\n",
      " [ 1.  9.]]\n"
     ]
    }
   ],
   "source": [
    "cases = Feature('number_of_cases', features['number_of_cases']).get_languages()\n",
    "orders = Feature('word_order1', features['word_order1']).get_languages()\n",
    "new_base = numpy.zeros((0,2))\n",
    "for o,c in zip(orders,cases):\n",
    "    if c != 0:\n",
    "        new_base = numpy.vstack((new_base,numpy.array([o,c])))\n",
    "print(new_base.shape, new_base[:5])"
   ]
  },
  {
   "cell_type": "code",
   "execution_count": 3,
   "metadata": {
    "collapsed": false
   },
   "outputs": [
    {
     "name": "stdout",
     "output_type": "stream",
     "text": [
      "[[ 0.70250516 -0.47217801]\n",
      " [-0.47217801  9.04238137]]\n"
     ]
    }
   ],
   "source": [
    "print(numpy.cov(numpy.transpose(new_base)))"
   ]
  },
  {
   "cell_type": "markdown",
   "metadata": {},
   "source": [
    "Does this make more sense?\n",
    "If it does, I guess we have to first see what kind of coverage WALS offers."
   ]
  },
  {
   "cell_type": "code",
   "execution_count": 4,
   "metadata": {
    "collapsed": false
   },
   "outputs": [
    {
     "data": {
      "text/html": [
       "<div>\n",
       "<table border=\"1\" class=\"dataframe\">\n",
       "  <thead>\n",
       "    <tr style=\"text-align: right;\">\n",
       "      <th></th>\n",
       "      <th>1A Consonant Inventories</th>\n",
       "      <th>2A Vowel Quality Inventories</th>\n",
       "      <th>3A Consonant-Vowel Ratio</th>\n",
       "      <th>4A Voicing in Plosives and Fricatives</th>\n",
       "      <th>5A Voicing and Gaps in Plosive Systems</th>\n",
       "      <th>6A Uvular Consonants</th>\n",
       "      <th>7A Glottalized Consonants</th>\n",
       "      <th>8A Lateral Consonants</th>\n",
       "      <th>9A The Velar Nasal</th>\n",
       "      <th>10A Vowel Nasalization</th>\n",
       "      <th>...</th>\n",
       "      <th>137B M in Second Person Singular</th>\n",
       "      <th>136B M in First Person Singular</th>\n",
       "      <th>109B Other Roles of Applied Objects</th>\n",
       "      <th>10B Nasal Vowels in West Africa</th>\n",
       "      <th>25B Zero Marking of A and P Arguments</th>\n",
       "      <th>21B Exponence of Tense-Aspect-Mood Inflection</th>\n",
       "      <th>108B Productivity of the Antipassive Construction</th>\n",
       "      <th>130B Cultural Categories of Languages with Identity of 'Finger' and 'Hand'</th>\n",
       "      <th>58B Number of Possessive Nouns</th>\n",
       "      <th>79B Suppletion in Imperatives and Hortatives</th>\n",
       "    </tr>\n",
       "  </thead>\n",
       "  <tbody>\n",
       "    <tr>\n",
       "      <th>count</th>\n",
       "      <td>2679.000000</td>\n",
       "      <td>2679.000000</td>\n",
       "      <td>2679.000000</td>\n",
       "      <td>2679.000000</td>\n",
       "      <td>2679.000000</td>\n",
       "      <td>2679.000000</td>\n",
       "      <td>2679.000000</td>\n",
       "      <td>2679.000000</td>\n",
       "      <td>2679.000000</td>\n",
       "      <td>2679.000000</td>\n",
       "      <td>...</td>\n",
       "      <td>2679.000000</td>\n",
       "      <td>2679.000000</td>\n",
       "      <td>2679.000000</td>\n",
       "      <td>2679.000000</td>\n",
       "      <td>2679.000000</td>\n",
       "      <td>2679.000000</td>\n",
       "      <td>2679.000000</td>\n",
       "      <td>2679.000000</td>\n",
       "      <td>2679.000000</td>\n",
       "      <td>2679.000000</td>\n",
       "    </tr>\n",
       "    <tr>\n",
       "      <th>mean</th>\n",
       "      <td>0.210153</td>\n",
       "      <td>0.210526</td>\n",
       "      <td>0.210526</td>\n",
       "      <td>0.211646</td>\n",
       "      <td>0.211646</td>\n",
       "      <td>0.211646</td>\n",
       "      <td>0.211646</td>\n",
       "      <td>0.211646</td>\n",
       "      <td>0.175065</td>\n",
       "      <td>0.091079</td>\n",
       "      <td>...</td>\n",
       "      <td>0.085853</td>\n",
       "      <td>0.085853</td>\n",
       "      <td>0.068309</td>\n",
       "      <td>0.014931</td>\n",
       "      <td>0.087719</td>\n",
       "      <td>0.059724</td>\n",
       "      <td>0.069429</td>\n",
       "      <td>0.026876</td>\n",
       "      <td>0.090705</td>\n",
       "      <td>0.072042</td>\n",
       "    </tr>\n",
       "    <tr>\n",
       "      <th>std</th>\n",
       "      <td>0.407493</td>\n",
       "      <td>0.407759</td>\n",
       "      <td>0.407759</td>\n",
       "      <td>0.408552</td>\n",
       "      <td>0.408552</td>\n",
       "      <td>0.408552</td>\n",
       "      <td>0.408552</td>\n",
       "      <td>0.408552</td>\n",
       "      <td>0.380094</td>\n",
       "      <td>0.287775</td>\n",
       "      <td>...</td>\n",
       "      <td>0.280199</td>\n",
       "      <td>0.280199</td>\n",
       "      <td>0.252323</td>\n",
       "      <td>0.121299</td>\n",
       "      <td>0.282939</td>\n",
       "      <td>0.237019</td>\n",
       "      <td>0.254230</td>\n",
       "      <td>0.161750</td>\n",
       "      <td>0.287243</td>\n",
       "      <td>0.258605</td>\n",
       "    </tr>\n",
       "    <tr>\n",
       "      <th>min</th>\n",
       "      <td>0.000000</td>\n",
       "      <td>0.000000</td>\n",
       "      <td>0.000000</td>\n",
       "      <td>0.000000</td>\n",
       "      <td>0.000000</td>\n",
       "      <td>0.000000</td>\n",
       "      <td>0.000000</td>\n",
       "      <td>0.000000</td>\n",
       "      <td>0.000000</td>\n",
       "      <td>0.000000</td>\n",
       "      <td>...</td>\n",
       "      <td>0.000000</td>\n",
       "      <td>0.000000</td>\n",
       "      <td>0.000000</td>\n",
       "      <td>0.000000</td>\n",
       "      <td>0.000000</td>\n",
       "      <td>0.000000</td>\n",
       "      <td>0.000000</td>\n",
       "      <td>0.000000</td>\n",
       "      <td>0.000000</td>\n",
       "      <td>0.000000</td>\n",
       "    </tr>\n",
       "    <tr>\n",
       "      <th>25%</th>\n",
       "      <td>0.000000</td>\n",
       "      <td>0.000000</td>\n",
       "      <td>0.000000</td>\n",
       "      <td>0.000000</td>\n",
       "      <td>0.000000</td>\n",
       "      <td>0.000000</td>\n",
       "      <td>0.000000</td>\n",
       "      <td>0.000000</td>\n",
       "      <td>0.000000</td>\n",
       "      <td>0.000000</td>\n",
       "      <td>...</td>\n",
       "      <td>0.000000</td>\n",
       "      <td>0.000000</td>\n",
       "      <td>0.000000</td>\n",
       "      <td>0.000000</td>\n",
       "      <td>0.000000</td>\n",
       "      <td>0.000000</td>\n",
       "      <td>0.000000</td>\n",
       "      <td>0.000000</td>\n",
       "      <td>0.000000</td>\n",
       "      <td>0.000000</td>\n",
       "    </tr>\n",
       "    <tr>\n",
       "      <th>50%</th>\n",
       "      <td>0.000000</td>\n",
       "      <td>0.000000</td>\n",
       "      <td>0.000000</td>\n",
       "      <td>0.000000</td>\n",
       "      <td>0.000000</td>\n",
       "      <td>0.000000</td>\n",
       "      <td>0.000000</td>\n",
       "      <td>0.000000</td>\n",
       "      <td>0.000000</td>\n",
       "      <td>0.000000</td>\n",
       "      <td>...</td>\n",
       "      <td>0.000000</td>\n",
       "      <td>0.000000</td>\n",
       "      <td>0.000000</td>\n",
       "      <td>0.000000</td>\n",
       "      <td>0.000000</td>\n",
       "      <td>0.000000</td>\n",
       "      <td>0.000000</td>\n",
       "      <td>0.000000</td>\n",
       "      <td>0.000000</td>\n",
       "      <td>0.000000</td>\n",
       "    </tr>\n",
       "    <tr>\n",
       "      <th>75%</th>\n",
       "      <td>0.000000</td>\n",
       "      <td>0.000000</td>\n",
       "      <td>0.000000</td>\n",
       "      <td>0.000000</td>\n",
       "      <td>0.000000</td>\n",
       "      <td>0.000000</td>\n",
       "      <td>0.000000</td>\n",
       "      <td>0.000000</td>\n",
       "      <td>0.000000</td>\n",
       "      <td>0.000000</td>\n",
       "      <td>...</td>\n",
       "      <td>0.000000</td>\n",
       "      <td>0.000000</td>\n",
       "      <td>0.000000</td>\n",
       "      <td>0.000000</td>\n",
       "      <td>0.000000</td>\n",
       "      <td>0.000000</td>\n",
       "      <td>0.000000</td>\n",
       "      <td>0.000000</td>\n",
       "      <td>0.000000</td>\n",
       "      <td>0.000000</td>\n",
       "    </tr>\n",
       "    <tr>\n",
       "      <th>max</th>\n",
       "      <td>1.000000</td>\n",
       "      <td>1.000000</td>\n",
       "      <td>1.000000</td>\n",
       "      <td>1.000000</td>\n",
       "      <td>1.000000</td>\n",
       "      <td>1.000000</td>\n",
       "      <td>1.000000</td>\n",
       "      <td>1.000000</td>\n",
       "      <td>1.000000</td>\n",
       "      <td>1.000000</td>\n",
       "      <td>...</td>\n",
       "      <td>1.000000</td>\n",
       "      <td>1.000000</td>\n",
       "      <td>1.000000</td>\n",
       "      <td>1.000000</td>\n",
       "      <td>1.000000</td>\n",
       "      <td>1.000000</td>\n",
       "      <td>1.000000</td>\n",
       "      <td>1.000000</td>\n",
       "      <td>1.000000</td>\n",
       "      <td>1.000000</td>\n",
       "    </tr>\n",
       "  </tbody>\n",
       "</table>\n",
       "<p>8 rows × 192 columns</p>\n",
       "</div>"
      ],
      "text/plain": [
       "       1A Consonant Inventories  2A Vowel Quality Inventories  \\\n",
       "count               2679.000000                   2679.000000   \n",
       "mean                   0.210153                      0.210526   \n",
       "std                    0.407493                      0.407759   \n",
       "min                    0.000000                      0.000000   \n",
       "25%                    0.000000                      0.000000   \n",
       "50%                    0.000000                      0.000000   \n",
       "75%                    0.000000                      0.000000   \n",
       "max                    1.000000                      1.000000   \n",
       "\n",
       "       3A Consonant-Vowel Ratio  4A Voicing in Plosives and Fricatives  \\\n",
       "count               2679.000000                            2679.000000   \n",
       "mean                   0.210526                               0.211646   \n",
       "std                    0.407759                               0.408552   \n",
       "min                    0.000000                               0.000000   \n",
       "25%                    0.000000                               0.000000   \n",
       "50%                    0.000000                               0.000000   \n",
       "75%                    0.000000                               0.000000   \n",
       "max                    1.000000                               1.000000   \n",
       "\n",
       "       5A Voicing and Gaps in Plosive Systems  6A Uvular Consonants  \\\n",
       "count                             2679.000000           2679.000000   \n",
       "mean                                 0.211646              0.211646   \n",
       "std                                  0.408552              0.408552   \n",
       "min                                  0.000000              0.000000   \n",
       "25%                                  0.000000              0.000000   \n",
       "50%                                  0.000000              0.000000   \n",
       "75%                                  0.000000              0.000000   \n",
       "max                                  1.000000              1.000000   \n",
       "\n",
       "       7A Glottalized Consonants  8A Lateral Consonants  9A The Velar Nasal  \\\n",
       "count                2679.000000            2679.000000         2679.000000   \n",
       "mean                    0.211646               0.211646            0.175065   \n",
       "std                     0.408552               0.408552            0.380094   \n",
       "min                     0.000000               0.000000            0.000000   \n",
       "25%                     0.000000               0.000000            0.000000   \n",
       "50%                     0.000000               0.000000            0.000000   \n",
       "75%                     0.000000               0.000000            0.000000   \n",
       "max                     1.000000               1.000000            1.000000   \n",
       "\n",
       "       10A Vowel Nasalization                      ...                       \\\n",
       "count             2679.000000                      ...                        \n",
       "mean                 0.091079                      ...                        \n",
       "std                  0.287775                      ...                        \n",
       "min                  0.000000                      ...                        \n",
       "25%                  0.000000                      ...                        \n",
       "50%                  0.000000                      ...                        \n",
       "75%                  0.000000                      ...                        \n",
       "max                  1.000000                      ...                        \n",
       "\n",
       "       137B M in Second Person Singular  136B M in First Person Singular  \\\n",
       "count                       2679.000000                      2679.000000   \n",
       "mean                           0.085853                         0.085853   \n",
       "std                            0.280199                         0.280199   \n",
       "min                            0.000000                         0.000000   \n",
       "25%                            0.000000                         0.000000   \n",
       "50%                            0.000000                         0.000000   \n",
       "75%                            0.000000                         0.000000   \n",
       "max                            1.000000                         1.000000   \n",
       "\n",
       "       109B Other Roles of Applied Objects  10B Nasal Vowels in West Africa  \\\n",
       "count                          2679.000000                      2679.000000   \n",
       "mean                              0.068309                         0.014931   \n",
       "std                               0.252323                         0.121299   \n",
       "min                               0.000000                         0.000000   \n",
       "25%                               0.000000                         0.000000   \n",
       "50%                               0.000000                         0.000000   \n",
       "75%                               0.000000                         0.000000   \n",
       "max                               1.000000                         1.000000   \n",
       "\n",
       "       25B Zero Marking of A and P Arguments  \\\n",
       "count                            2679.000000   \n",
       "mean                                0.087719   \n",
       "std                                 0.282939   \n",
       "min                                 0.000000   \n",
       "25%                                 0.000000   \n",
       "50%                                 0.000000   \n",
       "75%                                 0.000000   \n",
       "max                                 1.000000   \n",
       "\n",
       "       21B Exponence of Tense-Aspect-Mood Inflection  \\\n",
       "count                                    2679.000000   \n",
       "mean                                        0.059724   \n",
       "std                                         0.237019   \n",
       "min                                         0.000000   \n",
       "25%                                         0.000000   \n",
       "50%                                         0.000000   \n",
       "75%                                         0.000000   \n",
       "max                                         1.000000   \n",
       "\n",
       "       108B Productivity of the Antipassive Construction  \\\n",
       "count                                        2679.000000   \n",
       "mean                                            0.069429   \n",
       "std                                             0.254230   \n",
       "min                                             0.000000   \n",
       "25%                                             0.000000   \n",
       "50%                                             0.000000   \n",
       "75%                                             0.000000   \n",
       "max                                             1.000000   \n",
       "\n",
       "       130B Cultural Categories of Languages with Identity of 'Finger' and 'Hand'  \\\n",
       "count                                        2679.000000                            \n",
       "mean                                            0.026876                            \n",
       "std                                             0.161750                            \n",
       "min                                             0.000000                            \n",
       "25%                                             0.000000                            \n",
       "50%                                             0.000000                            \n",
       "75%                                             0.000000                            \n",
       "max                                             1.000000                            \n",
       "\n",
       "       58B Number of Possessive Nouns  \\\n",
       "count                     2679.000000   \n",
       "mean                         0.090705   \n",
       "std                          0.287243   \n",
       "min                          0.000000   \n",
       "25%                          0.000000   \n",
       "50%                          0.000000   \n",
       "75%                          0.000000   \n",
       "max                          1.000000   \n",
       "\n",
       "       79B Suppletion in Imperatives and Hortatives  \n",
       "count                                   2679.000000  \n",
       "mean                                       0.072042  \n",
       "std                                        0.258605  \n",
       "min                                        0.000000  \n",
       "25%                                        0.000000  \n",
       "50%                                        0.000000  \n",
       "75%                                        0.000000  \n",
       "max                                        1.000000  \n",
       "\n",
       "[8 rows x 192 columns]"
      ]
     },
     "execution_count": 4,
     "metadata": {},
     "output_type": "execute_result"
    }
   ],
   "source": [
    "from feature import languages\n",
    "coverage = languages.ix[:,10:]\n",
    "coverage = coverage.replace(to_replace=\".+\",regex=True,value=1)\n",
    "coverage = coverage.replace(to_replace='',value=0)\n",
    "coverage.describe()"
   ]
  },
  {
   "cell_type": "code",
   "execution_count": 5,
   "metadata": {
    "collapsed": false
   },
   "outputs": [],
   "source": [
    "coverage = coverage.apply(lambda f: sum(f))"
   ]
  },
  {
   "cell_type": "markdown",
   "metadata": {},
   "source": [
    "and a quick sanity check:"
   ]
  },
  {
   "cell_type": "code",
   "execution_count": 6,
   "metadata": {
    "collapsed": false
   },
   "outputs": [
    {
     "data": {
      "text/plain": [
       "49A Number of Cases                       261\n",
       "81A Order of Subject, Object and Verb    1377\n",
       "dtype: int64"
      ]
     },
     "execution_count": 6,
     "metadata": {},
     "output_type": "execute_result"
    }
   ],
   "source": [
    "coverage[['49A Number of Cases', '81A Order of Subject, Object and Verb']]"
   ]
  },
  {
   "cell_type": "markdown",
   "metadata": {},
   "source": [
    "(correct)"
   ]
  },
  {
   "cell_type": "code",
   "execution_count": 7,
   "metadata": {
    "collapsed": false
   },
   "outputs": [
    {
     "data": {
      "text/plain": [
       "count     192.000000\n",
       "mean      398.255208\n",
       "std       349.743066\n",
       "min         5.000000\n",
       "25%       171.500000\n",
       "50%       257.000000\n",
       "75%       508.250000\n",
       "max      1519.000000\n",
       "dtype: float64"
      ]
     },
     "execution_count": 7,
     "metadata": {},
     "output_type": "execute_result"
    }
   ],
   "source": [
    "coverage.describe()"
   ]
  },
  {
   "cell_type": "markdown",
   "metadata": {},
   "source": [
    "\n",
    "### So 75% of the features cover less than 527 languages ###\n",
    "how many features cover more than 1000 languages?"
   ]
  },
  {
   "cell_type": "code",
   "execution_count": 8,
   "metadata": {
    "collapsed": false
   },
   "outputs": [
    {
     "data": {
      "text/plain": [
       "19.0"
      ]
     },
     "execution_count": 8,
     "metadata": {},
     "output_type": "execute_result"
    }
   ],
   "source": [
    "from scipy.stats import percentileofscore as pcor\n",
    "round(193*(1 - pcor(coverage.values,1000)/100))"
   ]
  },
  {
   "cell_type": "markdown",
   "metadata": {},
   "source": [
    "but are these good features?"
   ]
  },
  {
   "cell_type": "code",
   "execution_count": 12,
   "metadata": {
    "collapsed": false
   },
   "outputs": [
    {
     "name": "stdout",
     "output_type": "stream",
     "text": [
      "33A Coding of Nominal Plurality\n",
      "51A Position of Case Affixes\n",
      "69A Position of Tense-Aspect Affixes\n",
      "81A Order of Subject, Object and Verb\n",
      "82A Order of Subject and Verb\n",
      "83A Order of Object and Verb\n",
      "85A Order of Adposition and Noun Phrase\n",
      "86A Order of Genitive and Noun\n",
      "87A Order of Adjective and Noun\n",
      "88A Order of Demonstrative and Noun\n",
      "89A Order of Numeral and Noun\n",
      "95A Relationship between the Order of Object and Verb and the Order of Adposition and Noun Phrase\n",
      "97A Relationship between the Order of Object and Verb and the Order of Adjective and Noun\n",
      "112A Negative Morphemes\n",
      "143F Postverbal Negative Morphemes\n",
      "144A Position of Negative Word With Respect to Subject, Object, and Verb\n",
      "143E Preverbal Negative Morphemes\n",
      "143A Order of Negative Morpheme and Verb\n",
      "143G Minor morphological means of signaling negation\n"
     ]
    }
   ],
   "source": [
    "for i in coverage.keys():\n",
    "    if coverage[i] > 1000:\n",
    "        print(i)"
   ]
  },
  {
   "cell_type": "code",
   "execution_count": null,
   "metadata": {
    "collapsed": true
   },
   "outputs": [],
   "source": []
  }
 ],
 "metadata": {
  "kernelspec": {
   "display_name": "Python 3",
   "language": "python",
   "name": "python3"
  },
  "language_info": {
   "codemirror_mode": {
    "name": "ipython",
    "version": 3
   },
   "file_extension": ".py",
   "mimetype": "text/x-python",
   "name": "python",
   "nbconvert_exporter": "python",
   "pygments_lexer": "ipython3",
   "version": "3.5.2"
  }
 },
 "nbformat": 4,
 "nbformat_minor": 1
}
