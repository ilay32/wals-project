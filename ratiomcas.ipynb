{
 "cells": [
  {
   "cell_type": "markdown",
   "metadata": {},
   "source": [
    "# Verb Noun Ratio through MCA\n",
    "\n",
    "All the feature sets in this notebook are subsets of:\n",
    "\n",
    "\t\n",
    "    82A\tOrder of Subject and Verb\n",
    "    \n",
    "    83A\tOrder of Object and Verb\t\n",
    "\n",
    "    84A\tOrder of Object, Oblique, and Verb\t\n",
    "    \n",
    "    85A\tOrder of Adposition and Noun Phrase\tMatthew\t\n",
    "\n",
    "    86A\tOrder of Genitive and Noun\t\n",
    "\n",
    "    87A\tOrder of Adjective and Noun\t\n",
    "\n",
    "    88A\tOrder of Demonstrative and Nou\n",
    "\n",
    "    89A\tOrder of Numeral and Noun\n",
    "\n",
    "    90A\tOrder of Relative Clause and Noun\n",
    "\n",
    "    91A\tOrder of Degree Word and Adjective\n",
    "\n",
    "    92A\tPosition of Polar Question Particles\n",
    "\n",
    "    93A\tPosition of Interrogative Phrases in Content Questions\n",
    "\n",
    "    94A\tOrder of Adverbial Subordinator and Clause\n",
    "\n",
    "    143A\tOrder of Negative Morpheme and Verb\t\n",
    "\n",
    "    144A\tPosition of Negative Word With Respect to Subject, Object, and Verb\n",
    "\n",
    "With the requirement of at least 20 languages with known verb/noun ratio.\n",
    "\n",
    "Examples 1 - 5 are the top 5 of these sets, in terms of the best silhoutte computed by\n",
    " \n",
    " - high v/n ratio\n",
    " - low v/n ratio\n",
    " - medium v/n ratio\n",
    "\n",
    "\"best\" means optimized for number of mca dimensions to use in the distance computation.\n",
    "\n",
    "All silhouette scores are 0.5+ and quality indices are 4+\n",
    "\n",
    "quality index:\n",
    "max eigenvalue * number of categories / sum of all eigenvalues\n",
    "\n",
    "categories - possible values of a variable i.e a WALS  feature."
   ]
  },
  {
   "cell_type": "code",
   "execution_count": 1,
   "metadata": {
    "collapsed": false
   },
   "outputs": [
    {
     "data": {
      "text/html": [
       "<ol class=list-inline>\n",
       "\t<li>569</li>\n",
       "\t<li>19</li>\n",
       "</ol>\n"
      ],
      "text/latex": [
       "\\begin{enumerate*}\n",
       "\\item 569\n",
       "\\item 19\n",
       "\\end{enumerate*}\n"
      ],
      "text/markdown": [
       "1. 569\n",
       "2. 19\n",
       "\n",
       "\n"
      ],
      "text/plain": [
       "[1] 569  19"
      ]
     },
     "metadata": {},
     "output_type": "display_data"
    }
   ],
   "source": [
    "library(FactoMineR)\n",
    "example1 <- read.csv('chunked-feature-sets/top-1silhouettes-on-diverse-wo.csv')\n",
    "example1$X <- NULL\n",
    "dim(example1)"
   ]
  },
  {
   "cell_type": "code",
   "execution_count": 2,
   "metadata": {
    "collapsed": false
   },
   "outputs": [
    {
     "data": {
      "text/html": [
       "<table>\n",
       "<thead><tr><th scope=col>verb.noun.ratio</th><th scope=col>wals_code</th><th scope=col>iso_code</th><th scope=col>glottocode</th><th scope=col>Name</th><th scope=col>latitude</th><th scope=col>longitude</th><th scope=col>genus</th><th scope=col>family</th><th scope=col>macroarea</th><th scope=col>countrycodes</th><th scope=col>X82A</th><th scope=col>X83A</th><th scope=col>X85A</th><th scope=col>X86A</th><th scope=col>X87A</th><th scope=col>X88A</th><th scope=col>X89A</th><th scope=col>X93A</th></tr></thead>\n",
       "<tbody>\n",
       "\t<tr><td>unknown                           </td><td>abk                               </td><td>abk                               </td><td>abkh1244                          </td><td>Abkhaz                            </td><td>43.08333                          </td><td>41                                </td><td>Northwest Caucasian               </td><td>Northwest Caucasian               </td><td>Eurasia                           </td><td>GE                                </td><td>1 SV                              </td><td>1 OV                              </td><td>1 Postpositions                   </td><td>1 Genitive-Noun                   </td><td>2 Noun-Adjective                  </td><td>1 Demonstrative-Noun              </td><td>3 No dominant order               </td><td>2 Not initial interrogative phrase</td></tr>\n",
       "</tbody>\n",
       "</table>\n"
      ],
      "text/latex": [
       "\\begin{tabular}{r|lllllllllllllllllll}\n",
       " verb.noun.ratio & wals\\_code & iso\\_code & glottocode & Name & latitude & longitude & genus & family & macroarea & countrycodes & X82A & X83A & X85A & X86A & X87A & X88A & X89A & X93A\\\\\n",
       "\\hline\n",
       "\t unknown                            & abk                                & abk                                & abkh1244                           & Abkhaz                             & 43.08333                           & 41                                 & Northwest Caucasian                & Northwest Caucasian                & Eurasia                            & GE                                 & 1 SV                               & 1 OV                               & 1 Postpositions                    & 1 Genitive-Noun                    & 2 Noun-Adjective                   & 1 Demonstrative-Noun               & 3 No dominant order                & 2 Not initial interrogative phrase\\\\\n",
       "\\end{tabular}\n"
      ],
      "text/markdown": [
       "\n",
       "verb.noun.ratio | wals_code | iso_code | glottocode | Name | latitude | longitude | genus | family | macroarea | countrycodes | X82A | X83A | X85A | X86A | X87A | X88A | X89A | X93A | \n",
       "|---|\n",
       "| unknown                            | abk                                | abk                                | abkh1244                           | Abkhaz                             | 43.08333                           | 41                                 | Northwest Caucasian                | Northwest Caucasian                | Eurasia                            | GE                                 | 1 SV                               | 1 OV                               | 1 Postpositions                    | 1 Genitive-Noun                    | 2 Noun-Adjective                   | 1 Demonstrative-Noun               | 3 No dominant order                | 2 Not initial interrogative phrase | \n",
       "\n",
       "\n"
      ],
      "text/plain": [
       "  verb.noun.ratio wals_code iso_code glottocode Name   latitude longitude\n",
       "1 unknown         abk       abk      abkh1244   Abkhaz 43.08333 41       \n",
       "  genus               family              macroarea countrycodes X82A X83A\n",
       "1 Northwest Caucasian Northwest Caucasian Eurasia   GE           1 SV 1 OV\n",
       "  X85A            X86A            X87A             X88A                \n",
       "1 1 Postpositions 1 Genitive-Noun 2 Noun-Adjective 1 Demonstrative-Noun\n",
       "  X89A                X93A                              \n",
       "1 3 No dominant order 2 Not initial interrogative phrase"
      ]
     },
     "metadata": {},
     "output_type": "display_data"
    }
   ],
   "source": [
    "example1[0:1,]"
   ]
  },
  {
   "cell_type": "code",
   "execution_count": 3,
   "metadata": {
    "collapsed": false
   },
   "outputs": [],
   "source": [
    "knownratios = which(example1$verb.noun.ratio != 'unknown')\n",
    "mca <- MCA(example1,quali.sup=1:11)"
   ]
  },
  {
   "cell_type": "code",
   "execution_count": 4,
   "metadata": {
    "collapsed": false
   },
   "outputs": [
    {
     "data": {
      "image/png": "[encoded data removed]",
      "text/plain": [
       "Plot with title “MCA factor map”"
      ]
     },
     "metadata": {},
     "output_type": "display_data"
    }
   ],
   "source": [
    "plot(mca,choix=\"ind\",habillage=\"verb.noun.ratio\",invisible=c(\"var\",\"quali.sup\"),select=knownratios,unselect=1)"
   ]
  },
  {
   "cell_type": "code",
   "execution_count": 5,
   "metadata": {
    "collapsed": false
   },
   "outputs": [
    {
     "data": {
      "text/html": [
       "<table>\n",
       "<thead><tr><th></th><th scope=col>Dim 1</th><th scope=col>Dim 2</th><th scope=col>Dim 3</th><th scope=col>Dim 4</th><th scope=col>Dim 5</th></tr></thead>\n",
       "<tbody>\n",
       "\t<tr><th scope=row>X82A</th><td>0.25839437 </td><td>0.37836767 </td><td>0.220217331</td><td>0.04295772 </td><td>0.019227491</td></tr>\n",
       "\t<tr><th scope=row>X83A</th><td>0.74166312 </td><td>0.04141573 </td><td>0.270991719</td><td>0.04813078 </td><td>0.021319504</td></tr>\n",
       "\t<tr><th scope=row>X85A</th><td>0.80716679 </td><td>0.05121086 </td><td>0.335827622</td><td>0.29928816 </td><td>0.541593463</td></tr>\n",
       "\t<tr><th scope=row>X86A</th><td>0.72812412 </td><td>0.02507984 </td><td>0.097091189</td><td>0.07422557 </td><td>0.003385266</td></tr>\n",
       "\t<tr><th scope=row>X87A</th><td>0.22477240 </td><td>0.31008040 </td><td>0.239684257</td><td>0.11227615 </td><td>0.043699442</td></tr>\n",
       "\t<tr><th scope=row>X88A</th><td>0.42036358 </td><td>0.34467471 </td><td>0.093139015</td><td>0.47874207 </td><td>0.574639838</td></tr>\n",
       "\t<tr><th scope=row>X89A</th><td>0.01837915 </td><td>0.67720557 </td><td>0.082489107</td><td>0.18328096 </td><td>0.005633400</td></tr>\n",
       "\t<tr><th scope=row>X93A</th><td>0.07375978 </td><td>0.45084975 </td><td>0.004572253</td><td>0.01865261 </td><td>0.003309581</td></tr>\n",
       "</tbody>\n",
       "</table>\n"
      ],
      "text/latex": [
       "\\begin{tabular}{r|lllll}\n",
       "  & Dim 1 & Dim 2 & Dim 3 & Dim 4 & Dim 5\\\\\n",
       "\\hline\n",
       "\tX82A & 0.25839437  & 0.37836767  & 0.220217331 & 0.04295772  & 0.019227491\\\\\n",
       "\tX83A & 0.74166312  & 0.04141573  & 0.270991719 & 0.04813078  & 0.021319504\\\\\n",
       "\tX85A & 0.80716679  & 0.05121086  & 0.335827622 & 0.29928816  & 0.541593463\\\\\n",
       "\tX86A & 0.72812412  & 0.02507984  & 0.097091189 & 0.07422557  & 0.003385266\\\\\n",
       "\tX87A & 0.22477240  & 0.31008040  & 0.239684257 & 0.11227615  & 0.043699442\\\\\n",
       "\tX88A & 0.42036358  & 0.34467471  & 0.093139015 & 0.47874207  & 0.574639838\\\\\n",
       "\tX89A & 0.01837915  & 0.67720557  & 0.082489107 & 0.18328096  & 0.005633400\\\\\n",
       "\tX93A & 0.07375978  & 0.45084975  & 0.004572253 & 0.01865261  & 0.003309581\\\\\n",
       "\\end{tabular}\n"
      ],
      "text/markdown": [
       "\n",
       "| <!--/--> | Dim 1 | Dim 2 | Dim 3 | Dim 4 | Dim 5 | \n",
       "|---|---|---|---|---|---|---|---|\n",
       "| X82A | 0.25839437  | 0.37836767  | 0.220217331 | 0.04295772  | 0.019227491 | \n",
       "| X83A | 0.74166312  | 0.04141573  | 0.270991719 | 0.04813078  | 0.021319504 | \n",
       "| X85A | 0.80716679  | 0.05121086  | 0.335827622 | 0.29928816  | 0.541593463 | \n",
       "| X86A | 0.72812412  | 0.02507984  | 0.097091189 | 0.07422557  | 0.003385266 | \n",
       "| X87A | 0.22477240  | 0.31008040  | 0.239684257 | 0.11227615  | 0.043699442 | \n",
       "| X88A | 0.42036358  | 0.34467471  | 0.093139015 | 0.47874207  | 0.574639838 | \n",
       "| X89A | 0.01837915  | 0.67720557  | 0.082489107 | 0.18328096  | 0.005633400 | \n",
       "| X93A | 0.07375978  | 0.45084975  | 0.004572253 | 0.01865261  | 0.003309581 | \n",
       "\n",
       "\n"
      ],
      "text/plain": [
       "     Dim 1      Dim 2      Dim 3       Dim 4      Dim 5      \n",
       "X82A 0.25839437 0.37836767 0.220217331 0.04295772 0.019227491\n",
       "X83A 0.74166312 0.04141573 0.270991719 0.04813078 0.021319504\n",
       "X85A 0.80716679 0.05121086 0.335827622 0.29928816 0.541593463\n",
       "X86A 0.72812412 0.02507984 0.097091189 0.07422557 0.003385266\n",
       "X87A 0.22477240 0.31008040 0.239684257 0.11227615 0.043699442\n",
       "X88A 0.42036358 0.34467471 0.093139015 0.47874207 0.574639838\n",
       "X89A 0.01837915 0.67720557 0.082489107 0.18328096 0.005633400\n",
       "X93A 0.07375978 0.45084975 0.004572253 0.01865261 0.003309581"
      ]
     },
     "metadata": {},
     "output_type": "display_data"
    }
   ],
   "source": [
    "mca$var$eta2"
   ]
  },
  {
   "cell_type": "markdown",
   "metadata": {},
   "source": [
    "## So here the leading features are:\n",
    "\n",
    " * 83A - order of object and verb\n",
    " \n",
    " * 85A - order of adposition and noun phrase\n",
    " \n",
    " * 86A - order of genitive and noun"
   ]
  },
  {
   "cell_type": "code",
   "execution_count": 6,
   "metadata": {
    "collapsed": false
   },
   "outputs": [
    {
     "data": {
      "text/html": [
       "<table>\n",
       "<thead><tr><th></th><th scope=col>Name</th></tr></thead>\n",
       "<tbody>\n",
       "\t<tr><th scope=row>152</th><td>Greek (Modern)</td></tr>\n",
       "\t<tr><th scope=row>413</th><td>Polish        </td></tr>\n",
       "</tbody>\n",
       "</table>\n"
      ],
      "text/latex": [
       "\\begin{tabular}{r|l}\n",
       "  & Name\\\\\n",
       "\\hline\n",
       "\t152 & Greek (Modern)\\\\\n",
       "\t413 & Polish        \\\\\n",
       "\\end{tabular}\n"
      ],
      "text/markdown": [
       "\n",
       "| <!--/--> | Name | \n",
       "|---|---|\n",
       "| 152 | Greek (Modern) | \n",
       "| 413 | Polish         | \n",
       "\n",
       "\n"
      ],
      "text/plain": [
       "    Name          \n",
       "152 Greek (Modern)\n",
       "413 Polish        "
      ]
     },
     "metadata": {},
     "output_type": "display_data"
    }
   ],
   "source": [
    "example1[c(152,413),]['Name']"
   ]
  },
  {
   "cell_type": "markdown",
   "metadata": {},
   "source": [
    "Note that if we look at the ratios table in Polinsky's paper we see that Polish is at the very bottom of the high group while Greek is at the top of the middle group.\n",
    "We expect Spanish not to be in this set."
   ]
  },
  {
   "cell_type": "code",
   "execution_count": 7,
   "metadata": {
    "collapsed": false
   },
   "outputs": [
    {
     "data": {
      "text/html": [
       "466"
      ],
      "text/latex": [
       "466"
      ],
      "text/markdown": [
       "466"
      ],
      "text/plain": [
       "[1] 466"
      ]
     },
     "metadata": {},
     "output_type": "display_data"
    }
   ],
   "source": [
    "grep(\"Spanish\",example1$Name)"
   ]
  },
  {
   "cell_type": "markdown",
   "metadata": {},
   "source": [
    "Sadly it is there, but at least it's close to polish and Greek, which makes sense."
   ]
  },
  {
   "cell_type": "code",
   "execution_count": 9,
   "metadata": {
    "collapsed": false
   },
   "outputs": [],
   "source": [
    "example2 <- read.csv('chunked-feature-sets/top-2silhouettes-on-diverse-wo.csv')\n",
    "example2$X <- NULL\n",
    "mca <- MCA(example2,quali.sup=1:11)"
   ]
  },
  {
   "cell_type": "code",
   "execution_count": 10,
   "metadata": {
    "collapsed": false
   },
   "outputs": [
    {
     "data": {
      "text/html": [
       "<table>\n",
       "<thead><tr><th></th><th scope=col>Dim 1</th><th scope=col>Dim 2</th><th scope=col>Dim 3</th><th scope=col>Dim 4</th><th scope=col>Dim 5</th></tr></thead>\n",
       "<tbody>\n",
       "\t<tr><th scope=row>X82A</th><td>0.27690694 </td><td>0.4319244  </td><td>0.28093883 </td><td>0.023205522</td><td>0.065157008</td></tr>\n",
       "\t<tr><th scope=row>X83A</th><td>0.75774151 </td><td>0.1638095  </td><td>0.24293731 </td><td>0.004459773</td><td>0.009782116</td></tr>\n",
       "\t<tr><th scope=row>X85A</th><td>0.81457670 </td><td>0.1667859  </td><td>0.17638915 </td><td>0.489587640</td><td>0.469096608</td></tr>\n",
       "\t<tr><th scope=row>X86A</th><td>0.74088608 </td><td>0.1294123  </td><td>0.09043785 </td><td>0.014218882</td><td>0.029591126</td></tr>\n",
       "\t<tr><th scope=row>X87A</th><td>0.17683340 </td><td>0.2372019  </td><td>0.27181036 </td><td>0.144660220</td><td>0.031012471</td></tr>\n",
       "\t<tr><th scope=row>X88A</th><td>0.36828128 </td><td>0.3243517  </td><td>0.13512072 </td><td>0.541667549</td><td>0.482438389</td></tr>\n",
       "\t<tr><th scope=row>X93A</th><td>0.07577286 </td><td>0.4374284  </td><td>0.08100632 </td><td>0.004259114</td><td>0.115623896</td></tr>\n",
       "</tbody>\n",
       "</table>\n"
      ],
      "text/latex": [
       "\\begin{tabular}{r|lllll}\n",
       "  & Dim 1 & Dim 2 & Dim 3 & Dim 4 & Dim 5\\\\\n",
       "\\hline\n",
       "\tX82A & 0.27690694  & 0.4319244   & 0.28093883  & 0.023205522 & 0.065157008\\\\\n",
       "\tX83A & 0.75774151  & 0.1638095   & 0.24293731  & 0.004459773 & 0.009782116\\\\\n",
       "\tX85A & 0.81457670  & 0.1667859   & 0.17638915  & 0.489587640 & 0.469096608\\\\\n",
       "\tX86A & 0.74088608  & 0.1294123   & 0.09043785  & 0.014218882 & 0.029591126\\\\\n",
       "\tX87A & 0.17683340  & 0.2372019   & 0.27181036  & 0.144660220 & 0.031012471\\\\\n",
       "\tX88A & 0.36828128  & 0.3243517   & 0.13512072  & 0.541667549 & 0.482438389\\\\\n",
       "\tX93A & 0.07577286  & 0.4374284   & 0.08100632  & 0.004259114 & 0.115623896\\\\\n",
       "\\end{tabular}\n"
      ],
      "text/markdown": [
       "\n",
       "| <!--/--> | Dim 1 | Dim 2 | Dim 3 | Dim 4 | Dim 5 | \n",
       "|---|---|---|---|---|---|---|\n",
       "| X82A | 0.27690694  | 0.4319244   | 0.28093883  | 0.023205522 | 0.065157008 | \n",
       "| X83A | 0.75774151  | 0.1638095   | 0.24293731  | 0.004459773 | 0.009782116 | \n",
       "| X85A | 0.81457670  | 0.1667859   | 0.17638915  | 0.489587640 | 0.469096608 | \n",
       "| X86A | 0.74088608  | 0.1294123   | 0.09043785  | 0.014218882 | 0.029591126 | \n",
       "| X87A | 0.17683340  | 0.2372019   | 0.27181036  | 0.144660220 | 0.031012471 | \n",
       "| X88A | 0.36828128  | 0.3243517   | 0.13512072  | 0.541667549 | 0.482438389 | \n",
       "| X93A | 0.07577286  | 0.4374284   | 0.08100632  | 0.004259114 | 0.115623896 | \n",
       "\n",
       "\n"
      ],
      "text/plain": [
       "     Dim 1      Dim 2     Dim 3      Dim 4       Dim 5      \n",
       "X82A 0.27690694 0.4319244 0.28093883 0.023205522 0.065157008\n",
       "X83A 0.75774151 0.1638095 0.24293731 0.004459773 0.009782116\n",
       "X85A 0.81457670 0.1667859 0.17638915 0.489587640 0.469096608\n",
       "X86A 0.74088608 0.1294123 0.09043785 0.014218882 0.029591126\n",
       "X87A 0.17683340 0.2372019 0.27181036 0.144660220 0.031012471\n",
       "X88A 0.36828128 0.3243517 0.13512072 0.541667549 0.482438389\n",
       "X93A 0.07577286 0.4374284 0.08100632 0.004259114 0.115623896"
      ]
     },
     "metadata": {},
     "output_type": "display_data"
    }
   ],
   "source": [
    "mca$var$eta"
   ]
  },
  {
   "cell_type": "markdown",
   "metadata": {},
   "source": [
    "Same"
   ]
  },
  {
   "cell_type": "code",
   "execution_count": 12,
   "metadata": {
    "collapsed": false
   },
   "outputs": [
    {
     "data": {
      "text/html": [
       "<table>\n",
       "<thead><tr><th></th><th scope=col>Dim 1</th><th scope=col>Dim 2</th><th scope=col>Dim 3</th><th scope=col>Dim 4</th><th scope=col>Dim 5</th></tr></thead>\n",
       "<tbody>\n",
       "\t<tr><th scope=row>X82A</th><td>0.2365606   </td><td>0.4155453   </td><td>0.28818127  </td><td>0.002357143 </td><td>0.0133932412</td></tr>\n",
       "\t<tr><th scope=row>X83A</th><td>0.7676774   </td><td>0.3122285   </td><td>0.22686747  </td><td>0.004728466 </td><td>0.0248932111</td></tr>\n",
       "\t<tr><th scope=row>X85A</th><td>0.8265236   </td><td>0.2593413   </td><td>0.10989279  </td><td>0.451331273 </td><td>0.5671382430</td></tr>\n",
       "\t<tr><th scope=row>X86A</th><td>0.7596290   </td><td>0.1880838   </td><td>0.05435717  </td><td>0.041738178 </td><td>0.0006940646</td></tr>\n",
       "\t<tr><th scope=row>X87A</th><td>0.1776025   </td><td>0.2109063   </td><td>0.36244271  </td><td>0.092333961 </td><td>0.2344664503</td></tr>\n",
       "\t<tr><th scope=row>X88A</th><td>0.3422222   </td><td>0.2451646   </td><td>0.25076470  </td><td>0.575443201 </td><td>0.3032655119</td></tr>\n",
       "</tbody>\n",
       "</table>\n"
      ],
      "text/latex": [
       "\\begin{tabular}{r|lllll}\n",
       "  & Dim 1 & Dim 2 & Dim 3 & Dim 4 & Dim 5\\\\\n",
       "\\hline\n",
       "\tX82A & 0.2365606    & 0.4155453    & 0.28818127   & 0.002357143  & 0.0133932412\\\\\n",
       "\tX83A & 0.7676774    & 0.3122285    & 0.22686747   & 0.004728466  & 0.0248932111\\\\\n",
       "\tX85A & 0.8265236    & 0.2593413    & 0.10989279   & 0.451331273  & 0.5671382430\\\\\n",
       "\tX86A & 0.7596290    & 0.1880838    & 0.05435717   & 0.041738178  & 0.0006940646\\\\\n",
       "\tX87A & 0.1776025    & 0.2109063    & 0.36244271   & 0.092333961  & 0.2344664503\\\\\n",
       "\tX88A & 0.3422222    & 0.2451646    & 0.25076470   & 0.575443201  & 0.3032655119\\\\\n",
       "\\end{tabular}\n"
      ],
      "text/markdown": [
       "\n",
       "| <!--/--> | Dim 1 | Dim 2 | Dim 3 | Dim 4 | Dim 5 | \n",
       "|---|---|---|---|---|---|\n",
       "| X82A | 0.2365606    | 0.4155453    | 0.28818127   | 0.002357143  | 0.0133932412 | \n",
       "| X83A | 0.7676774    | 0.3122285    | 0.22686747   | 0.004728466  | 0.0248932111 | \n",
       "| X85A | 0.8265236    | 0.2593413    | 0.10989279   | 0.451331273  | 0.5671382430 | \n",
       "| X86A | 0.7596290    | 0.1880838    | 0.05435717   | 0.041738178  | 0.0006940646 | \n",
       "| X87A | 0.1776025    | 0.2109063    | 0.36244271   | 0.092333961  | 0.2344664503 | \n",
       "| X88A | 0.3422222    | 0.2451646    | 0.25076470   | 0.575443201  | 0.3032655119 | \n",
       "\n",
       "\n"
      ],
      "text/plain": [
       "     Dim 1     Dim 2     Dim 3      Dim 4       Dim 5       \n",
       "X82A 0.2365606 0.4155453 0.28818127 0.002357143 0.0133932412\n",
       "X83A 0.7676774 0.3122285 0.22686747 0.004728466 0.0248932111\n",
       "X85A 0.8265236 0.2593413 0.10989279 0.451331273 0.5671382430\n",
       "X86A 0.7596290 0.1880838 0.05435717 0.041738178 0.0006940646\n",
       "X87A 0.1776025 0.2109063 0.36244271 0.092333961 0.2344664503\n",
       "X88A 0.3422222 0.2451646 0.25076470 0.575443201 0.3032655119"
      ]
     },
     "metadata": {},
     "output_type": "display_data"
    }
   ],
   "source": [
    "example3 <- read.csv('chunked-feature-sets/top-3silhouettes-on-diverse-wo.csv')\n",
    "example3$X <- NULL\n",
    "mca <- MCA(example3,quali.sup=1:11)\n",
    "mca$var$eta"
   ]
  },
  {
   "cell_type": "code",
   "execution_count": 13,
   "metadata": {
    "collapsed": false
   },
   "outputs": [
    {
     "data": {
      "text/html": [
       "<table>\n",
       "<thead><tr><th></th><th scope=col>Dim 1</th><th scope=col>Dim 2</th><th scope=col>Dim 3</th><th scope=col>Dim 4</th><th scope=col>Dim 5</th></tr></thead>\n",
       "<tbody>\n",
       "\t<tr><th scope=row>X82A</th><td>0.31264520  </td><td>0.3797366   </td><td>0.0078349090</td><td>0.1207075   </td><td>0.21111770  </td></tr>\n",
       "\t<tr><th scope=row>X83A</th><td>0.80452129  </td><td>0.4734831   </td><td>0.0531830970</td><td>0.0052099   </td><td>0.02394935  </td></tr>\n",
       "\t<tr><th scope=row>X85A</th><td>0.86254812  </td><td>0.3247160   </td><td>0.5956700054</td><td>0.6368415   </td><td>0.18622195  </td></tr>\n",
       "\t<tr><th scope=row>X86A</th><td>0.78148664  </td><td>0.2223237   </td><td>0.0005031785</td><td>0.1505367   </td><td>0.05834398  </td></tr>\n",
       "\t<tr><th scope=row>X87A</th><td>0.07671348  </td><td>0.0751783   </td><td>0.4598498910</td><td>0.1558894   </td><td>0.54005984  </td></tr>\n",
       "</tbody>\n",
       "</table>\n"
      ],
      "text/latex": [
       "\\begin{tabular}{r|lllll}\n",
       "  & Dim 1 & Dim 2 & Dim 3 & Dim 4 & Dim 5\\\\\n",
       "\\hline\n",
       "\tX82A & 0.31264520   & 0.3797366    & 0.0078349090 & 0.1207075    & 0.21111770  \\\\\n",
       "\tX83A & 0.80452129   & 0.4734831    & 0.0531830970 & 0.0052099    & 0.02394935  \\\\\n",
       "\tX85A & 0.86254812   & 0.3247160    & 0.5956700054 & 0.6368415    & 0.18622195  \\\\\n",
       "\tX86A & 0.78148664   & 0.2223237    & 0.0005031785 & 0.1505367    & 0.05834398  \\\\\n",
       "\tX87A & 0.07671348   & 0.0751783    & 0.4598498910 & 0.1558894    & 0.54005984  \\\\\n",
       "\\end{tabular}\n"
      ],
      "text/markdown": [
       "\n",
       "| <!--/--> | Dim 1 | Dim 2 | Dim 3 | Dim 4 | Dim 5 | \n",
       "|---|---|---|---|---|\n",
       "| X82A | 0.31264520   | 0.3797366    | 0.0078349090 | 0.1207075    | 0.21111770   | \n",
       "| X83A | 0.80452129   | 0.4734831    | 0.0531830970 | 0.0052099    | 0.02394935   | \n",
       "| X85A | 0.86254812   | 0.3247160    | 0.5956700054 | 0.6368415    | 0.18622195   | \n",
       "| X86A | 0.78148664   | 0.2223237    | 0.0005031785 | 0.1505367    | 0.05834398   | \n",
       "| X87A | 0.07671348   | 0.0751783    | 0.4598498910 | 0.1558894    | 0.54005984   | \n",
       "\n",
       "\n"
      ],
      "text/plain": [
       "     Dim 1      Dim 2     Dim 3        Dim 4     Dim 5     \n",
       "X82A 0.31264520 0.3797366 0.0078349090 0.1207075 0.21111770\n",
       "X83A 0.80452129 0.4734831 0.0531830970 0.0052099 0.02394935\n",
       "X85A 0.86254812 0.3247160 0.5956700054 0.6368415 0.18622195\n",
       "X86A 0.78148664 0.2223237 0.0005031785 0.1505367 0.05834398\n",
       "X87A 0.07671348 0.0751783 0.4598498910 0.1558894 0.54005984"
      ]
     },
     "metadata": {},
     "output_type": "display_data"
    }
   ],
   "source": [
    "example4<- read.csv('chunked-feature-sets/top-4silhouettes-on-diverse-wo.csv')\n",
    "example4$X <- NULL\n",
    "mca <- MCA(example4,quali.sup=1:11)\n",
    "mca$var$eta"
   ]
  },
  {
   "cell_type": "code",
   "execution_count": 14,
   "metadata": {
    "collapsed": false
   },
   "outputs": [
    {
     "data": {
      "text/html": [
       "<table>\n",
       "<thead><tr><th></th><th scope=col>Dim 1</th><th scope=col>Dim 2</th><th scope=col>Dim 3</th><th scope=col>Dim 4</th><th scope=col>Dim 5</th></tr></thead>\n",
       "<tbody>\n",
       "\t<tr><th scope=row>X82A</th><td>0.30856477 </td><td>0.28539144 </td><td>0.2943842  </td><td>0.020568565</td><td>0.02644514 </td></tr>\n",
       "\t<tr><th scope=row>X83A</th><td>0.80213155 </td><td>0.04381513 </td><td>0.3734135  </td><td>0.004346708</td><td>0.02579669 </td></tr>\n",
       "\t<tr><th scope=row>X85A</th><td>0.86229603 </td><td>0.04382453 </td><td>0.2372450  </td><td>0.312036402</td><td>0.40999920 </td></tr>\n",
       "\t<tr><th scope=row>X86A</th><td>0.77963643 </td><td>0.02113048 </td><td>0.1166732  </td><td>0.065180677</td><td>0.11141533 </td></tr>\n",
       "\t<tr><th scope=row>X87A</th><td>0.09293185 </td><td>0.52923755 </td><td>0.1799182  </td><td>0.419237544</td><td>0.48712687 </td></tr>\n",
       "\t<tr><th scope=row>X89A</th><td>0.00386954 </td><td>0.74784462 </td><td>0.1131640  </td><td>0.314138591</td><td>0.06082458 </td></tr>\n",
       "</tbody>\n",
       "</table>\n"
      ],
      "text/latex": [
       "\\begin{tabular}{r|lllll}\n",
       "  & Dim 1 & Dim 2 & Dim 3 & Dim 4 & Dim 5\\\\\n",
       "\\hline\n",
       "\tX82A & 0.30856477  & 0.28539144  & 0.2943842   & 0.020568565 & 0.02644514 \\\\\n",
       "\tX83A & 0.80213155  & 0.04381513  & 0.3734135   & 0.004346708 & 0.02579669 \\\\\n",
       "\tX85A & 0.86229603  & 0.04382453  & 0.2372450   & 0.312036402 & 0.40999920 \\\\\n",
       "\tX86A & 0.77963643  & 0.02113048  & 0.1166732   & 0.065180677 & 0.11141533 \\\\\n",
       "\tX87A & 0.09293185  & 0.52923755  & 0.1799182   & 0.419237544 & 0.48712687 \\\\\n",
       "\tX89A & 0.00386954  & 0.74784462  & 0.1131640   & 0.314138591 & 0.06082458 \\\\\n",
       "\\end{tabular}\n"
      ],
      "text/markdown": [
       "\n",
       "| <!--/--> | Dim 1 | Dim 2 | Dim 3 | Dim 4 | Dim 5 | \n",
       "|---|---|---|---|---|---|\n",
       "| X82A | 0.30856477  | 0.28539144  | 0.2943842   | 0.020568565 | 0.02644514  | \n",
       "| X83A | 0.80213155  | 0.04381513  | 0.3734135   | 0.004346708 | 0.02579669  | \n",
       "| X85A | 0.86229603  | 0.04382453  | 0.2372450   | 0.312036402 | 0.40999920  | \n",
       "| X86A | 0.77963643  | 0.02113048  | 0.1166732   | 0.065180677 | 0.11141533  | \n",
       "| X87A | 0.09293185  | 0.52923755  | 0.1799182   | 0.419237544 | 0.48712687  | \n",
       "| X89A | 0.00386954  | 0.74784462  | 0.1131640   | 0.314138591 | 0.06082458  | \n",
       "\n",
       "\n"
      ],
      "text/plain": [
       "     Dim 1      Dim 2      Dim 3     Dim 4       Dim 5     \n",
       "X82A 0.30856477 0.28539144 0.2943842 0.020568565 0.02644514\n",
       "X83A 0.80213155 0.04381513 0.3734135 0.004346708 0.02579669\n",
       "X85A 0.86229603 0.04382453 0.2372450 0.312036402 0.40999920\n",
       "X86A 0.77963643 0.02113048 0.1166732 0.065180677 0.11141533\n",
       "X87A 0.09293185 0.52923755 0.1799182 0.419237544 0.48712687\n",
       "X89A 0.00386954 0.74784462 0.1131640 0.314138591 0.06082458"
      ]
     },
     "metadata": {},
     "output_type": "display_data"
    }
   ],
   "source": [
    "example5 <- read.csv('chunked-feature-sets/top-5silhouettes-on-diverse-wo.csv')\n",
    "example5$X <- NULL\n",
    "mca <- MCA(example5,quali.sup=1:11)\n",
    "mca$var$eta"
   ]
  },
  {
   "cell_type": "markdown",
   "metadata": {},
   "source": [
    "#### So the top 5 in terms of sihouette are all relying primarily on the same three features (83A,85A,86A)."
   ]
  },
  {
   "cell_type": "markdown",
   "metadata": {},
   "source": [
    "### Averaging DIM1 eta2's over 2000 feature sets we get:\n",
    "   \n",
    "   - 143A: 0.19993978067524021\n",
    "   \n",
    "   - 144A: 0.34460057837304348\n",
    "   \n",
    "   - 82A: 0.25448312661540701\n",
    "   \n",
    "   - 83A: 0.61145472043518778\n",
    "   \n",
    "   - 85A: 0.57855952289762536\n",
    "   \n",
    "   - 86A: 0.48506040905391401\n",
    "   \n",
    "   - 87A: 0.17388647546972813\n",
    "   \n",
    "   - 88A: 0.23685521609972532\n",
    "   \n",
    "   - 89A: 0.062598285740664214\n",
    "   \n",
    "   - 90A: 0.48274423107951564\n",
    "   \n",
    "   - 92A: 0.049352893487310201\n",
    "   \n",
    "   - 93A: 0.091850417610944216\n",
    "   \n",
    "   - 94A: 0.50146787528480985"
   ]
  },
  {
   "cell_type": "markdown",
   "metadata": {},
   "source": [
    "### The ones nearing 0.5 are:\n",
    "    \n",
    "   - 83A: Order of Object and Verb\n",
    " \n",
    "   - 85A: Order of Adposition and Noun Phrase\n",
    " \n",
    "   - 86A: Order of Genitive and Noun\n",
    "   \n",
    "   - 90A: Order of Relative Clause and Noun\n",
    "   \n",
    "   - 94A: Order of Adverbial Subordinator and Clause"
   ]
  },
  {
   "cell_type": "code",
   "execution_count": 51,
   "metadata": {
    "collapsed": true
   },
   "outputs": [],
   "source": [
    "example6 <- read.csv('chunked-feature-sets/wo-strong-etas.csv')\n",
    "example6$X <- NULL\n",
    "knownratios = which(example6$verb.noun.ratio != 'unknown')\n",
    "mca <- MCA(example6,quali.sup=1:11)"
   ]
  },
  {
   "cell_type": "code",
   "execution_count": 52,
   "metadata": {
    "collapsed": false
   },
   "outputs": [
    {
     "data": {
      "image/png": "[encoded data removed]",
      "text/plain": [
       "Plot with title “MCA factor map”"
      ]
     },
     "metadata": {},
     "output_type": "display_data"
    }
   ],
   "source": [
    "plot(mca,choix=\"ind\",habillage=\"verb.noun.ratio\",invisible=c(\"var\",\"quali.sup\"),\n",
    "     select=knownratios,unselect=1,xlim=c(-2,2),ylim=c(-1,1))"
   ]
  },
  {
   "cell_type": "code",
   "execution_count": 53,
   "metadata": {
    "collapsed": false
   },
   "outputs": [
    {
     "data": {
      "text/html": [
       "<table>\n",
       "<thead><tr><th></th><th scope=col>Dim 1</th><th scope=col>Dim 2</th><th scope=col>Dim 3</th><th scope=col>Dim 4</th><th scope=col>Dim 5</th></tr></thead>\n",
       "<tbody>\n",
       "\t<tr><th scope=row>X83A</th><td>0.8250517  </td><td>0.33339703 </td><td>0.070749164</td><td>0.001764594</td><td>0.009530297</td></tr>\n",
       "\t<tr><th scope=row>X85A</th><td>0.8586356  </td><td>0.45666361 </td><td>0.436317181</td><td>0.175295722</td><td>0.141229643</td></tr>\n",
       "\t<tr><th scope=row>X86A</th><td>0.7435825  </td><td>0.23918379 </td><td>0.003434569</td><td>0.022687102</td><td>0.182530344</td></tr>\n",
       "\t<tr><th scope=row>X90A</th><td>0.6995472  </td><td>0.09000765 </td><td>0.475280323</td><td>0.561018711</td><td>0.612772649</td></tr>\n",
       "\t<tr><th scope=row>X94A</th><td>0.7450876  </td><td>0.41163102 </td><td>0.340603137</td><td>0.373435640</td><td>0.166462109</td></tr>\n",
       "</tbody>\n",
       "</table>\n"
      ],
      "text/latex": [
       "\\begin{tabular}{r|lllll}\n",
       "  & Dim 1 & Dim 2 & Dim 3 & Dim 4 & Dim 5\\\\\n",
       "\\hline\n",
       "\tX83A & 0.8250517   & 0.33339703  & 0.070749164 & 0.001764594 & 0.009530297\\\\\n",
       "\tX85A & 0.8586356   & 0.45666361  & 0.436317181 & 0.175295722 & 0.141229643\\\\\n",
       "\tX86A & 0.7435825   & 0.23918379  & 0.003434569 & 0.022687102 & 0.182530344\\\\\n",
       "\tX90A & 0.6995472   & 0.09000765  & 0.475280323 & 0.561018711 & 0.612772649\\\\\n",
       "\tX94A & 0.7450876   & 0.41163102  & 0.340603137 & 0.373435640 & 0.166462109\\\\\n",
       "\\end{tabular}\n"
      ],
      "text/markdown": [
       "\n",
       "| <!--/--> | Dim 1 | Dim 2 | Dim 3 | Dim 4 | Dim 5 | \n",
       "|---|---|---|---|---|\n",
       "| X83A | 0.8250517   | 0.33339703  | 0.070749164 | 0.001764594 | 0.009530297 | \n",
       "| X85A | 0.8586356   | 0.45666361  | 0.436317181 | 0.175295722 | 0.141229643 | \n",
       "| X86A | 0.7435825   | 0.23918379  | 0.003434569 | 0.022687102 | 0.182530344 | \n",
       "| X90A | 0.6995472   | 0.09000765  | 0.475280323 | 0.561018711 | 0.612772649 | \n",
       "| X94A | 0.7450876   | 0.41163102  | 0.340603137 | 0.373435640 | 0.166462109 | \n",
       "\n",
       "\n"
      ],
      "text/plain": [
       "     Dim 1     Dim 2      Dim 3       Dim 4       Dim 5      \n",
       "X83A 0.8250517 0.33339703 0.070749164 0.001764594 0.009530297\n",
       "X85A 0.8586356 0.45666361 0.436317181 0.175295722 0.141229643\n",
       "X86A 0.7435825 0.23918379 0.003434569 0.022687102 0.182530344\n",
       "X90A 0.6995472 0.09000765 0.475280323 0.561018711 0.612772649\n",
       "X94A 0.7450876 0.41163102 0.340603137 0.373435640 0.166462109"
      ]
     },
     "metadata": {},
     "output_type": "display_data"
    }
   ],
   "source": [
    "mca$var$eta2"
   ]
  },
  {
   "cell_type": "code",
   "execution_count": 54,
   "metadata": {
    "collapsed": false
   },
   "outputs": [
    {
     "data": {
      "text/html": [
       "<table>\n",
       "<thead><tr><th></th><th scope=col>Name</th></tr></thead>\n",
       "<tbody>\n",
       "\t<tr><th scope=row>116</th><td>German </td></tr>\n",
       "\t<tr><th scope=row>94</th><td>Dutch  </td></tr>\n",
       "\t<tr><th scope=row>81</th><td>Czech  </td></tr>\n",
       "\t<tr><th scope=row>98</th><td>English</td></tr>\n",
       "\t<tr><th scope=row>321</th><td>Polish </td></tr>\n",
       "</tbody>\n",
       "</table>\n"
      ],
      "text/latex": [
       "\\begin{tabular}{r|l}\n",
       "  & Name\\\\\n",
       "\\hline\n",
       "\t116 & German \\\\\n",
       "\t94 & Dutch  \\\\\n",
       "\t81 & Czech  \\\\\n",
       "\t98 & English\\\\\n",
       "\t321 & Polish \\\\\n",
       "\\end{tabular}\n"
      ],
      "text/markdown": [
       "\n",
       "| <!--/--> | Name | \n",
       "|---|---|---|---|---|\n",
       "| 116 | German  | \n",
       "| 94 | Dutch   | \n",
       "| 81 | Czech   | \n",
       "| 98 | English | \n",
       "| 321 | Polish  | \n",
       "\n",
       "\n"
      ],
      "text/plain": [
       "    Name   \n",
       "116 German \n",
       "94  Dutch  \n",
       "81  Czech  \n",
       "98  English\n",
       "321 Polish "
      ]
     },
     "metadata": {},
     "output_type": "display_data"
    }
   ],
   "source": [
    "example6[c(116,94,81,98,321),]['Name']"
   ]
  },
  {
   "cell_type": "code",
   "execution_count": 55,
   "metadata": {
    "collapsed": false
   },
   "outputs": [
    {
     "data": {
      "text/html": [
       "22"
      ],
      "text/latex": [
       "22"
      ],
      "text/markdown": [
       "22"
      ],
      "text/plain": [
       "[1] 22"
      ]
     },
     "metadata": {},
     "output_type": "display_data"
    }
   ],
   "source": [
    "length(which(example6$verb.noun.ratio != 'unknown'))"
   ]
  },
  {
   "cell_type": "code",
   "execution_count": 56,
   "metadata": {
    "collapsed": false
   },
   "outputs": [
    {
     "data": {
      "image/png": "[encoded data removed]",
      "text/plain": [
       "Plot with title “MCA factor map”"
      ]
     },
     "metadata": {},
     "output_type": "display_data"
    }
   ],
   "source": [
    "plot(mca,choix=\"ind\",habillage=\"verb.noun.ratio\",invisible=c(\"var\",\"quali.sup\"),\n",
    "     select=knownratios,unselect=1,xlim=c(-1.5,-0.5),ylim=c(-0.5,0))"
   ]
  },
  {
   "cell_type": "markdown",
   "metadata": {},
   "source": [
    "So using only dominant features, we get all the medium and low languages exactly at the same place. What does this mean?"
   ]
  },
  {
   "cell_type": "code",
   "execution_count": 57,
   "metadata": {
    "collapsed": false
   },
   "outputs": [
    {
     "data": {
      "text/html": [
       "<ol class=list-inline>\n",
       "\t<li>Greek (Modern)</li>\n",
       "\t<li>Hebrew (Modern)</li>\n",
       "\t<li>Irish</li>\n",
       "\t<li>Malagasy</li>\n",
       "\t<li>Maori</li>\n",
       "\t<li>Romanian</li>\n",
       "\t<li>Spanish</li>\n",
       "\t<li>Swahili</li>\n",
       "\t<li>Vietnamese</li>\n",
       "\t<li>Zapotec (Isthmus)</li>\n",
       "</ol>\n"
      ],
      "text/latex": [
       "\\begin{enumerate*}\n",
       "\\item Greek (Modern)\n",
       "\\item Hebrew (Modern)\n",
       "\\item Irish\n",
       "\\item Malagasy\n",
       "\\item Maori\n",
       "\\item Romanian\n",
       "\\item Spanish\n",
       "\\item Swahili\n",
       "\\item Vietnamese\n",
       "\\item Zapotec (Isthmus)\n",
       "\\end{enumerate*}\n"
      ],
      "text/markdown": [
       "1. Greek (Modern)\n",
       "2. Hebrew (Modern)\n",
       "3. Irish\n",
       "4. Malagasy\n",
       "5. Maori\n",
       "6. Romanian\n",
       "7. Spanish\n",
       "8. Swahili\n",
       "9. Vietnamese\n",
       "10. Zapotec (Isthmus)\n",
       "\n",
       "\n"
      ],
      "text/plain": [
       " [1] Greek (Modern)    Hebrew (Modern)   Irish             Malagasy         \n",
       " [5] Maori             Romanian          Spanish           Swahili          \n",
       " [9] Vietnamese        Zapotec (Isthmus)\n",
       "438 Levels: Abipón Abkhaz Abun Acehnese Acholi Adioukrou Ainu Akha ... Zulu"
      ]
     },
     "metadata": {},
     "output_type": "display_data"
    }
   ],
   "source": [
    "example6[which(!(example6$verb.noun.ratio %in% c('high','unknown'))),'Name']"
   ]
  },
  {
   "cell_type": "code",
   "execution_count": 58,
   "metadata": {
    "collapsed": false
   },
   "outputs": [
    {
     "data": {
      "text/html": [
       "<table>\n",
       "<thead><tr><th></th><th scope=col>Dim 1</th><th scope=col>Dim 2</th><th scope=col>Dim 3</th><th scope=col>Dim 4</th><th scope=col>Dim 5</th></tr></thead>\n",
       "<tbody>\n",
       "\t<tr><th scope=row>120</th><td>-0.7897666 </td><td>-0.2112722 </td><td>-0.09322273</td><td>0.04588996 </td><td>-0.05330782</td></tr>\n",
       "\t<tr><th scope=row>129</th><td>-0.7897666 </td><td>-0.2112722 </td><td>-0.09322273</td><td>0.04588996 </td><td>-0.05330782</td></tr>\n",
       "\t<tr><th scope=row>150</th><td>-0.7897666 </td><td>-0.2112722 </td><td>-0.09322273</td><td>0.04588996 </td><td>-0.05330782</td></tr>\n",
       "\t<tr><th scope=row>230</th><td>-0.7897666 </td><td>-0.2112722 </td><td>-0.09322273</td><td>0.04588996 </td><td>-0.05330782</td></tr>\n",
       "\t<tr><th scope=row>232</th><td>-0.7897666 </td><td>-0.2112722 </td><td>-0.09322273</td><td>0.04588996 </td><td>-0.05330782</td></tr>\n",
       "\t<tr><th scope=row>330</th><td>-0.7897666 </td><td>-0.2112722 </td><td>-0.09322273</td><td>0.04588996 </td><td>-0.05330782</td></tr>\n",
       "\t<tr><th scope=row>350</th><td>-0.7897666 </td><td>-0.2112722 </td><td>-0.09322273</td><td>0.04588996 </td><td>-0.05330782</td></tr>\n",
       "\t<tr><th scope=row>358</th><td>-0.7897666 </td><td>-0.2112722 </td><td>-0.09322273</td><td>0.04588996 </td><td>-0.05330782</td></tr>\n",
       "\t<tr><th scope=row>415</th><td>-0.7897666 </td><td>-0.2112722 </td><td>-0.09322273</td><td>0.04588996 </td><td>-0.05330782</td></tr>\n",
       "\t<tr><th scope=row>437</th><td>-0.7897666 </td><td>-0.2112722 </td><td>-0.09322273</td><td>0.04588996 </td><td>-0.05330782</td></tr>\n",
       "</tbody>\n",
       "</table>\n"
      ],
      "text/latex": [
       "\\begin{tabular}{r|lllll}\n",
       "  & Dim 1 & Dim 2 & Dim 3 & Dim 4 & Dim 5\\\\\n",
       "\\hline\n",
       "\t120 & -0.7897666  & -0.2112722  & -0.09322273 & 0.04588996  & -0.05330782\\\\\n",
       "\t129 & -0.7897666  & -0.2112722  & -0.09322273 & 0.04588996  & -0.05330782\\\\\n",
       "\t150 & -0.7897666  & -0.2112722  & -0.09322273 & 0.04588996  & -0.05330782\\\\\n",
       "\t230 & -0.7897666  & -0.2112722  & -0.09322273 & 0.04588996  & -0.05330782\\\\\n",
       "\t232 & -0.7897666  & -0.2112722  & -0.09322273 & 0.04588996  & -0.05330782\\\\\n",
       "\t330 & -0.7897666  & -0.2112722  & -0.09322273 & 0.04588996  & -0.05330782\\\\\n",
       "\t350 & -0.7897666  & -0.2112722  & -0.09322273 & 0.04588996  & -0.05330782\\\\\n",
       "\t358 & -0.7897666  & -0.2112722  & -0.09322273 & 0.04588996  & -0.05330782\\\\\n",
       "\t415 & -0.7897666  & -0.2112722  & -0.09322273 & 0.04588996  & -0.05330782\\\\\n",
       "\t437 & -0.7897666  & -0.2112722  & -0.09322273 & 0.04588996  & -0.05330782\\\\\n",
       "\\end{tabular}\n"
      ],
      "text/markdown": [
       "\n",
       "| <!--/--> | Dim 1 | Dim 2 | Dim 3 | Dim 4 | Dim 5 | \n",
       "|---|---|---|---|---|---|---|---|---|---|\n",
       "| 120 | -0.7897666  | -0.2112722  | -0.09322273 | 0.04588996  | -0.05330782 | \n",
       "| 129 | -0.7897666  | -0.2112722  | -0.09322273 | 0.04588996  | -0.05330782 | \n",
       "| 150 | -0.7897666  | -0.2112722  | -0.09322273 | 0.04588996  | -0.05330782 | \n",
       "| 230 | -0.7897666  | -0.2112722  | -0.09322273 | 0.04588996  | -0.05330782 | \n",
       "| 232 | -0.7897666  | -0.2112722  | -0.09322273 | 0.04588996  | -0.05330782 | \n",
       "| 330 | -0.7897666  | -0.2112722  | -0.09322273 | 0.04588996  | -0.05330782 | \n",
       "| 350 | -0.7897666  | -0.2112722  | -0.09322273 | 0.04588996  | -0.05330782 | \n",
       "| 358 | -0.7897666  | -0.2112722  | -0.09322273 | 0.04588996  | -0.05330782 | \n",
       "| 415 | -0.7897666  | -0.2112722  | -0.09322273 | 0.04588996  | -0.05330782 | \n",
       "| 437 | -0.7897666  | -0.2112722  | -0.09322273 | 0.04588996  | -0.05330782 | \n",
       "\n",
       "\n"
      ],
      "text/plain": [
       "    Dim 1      Dim 2      Dim 3       Dim 4      Dim 5      \n",
       "120 -0.7897666 -0.2112722 -0.09322273 0.04588996 -0.05330782\n",
       "129 -0.7897666 -0.2112722 -0.09322273 0.04588996 -0.05330782\n",
       "150 -0.7897666 -0.2112722 -0.09322273 0.04588996 -0.05330782\n",
       "230 -0.7897666 -0.2112722 -0.09322273 0.04588996 -0.05330782\n",
       "232 -0.7897666 -0.2112722 -0.09322273 0.04588996 -0.05330782\n",
       "330 -0.7897666 -0.2112722 -0.09322273 0.04588996 -0.05330782\n",
       "350 -0.7897666 -0.2112722 -0.09322273 0.04588996 -0.05330782\n",
       "358 -0.7897666 -0.2112722 -0.09322273 0.04588996 -0.05330782\n",
       "415 -0.7897666 -0.2112722 -0.09322273 0.04588996 -0.05330782\n",
       "437 -0.7897666 -0.2112722 -0.09322273 0.04588996 -0.05330782"
      ]
     },
     "metadata": {},
     "output_type": "display_data"
    }
   ],
   "source": [
    "mca$ind$coord[which(!(example6$verb.noun.ratio %in% c('high','unknown'))),]"
   ]
  },
  {
   "cell_type": "markdown",
   "metadata": {},
   "source": [
    "I suppose all the non-high v/n ratio language have the same values for these features:"
   ]
  },
  {
   "cell_type": "code",
   "execution_count": 64,
   "metadata": {
    "collapsed": false
   },
   "outputs": [
    {
     "data": {
      "text/html": [
       "<table>\n",
       "<thead><tr><th></th><th scope=col>Name</th><th scope=col>verb.noun.ratio</th><th scope=col>X83A</th><th scope=col>X85A</th><th scope=col>X86A</th><th scope=col>X90A</th><th scope=col>X94A</th></tr></thead>\n",
       "<tbody>\n",
       "\t<tr><th scope=row>120</th><td>Greek (Modern)             </td><td>medium                     </td><td>2 VO                       </td><td>2 Prepositions             </td><td>2 Noun-Genitive            </td><td>1 Noun-Relative clause     </td><td>1 Initial subordinator word</td></tr>\n",
       "\t<tr><th scope=row>129</th><td>Hebrew (Modern)            </td><td>medium                     </td><td>2 VO                       </td><td>2 Prepositions             </td><td>2 Noun-Genitive            </td><td>1 Noun-Relative clause     </td><td>1 Initial subordinator word</td></tr>\n",
       "\t<tr><th scope=row>150</th><td>Irish                      </td><td>low                        </td><td>2 VO                       </td><td>2 Prepositions             </td><td>2 Noun-Genitive            </td><td>1 Noun-Relative clause     </td><td>1 Initial subordinator word</td></tr>\n",
       "\t<tr><th scope=row>230</th><td>Malagasy                   </td><td>low                        </td><td>2 VO                       </td><td>2 Prepositions             </td><td>2 Noun-Genitive            </td><td>1 Noun-Relative clause     </td><td>1 Initial subordinator word</td></tr>\n",
       "\t<tr><th scope=row>232</th><td>Maori                      </td><td>low                        </td><td>2 VO                       </td><td>2 Prepositions             </td><td>2 Noun-Genitive            </td><td>1 Noun-Relative clause     </td><td>1 Initial subordinator word</td></tr>\n",
       "\t<tr><th scope=row>330</th><td>Romanian                   </td><td>medium                     </td><td>2 VO                       </td><td>2 Prepositions             </td><td>2 Noun-Genitive            </td><td>1 Noun-Relative clause     </td><td>1 Initial subordinator word</td></tr>\n",
       "\t<tr><th scope=row>350</th><td>Spanish                    </td><td>medium                     </td><td>2 VO                       </td><td>2 Prepositions             </td><td>2 Noun-Genitive            </td><td>1 Noun-Relative clause     </td><td>1 Initial subordinator word</td></tr>\n",
       "\t<tr><th scope=row>358</th><td>Swahili                    </td><td>medium                     </td><td>2 VO                       </td><td>2 Prepositions             </td><td>2 Noun-Genitive            </td><td>1 Noun-Relative clause     </td><td>1 Initial subordinator word</td></tr>\n",
       "\t<tr><th scope=row>415</th><td>Vietnamese                 </td><td>medium                     </td><td>2 VO                       </td><td>2 Prepositions             </td><td>2 Noun-Genitive            </td><td>1 Noun-Relative clause     </td><td>1 Initial subordinator word</td></tr>\n",
       "\t<tr><th scope=row>437</th><td>Zapotec (Isthmus)          </td><td>low                        </td><td>2 VO                       </td><td>2 Prepositions             </td><td>2 Noun-Genitive            </td><td>1 Noun-Relative clause     </td><td>1 Initial subordinator word</td></tr>\n",
       "</tbody>\n",
       "</table>\n"
      ],
      "text/latex": [
       "\\begin{tabular}{r|lllllll}\n",
       "  & Name & verb.noun.ratio & X83A & X85A & X86A & X90A & X94A\\\\\n",
       "\\hline\n",
       "\t120 & Greek (Modern)              & medium                      & 2 VO                        & 2 Prepositions              & 2 Noun-Genitive             & 1 Noun-Relative clause      & 1 Initial subordinator word\\\\\n",
       "\t129 & Hebrew (Modern)             & medium                      & 2 VO                        & 2 Prepositions              & 2 Noun-Genitive             & 1 Noun-Relative clause      & 1 Initial subordinator word\\\\\n",
       "\t150 & Irish                       & low                         & 2 VO                        & 2 Prepositions              & 2 Noun-Genitive             & 1 Noun-Relative clause      & 1 Initial subordinator word\\\\\n",
       "\t230 & Malagasy                    & low                         & 2 VO                        & 2 Prepositions              & 2 Noun-Genitive             & 1 Noun-Relative clause      & 1 Initial subordinator word\\\\\n",
       "\t232 & Maori                       & low                         & 2 VO                        & 2 Prepositions              & 2 Noun-Genitive             & 1 Noun-Relative clause      & 1 Initial subordinator word\\\\\n",
       "\t330 & Romanian                    & medium                      & 2 VO                        & 2 Prepositions              & 2 Noun-Genitive             & 1 Noun-Relative clause      & 1 Initial subordinator word\\\\\n",
       "\t350 & Spanish                     & medium                      & 2 VO                        & 2 Prepositions              & 2 Noun-Genitive             & 1 Noun-Relative clause      & 1 Initial subordinator word\\\\\n",
       "\t358 & Swahili                     & medium                      & 2 VO                        & 2 Prepositions              & 2 Noun-Genitive             & 1 Noun-Relative clause      & 1 Initial subordinator word\\\\\n",
       "\t415 & Vietnamese                  & medium                      & 2 VO                        & 2 Prepositions              & 2 Noun-Genitive             & 1 Noun-Relative clause      & 1 Initial subordinator word\\\\\n",
       "\t437 & Zapotec (Isthmus)           & low                         & 2 VO                        & 2 Prepositions              & 2 Noun-Genitive             & 1 Noun-Relative clause      & 1 Initial subordinator word\\\\\n",
       "\\end{tabular}\n"
      ],
      "text/markdown": [
       "\n",
       "| <!--/--> | Name | verb.noun.ratio | X83A | X85A | X86A | X90A | X94A | \n",
       "|---|---|---|---|---|---|---|---|---|---|\n",
       "| 120 | Greek (Modern)              | medium                      | 2 VO                        | 2 Prepositions              | 2 Noun-Genitive             | 1 Noun-Relative clause      | 1 Initial subordinator word | \n",
       "| 129 | Hebrew (Modern)             | medium                      | 2 VO                        | 2 Prepositions              | 2 Noun-Genitive             | 1 Noun-Relative clause      | 1 Initial subordinator word | \n",
       "| 150 | Irish                       | low                         | 2 VO                        | 2 Prepositions              | 2 Noun-Genitive             | 1 Noun-Relative clause      | 1 Initial subordinator word | \n",
       "| 230 | Malagasy                    | low                         | 2 VO                        | 2 Prepositions              | 2 Noun-Genitive             | 1 Noun-Relative clause      | 1 Initial subordinator word | \n",
       "| 232 | Maori                       | low                         | 2 VO                        | 2 Prepositions              | 2 Noun-Genitive             | 1 Noun-Relative clause      | 1 Initial subordinator word | \n",
       "| 330 | Romanian                    | medium                      | 2 VO                        | 2 Prepositions              | 2 Noun-Genitive             | 1 Noun-Relative clause      | 1 Initial subordinator word | \n",
       "| 350 | Spanish                     | medium                      | 2 VO                        | 2 Prepositions              | 2 Noun-Genitive             | 1 Noun-Relative clause      | 1 Initial subordinator word | \n",
       "| 358 | Swahili                     | medium                      | 2 VO                        | 2 Prepositions              | 2 Noun-Genitive             | 1 Noun-Relative clause      | 1 Initial subordinator word | \n",
       "| 415 | Vietnamese                  | medium                      | 2 VO                        | 2 Prepositions              | 2 Noun-Genitive             | 1 Noun-Relative clause      | 1 Initial subordinator word | \n",
       "| 437 | Zapotec (Isthmus)           | low                         | 2 VO                        | 2 Prepositions              | 2 Noun-Genitive             | 1 Noun-Relative clause      | 1 Initial subordinator word | \n",
       "\n",
       "\n"
      ],
      "text/plain": [
       "    Name              verb.noun.ratio X83A X85A           X86A           \n",
       "120 Greek (Modern)    medium          2 VO 2 Prepositions 2 Noun-Genitive\n",
       "129 Hebrew (Modern)   medium          2 VO 2 Prepositions 2 Noun-Genitive\n",
       "150 Irish             low             2 VO 2 Prepositions 2 Noun-Genitive\n",
       "230 Malagasy          low             2 VO 2 Prepositions 2 Noun-Genitive\n",
       "232 Maori             low             2 VO 2 Prepositions 2 Noun-Genitive\n",
       "330 Romanian          medium          2 VO 2 Prepositions 2 Noun-Genitive\n",
       "350 Spanish           medium          2 VO 2 Prepositions 2 Noun-Genitive\n",
       "358 Swahili           medium          2 VO 2 Prepositions 2 Noun-Genitive\n",
       "415 Vietnamese        medium          2 VO 2 Prepositions 2 Noun-Genitive\n",
       "437 Zapotec (Isthmus) low             2 VO 2 Prepositions 2 Noun-Genitive\n",
       "    X90A                   X94A                       \n",
       "120 1 Noun-Relative clause 1 Initial subordinator word\n",
       "129 1 Noun-Relative clause 1 Initial subordinator word\n",
       "150 1 Noun-Relative clause 1 Initial subordinator word\n",
       "230 1 Noun-Relative clause 1 Initial subordinator word\n",
       "232 1 Noun-Relative clause 1 Initial subordinator word\n",
       "330 1 Noun-Relative clause 1 Initial subordinator word\n",
       "350 1 Noun-Relative clause 1 Initial subordinator word\n",
       "358 1 Noun-Relative clause 1 Initial subordinator word\n",
       "415 1 Noun-Relative clause 1 Initial subordinator word\n",
       "437 1 Noun-Relative clause 1 Initial subordinator word"
      ]
     },
     "metadata": {},
     "output_type": "display_data"
    }
   ],
   "source": [
    "example6[which(!(example6$verb.noun.ratio %in% c('high','unknown'))),c('Name','verb.noun.ratio','X83A','X85A','X86A','X90A' ,'X94A')]"
   ]
  },
  {
   "cell_type": "markdown",
   "metadata": {},
   "source": [
    "Any thoughts?\n",
    "\n",
    "\n",
    "## How to Classify the WO Features?\n",
    "\n",
    "I can think of two basic strategies:\n",
    "    \n",
    "    1. by POS: \n",
    "        - concerning verbs, e.g \"order of subject and verb\" (82A)\n",
    "        - concerning nouns e.g \"order of numeral and noun\" (89A) \n",
    "        etc.\n",
    "    \n",
    "    2. by syntactic level: \n",
    "        - within phrase, e.g \"order of negative morpheme and verb\" (143A)\n",
    "        - within clause/sentece e.g \"order of object and verb\" (83A)\n",
    "        - above the clause, e.g \"order of adverbial subordinator and clause\" (94A)\n",
    "\n",
    "(both would yield overlapping sets by the way)\n",
    "\n",
    "## How to Assess the two classifications?\n",
    "\n",
    "You already suggested two basic strategies:\n",
    "    \n",
    "    1. by heterogenous sets:\n",
    "    \n",
    "        - generate feature sets that contain a balanced mix of the subclasses\n",
    "        - for those sets whose v/n ratio silhoutte is high, ask which are the features with high eta2\n",
    "        - average as above and see if there is a dominantly informative subclass\n",
    "    \n",
    "    2. by homogenous sets:\n",
    "        \n",
    "        - generate feature sets containing features from a single subclass\n",
    "        - compare the average the silhuettes of these sets by subclass\n",
    "\n",
    "But a few questions come to mind:\n",
    "    \n",
    "    1. any other ideas?\n",
    "    \n",
    "    2. if one or two distinctly informative subclass, e.g \"features pertaining to negation\" are found, do you say QED?\n",
    "    \n",
    "    3. if not, what do you say then?"
   ]
  },
  {
   "cell_type": "code",
   "execution_count": null,
   "metadata": {
    "collapsed": true
   },
   "outputs": [],
   "source": []
  }
 ],
 "metadata": {
  "kernelspec": {
   "display_name": "R",
   "language": "R",
   "name": "ir"
  },
  "language_info": {
   "codemirror_mode": "r",
   "file_extension": ".r",
   "mimetype": "text/x-r-source",
   "name": "R",
   "pygments_lexer": "r",
   "version": "3.4.1"
  }
 },
 "nbformat": 4,
 "nbformat_minor": 1
}
