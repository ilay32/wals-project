{
 "cells": [
  {
   "cell_type": "markdown",
   "metadata": {},
   "source": [
    "# Verb Noun Ratio through MCA\n",
    "\n",
    "All the feature sets in this notebook are subsets of:\n",
    "\n",
    "\t\n",
    "    82A\tOrder of Subject and Verb\n",
    "    \n",
    "    83A\tOrder of Object and Verb\t\n",
    "\n",
    "    84A\tOrder of Object, Oblique, and Verb\t\n",
    "    \n",
    "    85A\tOrder of Adposition and Noun Phrase\tMatthew\t\n",
    "\n",
    "    86A\tOrder of Genitive and Noun\t\n",
    "\n",
    "    87A\tOrder of Adjective and Noun\t\n",
    "\n",
    "    88A\tOrder of Demonstrative and Nou\n",
    "\n",
    "    89A\tOrder of Numeral and Noun\n",
    "\n",
    "    90A\tOrder of Relative Clause and Noun\n",
    "\n",
    "    91A\tOrder of Degree Word and Adjective\n",
    "\n",
    "    92A\tPosition of Polar Question Particles\n",
    "\n",
    "    93A\tPosition of Interrogative Phrases in Content Questions\n",
    "\n",
    "    94A\tOrder of Adverbial Subordinator and Clause\n",
    "\n",
    "    143A\tOrder of Negative Morpheme and Verb\t\n",
    "\n",
    "    144A\tPosition of Negative Word With Respect to Subject, Object, and Verb\n",
    "\n",
    "With the requirement of at least 20 languages with known verb/noun ratio.\n",
    "\n",
    "Examples 1 - 5 are the top 5 of these sets, in terms of the best silhoutte computed by\n",
    " \n",
    " - high v/n ratio\n",
    " - low v/n ratio\n",
    " - medium v/n ratio\n",
    "\n",
    "\"best\" means optimized for number of mca dimensions to use in the distance computation.\n",
    "\n",
    "All silhouette scores are 0.5+ and quality indices are 4+\n",
    "\n",
    "quality index:\n",
    "max eigenvalue * number of categories / sum of all eigenvalues\n",
    "\n",
    "categories - possible values of a variable i.e a WALS  feature."
   ]
  },
  {
   "cell_type": "code",
   "execution_count": 5,
   "metadata": {
    "collapsed": false
   },
   "outputs": [
    {
     "data": {
      "text/html": [
       "<ol class=list-inline>\n",
       "\t<li>569</li>\n",
       "\t<li>19</li>\n",
       "</ol>\n"
      ],
      "text/latex": [
       "\\begin{enumerate*}\n",
       "\\item 569\n",
       "\\item 19\n",
       "\\end{enumerate*}\n"
      ],
      "text/markdown": [
       "1. 569\n",
       "2. 19\n",
       "\n",
       "\n"
      ],
      "text/plain": [
       "[1] 569  19"
      ]
     },
     "metadata": {},
     "output_type": "display_data"
    }
   ],
   "source": [
    "library(FactoMineR)\n",
    "example1 <- read.csv('chunked-feature-sets/top-1silhouettes-on-diverse-wo.csv')\n",
    "example1$X <- NULL\n",
    "dim(example1)"
   ]
  },
  {
   "cell_type": "code",
   "execution_count": 5,
   "metadata": {
    "collapsed": false
   },
   "outputs": [
    {
     "data": {
      "text/html": [
       "Basque"
      ],
      "text/latex": [
       "Basque"
      ],
      "text/markdown": [
       "Basque"
      ],
      "text/plain": [
       "[1] Basque\n",
       "569 Levels: Abkhaz Abui Abun Acehnese Achang Adang Adioukrou ... Zuni"
      ]
     },
     "metadata": {},
     "output_type": "display_data"
    }
   ],
   "source": [
    "knownratios = which(example1$verb.noun.ratio != 'unknown')\n",
    "example1[c(62),'Name']"
   ]
  },
  {
   "cell_type": "code",
   "execution_count": 16,
   "metadata": {
    "collapsed": false
   },
   "outputs": [
    {
     "data": {
      "text/html": [
       "<table>\n",
       "<thead><tr><th scope=col>verb.noun.ratio</th><th scope=col>wals_code</th><th scope=col>iso_code</th><th scope=col>glottocode</th><th scope=col>Name</th><th scope=col>latitude</th><th scope=col>longitude</th><th scope=col>genus</th><th scope=col>family</th><th scope=col>macroarea</th><th scope=col>countrycodes</th><th scope=col>X82A</th><th scope=col>X83A</th><th scope=col>X85A</th><th scope=col>X86A</th><th scope=col>X87A</th><th scope=col>X88A</th><th scope=col>X89A</th><th scope=col>X93A</th></tr></thead>\n",
       "<tbody>\n",
       "\t<tr><td>unknown                           </td><td>abk                               </td><td>abk                               </td><td>abkh1244                          </td><td>Abkhaz                            </td><td>43.08333                          </td><td>41                                </td><td>Northwest Caucasian               </td><td>Northwest Caucasian               </td><td>Eurasia                           </td><td>GE                                </td><td>1 SV                              </td><td>1 OV                              </td><td>1 Postpositions                   </td><td>1 Genitive-Noun                   </td><td>2 Noun-Adjective                  </td><td>1 Demonstrative-Noun              </td><td>3 No dominant order               </td><td>2 Not initial interrogative phrase</td></tr>\n",
       "</tbody>\n",
       "</table>\n"
      ],
      "text/latex": [
       "\\begin{tabular}{r|lllllllllllllllllll}\n",
       " verb.noun.ratio & wals\\_code & iso\\_code & glottocode & Name & latitude & longitude & genus & family & macroarea & countrycodes & X82A & X83A & X85A & X86A & X87A & X88A & X89A & X93A\\\\\n",
       "\\hline\n",
       "\t unknown                            & abk                                & abk                                & abkh1244                           & Abkhaz                             & 43.08333                           & 41                                 & Northwest Caucasian                & Northwest Caucasian                & Eurasia                            & GE                                 & 1 SV                               & 1 OV                               & 1 Postpositions                    & 1 Genitive-Noun                    & 2 Noun-Adjective                   & 1 Demonstrative-Noun               & 3 No dominant order                & 2 Not initial interrogative phrase\\\\\n",
       "\\end{tabular}\n"
      ],
      "text/markdown": [
       "\n",
       "verb.noun.ratio | wals_code | iso_code | glottocode | Name | latitude | longitude | genus | family | macroarea | countrycodes | X82A | X83A | X85A | X86A | X87A | X88A | X89A | X93A | \n",
       "|---|\n",
       "| unknown                            | abk                                | abk                                | abkh1244                           | Abkhaz                             | 43.08333                           | 41                                 | Northwest Caucasian                | Northwest Caucasian                | Eurasia                            | GE                                 | 1 SV                               | 1 OV                               | 1 Postpositions                    | 1 Genitive-Noun                    | 2 Noun-Adjective                   | 1 Demonstrative-Noun               | 3 No dominant order                | 2 Not initial interrogative phrase | \n",
       "\n",
       "\n"
      ],
      "text/plain": [
       "  verb.noun.ratio wals_code iso_code glottocode Name   latitude longitude\n",
       "1 unknown         abk       abk      abkh1244   Abkhaz 43.08333 41       \n",
       "  genus               family              macroarea countrycodes X82A X83A\n",
       "1 Northwest Caucasian Northwest Caucasian Eurasia   GE           1 SV 1 OV\n",
       "  X85A            X86A            X87A             X88A                \n",
       "1 1 Postpositions 1 Genitive-Noun 2 Noun-Adjective 1 Demonstrative-Noun\n",
       "  X89A                X93A                              \n",
       "1 3 No dominant order 2 Not initial interrogative phrase"
      ]
     },
     "metadata": {},
     "output_type": "display_data"
    }
   ],
   "source": [
    "example1[0:1,]"
   ]
  },
  {
   "cell_type": "code",
   "execution_count": 17,
   "metadata": {
    "collapsed": false
   },
   "outputs": [],
   "source": [
    "knownratios = which(example1$verb.noun.ratio != 'unknown')\n",
    "mca <- MCA(example1,quali.sup=1:11)"
   ]
  },
  {
   "cell_type": "code",
   "execution_count": 18,
   "metadata": {
    "collapsed": false
   },
   "outputs": [
    {
     "data": {
      "image/png": "[encoded data removed]",
      "text/plain": [
       "Plot with title “MCA factor map”"
      ]
     },
     "metadata": {},
     "output_type": "display_data"
    }
   ],
   "source": [
    "plot(mca,choix=\"ind\",habillage=\"verb.noun.ratio\",invisible=c(\"var\",\"quali.sup\"),select=knownratios,unselect=1)"
   ]
  },
  {
   "cell_type": "code",
   "execution_count": 5,
   "metadata": {
    "collapsed": false
   },
   "outputs": [
    {
     "data": {
      "text/html": [
       "<table>\n",
       "<thead><tr><th></th><th scope=col>Dim 1</th><th scope=col>Dim 2</th><th scope=col>Dim 3</th><th scope=col>Dim 4</th><th scope=col>Dim 5</th></tr></thead>\n",
       "<tbody>\n",
       "\t<tr><th scope=row>X82A</th><td>0.25839437 </td><td>0.37836767 </td><td>0.220217331</td><td>0.04295772 </td><td>0.019227491</td></tr>\n",
       "\t<tr><th scope=row>X83A</th><td>0.74166312 </td><td>0.04141573 </td><td>0.270991719</td><td>0.04813078 </td><td>0.021319504</td></tr>\n",
       "\t<tr><th scope=row>X85A</th><td>0.80716679 </td><td>0.05121086 </td><td>0.335827622</td><td>0.29928816 </td><td>0.541593463</td></tr>\n",
       "\t<tr><th scope=row>X86A</th><td>0.72812412 </td><td>0.02507984 </td><td>0.097091189</td><td>0.07422557 </td><td>0.003385266</td></tr>\n",
       "\t<tr><th scope=row>X87A</th><td>0.22477240 </td><td>0.31008040 </td><td>0.239684257</td><td>0.11227615 </td><td>0.043699442</td></tr>\n",
       "\t<tr><th scope=row>X88A</th><td>0.42036358 </td><td>0.34467471 </td><td>0.093139015</td><td>0.47874207 </td><td>0.574639838</td></tr>\n",
       "\t<tr><th scope=row>X89A</th><td>0.01837915 </td><td>0.67720557 </td><td>0.082489107</td><td>0.18328096 </td><td>0.005633400</td></tr>\n",
       "\t<tr><th scope=row>X93A</th><td>0.07375978 </td><td>0.45084975 </td><td>0.004572253</td><td>0.01865261 </td><td>0.003309581</td></tr>\n",
       "</tbody>\n",
       "</table>\n"
      ],
      "text/latex": [
       "\\begin{tabular}{r|lllll}\n",
       "  & Dim 1 & Dim 2 & Dim 3 & Dim 4 & Dim 5\\\\\n",
       "\\hline\n",
       "\tX82A & 0.25839437  & 0.37836767  & 0.220217331 & 0.04295772  & 0.019227491\\\\\n",
       "\tX83A & 0.74166312  & 0.04141573  & 0.270991719 & 0.04813078  & 0.021319504\\\\\n",
       "\tX85A & 0.80716679  & 0.05121086  & 0.335827622 & 0.29928816  & 0.541593463\\\\\n",
       "\tX86A & 0.72812412  & 0.02507984  & 0.097091189 & 0.07422557  & 0.003385266\\\\\n",
       "\tX87A & 0.22477240  & 0.31008040  & 0.239684257 & 0.11227615  & 0.043699442\\\\\n",
       "\tX88A & 0.42036358  & 0.34467471  & 0.093139015 & 0.47874207  & 0.574639838\\\\\n",
       "\tX89A & 0.01837915  & 0.67720557  & 0.082489107 & 0.18328096  & 0.005633400\\\\\n",
       "\tX93A & 0.07375978  & 0.45084975  & 0.004572253 & 0.01865261  & 0.003309581\\\\\n",
       "\\end{tabular}\n"
      ],
      "text/markdown": [
       "\n",
       "| <!--/--> | Dim 1 | Dim 2 | Dim 3 | Dim 4 | Dim 5 | \n",
       "|---|---|---|---|---|---|---|---|\n",
       "| X82A | 0.25839437  | 0.37836767  | 0.220217331 | 0.04295772  | 0.019227491 | \n",
       "| X83A | 0.74166312  | 0.04141573  | 0.270991719 | 0.04813078  | 0.021319504 | \n",
       "| X85A | 0.80716679  | 0.05121086  | 0.335827622 | 0.29928816  | 0.541593463 | \n",
       "| X86A | 0.72812412  | 0.02507984  | 0.097091189 | 0.07422557  | 0.003385266 | \n",
       "| X87A | 0.22477240  | 0.31008040  | 0.239684257 | 0.11227615  | 0.043699442 | \n",
       "| X88A | 0.42036358  | 0.34467471  | 0.093139015 | 0.47874207  | 0.574639838 | \n",
       "| X89A | 0.01837915  | 0.67720557  | 0.082489107 | 0.18328096  | 0.005633400 | \n",
       "| X93A | 0.07375978  | 0.45084975  | 0.004572253 | 0.01865261  | 0.003309581 | \n",
       "\n",
       "\n"
      ],
      "text/plain": [
       "     Dim 1      Dim 2      Dim 3       Dim 4      Dim 5      \n",
       "X82A 0.25839437 0.37836767 0.220217331 0.04295772 0.019227491\n",
       "X83A 0.74166312 0.04141573 0.270991719 0.04813078 0.021319504\n",
       "X85A 0.80716679 0.05121086 0.335827622 0.29928816 0.541593463\n",
       "X86A 0.72812412 0.02507984 0.097091189 0.07422557 0.003385266\n",
       "X87A 0.22477240 0.31008040 0.239684257 0.11227615 0.043699442\n",
       "X88A 0.42036358 0.34467471 0.093139015 0.47874207 0.574639838\n",
       "X89A 0.01837915 0.67720557 0.082489107 0.18328096 0.005633400\n",
       "X93A 0.07375978 0.45084975 0.004572253 0.01865261 0.003309581"
      ]
     },
     "metadata": {},
     "output_type": "display_data"
    }
   ],
   "source": [
    "mca$var$eta2"
   ]
  },
  {
   "cell_type": "markdown",
   "metadata": {},
   "source": [
    "## So here the leading features are:\n",
    "\n",
    " * 83A - order of object and verb\n",
    " \n",
    " * 85A - order of adposition and noun phrase\n",
    " \n",
    " * 86A - order of genitive and noun"
   ]
  },
  {
   "cell_type": "code",
   "execution_count": 6,
   "metadata": {
    "collapsed": false
   },
   "outputs": [
    {
     "data": {
      "text/html": [
       "<table>\n",
       "<thead><tr><th></th><th scope=col>Name</th></tr></thead>\n",
       "<tbody>\n",
       "\t<tr><th scope=row>152</th><td>Greek (Modern)</td></tr>\n",
       "\t<tr><th scope=row>413</th><td>Polish        </td></tr>\n",
       "</tbody>\n",
       "</table>\n"
      ],
      "text/latex": [
       "\\begin{tabular}{r|l}\n",
       "  & Name\\\\\n",
       "\\hline\n",
       "\t152 & Greek (Modern)\\\\\n",
       "\t413 & Polish        \\\\\n",
       "\\end{tabular}\n"
      ],
      "text/markdown": [
       "\n",
       "| <!--/--> | Name | \n",
       "|---|---|\n",
       "| 152 | Greek (Modern) | \n",
       "| 413 | Polish         | \n",
       "\n",
       "\n"
      ],
      "text/plain": [
       "    Name          \n",
       "152 Greek (Modern)\n",
       "413 Polish        "
      ]
     },
     "metadata": {},
     "output_type": "display_data"
    }
   ],
   "source": [
    "example1[c(152,413),]['Name']"
   ]
  },
  {
   "cell_type": "markdown",
   "metadata": {},
   "source": [
    "Note that if we look at the ratios table in Polinsky's paper we see that Polish is at the very bottom of the high group while Greek is at the top of the middle group.\n",
    "We expect Spanish not to be in this set."
   ]
  },
  {
   "cell_type": "code",
   "execution_count": 7,
   "metadata": {
    "collapsed": false
   },
   "outputs": [
    {
     "data": {
      "text/html": [
       "466"
      ],
      "text/latex": [
       "466"
      ],
      "text/markdown": [
       "466"
      ],
      "text/plain": [
       "[1] 466"
      ]
     },
     "metadata": {},
     "output_type": "display_data"
    }
   ],
   "source": [
    "grep(\"Spanish\",example1$Name)"
   ]
  },
  {
   "cell_type": "markdown",
   "metadata": {},
   "source": [
    "Sadly it is there, but at least it's close to polish and Greek, which makes sense."
   ]
  },
  {
   "cell_type": "code",
   "execution_count": 14,
   "metadata": {
    "collapsed": false
   },
   "outputs": [],
   "source": [
    "example2 <- read.csv('chunked-feature-sets/top-2silhouettes-on-diverse-wo.csv')\n",
    "example2$X <- NULL\n",
    "mca <- MCA(example2,quali.sup=1:11)"
   ]
  },
  {
   "cell_type": "code",
   "execution_count": 15,
   "metadata": {
    "collapsed": false
   },
   "outputs": [
    {
     "data": {
      "text/html": [
       "<table>\n",
       "<thead><tr><th></th><th scope=col>Dim 1</th><th scope=col>Dim 2</th><th scope=col>Dim 3</th><th scope=col>Dim 4</th><th scope=col>Dim 5</th></tr></thead>\n",
       "<tbody>\n",
       "\t<tr><th scope=row>X82A</th><td>0.27690694 </td><td>0.4319244  </td><td>0.28093883 </td><td>0.023205522</td><td>0.065157008</td></tr>\n",
       "\t<tr><th scope=row>X83A</th><td>0.75774151 </td><td>0.1638095  </td><td>0.24293731 </td><td>0.004459773</td><td>0.009782116</td></tr>\n",
       "\t<tr><th scope=row>X85A</th><td>0.81457670 </td><td>0.1667859  </td><td>0.17638915 </td><td>0.489587640</td><td>0.469096608</td></tr>\n",
       "\t<tr><th scope=row>X86A</th><td>0.74088608 </td><td>0.1294123  </td><td>0.09043785 </td><td>0.014218882</td><td>0.029591126</td></tr>\n",
       "\t<tr><th scope=row>X87A</th><td>0.17683340 </td><td>0.2372019  </td><td>0.27181036 </td><td>0.144660220</td><td>0.031012471</td></tr>\n",
       "\t<tr><th scope=row>X88A</th><td>0.36828128 </td><td>0.3243517  </td><td>0.13512072 </td><td>0.541667549</td><td>0.482438389</td></tr>\n",
       "\t<tr><th scope=row>X93A</th><td>0.07577286 </td><td>0.4374284  </td><td>0.08100632 </td><td>0.004259114</td><td>0.115623896</td></tr>\n",
       "</tbody>\n",
       "</table>\n"
      ],
      "text/latex": [
       "\\begin{tabular}{r|lllll}\n",
       "  & Dim 1 & Dim 2 & Dim 3 & Dim 4 & Dim 5\\\\\n",
       "\\hline\n",
       "\tX82A & 0.27690694  & 0.4319244   & 0.28093883  & 0.023205522 & 0.065157008\\\\\n",
       "\tX83A & 0.75774151  & 0.1638095   & 0.24293731  & 0.004459773 & 0.009782116\\\\\n",
       "\tX85A & 0.81457670  & 0.1667859   & 0.17638915  & 0.489587640 & 0.469096608\\\\\n",
       "\tX86A & 0.74088608  & 0.1294123   & 0.09043785  & 0.014218882 & 0.029591126\\\\\n",
       "\tX87A & 0.17683340  & 0.2372019   & 0.27181036  & 0.144660220 & 0.031012471\\\\\n",
       "\tX88A & 0.36828128  & 0.3243517   & 0.13512072  & 0.541667549 & 0.482438389\\\\\n",
       "\tX93A & 0.07577286  & 0.4374284   & 0.08100632  & 0.004259114 & 0.115623896\\\\\n",
       "\\end{tabular}\n"
      ],
      "text/markdown": [
       "\n",
       "| <!--/--> | Dim 1 | Dim 2 | Dim 3 | Dim 4 | Dim 5 | \n",
       "|---|---|---|---|---|---|---|\n",
       "| X82A | 0.27690694  | 0.4319244   | 0.28093883  | 0.023205522 | 0.065157008 | \n",
       "| X83A | 0.75774151  | 0.1638095   | 0.24293731  | 0.004459773 | 0.009782116 | \n",
       "| X85A | 0.81457670  | 0.1667859   | 0.17638915  | 0.489587640 | 0.469096608 | \n",
       "| X86A | 0.74088608  | 0.1294123   | 0.09043785  | 0.014218882 | 0.029591126 | \n",
       "| X87A | 0.17683340  | 0.2372019   | 0.27181036  | 0.144660220 | 0.031012471 | \n",
       "| X88A | 0.36828128  | 0.3243517   | 0.13512072  | 0.541667549 | 0.482438389 | \n",
       "| X93A | 0.07577286  | 0.4374284   | 0.08100632  | 0.004259114 | 0.115623896 | \n",
       "\n",
       "\n"
      ],
      "text/plain": [
       "     Dim 1      Dim 2     Dim 3      Dim 4       Dim 5      \n",
       "X82A 0.27690694 0.4319244 0.28093883 0.023205522 0.065157008\n",
       "X83A 0.75774151 0.1638095 0.24293731 0.004459773 0.009782116\n",
       "X85A 0.81457670 0.1667859 0.17638915 0.489587640 0.469096608\n",
       "X86A 0.74088608 0.1294123 0.09043785 0.014218882 0.029591126\n",
       "X87A 0.17683340 0.2372019 0.27181036 0.144660220 0.031012471\n",
       "X88A 0.36828128 0.3243517 0.13512072 0.541667549 0.482438389\n",
       "X93A 0.07577286 0.4374284 0.08100632 0.004259114 0.115623896"
      ]
     },
     "metadata": {},
     "output_type": "display_data"
    }
   ],
   "source": [
    "mca$var$eta"
   ]
  },
  {
   "cell_type": "code",
   "execution_count": 16,
   "metadata": {
    "collapsed": false
   },
   "outputs": [
    {
     "data": {
      "text/html": [
       "<table>\n",
       "<thead><tr><th></th><th scope=col>Dim 1</th><th scope=col>Dim 2</th><th scope=col>Dim 3</th><th scope=col>Dim 4</th><th scope=col>Dim 5</th></tr></thead>\n",
       "<tbody>\n",
       "\t<tr><th scope=row>X82A_1 SV</th><td>1.643175e+00</td><td>3.615884e+00</td><td> 1.06476591 </td><td>1.449702e-02</td><td>1.255807e-03</td></tr>\n",
       "\t<tr><th scope=row>X82A_2 VS</th><td>6.750958e+00</td><td>3.486261e+00</td><td>14.75163453 </td><td>2.569672e-01</td><td>1.330548e+00</td></tr>\n",
       "\t<tr><th scope=row>X82A_3 No dominant order</th><td>2.295685e-01</td><td>1.573995e+01</td><td> 6.15528114 </td><td>1.627423e+00</td><td>4.085750e+00</td></tr>\n",
       "\t<tr><th scope=row>X83A_1 OV</th><td>1.249889e+01</td><td>1.026380e+00</td><td> 0.60903449 </td><td>2.101594e-01</td><td>9.092638e-02</td></tr>\n",
       "\t<tr><th scope=row>X83A_2 VO</th><td>1.096031e+01</td><td>5.173920e-05</td><td> 0.46899548 </td><td>1.443768e-01</td><td>4.695892e-05</td></tr>\n",
       "\t<tr><th scope=row>X83A_3 No dominant order</th><td>1.391037e-01</td><td>7.636548e+00</td><td>17.92162599 </td><td>1.040311e-02</td><td>7.223718e-01</td></tr>\n",
       "\t<tr><th scope=row>1 Postpositions</th><td>1.235695e+01</td><td>2.928239e-01</td><td> 0.32639049 </td><td>9.029277e-02</td><td>1.090287e+00</td></tr>\n",
       "\t<tr><th scope=row>2 Prepositions</th><td>1.283036e+01</td><td>8.775609e-03</td><td> 0.64978546 </td><td>2.836328e-01</td><td>7.116585e-01</td></tr>\n",
       "\t<tr><th scope=row>3 Inpositions</th><td>3.628827e-02</td><td>3.798637e-01</td><td> 0.71605290 </td><td>2.195419e+01</td><td>1.637474e+01</td></tr>\n",
       "\t<tr><th scope=row>4 No dominant order</th><td>1.028911e-04</td><td>1.215368e-04</td><td> 4.00745789 </td><td>1.617986e+01</td><td>2.028251e+01</td></tr>\n",
       "\t<tr><th scope=row>5 No adpositions</th><td>1.446344e-01</td><td>8.138802e+00</td><td> 8.09536708 </td><td>1.554558e+00</td><td>5.443776e-01</td></tr>\n",
       "\t<tr><th scope=row>X86A_1 Genitive-Noun</th><td>1.032449e+01</td><td>2.183719e-01</td><td> 0.04993404 </td><td>1.010818e-01</td><td>9.806907e-02</td></tr>\n",
       "\t<tr><th scope=row>X86A_2 Noun-Genitive</th><td>1.256555e+01</td><td>3.538686e-01</td><td> 0.76919019 </td><td>5.038729e-01</td><td>1.018723e-01</td></tr>\n",
       "\t<tr><th scope=row>X86A_3 No dominant order</th><td>1.833509e-01</td><td>6.271663e+00</td><td> 6.25384508 </td><td>5.585641e-01</td><td>2.260447e+00</td></tr>\n",
       "\t<tr><th scope=row>X87A_1 Adjective-Noun</th><td>3.264633e+00</td><td>4.713299e+00</td><td>14.10292399 </td><td>1.913496e+00</td><td>6.172723e-01</td></tr>\n",
       "\t<tr><th scope=row>X87A_2 Noun-Adjective</th><td>1.883025e+00</td><td>4.097430e+00</td><td> 3.03369792 </td><td>2.981114e-02</td><td>2.802649e-01</td></tr>\n",
       "\t<tr><th scope=row>X87A_3 No dominant order</th><td>2.800732e-01</td><td>3.719232e+00</td><td> 3.74509369 </td><td>9.452652e+00</td><td>1.919777e-01</td></tr>\n",
       "\t<tr><th scope=row>X87A_4 Only internally-headed relative clauses</th><td>7.938330e-02</td><td>1.433595e-02</td><td> 0.37604598 </td><td>4.414614e-01</td><td>1.489053e+00</td></tr>\n",
       "\t<tr><th scope=row>1 Demonstrative-Noun</th><td>5.897368e+00</td><td>7.991554e+00</td><td> 3.88020959 </td><td>1.062238e+00</td><td>2.370031e-01</td></tr>\n",
       "\t<tr><th scope=row>2 Noun-Demonstrative</th><td>4.278784e+00</td><td>8.734915e+00</td><td> 3.09586584 </td><td>1.120103e-02</td><td>1.071020e+00</td></tr>\n",
       "\t<tr><th scope=row>3 Demonstrative prefix</th><td>1.493223e-01</td><td>3.758285e-02</td><td> 0.95429660 </td><td>1.462709e-01</td><td>1.029998e-03</td></tr>\n",
       "\t<tr><th scope=row>4 Demonstrative suffix</th><td>7.043562e-01</td><td>2.465096e-01</td><td> 0.42992958 </td><td>1.093379e+01</td><td>1.863324e+01</td></tr>\n",
       "\t<tr><th scope=row>5 Demonstrative before and after Noun</th><td>4.111366e-02</td><td>1.841146e-02</td><td> 1.15476128 </td><td>2.960020e+01</td><td>1.868148e+01</td></tr>\n",
       "\t<tr><th scope=row>6 Mixed</th><td>3.984249e-01</td><td>1.241954e-01</td><td> 1.05246722 </td><td>2.570486e+00</td><td>1.489122e+00</td></tr>\n",
       "\t<tr><th scope=row>1 Initial interrogative phrase</th><td>1.219311e+00</td><td>1.538558e+01</td><td> 2.93398946 </td><td>2.764836e-02</td><td>1.427788e-02</td></tr>\n",
       "\t<tr><th scope=row>2 Not initial interrogative phrase</th><td>7.338699e-01</td><td>7.223855e+00</td><td> 1.91073529 </td><td>5.570676e-04</td><td>3.879384e-01</td></tr>\n",
       "\t<tr><th scope=row>3 Mixed</th><td>4.066099e-01</td><td>5.237370e-01</td><td> 1.49062292 </td><td>3.203142e-01</td><td>9.211465e+00</td></tr>\n",
       "</tbody>\n",
       "</table>\n"
      ],
      "text/latex": [
       "\\begin{tabular}{r|lllll}\n",
       "  & Dim 1 & Dim 2 & Dim 3 & Dim 4 & Dim 5\\\\\n",
       "\\hline\n",
       "\tX82A\\_1 SV & 1.643175e+00 & 3.615884e+00 &  1.06476591  & 1.449702e-02 & 1.255807e-03\\\\\n",
       "\tX82A\\_2 VS & 6.750958e+00 & 3.486261e+00 & 14.75163453  & 2.569672e-01 & 1.330548e+00\\\\\n",
       "\tX82A\\_3 No dominant order & 2.295685e-01 & 1.573995e+01 &  6.15528114  & 1.627423e+00 & 4.085750e+00\\\\\n",
       "\tX83A\\_1 OV & 1.249889e+01 & 1.026380e+00 &  0.60903449  & 2.101594e-01 & 9.092638e-02\\\\\n",
       "\tX83A\\_2 VO & 1.096031e+01 & 5.173920e-05 &  0.46899548  & 1.443768e-01 & 4.695892e-05\\\\\n",
       "\tX83A\\_3 No dominant order & 1.391037e-01 & 7.636548e+00 & 17.92162599  & 1.040311e-02 & 7.223718e-01\\\\\n",
       "\t1 Postpositions & 1.235695e+01 & 2.928239e-01 &  0.32639049  & 9.029277e-02 & 1.090287e+00\\\\\n",
       "\t2 Prepositions & 1.283036e+01 & 8.775609e-03 &  0.64978546  & 2.836328e-01 & 7.116585e-01\\\\\n",
       "\t3 Inpositions & 3.628827e-02 & 3.798637e-01 &  0.71605290  & 2.195419e+01 & 1.637474e+01\\\\\n",
       "\t4 No dominant order & 1.028911e-04 & 1.215368e-04 &  4.00745789  & 1.617986e+01 & 2.028251e+01\\\\\n",
       "\t5 No adpositions & 1.446344e-01 & 8.138802e+00 &  8.09536708  & 1.554558e+00 & 5.443776e-01\\\\\n",
       "\tX86A\\_1 Genitive-Noun & 1.032449e+01 & 2.183719e-01 &  0.04993404  & 1.010818e-01 & 9.806907e-02\\\\\n",
       "\tX86A\\_2 Noun-Genitive & 1.256555e+01 & 3.538686e-01 &  0.76919019  & 5.038729e-01 & 1.018723e-01\\\\\n",
       "\tX86A\\_3 No dominant order & 1.833509e-01 & 6.271663e+00 &  6.25384508  & 5.585641e-01 & 2.260447e+00\\\\\n",
       "\tX87A\\_1 Adjective-Noun & 3.264633e+00 & 4.713299e+00 & 14.10292399  & 1.913496e+00 & 6.172723e-01\\\\\n",
       "\tX87A\\_2 Noun-Adjective & 1.883025e+00 & 4.097430e+00 &  3.03369792  & 2.981114e-02 & 2.802649e-01\\\\\n",
       "\tX87A\\_3 No dominant order & 2.800732e-01 & 3.719232e+00 &  3.74509369  & 9.452652e+00 & 1.919777e-01\\\\\n",
       "\tX87A\\_4 Only internally-headed relative clauses & 7.938330e-02 & 1.433595e-02 &  0.37604598  & 4.414614e-01 & 1.489053e+00\\\\\n",
       "\t1 Demonstrative-Noun & 5.897368e+00 & 7.991554e+00 &  3.88020959  & 1.062238e+00 & 2.370031e-01\\\\\n",
       "\t2 Noun-Demonstrative & 4.278784e+00 & 8.734915e+00 &  3.09586584  & 1.120103e-02 & 1.071020e+00\\\\\n",
       "\t3 Demonstrative prefix & 1.493223e-01 & 3.758285e-02 &  0.95429660  & 1.462709e-01 & 1.029998e-03\\\\\n",
       "\t4 Demonstrative suffix & 7.043562e-01 & 2.465096e-01 &  0.42992958  & 1.093379e+01 & 1.863324e+01\\\\\n",
       "\t5 Demonstrative before and after Noun & 4.111366e-02 & 1.841146e-02 &  1.15476128  & 2.960020e+01 & 1.868148e+01\\\\\n",
       "\t6 Mixed & 3.984249e-01 & 1.241954e-01 &  1.05246722  & 2.570486e+00 & 1.489122e+00\\\\\n",
       "\t1 Initial interrogative phrase & 1.219311e+00 & 1.538558e+01 &  2.93398946  & 2.764836e-02 & 1.427788e-02\\\\\n",
       "\t2 Not initial interrogative phrase & 7.338699e-01 & 7.223855e+00 &  1.91073529  & 5.570676e-04 & 3.879384e-01\\\\\n",
       "\t3 Mixed & 4.066099e-01 & 5.237370e-01 &  1.49062292  & 3.203142e-01 & 9.211465e+00\\\\\n",
       "\\end{tabular}\n"
      ],
      "text/markdown": [
       "\n",
       "| <!--/--> | Dim 1 | Dim 2 | Dim 3 | Dim 4 | Dim 5 | \n",
       "|---|---|---|---|---|---|---|---|---|---|---|---|---|---|---|---|---|---|---|---|---|---|---|---|---|---|---|\n",
       "| X82A_1 SV | 1.643175e+00 | 3.615884e+00 |  1.06476591  | 1.449702e-02 | 1.255807e-03 | \n",
       "| X82A_2 VS | 6.750958e+00 | 3.486261e+00 | 14.75163453  | 2.569672e-01 | 1.330548e+00 | \n",
       "| X82A_3 No dominant order | 2.295685e-01 | 1.573995e+01 |  6.15528114  | 1.627423e+00 | 4.085750e+00 | \n",
       "| X83A_1 OV | 1.249889e+01 | 1.026380e+00 |  0.60903449  | 2.101594e-01 | 9.092638e-02 | \n",
       "| X83A_2 VO | 1.096031e+01 | 5.173920e-05 |  0.46899548  | 1.443768e-01 | 4.695892e-05 | \n",
       "| X83A_3 No dominant order | 1.391037e-01 | 7.636548e+00 | 17.92162599  | 1.040311e-02 | 7.223718e-01 | \n",
       "| 1 Postpositions | 1.235695e+01 | 2.928239e-01 |  0.32639049  | 9.029277e-02 | 1.090287e+00 | \n",
       "| 2 Prepositions | 1.283036e+01 | 8.775609e-03 |  0.64978546  | 2.836328e-01 | 7.116585e-01 | \n",
       "| 3 Inpositions | 3.628827e-02 | 3.798637e-01 |  0.71605290  | 2.195419e+01 | 1.637474e+01 | \n",
       "| 4 No dominant order | 1.028911e-04 | 1.215368e-04 |  4.00745789  | 1.617986e+01 | 2.028251e+01 | \n",
       "| 5 No adpositions | 1.446344e-01 | 8.138802e+00 |  8.09536708  | 1.554558e+00 | 5.443776e-01 | \n",
       "| X86A_1 Genitive-Noun | 1.032449e+01 | 2.183719e-01 |  0.04993404  | 1.010818e-01 | 9.806907e-02 | \n",
       "| X86A_2 Noun-Genitive | 1.256555e+01 | 3.538686e-01 |  0.76919019  | 5.038729e-01 | 1.018723e-01 | \n",
       "| X86A_3 No dominant order | 1.833509e-01 | 6.271663e+00 |  6.25384508  | 5.585641e-01 | 2.260447e+00 | \n",
       "| X87A_1 Adjective-Noun | 3.264633e+00 | 4.713299e+00 | 14.10292399  | 1.913496e+00 | 6.172723e-01 | \n",
       "| X87A_2 Noun-Adjective | 1.883025e+00 | 4.097430e+00 |  3.03369792  | 2.981114e-02 | 2.802649e-01 | \n",
       "| X87A_3 No dominant order | 2.800732e-01 | 3.719232e+00 |  3.74509369  | 9.452652e+00 | 1.919777e-01 | \n",
       "| X87A_4 Only internally-headed relative clauses | 7.938330e-02 | 1.433595e-02 |  0.37604598  | 4.414614e-01 | 1.489053e+00 | \n",
       "| 1 Demonstrative-Noun | 5.897368e+00 | 7.991554e+00 |  3.88020959  | 1.062238e+00 | 2.370031e-01 | \n",
       "| 2 Noun-Demonstrative | 4.278784e+00 | 8.734915e+00 |  3.09586584  | 1.120103e-02 | 1.071020e+00 | \n",
       "| 3 Demonstrative prefix | 1.493223e-01 | 3.758285e-02 |  0.95429660  | 1.462709e-01 | 1.029998e-03 | \n",
       "| 4 Demonstrative suffix | 7.043562e-01 | 2.465096e-01 |  0.42992958  | 1.093379e+01 | 1.863324e+01 | \n",
       "| 5 Demonstrative before and after Noun | 4.111366e-02 | 1.841146e-02 |  1.15476128  | 2.960020e+01 | 1.868148e+01 | \n",
       "| 6 Mixed | 3.984249e-01 | 1.241954e-01 |  1.05246722  | 2.570486e+00 | 1.489122e+00 | \n",
       "| 1 Initial interrogative phrase | 1.219311e+00 | 1.538558e+01 |  2.93398946  | 2.764836e-02 | 1.427788e-02 | \n",
       "| 2 Not initial interrogative phrase | 7.338699e-01 | 7.223855e+00 |  1.91073529  | 5.570676e-04 | 3.879384e-01 | \n",
       "| 3 Mixed | 4.066099e-01 | 5.237370e-01 |  1.49062292  | 3.203142e-01 | 9.211465e+00 | \n",
       "\n",
       "\n"
      ],
      "text/plain": [
       "                                               Dim 1        Dim 2       \n",
       "X82A_1 SV                                      1.643175e+00 3.615884e+00\n",
       "X82A_2 VS                                      6.750958e+00 3.486261e+00\n",
       "X82A_3 No dominant order                       2.295685e-01 1.573995e+01\n",
       "X83A_1 OV                                      1.249889e+01 1.026380e+00\n",
       "X83A_2 VO                                      1.096031e+01 5.173920e-05\n",
       "X83A_3 No dominant order                       1.391037e-01 7.636548e+00\n",
       "1 Postpositions                                1.235695e+01 2.928239e-01\n",
       "2 Prepositions                                 1.283036e+01 8.775609e-03\n",
       "3 Inpositions                                  3.628827e-02 3.798637e-01\n",
       "4 No dominant order                            1.028911e-04 1.215368e-04\n",
       "5 No adpositions                               1.446344e-01 8.138802e+00\n",
       "X86A_1 Genitive-Noun                           1.032449e+01 2.183719e-01\n",
       "X86A_2 Noun-Genitive                           1.256555e+01 3.538686e-01\n",
       "X86A_3 No dominant order                       1.833509e-01 6.271663e+00\n",
       "X87A_1 Adjective-Noun                          3.264633e+00 4.713299e+00\n",
       "X87A_2 Noun-Adjective                          1.883025e+00 4.097430e+00\n",
       "X87A_3 No dominant order                       2.800732e-01 3.719232e+00\n",
       "X87A_4 Only internally-headed relative clauses 7.938330e-02 1.433595e-02\n",
       "1 Demonstrative-Noun                           5.897368e+00 7.991554e+00\n",
       "2 Noun-Demonstrative                           4.278784e+00 8.734915e+00\n",
       "3 Demonstrative prefix                         1.493223e-01 3.758285e-02\n",
       "4 Demonstrative suffix                         7.043562e-01 2.465096e-01\n",
       "5 Demonstrative before and after Noun          4.111366e-02 1.841146e-02\n",
       "6 Mixed                                        3.984249e-01 1.241954e-01\n",
       "1 Initial interrogative phrase                 1.219311e+00 1.538558e+01\n",
       "2 Not initial interrogative phrase             7.338699e-01 7.223855e+00\n",
       "3 Mixed                                        4.066099e-01 5.237370e-01\n",
       "                                               Dim 3       Dim 4       \n",
       "X82A_1 SV                                       1.06476591 1.449702e-02\n",
       "X82A_2 VS                                      14.75163453 2.569672e-01\n",
       "X82A_3 No dominant order                        6.15528114 1.627423e+00\n",
       "X83A_1 OV                                       0.60903449 2.101594e-01\n",
       "X83A_2 VO                                       0.46899548 1.443768e-01\n",
       "X83A_3 No dominant order                       17.92162599 1.040311e-02\n",
       "1 Postpositions                                 0.32639049 9.029277e-02\n",
       "2 Prepositions                                  0.64978546 2.836328e-01\n",
       "3 Inpositions                                   0.71605290 2.195419e+01\n",
       "4 No dominant order                             4.00745789 1.617986e+01\n",
       "5 No adpositions                                8.09536708 1.554558e+00\n",
       "X86A_1 Genitive-Noun                            0.04993404 1.010818e-01\n",
       "X86A_2 Noun-Genitive                            0.76919019 5.038729e-01\n",
       "X86A_3 No dominant order                        6.25384508 5.585641e-01\n",
       "X87A_1 Adjective-Noun                          14.10292399 1.913496e+00\n",
       "X87A_2 Noun-Adjective                           3.03369792 2.981114e-02\n",
       "X87A_3 No dominant order                        3.74509369 9.452652e+00\n",
       "X87A_4 Only internally-headed relative clauses  0.37604598 4.414614e-01\n",
       "1 Demonstrative-Noun                            3.88020959 1.062238e+00\n",
       "2 Noun-Demonstrative                            3.09586584 1.120103e-02\n",
       "3 Demonstrative prefix                          0.95429660 1.462709e-01\n",
       "4 Demonstrative suffix                          0.42992958 1.093379e+01\n",
       "5 Demonstrative before and after Noun           1.15476128 2.960020e+01\n",
       "6 Mixed                                         1.05246722 2.570486e+00\n",
       "1 Initial interrogative phrase                  2.93398946 2.764836e-02\n",
       "2 Not initial interrogative phrase              1.91073529 5.570676e-04\n",
       "3 Mixed                                         1.49062292 3.203142e-01\n",
       "                                               Dim 5       \n",
       "X82A_1 SV                                      1.255807e-03\n",
       "X82A_2 VS                                      1.330548e+00\n",
       "X82A_3 No dominant order                       4.085750e+00\n",
       "X83A_1 OV                                      9.092638e-02\n",
       "X83A_2 VO                                      4.695892e-05\n",
       "X83A_3 No dominant order                       7.223718e-01\n",
       "1 Postpositions                                1.090287e+00\n",
       "2 Prepositions                                 7.116585e-01\n",
       "3 Inpositions                                  1.637474e+01\n",
       "4 No dominant order                            2.028251e+01\n",
       "5 No adpositions                               5.443776e-01\n",
       "X86A_1 Genitive-Noun                           9.806907e-02\n",
       "X86A_2 Noun-Genitive                           1.018723e-01\n",
       "X86A_3 No dominant order                       2.260447e+00\n",
       "X87A_1 Adjective-Noun                          6.172723e-01\n",
       "X87A_2 Noun-Adjective                          2.802649e-01\n",
       "X87A_3 No dominant order                       1.919777e-01\n",
       "X87A_4 Only internally-headed relative clauses 1.489053e+00\n",
       "1 Demonstrative-Noun                           2.370031e-01\n",
       "2 Noun-Demonstrative                           1.071020e+00\n",
       "3 Demonstrative prefix                         1.029998e-03\n",
       "4 Demonstrative suffix                         1.863324e+01\n",
       "5 Demonstrative before and after Noun          1.868148e+01\n",
       "6 Mixed                                        1.489122e+00\n",
       "1 Initial interrogative phrase                 1.427788e-02\n",
       "2 Not initial interrogative phrase             3.879384e-01\n",
       "3 Mixed                                        9.211465e+00"
      ]
     },
     "metadata": {},
     "output_type": "display_data"
    }
   ],
   "source": [
    "mca$var$contrib"
   ]
  },
  {
   "cell_type": "code",
   "execution_count": 27,
   "metadata": {
    "collapsed": false
   },
   "outputs": [
    {
     "data": {
      "text/html": [
       "<ol class=list-inline>\n",
       "\t<li>107</li>\n",
       "\t<li>437</li>\n",
       "</ol>\n"
      ],
      "text/latex": [
       "\\begin{enumerate*}\n",
       "\\item 107\n",
       "\\item 437\n",
       "\\end{enumerate*}\n"
      ],
      "text/markdown": [
       "1. 107\n",
       "2. 437\n",
       "\n",
       "\n"
      ],
      "text/plain": [
       "[1] 107 437"
      ]
     },
     "metadata": {},
     "output_type": "display_data"
    }
   ],
   "source": [
    "which(example2$Name %in% c('Polish','Czech'))"
   ]
  },
  {
   "cell_type": "markdown",
   "metadata": {},
   "source": [
    "Same"
   ]
  },
  {
   "cell_type": "code",
   "execution_count": 12,
   "metadata": {
    "collapsed": false
   },
   "outputs": [
    {
     "data": {
      "text/html": [
       "<table>\n",
       "<thead><tr><th></th><th scope=col>Dim 1</th><th scope=col>Dim 2</th><th scope=col>Dim 3</th><th scope=col>Dim 4</th><th scope=col>Dim 5</th></tr></thead>\n",
       "<tbody>\n",
       "\t<tr><th scope=row>X82A</th><td>0.2365606   </td><td>0.4155453   </td><td>0.28818127  </td><td>0.002357143 </td><td>0.0133932412</td></tr>\n",
       "\t<tr><th scope=row>X83A</th><td>0.7676774   </td><td>0.3122285   </td><td>0.22686747  </td><td>0.004728466 </td><td>0.0248932111</td></tr>\n",
       "\t<tr><th scope=row>X85A</th><td>0.8265236   </td><td>0.2593413   </td><td>0.10989279  </td><td>0.451331273 </td><td>0.5671382430</td></tr>\n",
       "\t<tr><th scope=row>X86A</th><td>0.7596290   </td><td>0.1880838   </td><td>0.05435717  </td><td>0.041738178 </td><td>0.0006940646</td></tr>\n",
       "\t<tr><th scope=row>X87A</th><td>0.1776025   </td><td>0.2109063   </td><td>0.36244271  </td><td>0.092333961 </td><td>0.2344664503</td></tr>\n",
       "\t<tr><th scope=row>X88A</th><td>0.3422222   </td><td>0.2451646   </td><td>0.25076470  </td><td>0.575443201 </td><td>0.3032655119</td></tr>\n",
       "</tbody>\n",
       "</table>\n"
      ],
      "text/latex": [
       "\\begin{tabular}{r|lllll}\n",
       "  & Dim 1 & Dim 2 & Dim 3 & Dim 4 & Dim 5\\\\\n",
       "\\hline\n",
       "\tX82A & 0.2365606    & 0.4155453    & 0.28818127   & 0.002357143  & 0.0133932412\\\\\n",
       "\tX83A & 0.7676774    & 0.3122285    & 0.22686747   & 0.004728466  & 0.0248932111\\\\\n",
       "\tX85A & 0.8265236    & 0.2593413    & 0.10989279   & 0.451331273  & 0.5671382430\\\\\n",
       "\tX86A & 0.7596290    & 0.1880838    & 0.05435717   & 0.041738178  & 0.0006940646\\\\\n",
       "\tX87A & 0.1776025    & 0.2109063    & 0.36244271   & 0.092333961  & 0.2344664503\\\\\n",
       "\tX88A & 0.3422222    & 0.2451646    & 0.25076470   & 0.575443201  & 0.3032655119\\\\\n",
       "\\end{tabular}\n"
      ],
      "text/markdown": [
       "\n",
       "| <!--/--> | Dim 1 | Dim 2 | Dim 3 | Dim 4 | Dim 5 | \n",
       "|---|---|---|---|---|---|\n",
       "| X82A | 0.2365606    | 0.4155453    | 0.28818127   | 0.002357143  | 0.0133932412 | \n",
       "| X83A | 0.7676774    | 0.3122285    | 0.22686747   | 0.004728466  | 0.0248932111 | \n",
       "| X85A | 0.8265236    | 0.2593413    | 0.10989279   | 0.451331273  | 0.5671382430 | \n",
       "| X86A | 0.7596290    | 0.1880838    | 0.05435717   | 0.041738178  | 0.0006940646 | \n",
       "| X87A | 0.1776025    | 0.2109063    | 0.36244271   | 0.092333961  | 0.2344664503 | \n",
       "| X88A | 0.3422222    | 0.2451646    | 0.25076470   | 0.575443201  | 0.3032655119 | \n",
       "\n",
       "\n"
      ],
      "text/plain": [
       "     Dim 1     Dim 2     Dim 3      Dim 4       Dim 5       \n",
       "X82A 0.2365606 0.4155453 0.28818127 0.002357143 0.0133932412\n",
       "X83A 0.7676774 0.3122285 0.22686747 0.004728466 0.0248932111\n",
       "X85A 0.8265236 0.2593413 0.10989279 0.451331273 0.5671382430\n",
       "X86A 0.7596290 0.1880838 0.05435717 0.041738178 0.0006940646\n",
       "X87A 0.1776025 0.2109063 0.36244271 0.092333961 0.2344664503\n",
       "X88A 0.3422222 0.2451646 0.25076470 0.575443201 0.3032655119"
      ]
     },
     "metadata": {},
     "output_type": "display_data"
    }
   ],
   "source": [
    "example3 <- read.csv('chunked-feature-sets/top-3silhouettes-on-diverse-wo.csv')\n",
    "example3$X <- NULL\n",
    "mca <- MCA(example3,quali.sup=1:11)\n",
    "mca$var$eta"
   ]
  },
  {
   "cell_type": "code",
   "execution_count": 13,
   "metadata": {
    "collapsed": false
   },
   "outputs": [
    {
     "data": {
      "text/html": [
       "<table>\n",
       "<thead><tr><th></th><th scope=col>Dim 1</th><th scope=col>Dim 2</th><th scope=col>Dim 3</th><th scope=col>Dim 4</th><th scope=col>Dim 5</th></tr></thead>\n",
       "<tbody>\n",
       "\t<tr><th scope=row>X82A</th><td>0.31264520  </td><td>0.3797366   </td><td>0.0078349090</td><td>0.1207075   </td><td>0.21111770  </td></tr>\n",
       "\t<tr><th scope=row>X83A</th><td>0.80452129  </td><td>0.4734831   </td><td>0.0531830970</td><td>0.0052099   </td><td>0.02394935  </td></tr>\n",
       "\t<tr><th scope=row>X85A</th><td>0.86254812  </td><td>0.3247160   </td><td>0.5956700054</td><td>0.6368415   </td><td>0.18622195  </td></tr>\n",
       "\t<tr><th scope=row>X86A</th><td>0.78148664  </td><td>0.2223237   </td><td>0.0005031785</td><td>0.1505367   </td><td>0.05834398  </td></tr>\n",
       "\t<tr><th scope=row>X87A</th><td>0.07671348  </td><td>0.0751783   </td><td>0.4598498910</td><td>0.1558894   </td><td>0.54005984  </td></tr>\n",
       "</tbody>\n",
       "</table>\n"
      ],
      "text/latex": [
       "\\begin{tabular}{r|lllll}\n",
       "  & Dim 1 & Dim 2 & Dim 3 & Dim 4 & Dim 5\\\\\n",
       "\\hline\n",
       "\tX82A & 0.31264520   & 0.3797366    & 0.0078349090 & 0.1207075    & 0.21111770  \\\\\n",
       "\tX83A & 0.80452129   & 0.4734831    & 0.0531830970 & 0.0052099    & 0.02394935  \\\\\n",
       "\tX85A & 0.86254812   & 0.3247160    & 0.5956700054 & 0.6368415    & 0.18622195  \\\\\n",
       "\tX86A & 0.78148664   & 0.2223237    & 0.0005031785 & 0.1505367    & 0.05834398  \\\\\n",
       "\tX87A & 0.07671348   & 0.0751783    & 0.4598498910 & 0.1558894    & 0.54005984  \\\\\n",
       "\\end{tabular}\n"
      ],
      "text/markdown": [
       "\n",
       "| <!--/--> | Dim 1 | Dim 2 | Dim 3 | Dim 4 | Dim 5 | \n",
       "|---|---|---|---|---|\n",
       "| X82A | 0.31264520   | 0.3797366    | 0.0078349090 | 0.1207075    | 0.21111770   | \n",
       "| X83A | 0.80452129   | 0.4734831    | 0.0531830970 | 0.0052099    | 0.02394935   | \n",
       "| X85A | 0.86254812   | 0.3247160    | 0.5956700054 | 0.6368415    | 0.18622195   | \n",
       "| X86A | 0.78148664   | 0.2223237    | 0.0005031785 | 0.1505367    | 0.05834398   | \n",
       "| X87A | 0.07671348   | 0.0751783    | 0.4598498910 | 0.1558894    | 0.54005984   | \n",
       "\n",
       "\n"
      ],
      "text/plain": [
       "     Dim 1      Dim 2     Dim 3        Dim 4     Dim 5     \n",
       "X82A 0.31264520 0.3797366 0.0078349090 0.1207075 0.21111770\n",
       "X83A 0.80452129 0.4734831 0.0531830970 0.0052099 0.02394935\n",
       "X85A 0.86254812 0.3247160 0.5956700054 0.6368415 0.18622195\n",
       "X86A 0.78148664 0.2223237 0.0005031785 0.1505367 0.05834398\n",
       "X87A 0.07671348 0.0751783 0.4598498910 0.1558894 0.54005984"
      ]
     },
     "metadata": {},
     "output_type": "display_data"
    }
   ],
   "source": [
    "example4<- read.csv('chunked-feature-sets/top-4silhouettes-on-diverse-wo.csv')\n",
    "example4$X <- NULL\n",
    "mca <- MCA(example4,quali.sup=1:11)\n",
    "mca$var$eta"
   ]
  },
  {
   "cell_type": "code",
   "execution_count": 14,
   "metadata": {
    "collapsed": false
   },
   "outputs": [
    {
     "data": {
      "text/html": [
       "<table>\n",
       "<thead><tr><th></th><th scope=col>Dim 1</th><th scope=col>Dim 2</th><th scope=col>Dim 3</th><th scope=col>Dim 4</th><th scope=col>Dim 5</th></tr></thead>\n",
       "<tbody>\n",
       "\t<tr><th scope=row>X82A</th><td>0.30856477 </td><td>0.28539144 </td><td>0.2943842  </td><td>0.020568565</td><td>0.02644514 </td></tr>\n",
       "\t<tr><th scope=row>X83A</th><td>0.80213155 </td><td>0.04381513 </td><td>0.3734135  </td><td>0.004346708</td><td>0.02579669 </td></tr>\n",
       "\t<tr><th scope=row>X85A</th><td>0.86229603 </td><td>0.04382453 </td><td>0.2372450  </td><td>0.312036402</td><td>0.40999920 </td></tr>\n",
       "\t<tr><th scope=row>X86A</th><td>0.77963643 </td><td>0.02113048 </td><td>0.1166732  </td><td>0.065180677</td><td>0.11141533 </td></tr>\n",
       "\t<tr><th scope=row>X87A</th><td>0.09293185 </td><td>0.52923755 </td><td>0.1799182  </td><td>0.419237544</td><td>0.48712687 </td></tr>\n",
       "\t<tr><th scope=row>X89A</th><td>0.00386954 </td><td>0.74784462 </td><td>0.1131640  </td><td>0.314138591</td><td>0.06082458 </td></tr>\n",
       "</tbody>\n",
       "</table>\n"
      ],
      "text/latex": [
       "\\begin{tabular}{r|lllll}\n",
       "  & Dim 1 & Dim 2 & Dim 3 & Dim 4 & Dim 5\\\\\n",
       "\\hline\n",
       "\tX82A & 0.30856477  & 0.28539144  & 0.2943842   & 0.020568565 & 0.02644514 \\\\\n",
       "\tX83A & 0.80213155  & 0.04381513  & 0.3734135   & 0.004346708 & 0.02579669 \\\\\n",
       "\tX85A & 0.86229603  & 0.04382453  & 0.2372450   & 0.312036402 & 0.40999920 \\\\\n",
       "\tX86A & 0.77963643  & 0.02113048  & 0.1166732   & 0.065180677 & 0.11141533 \\\\\n",
       "\tX87A & 0.09293185  & 0.52923755  & 0.1799182   & 0.419237544 & 0.48712687 \\\\\n",
       "\tX89A & 0.00386954  & 0.74784462  & 0.1131640   & 0.314138591 & 0.06082458 \\\\\n",
       "\\end{tabular}\n"
      ],
      "text/markdown": [
       "\n",
       "| <!--/--> | Dim 1 | Dim 2 | Dim 3 | Dim 4 | Dim 5 | \n",
       "|---|---|---|---|---|---|\n",
       "| X82A | 0.30856477  | 0.28539144  | 0.2943842   | 0.020568565 | 0.02644514  | \n",
       "| X83A | 0.80213155  | 0.04381513  | 0.3734135   | 0.004346708 | 0.02579669  | \n",
       "| X85A | 0.86229603  | 0.04382453  | 0.2372450   | 0.312036402 | 0.40999920  | \n",
       "| X86A | 0.77963643  | 0.02113048  | 0.1166732   | 0.065180677 | 0.11141533  | \n",
       "| X87A | 0.09293185  | 0.52923755  | 0.1799182   | 0.419237544 | 0.48712687  | \n",
       "| X89A | 0.00386954  | 0.74784462  | 0.1131640   | 0.314138591 | 0.06082458  | \n",
       "\n",
       "\n"
      ],
      "text/plain": [
       "     Dim 1      Dim 2      Dim 3     Dim 4       Dim 5     \n",
       "X82A 0.30856477 0.28539144 0.2943842 0.020568565 0.02644514\n",
       "X83A 0.80213155 0.04381513 0.3734135 0.004346708 0.02579669\n",
       "X85A 0.86229603 0.04382453 0.2372450 0.312036402 0.40999920\n",
       "X86A 0.77963643 0.02113048 0.1166732 0.065180677 0.11141533\n",
       "X87A 0.09293185 0.52923755 0.1799182 0.419237544 0.48712687\n",
       "X89A 0.00386954 0.74784462 0.1131640 0.314138591 0.06082458"
      ]
     },
     "metadata": {},
     "output_type": "display_data"
    }
   ],
   "source": [
    "example5 <- read.csv('chunked-feature-sets/top-5silhouettes-on-diverse-wo.csv')\n",
    "example5$X <- NULL\n",
    "mca <- MCA(example5,quali.sup=1:11)\n",
    "mca$var$eta"
   ]
  },
  {
   "cell_type": "markdown",
   "metadata": {},
   "source": [
    "#### So the top 5 in terms of sihouette are all relying primarily on the same three features (83A,85A,86A)."
   ]
  },
  {
   "cell_type": "markdown",
   "metadata": {},
   "source": [
    "### Averaging DIM1 eta2's over 2000 feature sets we get:\n",
    "   \n",
    "   - 143A: 0.19993978067524021\n",
    "   \n",
    "   - 144A: 0.34460057837304348\n",
    "   \n",
    "   - 82A: 0.25448312661540701\n",
    "   \n",
    "   - 83A: 0.61145472043518778\n",
    "   \n",
    "   - 85A: 0.57855952289762536\n",
    "   \n",
    "   - 86A: 0.48506040905391401\n",
    "   \n",
    "   - 87A: 0.17388647546972813\n",
    "   \n",
    "   - 88A: 0.23685521609972532\n",
    "   \n",
    "   - 89A: 0.062598285740664214\n",
    "   \n",
    "   - 90A: 0.48274423107951564\n",
    "   \n",
    "   - 92A: 0.049352893487310201\n",
    "   \n",
    "   - 93A: 0.091850417610944216\n",
    "   \n",
    "   - 94A: 0.50146787528480985"
   ]
  },
  {
   "cell_type": "markdown",
   "metadata": {},
   "source": [
    "### The ones nearing 0.5 are:\n",
    "    \n",
    "   - 83A: Order of Object and Verb\n",
    " \n",
    "   - 85A: Order of Adposition and Noun Phrase\n",
    " \n",
    "   - 86A: Order of Genitive and Noun\n",
    "   \n",
    "   - 90A: Order of Relative Clause and Noun\n",
    "   \n",
    "   - 94A: Order of Adverbial Subordinator and Clause"
   ]
  },
  {
   "cell_type": "code",
   "execution_count": 2,
   "metadata": {
    "collapsed": true
   },
   "outputs": [],
   "source": [
    "example6 <- read.csv('chunked-feature-sets/wo-strong-etas.csv')\n",
    "example6$X <- NULL\n",
    "knownratios = which(example6$verb.noun.ratio != 'unknown')\n",
    "mca <- MCA(example6,quali.sup=1:11)"
   ]
  },
  {
   "cell_type": "code",
   "execution_count": 3,
   "metadata": {
    "collapsed": false
   },
   "outputs": [
    {
     "data": {
      "image/png": "[encoded data removed]",
      "text/plain": [
       "Plot with title “MCA factor map”"
      ]
     },
     "metadata": {},
     "output_type": "display_data"
    }
   ],
   "source": [
    "plot(mca,choix=\"ind\",habillage=\"verb.noun.ratio\",invisible=c(\"var\",\"quali.sup\"),\n",
    "     select=knownratios,unselect=1,xlim=c(-2,2),ylim=c(-1,1))"
   ]
  },
  {
   "cell_type": "code",
   "execution_count": 53,
   "metadata": {
    "collapsed": false
   },
   "outputs": [
    {
     "data": {
      "text/html": [
       "<table>\n",
       "<thead><tr><th></th><th scope=col>Dim 1</th><th scope=col>Dim 2</th><th scope=col>Dim 3</th><th scope=col>Dim 4</th><th scope=col>Dim 5</th></tr></thead>\n",
       "<tbody>\n",
       "\t<tr><th scope=row>X83A</th><td>0.8250517  </td><td>0.33339703 </td><td>0.070749164</td><td>0.001764594</td><td>0.009530297</td></tr>\n",
       "\t<tr><th scope=row>X85A</th><td>0.8586356  </td><td>0.45666361 </td><td>0.436317181</td><td>0.175295722</td><td>0.141229643</td></tr>\n",
       "\t<tr><th scope=row>X86A</th><td>0.7435825  </td><td>0.23918379 </td><td>0.003434569</td><td>0.022687102</td><td>0.182530344</td></tr>\n",
       "\t<tr><th scope=row>X90A</th><td>0.6995472  </td><td>0.09000765 </td><td>0.475280323</td><td>0.561018711</td><td>0.612772649</td></tr>\n",
       "\t<tr><th scope=row>X94A</th><td>0.7450876  </td><td>0.41163102 </td><td>0.340603137</td><td>0.373435640</td><td>0.166462109</td></tr>\n",
       "</tbody>\n",
       "</table>\n"
      ],
      "text/latex": [
       "\\begin{tabular}{r|lllll}\n",
       "  & Dim 1 & Dim 2 & Dim 3 & Dim 4 & Dim 5\\\\\n",
       "\\hline\n",
       "\tX83A & 0.8250517   & 0.33339703  & 0.070749164 & 0.001764594 & 0.009530297\\\\\n",
       "\tX85A & 0.8586356   & 0.45666361  & 0.436317181 & 0.175295722 & 0.141229643\\\\\n",
       "\tX86A & 0.7435825   & 0.23918379  & 0.003434569 & 0.022687102 & 0.182530344\\\\\n",
       "\tX90A & 0.6995472   & 0.09000765  & 0.475280323 & 0.561018711 & 0.612772649\\\\\n",
       "\tX94A & 0.7450876   & 0.41163102  & 0.340603137 & 0.373435640 & 0.166462109\\\\\n",
       "\\end{tabular}\n"
      ],
      "text/markdown": [
       "\n",
       "| <!--/--> | Dim 1 | Dim 2 | Dim 3 | Dim 4 | Dim 5 | \n",
       "|---|---|---|---|---|\n",
       "| X83A | 0.8250517   | 0.33339703  | 0.070749164 | 0.001764594 | 0.009530297 | \n",
       "| X85A | 0.8586356   | 0.45666361  | 0.436317181 | 0.175295722 | 0.141229643 | \n",
       "| X86A | 0.7435825   | 0.23918379  | 0.003434569 | 0.022687102 | 0.182530344 | \n",
       "| X90A | 0.6995472   | 0.09000765  | 0.475280323 | 0.561018711 | 0.612772649 | \n",
       "| X94A | 0.7450876   | 0.41163102  | 0.340603137 | 0.373435640 | 0.166462109 | \n",
       "\n",
       "\n"
      ],
      "text/plain": [
       "     Dim 1     Dim 2      Dim 3       Dim 4       Dim 5      \n",
       "X83A 0.8250517 0.33339703 0.070749164 0.001764594 0.009530297\n",
       "X85A 0.8586356 0.45666361 0.436317181 0.175295722 0.141229643\n",
       "X86A 0.7435825 0.23918379 0.003434569 0.022687102 0.182530344\n",
       "X90A 0.6995472 0.09000765 0.475280323 0.561018711 0.612772649\n",
       "X94A 0.7450876 0.41163102 0.340603137 0.373435640 0.166462109"
      ]
     },
     "metadata": {},
     "output_type": "display_data"
    }
   ],
   "source": [
    "mca$var$eta2"
   ]
  },
  {
   "cell_type": "code",
   "execution_count": 12,
   "metadata": {
    "collapsed": false,
    "scrolled": true
   },
   "outputs": [
    {
     "data": {
      "text/html": [
       "<table>\n",
       "<thead><tr><th></th><th scope=col>Dim 1</th><th scope=col>Dim 2</th><th scope=col>Dim 3</th><th scope=col>Dim 4</th><th scope=col>Dim 5</th></tr></thead>\n",
       "<tbody>\n",
       "\t<tr><th scope=row>1 OV</th><td>24.423870104</td><td> 2.5404156  </td><td>2.750821e-26</td><td>0.000000e+00</td><td> 2.5404156  </td></tr>\n",
       "\t<tr><th scope=row>2 VO</th><td>25.208582731</td><td> 0.5503458  </td><td>3.616296e-27</td><td>1.297846e-28</td><td> 0.5503458  </td></tr>\n",
       "\t<tr><th scope=row>3 No dominant order</th><td> 0.367547165</td><td>46.9092385  </td><td>4.376552e-25</td><td>1.104209e-27</td><td>46.9092385  </td></tr>\n",
       "\t<tr><th scope=row>1 Postpositions</th><td>23.942077938</td><td> 1.3910034  </td><td>2.973340e-01</td><td>1.972177e-01</td><td> 1.3910034  </td></tr>\n",
       "\t<tr><th scope=row>2 Prepositions</th><td>25.709164416</td><td> 1.2133293  </td><td>1.164454e+00</td><td>2.044130e+00</td><td> 1.2133293  </td></tr>\n",
       "\t<tr><th scope=row>3 Inpositions</th><td> 0.090222604</td><td>29.2014268  </td><td>3.526213e+01</td><td>5.529569e+00</td><td>29.2014268  </td></tr>\n",
       "\t<tr><th scope=row>4 No dominant order</th><td> 0.255941495</td><td> 6.2137411  </td><td>1.499196e+00</td><td>8.065072e+01</td><td> 6.2137411  </td></tr>\n",
       "\t<tr><th scope=row>5 No adpositions</th><td> 0.002593548</td><td>11.9804995  </td><td>6.177688e+01</td><td>1.157836e+01</td><td>11.9804995  </td></tr>\n",
       "</tbody>\n",
       "</table>\n"
      ],
      "text/latex": [
       "\\begin{tabular}{r|lllll}\n",
       "  & Dim 1 & Dim 2 & Dim 3 & Dim 4 & Dim 5\\\\\n",
       "\\hline\n",
       "\t1 OV & 24.423870104 &  2.5404156   & 2.750821e-26 & 0.000000e+00 &  2.5404156  \\\\\n",
       "\t2 VO & 25.208582731 &  0.5503458   & 3.616296e-27 & 1.297846e-28 &  0.5503458  \\\\\n",
       "\t3 No dominant order &  0.367547165 & 46.9092385   & 4.376552e-25 & 1.104209e-27 & 46.9092385  \\\\\n",
       "\t1 Postpositions & 23.942077938 &  1.3910034   & 2.973340e-01 & 1.972177e-01 &  1.3910034  \\\\\n",
       "\t2 Prepositions & 25.709164416 &  1.2133293   & 1.164454e+00 & 2.044130e+00 &  1.2133293  \\\\\n",
       "\t3 Inpositions &  0.090222604 & 29.2014268   & 3.526213e+01 & 5.529569e+00 & 29.2014268  \\\\\n",
       "\t4 No dominant order &  0.255941495 &  6.2137411   & 1.499196e+00 & 8.065072e+01 &  6.2137411  \\\\\n",
       "\t5 No adpositions &  0.002593548 & 11.9804995   & 6.177688e+01 & 1.157836e+01 & 11.9804995  \\\\\n",
       "\\end{tabular}\n"
      ],
      "text/markdown": [
       "\n",
       "| <!--/--> | Dim 1 | Dim 2 | Dim 3 | Dim 4 | Dim 5 | \n",
       "|---|---|---|---|---|---|---|---|\n",
       "| 1 OV | 24.423870104 |  2.5404156   | 2.750821e-26 | 0.000000e+00 |  2.5404156   | \n",
       "| 2 VO | 25.208582731 |  0.5503458   | 3.616296e-27 | 1.297846e-28 |  0.5503458   | \n",
       "| 3 No dominant order |  0.367547165 | 46.9092385   | 4.376552e-25 | 1.104209e-27 | 46.9092385   | \n",
       "| 1 Postpositions | 23.942077938 |  1.3910034   | 2.973340e-01 | 1.972177e-01 |  1.3910034   | \n",
       "| 2 Prepositions | 25.709164416 |  1.2133293   | 1.164454e+00 | 2.044130e+00 |  1.2133293   | \n",
       "| 3 Inpositions |  0.090222604 | 29.2014268   | 3.526213e+01 | 5.529569e+00 | 29.2014268   | \n",
       "| 4 No dominant order |  0.255941495 |  6.2137411   | 1.499196e+00 | 8.065072e+01 |  6.2137411   | \n",
       "| 5 No adpositions |  0.002593548 | 11.9804995   | 6.177688e+01 | 1.157836e+01 | 11.9804995   | \n",
       "\n",
       "\n"
      ],
      "text/plain": [
       "                    Dim 1        Dim 2      Dim 3        Dim 4       \n",
       "1 OV                24.423870104  2.5404156 2.750821e-26 0.000000e+00\n",
       "2 VO                25.208582731  0.5503458 3.616296e-27 1.297846e-28\n",
       "3 No dominant order  0.367547165 46.9092385 4.376552e-25 1.104209e-27\n",
       "1 Postpositions     23.942077938  1.3910034 2.973340e-01 1.972177e-01\n",
       "2 Prepositions      25.709164416  1.2133293 1.164454e+00 2.044130e+00\n",
       "3 Inpositions        0.090222604 29.2014268 3.526213e+01 5.529569e+00\n",
       "4 No dominant order  0.255941495  6.2137411 1.499196e+00 8.065072e+01\n",
       "5 No adpositions     0.002593548 11.9804995 6.177688e+01 1.157836e+01\n",
       "                    Dim 5     \n",
       "1 OV                 2.5404156\n",
       "2 VO                 0.5503458\n",
       "3 No dominant order 46.9092385\n",
       "1 Postpositions      1.3910034\n",
       "2 Prepositions       1.2133293\n",
       "3 Inpositions       29.2014268\n",
       "4 No dominant order  6.2137411\n",
       "5 No adpositions    11.9804995"
      ]
     },
     "metadata": {},
     "output_type": "display_data"
    }
   ],
   "source": [
    "mca$var$contrib"
   ]
  },
  {
   "cell_type": "code",
   "execution_count": 6,
   "metadata": {
    "collapsed": false
   },
   "outputs": [
    {
     "data": {
      "text/html": [
       "<table>\n",
       "<thead><tr><th></th><th scope=col>Dim 1</th><th scope=col>Dim 2</th><th scope=col>Dim 3</th><th scope=col>Dim 4</th><th scope=col>Dim 5</th></tr></thead>\n",
       "<tbody>\n",
       "\t<tr><th scope=row>X83A_1 OV</th><td> 1.16601598  </td><td>-0.10397028  </td><td>-0.038080956 </td><td>-0.0238109831</td><td> 0.10317858  </td></tr>\n",
       "\t<tr><th scope=row>X83A_2 VO</th><td>-0.74008272  </td><td>-0.14048160  </td><td>-0.070866036 </td><td> 0.0007547918</td><td>-0.04110008  </td></tr>\n",
       "\t<tr><th scope=row>X83A_3 No dominant order</th><td>-0.06697557  </td><td> 2.63849820  </td><td> 1.213901745 </td><td> 0.1844359173</td><td>-0.31687941  </td></tr>\n",
       "\t<tr><th scope=row>1 Postpositions</th><td> 1.15175150  </td><td>-0.07687806  </td><td> 0.006247163 </td><td>-0.0100106158</td><td> 0.10770545  </td></tr>\n",
       "\t<tr><th scope=row>2 Prepositions</th><td>-0.79769386  </td><td>-0.19403048  </td><td>-0.105924670 </td><td> 0.0264723687</td><td> 0.03157445  </td></tr>\n",
       "\t<tr><th scope=row>3 Inpositions</th><td> 0.56598143  </td><td>-0.35723195  </td><td> 4.183667723 </td><td> 4.1271693044</td><td>-4.20346041  </td></tr>\n",
       "\t<tr><th scope=row>4 No dominant order</th><td>-0.02651747  </td><td> 1.41257313  </td><td> 1.968825829 </td><td>-1.1678415931</td><td>-0.21719339  </td></tr>\n",
       "\t<tr><th scope=row>5 No adpositions</th><td> 0.29246384  </td><td> 4.62488077  </td><td>-3.291598052 </td><td> 1.4759242697</td><td>-1.82870097  </td></tr>\n",
       "\t<tr><th scope=row>X86A_1 Genitive-Noun</th><td> 0.95430755  </td><td>-0.02025734  </td><td> 0.060415186 </td><td> 0.0027991669</td><td>-0.04415501  </td></tr>\n",
       "\t<tr><th scope=row>X86A_2 Noun-Genitive</th><td>-0.81281490  </td><td>-0.23561202  </td><td>-0.037652756 </td><td> 0.0753929720</td><td>-0.18359425  </td></tr>\n",
       "\t<tr><th scope=row>X86A_3 No dominant order</th><td>-0.50130119  </td><td> 1.73176045  </td><td>-0.125698230 </td><td>-0.5308565741</td><td> 1.52879894  </td></tr>\n",
       "\t<tr><th scope=row>1 Noun-Relative clause</th><td>-0.51741775  </td><td> 0.02367066  </td><td> 0.040880802 </td><td>-0.0705024232</td><td>-0.02034476  </td></tr>\n",
       "\t<tr><th scope=row>2 Relative clause-Noun</th><td> 1.49202896  </td><td>-0.41337896  </td><td>-0.249245802 </td><td>-0.8927373682</td><td> 0.04239002  </td></tr>\n",
       "\t<tr><th scope=row>3 Internally headed</th><td> 1.22454351  </td><td> 1.21332002  </td><td>-2.752353533 </td><td> 1.4461536020</td><td>-1.44041728  </td></tr>\n",
       "\t<tr><th scope=row>4 Correlative</th><td> 0.92800936  </td><td>-0.45051499  </td><td>-0.116206381 </td><td> 0.3438230965</td><td> 2.26141683  </td></tr>\n",
       "\t<tr><th scope=row>5 Adjoined</th><td> 0.33518774  </td><td> 1.08924521  </td><td>-0.573160319 </td><td>-1.5085100030</td><td> 8.91248273  </td></tr>\n",
       "\t<tr><th scope=row>6 Doubly headed</th><td> 1.63555648  </td><td>-0.74065426  </td><td>-0.380370395 </td><td> 7.7147043588</td><td> 6.90096415  </td></tr>\n",
       "\t<tr><th scope=row>7 Mixed</th><td> 1.12870799  </td><td> 0.06629449  </td><td> 1.619891660 </td><td> 1.7212628022</td><td>-0.30516967  </td></tr>\n",
       "\t<tr><th scope=row>1 Initial subordinator word</th><td>-0.60692079  </td><td>-0.03806512  </td><td>-0.066509341 </td><td> 0.0771640997</td><td> 0.08773699  </td></tr>\n",
       "\t<tr><th scope=row>2 Final subordinator word</th><td> 1.42508696  </td><td>-0.19209516  </td><td>-0.152728347 </td><td> 1.0663494022</td><td> 0.60980225  </td></tr>\n",
       "\t<tr><th scope=row>3 Internal subordinator word</th><td>-0.17573657  </td><td> 6.64055037  </td><td> 0.636746129 </td><td>-1.1087235194</td><td> 0.60025486  </td></tr>\n",
       "\t<tr><th scope=row>4 Subordinating suffix</th><td> 1.46477853  </td><td>-0.20138080  </td><td>-1.446254615 </td><td>-1.4623876523</td><td>-0.80821327  </td></tr>\n",
       "\t<tr><th scope=row>5 Mixed</th><td> 0.77299516  </td><td> 0.03261307  </td><td> 1.190103903 </td><td>-0.6507478105</td><td>-0.68681959  </td></tr>\n",
       "</tbody>\n",
       "</table>\n"
      ],
      "text/latex": [
       "\\begin{tabular}{r|lllll}\n",
       "  & Dim 1 & Dim 2 & Dim 3 & Dim 4 & Dim 5\\\\\n",
       "\\hline\n",
       "\tX83A\\_1 OV &  1.16601598   & -0.10397028   & -0.038080956  & -0.0238109831 &  0.10317858  \\\\\n",
       "\tX83A\\_2 VO & -0.74008272   & -0.14048160   & -0.070866036  &  0.0007547918 & -0.04110008  \\\\\n",
       "\tX83A\\_3 No dominant order & -0.06697557   &  2.63849820   &  1.213901745  &  0.1844359173 & -0.31687941  \\\\\n",
       "\t1 Postpositions &  1.15175150   & -0.07687806   &  0.006247163  & -0.0100106158 &  0.10770545  \\\\\n",
       "\t2 Prepositions & -0.79769386   & -0.19403048   & -0.105924670  &  0.0264723687 &  0.03157445  \\\\\n",
       "\t3 Inpositions &  0.56598143   & -0.35723195   &  4.183667723  &  4.1271693044 & -4.20346041  \\\\\n",
       "\t4 No dominant order & -0.02651747   &  1.41257313   &  1.968825829  & -1.1678415931 & -0.21719339  \\\\\n",
       "\t5 No adpositions &  0.29246384   &  4.62488077   & -3.291598052  &  1.4759242697 & -1.82870097  \\\\\n",
       "\tX86A\\_1 Genitive-Noun &  0.95430755   & -0.02025734   &  0.060415186  &  0.0027991669 & -0.04415501  \\\\\n",
       "\tX86A\\_2 Noun-Genitive & -0.81281490   & -0.23561202   & -0.037652756  &  0.0753929720 & -0.18359425  \\\\\n",
       "\tX86A\\_3 No dominant order & -0.50130119   &  1.73176045   & -0.125698230  & -0.5308565741 &  1.52879894  \\\\\n",
       "\t1 Noun-Relative clause & -0.51741775   &  0.02367066   &  0.040880802  & -0.0705024232 & -0.02034476  \\\\\n",
       "\t2 Relative clause-Noun &  1.49202896   & -0.41337896   & -0.249245802  & -0.8927373682 &  0.04239002  \\\\\n",
       "\t3 Internally headed &  1.22454351   &  1.21332002   & -2.752353533  &  1.4461536020 & -1.44041728  \\\\\n",
       "\t4 Correlative &  0.92800936   & -0.45051499   & -0.116206381  &  0.3438230965 &  2.26141683  \\\\\n",
       "\t5 Adjoined &  0.33518774   &  1.08924521   & -0.573160319  & -1.5085100030 &  8.91248273  \\\\\n",
       "\t6 Doubly headed &  1.63555648   & -0.74065426   & -0.380370395  &  7.7147043588 &  6.90096415  \\\\\n",
       "\t7 Mixed &  1.12870799   &  0.06629449   &  1.619891660  &  1.7212628022 & -0.30516967  \\\\\n",
       "\t1 Initial subordinator word & -0.60692079   & -0.03806512   & -0.066509341  &  0.0771640997 &  0.08773699  \\\\\n",
       "\t2 Final subordinator word &  1.42508696   & -0.19209516   & -0.152728347  &  1.0663494022 &  0.60980225  \\\\\n",
       "\t3 Internal subordinator word & -0.17573657   &  6.64055037   &  0.636746129  & -1.1087235194 &  0.60025486  \\\\\n",
       "\t4 Subordinating suffix &  1.46477853   & -0.20138080   & -1.446254615  & -1.4623876523 & -0.80821327  \\\\\n",
       "\t5 Mixed &  0.77299516   &  0.03261307   &  1.190103903  & -0.6507478105 & -0.68681959  \\\\\n",
       "\\end{tabular}\n"
      ],
      "text/markdown": [
       "\n",
       "| <!--/--> | Dim 1 | Dim 2 | Dim 3 | Dim 4 | Dim 5 | \n",
       "|---|---|---|---|---|---|---|---|---|---|---|---|---|---|---|---|---|---|---|---|---|---|---|\n",
       "| X83A_1 OV |  1.16601598   | -0.10397028   | -0.038080956  | -0.0238109831 |  0.10317858   | \n",
       "| X83A_2 VO | -0.74008272   | -0.14048160   | -0.070866036  |  0.0007547918 | -0.04110008   | \n",
       "| X83A_3 No dominant order | -0.06697557   |  2.63849820   |  1.213901745  |  0.1844359173 | -0.31687941   | \n",
       "| 1 Postpositions |  1.15175150   | -0.07687806   |  0.006247163  | -0.0100106158 |  0.10770545   | \n",
       "| 2 Prepositions | -0.79769386   | -0.19403048   | -0.105924670  |  0.0264723687 |  0.03157445   | \n",
       "| 3 Inpositions |  0.56598143   | -0.35723195   |  4.183667723  |  4.1271693044 | -4.20346041   | \n",
       "| 4 No dominant order | -0.02651747   |  1.41257313   |  1.968825829  | -1.1678415931 | -0.21719339   | \n",
       "| 5 No adpositions |  0.29246384   |  4.62488077   | -3.291598052  |  1.4759242697 | -1.82870097   | \n",
       "| X86A_1 Genitive-Noun |  0.95430755   | -0.02025734   |  0.060415186  |  0.0027991669 | -0.04415501   | \n",
       "| X86A_2 Noun-Genitive | -0.81281490   | -0.23561202   | -0.037652756  |  0.0753929720 | -0.18359425   | \n",
       "| X86A_3 No dominant order | -0.50130119   |  1.73176045   | -0.125698230  | -0.5308565741 |  1.52879894   | \n",
       "| 1 Noun-Relative clause | -0.51741775   |  0.02367066   |  0.040880802  | -0.0705024232 | -0.02034476   | \n",
       "| 2 Relative clause-Noun |  1.49202896   | -0.41337896   | -0.249245802  | -0.8927373682 |  0.04239002   | \n",
       "| 3 Internally headed |  1.22454351   |  1.21332002   | -2.752353533  |  1.4461536020 | -1.44041728   | \n",
       "| 4 Correlative |  0.92800936   | -0.45051499   | -0.116206381  |  0.3438230965 |  2.26141683   | \n",
       "| 5 Adjoined |  0.33518774   |  1.08924521   | -0.573160319  | -1.5085100030 |  8.91248273   | \n",
       "| 6 Doubly headed |  1.63555648   | -0.74065426   | -0.380370395  |  7.7147043588 |  6.90096415   | \n",
       "| 7 Mixed |  1.12870799   |  0.06629449   |  1.619891660  |  1.7212628022 | -0.30516967   | \n",
       "| 1 Initial subordinator word | -0.60692079   | -0.03806512   | -0.066509341  |  0.0771640997 |  0.08773699   | \n",
       "| 2 Final subordinator word |  1.42508696   | -0.19209516   | -0.152728347  |  1.0663494022 |  0.60980225   | \n",
       "| 3 Internal subordinator word | -0.17573657   |  6.64055037   |  0.636746129  | -1.1087235194 |  0.60025486   | \n",
       "| 4 Subordinating suffix |  1.46477853   | -0.20138080   | -1.446254615  | -1.4623876523 | -0.80821327   | \n",
       "| 5 Mixed |  0.77299516   |  0.03261307   |  1.190103903  | -0.6507478105 | -0.68681959   | \n",
       "\n",
       "\n"
      ],
      "text/plain": [
       "                             Dim 1       Dim 2       Dim 3        Dim 4        \n",
       "X83A_1 OV                     1.16601598 -0.10397028 -0.038080956 -0.0238109831\n",
       "X83A_2 VO                    -0.74008272 -0.14048160 -0.070866036  0.0007547918\n",
       "X83A_3 No dominant order     -0.06697557  2.63849820  1.213901745  0.1844359173\n",
       "1 Postpositions               1.15175150 -0.07687806  0.006247163 -0.0100106158\n",
       "2 Prepositions               -0.79769386 -0.19403048 -0.105924670  0.0264723687\n",
       "3 Inpositions                 0.56598143 -0.35723195  4.183667723  4.1271693044\n",
       "4 No dominant order          -0.02651747  1.41257313  1.968825829 -1.1678415931\n",
       "5 No adpositions              0.29246384  4.62488077 -3.291598052  1.4759242697\n",
       "X86A_1 Genitive-Noun          0.95430755 -0.02025734  0.060415186  0.0027991669\n",
       "X86A_2 Noun-Genitive         -0.81281490 -0.23561202 -0.037652756  0.0753929720\n",
       "X86A_3 No dominant order     -0.50130119  1.73176045 -0.125698230 -0.5308565741\n",
       "1 Noun-Relative clause       -0.51741775  0.02367066  0.040880802 -0.0705024232\n",
       "2 Relative clause-Noun        1.49202896 -0.41337896 -0.249245802 -0.8927373682\n",
       "3 Internally headed           1.22454351  1.21332002 -2.752353533  1.4461536020\n",
       "4 Correlative                 0.92800936 -0.45051499 -0.116206381  0.3438230965\n",
       "5 Adjoined                    0.33518774  1.08924521 -0.573160319 -1.5085100030\n",
       "6 Doubly headed               1.63555648 -0.74065426 -0.380370395  7.7147043588\n",
       "7 Mixed                       1.12870799  0.06629449  1.619891660  1.7212628022\n",
       "1 Initial subordinator word  -0.60692079 -0.03806512 -0.066509341  0.0771640997\n",
       "2 Final subordinator word     1.42508696 -0.19209516 -0.152728347  1.0663494022\n",
       "3 Internal subordinator word -0.17573657  6.64055037  0.636746129 -1.1087235194\n",
       "4 Subordinating suffix        1.46477853 -0.20138080 -1.446254615 -1.4623876523\n",
       "5 Mixed                       0.77299516  0.03261307  1.190103903 -0.6507478105\n",
       "                             Dim 5      \n",
       "X83A_1 OV                     0.10317858\n",
       "X83A_2 VO                    -0.04110008\n",
       "X83A_3 No dominant order     -0.31687941\n",
       "1 Postpositions               0.10770545\n",
       "2 Prepositions                0.03157445\n",
       "3 Inpositions                -4.20346041\n",
       "4 No dominant order          -0.21719339\n",
       "5 No adpositions             -1.82870097\n",
       "X86A_1 Genitive-Noun         -0.04415501\n",
       "X86A_2 Noun-Genitive         -0.18359425\n",
       "X86A_3 No dominant order      1.52879894\n",
       "1 Noun-Relative clause       -0.02034476\n",
       "2 Relative clause-Noun        0.04239002\n",
       "3 Internally headed          -1.44041728\n",
       "4 Correlative                 2.26141683\n",
       "5 Adjoined                    8.91248273\n",
       "6 Doubly headed               6.90096415\n",
       "7 Mixed                      -0.30516967\n",
       "1 Initial subordinator word   0.08773699\n",
       "2 Final subordinator word     0.60980225\n",
       "3 Internal subordinator word  0.60025486\n",
       "4 Subordinating suffix       -0.80821327\n",
       "5 Mixed                      -0.68681959"
      ]
     },
     "metadata": {},
     "output_type": "display_data"
    }
   ],
   "source": [
    "mca$var$coord"
   ]
  },
  {
   "cell_type": "code",
   "execution_count": 54,
   "metadata": {
    "collapsed": false
   },
   "outputs": [
    {
     "data": {
      "text/html": [
       "<table>\n",
       "<thead><tr><th></th><th scope=col>Name</th></tr></thead>\n",
       "<tbody>\n",
       "\t<tr><th scope=row>116</th><td>German </td></tr>\n",
       "\t<tr><th scope=row>94</th><td>Dutch  </td></tr>\n",
       "\t<tr><th scope=row>81</th><td>Czech  </td></tr>\n",
       "\t<tr><th scope=row>98</th><td>English</td></tr>\n",
       "\t<tr><th scope=row>321</th><td>Polish </td></tr>\n",
       "</tbody>\n",
       "</table>\n"
      ],
      "text/latex": [
       "\\begin{tabular}{r|l}\n",
       "  & Name\\\\\n",
       "\\hline\n",
       "\t116 & German \\\\\n",
       "\t94 & Dutch  \\\\\n",
       "\t81 & Czech  \\\\\n",
       "\t98 & English\\\\\n",
       "\t321 & Polish \\\\\n",
       "\\end{tabular}\n"
      ],
      "text/markdown": [
       "\n",
       "| <!--/--> | Name | \n",
       "|---|---|---|---|---|\n",
       "| 116 | German  | \n",
       "| 94 | Dutch   | \n",
       "| 81 | Czech   | \n",
       "| 98 | English | \n",
       "| 321 | Polish  | \n",
       "\n",
       "\n"
      ],
      "text/plain": [
       "    Name   \n",
       "116 German \n",
       "94  Dutch  \n",
       "81  Czech  \n",
       "98  English\n",
       "321 Polish "
      ]
     },
     "metadata": {},
     "output_type": "display_data"
    }
   ],
   "source": [
    "example6[c(116,94,81,98,321),]['Name']"
   ]
  },
  {
   "cell_type": "code",
   "execution_count": 5,
   "metadata": {
    "collapsed": false
   },
   "outputs": [
    {
     "data": {
      "text/html": [
       "<table>\n",
       "<thead><tr><th></th><th scope=col>Name</th></tr></thead>\n",
       "<tbody>\n",
       "\t<tr><th scope=row>188</th><td>Korean  </td></tr>\n",
       "\t<tr><th scope=row>157</th><td>Japanese</td></tr>\n",
       "\t<tr><th scope=row>50</th><td>Basque  </td></tr>\n",
       "\t<tr><th scope=row>388</th><td>Tamil   </td></tr>\n",
       "\t<tr><th scope=row>371</th><td>Telugu  </td></tr>\n",
       "</tbody>\n",
       "</table>\n"
      ],
      "text/latex": [
       "\\begin{tabular}{r|l}\n",
       "  & Name\\\\\n",
       "\\hline\n",
       "\t188 & Korean  \\\\\n",
       "\t157 & Japanese\\\\\n",
       "\t50 & Basque  \\\\\n",
       "\t388 & Tamil   \\\\\n",
       "\t371 & Telugu  \\\\\n",
       "\\end{tabular}\n"
      ],
      "text/markdown": [
       "\n",
       "| <!--/--> | Name | \n",
       "|---|---|---|---|---|\n",
       "| 188 | Korean   | \n",
       "| 157 | Japanese | \n",
       "| 50 | Basque   | \n",
       "| 388 | Tamil    | \n",
       "| 371 | Telugu   | \n",
       "\n",
       "\n"
      ],
      "text/plain": [
       "    Name    \n",
       "188 Korean  \n",
       "157 Japanese\n",
       "50  Basque  \n",
       "388 Tamil   \n",
       "371 Telugu  "
      ]
     },
     "metadata": {},
     "output_type": "display_data"
    }
   ],
   "source": [
    "example6[c(188,157,50,388,371),]['Name']"
   ]
  },
  {
   "cell_type": "code",
   "execution_count": 55,
   "metadata": {
    "collapsed": false
   },
   "outputs": [
    {
     "data": {
      "text/html": [
       "22"
      ],
      "text/latex": [
       "22"
      ],
      "text/markdown": [
       "22"
      ],
      "text/plain": [
       "[1] 22"
      ]
     },
     "metadata": {},
     "output_type": "display_data"
    }
   ],
   "source": [
    "length(which(example6$verb.noun.ratio != 'unknown'))"
   ]
  },
  {
   "cell_type": "code",
   "execution_count": 56,
   "metadata": {
    "collapsed": false
   },
   "outputs": [
    {
     "data": {
      "image/png": "[encoded data removed]",
      "text/plain": [
       "Plot with title “MCA factor map”"
      ]
     },
     "metadata": {},
     "output_type": "display_data"
    }
   ],
   "source": [
    "plot(mca,choix=\"ind\",habillage=\"verb.noun.ratio\",invisible=c(\"var\",\"quali.sup\"),\n",
    "     select=knownratios,unselect=1,xlim=c(-1.5,-0.5),ylim=c(-0.5,0))"
   ]
  },
  {
   "cell_type": "markdown",
   "metadata": {},
   "source": [
    "So using only dominant features, we get all the medium and low languages exactly at the same place. What does this mean?"
   ]
  },
  {
   "cell_type": "code",
   "execution_count": 57,
   "metadata": {
    "collapsed": false
   },
   "outputs": [
    {
     "data": {
      "text/html": [
       "<ol class=list-inline>\n",
       "\t<li>Greek (Modern)</li>\n",
       "\t<li>Hebrew (Modern)</li>\n",
       "\t<li>Irish</li>\n",
       "\t<li>Malagasy</li>\n",
       "\t<li>Maori</li>\n",
       "\t<li>Romanian</li>\n",
       "\t<li>Spanish</li>\n",
       "\t<li>Swahili</li>\n",
       "\t<li>Vietnamese</li>\n",
       "\t<li>Zapotec (Isthmus)</li>\n",
       "</ol>\n"
      ],
      "text/latex": [
       "\\begin{enumerate*}\n",
       "\\item Greek (Modern)\n",
       "\\item Hebrew (Modern)\n",
       "\\item Irish\n",
       "\\item Malagasy\n",
       "\\item Maori\n",
       "\\item Romanian\n",
       "\\item Spanish\n",
       "\\item Swahili\n",
       "\\item Vietnamese\n",
       "\\item Zapotec (Isthmus)\n",
       "\\end{enumerate*}\n"
      ],
      "text/markdown": [
       "1. Greek (Modern)\n",
       "2. Hebrew (Modern)\n",
       "3. Irish\n",
       "4. Malagasy\n",
       "5. Maori\n",
       "6. Romanian\n",
       "7. Spanish\n",
       "8. Swahili\n",
       "9. Vietnamese\n",
       "10. Zapotec (Isthmus)\n",
       "\n",
       "\n"
      ],
      "text/plain": [
       " [1] Greek (Modern)    Hebrew (Modern)   Irish             Malagasy         \n",
       " [5] Maori             Romanian          Spanish           Swahili          \n",
       " [9] Vietnamese        Zapotec (Isthmus)\n",
       "438 Levels: Abipón Abkhaz Abun Acehnese Acholi Adioukrou Ainu Akha ... Zulu"
      ]
     },
     "metadata": {},
     "output_type": "display_data"
    }
   ],
   "source": [
    "example6[which(!(example6$verb.noun.ratio %in% c('high','unknown'))),'Name']"
   ]
  },
  {
   "cell_type": "code",
   "execution_count": 58,
   "metadata": {
    "collapsed": false
   },
   "outputs": [
    {
     "data": {
      "text/html": [
       "<table>\n",
       "<thead><tr><th></th><th scope=col>Dim 1</th><th scope=col>Dim 2</th><th scope=col>Dim 3</th><th scope=col>Dim 4</th><th scope=col>Dim 5</th></tr></thead>\n",
       "<tbody>\n",
       "\t<tr><th scope=row>120</th><td>-0.7897666 </td><td>-0.2112722 </td><td>-0.09322273</td><td>0.04588996 </td><td>-0.05330782</td></tr>\n",
       "\t<tr><th scope=row>129</th><td>-0.7897666 </td><td>-0.2112722 </td><td>-0.09322273</td><td>0.04588996 </td><td>-0.05330782</td></tr>\n",
       "\t<tr><th scope=row>150</th><td>-0.7897666 </td><td>-0.2112722 </td><td>-0.09322273</td><td>0.04588996 </td><td>-0.05330782</td></tr>\n",
       "\t<tr><th scope=row>230</th><td>-0.7897666 </td><td>-0.2112722 </td><td>-0.09322273</td><td>0.04588996 </td><td>-0.05330782</td></tr>\n",
       "\t<tr><th scope=row>232</th><td>-0.7897666 </td><td>-0.2112722 </td><td>-0.09322273</td><td>0.04588996 </td><td>-0.05330782</td></tr>\n",
       "\t<tr><th scope=row>330</th><td>-0.7897666 </td><td>-0.2112722 </td><td>-0.09322273</td><td>0.04588996 </td><td>-0.05330782</td></tr>\n",
       "\t<tr><th scope=row>350</th><td>-0.7897666 </td><td>-0.2112722 </td><td>-0.09322273</td><td>0.04588996 </td><td>-0.05330782</td></tr>\n",
       "\t<tr><th scope=row>358</th><td>-0.7897666 </td><td>-0.2112722 </td><td>-0.09322273</td><td>0.04588996 </td><td>-0.05330782</td></tr>\n",
       "\t<tr><th scope=row>415</th><td>-0.7897666 </td><td>-0.2112722 </td><td>-0.09322273</td><td>0.04588996 </td><td>-0.05330782</td></tr>\n",
       "\t<tr><th scope=row>437</th><td>-0.7897666 </td><td>-0.2112722 </td><td>-0.09322273</td><td>0.04588996 </td><td>-0.05330782</td></tr>\n",
       "</tbody>\n",
       "</table>\n"
      ],
      "text/latex": [
       "\\begin{tabular}{r|lllll}\n",
       "  & Dim 1 & Dim 2 & Dim 3 & Dim 4 & Dim 5\\\\\n",
       "\\hline\n",
       "\t120 & -0.7897666  & -0.2112722  & -0.09322273 & 0.04588996  & -0.05330782\\\\\n",
       "\t129 & -0.7897666  & -0.2112722  & -0.09322273 & 0.04588996  & -0.05330782\\\\\n",
       "\t150 & -0.7897666  & -0.2112722  & -0.09322273 & 0.04588996  & -0.05330782\\\\\n",
       "\t230 & -0.7897666  & -0.2112722  & -0.09322273 & 0.04588996  & -0.05330782\\\\\n",
       "\t232 & -0.7897666  & -0.2112722  & -0.09322273 & 0.04588996  & -0.05330782\\\\\n",
       "\t330 & -0.7897666  & -0.2112722  & -0.09322273 & 0.04588996  & -0.05330782\\\\\n",
       "\t350 & -0.7897666  & -0.2112722  & -0.09322273 & 0.04588996  & -0.05330782\\\\\n",
       "\t358 & -0.7897666  & -0.2112722  & -0.09322273 & 0.04588996  & -0.05330782\\\\\n",
       "\t415 & -0.7897666  & -0.2112722  & -0.09322273 & 0.04588996  & -0.05330782\\\\\n",
       "\t437 & -0.7897666  & -0.2112722  & -0.09322273 & 0.04588996  & -0.05330782\\\\\n",
       "\\end{tabular}\n"
      ],
      "text/markdown": [
       "\n",
       "| <!--/--> | Dim 1 | Dim 2 | Dim 3 | Dim 4 | Dim 5 | \n",
       "|---|---|---|---|---|---|---|---|---|---|\n",
       "| 120 | -0.7897666  | -0.2112722  | -0.09322273 | 0.04588996  | -0.05330782 | \n",
       "| 129 | -0.7897666  | -0.2112722  | -0.09322273 | 0.04588996  | -0.05330782 | \n",
       "| 150 | -0.7897666  | -0.2112722  | -0.09322273 | 0.04588996  | -0.05330782 | \n",
       "| 230 | -0.7897666  | -0.2112722  | -0.09322273 | 0.04588996  | -0.05330782 | \n",
       "| 232 | -0.7897666  | -0.2112722  | -0.09322273 | 0.04588996  | -0.05330782 | \n",
       "| 330 | -0.7897666  | -0.2112722  | -0.09322273 | 0.04588996  | -0.05330782 | \n",
       "| 350 | -0.7897666  | -0.2112722  | -0.09322273 | 0.04588996  | -0.05330782 | \n",
       "| 358 | -0.7897666  | -0.2112722  | -0.09322273 | 0.04588996  | -0.05330782 | \n",
       "| 415 | -0.7897666  | -0.2112722  | -0.09322273 | 0.04588996  | -0.05330782 | \n",
       "| 437 | -0.7897666  | -0.2112722  | -0.09322273 | 0.04588996  | -0.05330782 | \n",
       "\n",
       "\n"
      ],
      "text/plain": [
       "    Dim 1      Dim 2      Dim 3       Dim 4      Dim 5      \n",
       "120 -0.7897666 -0.2112722 -0.09322273 0.04588996 -0.05330782\n",
       "129 -0.7897666 -0.2112722 -0.09322273 0.04588996 -0.05330782\n",
       "150 -0.7897666 -0.2112722 -0.09322273 0.04588996 -0.05330782\n",
       "230 -0.7897666 -0.2112722 -0.09322273 0.04588996 -0.05330782\n",
       "232 -0.7897666 -0.2112722 -0.09322273 0.04588996 -0.05330782\n",
       "330 -0.7897666 -0.2112722 -0.09322273 0.04588996 -0.05330782\n",
       "350 -0.7897666 -0.2112722 -0.09322273 0.04588996 -0.05330782\n",
       "358 -0.7897666 -0.2112722 -0.09322273 0.04588996 -0.05330782\n",
       "415 -0.7897666 -0.2112722 -0.09322273 0.04588996 -0.05330782\n",
       "437 -0.7897666 -0.2112722 -0.09322273 0.04588996 -0.05330782"
      ]
     },
     "metadata": {},
     "output_type": "display_data"
    }
   ],
   "source": [
    "mca$ind$coord[which(!(example6$verb.noun.ratio %in% c('high','unknown'))),]"
   ]
  },
  {
   "cell_type": "markdown",
   "metadata": {},
   "source": [
    "I suppose all the non-high v/n ratio language have the same values for these features:"
   ]
  },
  {
   "cell_type": "code",
   "execution_count": 64,
   "metadata": {
    "collapsed": false
   },
   "outputs": [
    {
     "data": {
      "text/html": [
       "<table>\n",
       "<thead><tr><th></th><th scope=col>Name</th><th scope=col>verb.noun.ratio</th><th scope=col>X83A</th><th scope=col>X85A</th><th scope=col>X86A</th><th scope=col>X90A</th><th scope=col>X94A</th></tr></thead>\n",
       "<tbody>\n",
       "\t<tr><th scope=row>120</th><td>Greek (Modern)             </td><td>medium                     </td><td>2 VO                       </td><td>2 Prepositions             </td><td>2 Noun-Genitive            </td><td>1 Noun-Relative clause     </td><td>1 Initial subordinator word</td></tr>\n",
       "\t<tr><th scope=row>129</th><td>Hebrew (Modern)            </td><td>medium                     </td><td>2 VO                       </td><td>2 Prepositions             </td><td>2 Noun-Genitive            </td><td>1 Noun-Relative clause     </td><td>1 Initial subordinator word</td></tr>\n",
       "\t<tr><th scope=row>150</th><td>Irish                      </td><td>low                        </td><td>2 VO                       </td><td>2 Prepositions             </td><td>2 Noun-Genitive            </td><td>1 Noun-Relative clause     </td><td>1 Initial subordinator word</td></tr>\n",
       "\t<tr><th scope=row>230</th><td>Malagasy                   </td><td>low                        </td><td>2 VO                       </td><td>2 Prepositions             </td><td>2 Noun-Genitive            </td><td>1 Noun-Relative clause     </td><td>1 Initial subordinator word</td></tr>\n",
       "\t<tr><th scope=row>232</th><td>Maori                      </td><td>low                        </td><td>2 VO                       </td><td>2 Prepositions             </td><td>2 Noun-Genitive            </td><td>1 Noun-Relative clause     </td><td>1 Initial subordinator word</td></tr>\n",
       "\t<tr><th scope=row>330</th><td>Romanian                   </td><td>medium                     </td><td>2 VO                       </td><td>2 Prepositions             </td><td>2 Noun-Genitive            </td><td>1 Noun-Relative clause     </td><td>1 Initial subordinator word</td></tr>\n",
       "\t<tr><th scope=row>350</th><td>Spanish                    </td><td>medium                     </td><td>2 VO                       </td><td>2 Prepositions             </td><td>2 Noun-Genitive            </td><td>1 Noun-Relative clause     </td><td>1 Initial subordinator word</td></tr>\n",
       "\t<tr><th scope=row>358</th><td>Swahili                    </td><td>medium                     </td><td>2 VO                       </td><td>2 Prepositions             </td><td>2 Noun-Genitive            </td><td>1 Noun-Relative clause     </td><td>1 Initial subordinator word</td></tr>\n",
       "\t<tr><th scope=row>415</th><td>Vietnamese                 </td><td>medium                     </td><td>2 VO                       </td><td>2 Prepositions             </td><td>2 Noun-Genitive            </td><td>1 Noun-Relative clause     </td><td>1 Initial subordinator word</td></tr>\n",
       "\t<tr><th scope=row>437</th><td>Zapotec (Isthmus)          </td><td>low                        </td><td>2 VO                       </td><td>2 Prepositions             </td><td>2 Noun-Genitive            </td><td>1 Noun-Relative clause     </td><td>1 Initial subordinator word</td></tr>\n",
       "</tbody>\n",
       "</table>\n"
      ],
      "text/latex": [
       "\\begin{tabular}{r|lllllll}\n",
       "  & Name & verb.noun.ratio & X83A & X85A & X86A & X90A & X94A\\\\\n",
       "\\hline\n",
       "\t120 & Greek (Modern)              & medium                      & 2 VO                        & 2 Prepositions              & 2 Noun-Genitive             & 1 Noun-Relative clause      & 1 Initial subordinator word\\\\\n",
       "\t129 & Hebrew (Modern)             & medium                      & 2 VO                        & 2 Prepositions              & 2 Noun-Genitive             & 1 Noun-Relative clause      & 1 Initial subordinator word\\\\\n",
       "\t150 & Irish                       & low                         & 2 VO                        & 2 Prepositions              & 2 Noun-Genitive             & 1 Noun-Relative clause      & 1 Initial subordinator word\\\\\n",
       "\t230 & Malagasy                    & low                         & 2 VO                        & 2 Prepositions              & 2 Noun-Genitive             & 1 Noun-Relative clause      & 1 Initial subordinator word\\\\\n",
       "\t232 & Maori                       & low                         & 2 VO                        & 2 Prepositions              & 2 Noun-Genitive             & 1 Noun-Relative clause      & 1 Initial subordinator word\\\\\n",
       "\t330 & Romanian                    & medium                      & 2 VO                        & 2 Prepositions              & 2 Noun-Genitive             & 1 Noun-Relative clause      & 1 Initial subordinator word\\\\\n",
       "\t350 & Spanish                     & medium                      & 2 VO                        & 2 Prepositions              & 2 Noun-Genitive             & 1 Noun-Relative clause      & 1 Initial subordinator word\\\\\n",
       "\t358 & Swahili                     & medium                      & 2 VO                        & 2 Prepositions              & 2 Noun-Genitive             & 1 Noun-Relative clause      & 1 Initial subordinator word\\\\\n",
       "\t415 & Vietnamese                  & medium                      & 2 VO                        & 2 Prepositions              & 2 Noun-Genitive             & 1 Noun-Relative clause      & 1 Initial subordinator word\\\\\n",
       "\t437 & Zapotec (Isthmus)           & low                         & 2 VO                        & 2 Prepositions              & 2 Noun-Genitive             & 1 Noun-Relative clause      & 1 Initial subordinator word\\\\\n",
       "\\end{tabular}\n"
      ],
      "text/markdown": [
       "\n",
       "| <!--/--> | Name | verb.noun.ratio | X83A | X85A | X86A | X90A | X94A | \n",
       "|---|---|---|---|---|---|---|---|---|---|\n",
       "| 120 | Greek (Modern)              | medium                      | 2 VO                        | 2 Prepositions              | 2 Noun-Genitive             | 1 Noun-Relative clause      | 1 Initial subordinator word | \n",
       "| 129 | Hebrew (Modern)             | medium                      | 2 VO                        | 2 Prepositions              | 2 Noun-Genitive             | 1 Noun-Relative clause      | 1 Initial subordinator word | \n",
       "| 150 | Irish                       | low                         | 2 VO                        | 2 Prepositions              | 2 Noun-Genitive             | 1 Noun-Relative clause      | 1 Initial subordinator word | \n",
       "| 230 | Malagasy                    | low                         | 2 VO                        | 2 Prepositions              | 2 Noun-Genitive             | 1 Noun-Relative clause      | 1 Initial subordinator word | \n",
       "| 232 | Maori                       | low                         | 2 VO                        | 2 Prepositions              | 2 Noun-Genitive             | 1 Noun-Relative clause      | 1 Initial subordinator word | \n",
       "| 330 | Romanian                    | medium                      | 2 VO                        | 2 Prepositions              | 2 Noun-Genitive             | 1 Noun-Relative clause      | 1 Initial subordinator word | \n",
       "| 350 | Spanish                     | medium                      | 2 VO                        | 2 Prepositions              | 2 Noun-Genitive             | 1 Noun-Relative clause      | 1 Initial subordinator word | \n",
       "| 358 | Swahili                     | medium                      | 2 VO                        | 2 Prepositions              | 2 Noun-Genitive             | 1 Noun-Relative clause      | 1 Initial subordinator word | \n",
       "| 415 | Vietnamese                  | medium                      | 2 VO                        | 2 Prepositions              | 2 Noun-Genitive             | 1 Noun-Relative clause      | 1 Initial subordinator word | \n",
       "| 437 | Zapotec (Isthmus)           | low                         | 2 VO                        | 2 Prepositions              | 2 Noun-Genitive             | 1 Noun-Relative clause      | 1 Initial subordinator word | \n",
       "\n",
       "\n"
      ],
      "text/plain": [
       "    Name              verb.noun.ratio X83A X85A           X86A           \n",
       "120 Greek (Modern)    medium          2 VO 2 Prepositions 2 Noun-Genitive\n",
       "129 Hebrew (Modern)   medium          2 VO 2 Prepositions 2 Noun-Genitive\n",
       "150 Irish             low             2 VO 2 Prepositions 2 Noun-Genitive\n",
       "230 Malagasy          low             2 VO 2 Prepositions 2 Noun-Genitive\n",
       "232 Maori             low             2 VO 2 Prepositions 2 Noun-Genitive\n",
       "330 Romanian          medium          2 VO 2 Prepositions 2 Noun-Genitive\n",
       "350 Spanish           medium          2 VO 2 Prepositions 2 Noun-Genitive\n",
       "358 Swahili           medium          2 VO 2 Prepositions 2 Noun-Genitive\n",
       "415 Vietnamese        medium          2 VO 2 Prepositions 2 Noun-Genitive\n",
       "437 Zapotec (Isthmus) low             2 VO 2 Prepositions 2 Noun-Genitive\n",
       "    X90A                   X94A                       \n",
       "120 1 Noun-Relative clause 1 Initial subordinator word\n",
       "129 1 Noun-Relative clause 1 Initial subordinator word\n",
       "150 1 Noun-Relative clause 1 Initial subordinator word\n",
       "230 1 Noun-Relative clause 1 Initial subordinator word\n",
       "232 1 Noun-Relative clause 1 Initial subordinator word\n",
       "330 1 Noun-Relative clause 1 Initial subordinator word\n",
       "350 1 Noun-Relative clause 1 Initial subordinator word\n",
       "358 1 Noun-Relative clause 1 Initial subordinator word\n",
       "415 1 Noun-Relative clause 1 Initial subordinator word\n",
       "437 1 Noun-Relative clause 1 Initial subordinator word"
      ]
     },
     "metadata": {},
     "output_type": "display_data"
    }
   ],
   "source": [
    "example6[which(!(example6$verb.noun.ratio %in% c('high','unknown'))),c('Name','verb.noun.ratio','X83A','X85A','X86A','X90A' ,'X94A')]"
   ]
  },
  {
   "cell_type": "markdown",
   "metadata": {},
   "source": [
    "Any thoughts?\n",
    "\n",
    "\n",
    "## How to Classify the WO Features?\n",
    "\n",
    "I can think of two basic strategies:\n",
    "    \n",
    "    1. by POS: \n",
    "        - concerning verbs, e.g \"order of subject and verb\" (82A)\n",
    "        - concerning nouns e.g \"order of numeral and noun\" (89A) \n",
    "        etc.\n",
    "    \n",
    "    2. by syntactic level: \n",
    "        - within phrase, e.g \"order of negative morpheme and verb\" (143A)\n",
    "        - within clause/sentece e.g \"order of object and verb\" (83A)\n",
    "        - above the clause, e.g \"order of adverbial subordinator and clause\" (94A)\n",
    "\n",
    "(both would yield overlapping sets by the way)\n",
    "\n",
    "## How to Assess the two classifications?\n",
    "\n",
    "You already suggested two basic strategies:\n",
    "    \n",
    "    1. by heterogenous sets:\n",
    "    \n",
    "        - generate feature sets that contain a balanced mix of the subclasses\n",
    "        - for those sets whose v/n ratio silhoutte is high, ask which are the features with high eta2\n",
    "        - average as above and see if there is a dominantly informative subclass\n",
    "    \n",
    "    2. by homogenous sets:\n",
    "        \n",
    "        - generate feature sets containing features from a single subclass\n",
    "        - compare the average the silhuettes of these sets by subclass\n",
    "\n",
    "But a few questions come to mind:\n",
    "    \n",
    "    1. any other ideas?\n",
    "    \n",
    "    2. if one or two distinctly informative subclass, e.g \"features pertaining to negation\" are found, do you say QED?\n",
    "    \n",
    "    3. if not, what do you say then?"
   ]
  },
  {
   "cell_type": "markdown",
   "metadata": {},
   "source": [
    "## 85A, 83A, 86A + Negation Features"
   ]
  },
  {
   "cell_type": "code",
   "execution_count": 28,
   "metadata": {
    "collapsed": true
   },
   "outputs": [],
   "source": [
    "# silhouette:  0.1\n",
    "# quality: 3.65\n",
    "# known v/n ratio: 27\n",
    "example7 <- read.csv('chunked-feature-sets/83A-85A-86A-143A-144A.csv')\n",
    "knownratios = which(example7$verb.noun.ratio != 'unknown')\n",
    "mca <- MCA(example7,quali.sup=1:12)"
   ]
  },
  {
   "cell_type": "code",
   "execution_count": 29,
   "metadata": {
    "collapsed": false
   },
   "outputs": [
    {
     "data": {
      "image/png": "[encoded data removed]",
      "text/plain": [
       "Plot with title “MCA factor map”"
      ]
     },
     "metadata": {},
     "output_type": "display_data"
    }
   ],
   "source": [
    "plot(mca,choix=\"ind\",habillage=\"verb.noun.ratio\",invisible=c(\"var\",\"quali.sup\"),\n",
    "     select=knownratios,unselect=1)"
   ]
  },
  {
   "cell_type": "code",
   "execution_count": 30,
   "metadata": {
    "collapsed": false
   },
   "outputs": [
    {
     "data": {
      "text/html": [
       "<table>\n",
       "<thead><tr><th></th><th scope=col>Dim 1</th><th scope=col>Dim 2</th><th scope=col>Dim 3</th><th scope=col>Dim 4</th><th scope=col>Dim 5</th></tr></thead>\n",
       "<tbody>\n",
       "\t<tr><th scope=row>X83A</th><td>0.8195627  </td><td>0.05522070 </td><td>0.049190619</td><td>0.13224551 </td><td>0.008065546</td></tr>\n",
       "\t<tr><th scope=row>X85A</th><td>0.8192870  </td><td>0.01343938 </td><td>0.038170799</td><td>0.04902655 </td><td>0.004421934</td></tr>\n",
       "\t<tr><th scope=row>X86A</th><td>0.6727019  </td><td>0.02950739 </td><td>0.001314697</td><td>0.02636891 </td><td>0.016612006</td></tr>\n",
       "\t<tr><th scope=row>X143A</th><td>0.3169858  </td><td>0.93915499 </td><td>0.935789387</td><td>0.82423866 </td><td>0.939349926</td></tr>\n",
       "\t<tr><th scope=row>X144A</th><td>0.6240112  </td><td>0.95758260 </td><td>0.943429805</td><td>0.90076184 </td><td>0.942332258</td></tr>\n",
       "</tbody>\n",
       "</table>\n"
      ],
      "text/latex": [
       "\\begin{tabular}{r|lllll}\n",
       "  & Dim 1 & Dim 2 & Dim 3 & Dim 4 & Dim 5\\\\\n",
       "\\hline\n",
       "\tX83A & 0.8195627   & 0.05522070  & 0.049190619 & 0.13224551  & 0.008065546\\\\\n",
       "\tX85A & 0.8192870   & 0.01343938  & 0.038170799 & 0.04902655  & 0.004421934\\\\\n",
       "\tX86A & 0.6727019   & 0.02950739  & 0.001314697 & 0.02636891  & 0.016612006\\\\\n",
       "\tX143A & 0.3169858   & 0.93915499  & 0.935789387 & 0.82423866  & 0.939349926\\\\\n",
       "\tX144A & 0.6240112   & 0.95758260  & 0.943429805 & 0.90076184  & 0.942332258\\\\\n",
       "\\end{tabular}\n"
      ],
      "text/markdown": [
       "\n",
       "| <!--/--> | Dim 1 | Dim 2 | Dim 3 | Dim 4 | Dim 5 | \n",
       "|---|---|---|---|---|\n",
       "| X83A | 0.8195627   | 0.05522070  | 0.049190619 | 0.13224551  | 0.008065546 | \n",
       "| X85A | 0.8192870   | 0.01343938  | 0.038170799 | 0.04902655  | 0.004421934 | \n",
       "| X86A | 0.6727019   | 0.02950739  | 0.001314697 | 0.02636891  | 0.016612006 | \n",
       "| X143A | 0.3169858   | 0.93915499  | 0.935789387 | 0.82423866  | 0.939349926 | \n",
       "| X144A | 0.6240112   | 0.95758260  | 0.943429805 | 0.90076184  | 0.942332258 | \n",
       "\n",
       "\n"
      ],
      "text/plain": [
       "      Dim 1     Dim 2      Dim 3       Dim 4      Dim 5      \n",
       "X83A  0.8195627 0.05522070 0.049190619 0.13224551 0.008065546\n",
       "X85A  0.8192870 0.01343938 0.038170799 0.04902655 0.004421934\n",
       "X86A  0.6727019 0.02950739 0.001314697 0.02636891 0.016612006\n",
       "X143A 0.3169858 0.93915499 0.935789387 0.82423866 0.939349926\n",
       "X144A 0.6240112 0.95758260 0.943429805 0.90076184 0.942332258"
      ]
     },
     "metadata": {},
     "output_type": "display_data"
    }
   ],
   "source": [
    "mca$var$eta2"
   ]
  },
  {
   "cell_type": "code",
   "execution_count": 31,
   "metadata": {
    "collapsed": false
   },
   "outputs": [
    {
     "data": {
      "text/html": [
       "<ol class=list-inline>\n",
       "\t<li>155</li>\n",
       "\t<li>606</li>\n",
       "</ol>\n"
      ],
      "text/latex": [
       "\\begin{enumerate*}\n",
       "\\item 155\n",
       "\\item 606\n",
       "\\end{enumerate*}\n"
      ],
      "text/markdown": [
       "1. 155\n",
       "2. 606\n",
       "\n",
       "\n"
      ],
      "text/plain": [
       "[1] 155 606"
      ]
     },
     "metadata": {},
     "output_type": "display_data"
    }
   ],
   "source": [
    "which(example7$Name %in% c('Polish','Czech'))"
   ]
  },
  {
   "cell_type": "code",
   "execution_count": 7,
   "metadata": {
    "collapsed": true
   },
   "outputs": [],
   "source": [
    "# sihouette: -0.04\n",
    "# quality: 3.2\n",
    "# known v/n ratio: 27\n",
    "example8 <- read.csv('chunked-feature-sets/83A-85A-86A-143A.csv')\n",
    "knownratios = which(example8$verb.noun.ratio != 'unknown')\n",
    "mca <- MCA(example8,quali.sup=1:12)"
   ]
  },
  {
   "cell_type": "code",
   "execution_count": 8,
   "metadata": {
    "collapsed": false
   },
   "outputs": [
    {
     "data": {
      "image/png": "[encoded data removed]",
      "text/plain": [
       "Plot with title “MCA factor map”"
      ]
     },
     "metadata": {},
     "output_type": "display_data"
    }
   ],
   "source": [
    "plot(mca,choix=\"ind\",habillage=\"verb.noun.ratio\",invisible=c(\"var\",\"quali.sup\"),\n",
    "     select=knownratios,unselect=1)"
   ]
  },
  {
   "cell_type": "code",
   "execution_count": 9,
   "metadata": {
    "collapsed": false
   },
   "outputs": [
    {
     "data": {
      "text/html": [
       "<table>\n",
       "<thead><tr><th></th><th scope=col>Dim 1</th><th scope=col>Dim 2</th><th scope=col>Dim 3</th><th scope=col>Dim 4</th><th scope=col>Dim 5</th></tr></thead>\n",
       "<tbody>\n",
       "\t<tr><th scope=row>X83A</th><td>0.8245800  </td><td>0.4425027  </td><td>0.003175937</td><td>0.1458651  </td><td>0.01058734 </td></tr>\n",
       "\t<tr><th scope=row>X85A</th><td>0.8789827  </td><td>0.2859295  </td><td>0.599811763</td><td>0.2859649  </td><td>0.56755036 </td></tr>\n",
       "\t<tr><th scope=row>X86A</th><td>0.7556684  </td><td>0.3440103  </td><td>0.011501436</td><td>0.1069740  </td><td>0.02300708 </td></tr>\n",
       "\t<tr><th scope=row>X143A</th><td>0.2671031  </td><td>0.2988611  </td><td>0.563438101</td><td>0.5848825  </td><td>0.49256189 </td></tr>\n",
       "</tbody>\n",
       "</table>\n"
      ],
      "text/latex": [
       "\\begin{tabular}{r|lllll}\n",
       "  & Dim 1 & Dim 2 & Dim 3 & Dim 4 & Dim 5\\\\\n",
       "\\hline\n",
       "\tX83A & 0.8245800   & 0.4425027   & 0.003175937 & 0.1458651   & 0.01058734 \\\\\n",
       "\tX85A & 0.8789827   & 0.2859295   & 0.599811763 & 0.2859649   & 0.56755036 \\\\\n",
       "\tX86A & 0.7556684   & 0.3440103   & 0.011501436 & 0.1069740   & 0.02300708 \\\\\n",
       "\tX143A & 0.2671031   & 0.2988611   & 0.563438101 & 0.5848825   & 0.49256189 \\\\\n",
       "\\end{tabular}\n"
      ],
      "text/markdown": [
       "\n",
       "| <!--/--> | Dim 1 | Dim 2 | Dim 3 | Dim 4 | Dim 5 | \n",
       "|---|---|---|---|\n",
       "| X83A | 0.8245800   | 0.4425027   | 0.003175937 | 0.1458651   | 0.01058734  | \n",
       "| X85A | 0.8789827   | 0.2859295   | 0.599811763 | 0.2859649   | 0.56755036  | \n",
       "| X86A | 0.7556684   | 0.3440103   | 0.011501436 | 0.1069740   | 0.02300708  | \n",
       "| X143A | 0.2671031   | 0.2988611   | 0.563438101 | 0.5848825   | 0.49256189  | \n",
       "\n",
       "\n"
      ],
      "text/plain": [
       "      Dim 1     Dim 2     Dim 3       Dim 4     Dim 5     \n",
       "X83A  0.8245800 0.4425027 0.003175937 0.1458651 0.01058734\n",
       "X85A  0.8789827 0.2859295 0.599811763 0.2859649 0.56755036\n",
       "X86A  0.7556684 0.3440103 0.011501436 0.1069740 0.02300708\n",
       "X143A 0.2671031 0.2988611 0.563438101 0.5848825 0.49256189"
      ]
     },
     "metadata": {},
     "output_type": "display_data"
    }
   ],
   "source": [
    "mca$var$eta2"
   ]
  },
  {
   "cell_type": "code",
   "execution_count": 14,
   "metadata": {
    "collapsed": false
   },
   "outputs": [
    {
     "data": {
      "text/html": [
       "Polish"
      ],
      "text/latex": [
       "Polish"
      ],
      "text/markdown": [
       "Polish"
      ],
      "text/plain": [
       "[1] Polish\n",
       "870 Levels: Aari Abau Abipón Abkhaz Abui Abun Acehnese Achagua Acholi ... Zuni"
      ]
     },
     "metadata": {},
     "output_type": "display_data"
    }
   ],
   "source": [
    "example8[631,'Name']"
   ]
  },
  {
   "cell_type": "code",
   "execution_count": 33,
   "metadata": {
    "collapsed": false
   },
   "outputs": [
    {
     "data": {
      "text/html": [
       "<ol class=list-inline>\n",
       "\t<li>168</li>\n",
       "\t<li>631</li>\n",
       "</ol>\n"
      ],
      "text/latex": [
       "\\begin{enumerate*}\n",
       "\\item 168\n",
       "\\item 631\n",
       "\\end{enumerate*}\n"
      ],
      "text/markdown": [
       "1. 168\n",
       "2. 631\n",
       "\n",
       "\n"
      ],
      "text/plain": [
       "[1] 168 631"
      ]
     },
     "metadata": {},
     "output_type": "display_data"
    }
   ],
   "source": [
    "which(example8$Name %in% c('Polish','Czech'))"
   ]
  },
  {
   "cell_type": "code",
   "execution_count": 10,
   "metadata": {
    "collapsed": true
   },
   "outputs": [],
   "source": [
    "# sihouette: 0.16\n",
    "# quality: 3.5\n",
    "# known v/n ratio: 27\n",
    "example9 <- read.csv('chunked-feature-sets/83A-85A-86A-144A.csv')\n",
    "knownratios = which(example9$verb.noun.ratio != 'unknown')\n",
    "mca <- MCA(example9,quali.sup=1:12)"
   ]
  },
  {
   "cell_type": "code",
   "execution_count": 11,
   "metadata": {
    "collapsed": false
   },
   "outputs": [
    {
     "data": {
      "image/png": "[encoded data removed]",
      "text/plain": [
       "Plot with title “MCA factor map”"
      ]
     },
     "metadata": {},
     "output_type": "display_data"
    }
   ],
   "source": [
    "plot(mca,choix=\"ind\",habillage=\"verb.noun.ratio\",invisible=c(\"var\",\"quali.sup\"),\n",
    "     select=knownratios,unselect=1)"
   ]
  },
  {
   "cell_type": "code",
   "execution_count": 12,
   "metadata": {
    "collapsed": false
   },
   "outputs": [
    {
     "data": {
      "text/html": [
       "<table>\n",
       "<thead><tr><th></th><th scope=col>Dim 1</th><th scope=col>Dim 2</th><th scope=col>Dim 3</th><th scope=col>Dim 4</th><th scope=col>Dim 5</th></tr></thead>\n",
       "<tbody>\n",
       "\t<tr><th scope=row>X83A</th><td>0.8560038  </td><td>0.4129726  </td><td>0.2255776  </td><td>0.01191641 </td><td>0.023208925</td></tr>\n",
       "\t<tr><th scope=row>X85A</th><td>0.8697770  </td><td>0.2046117  </td><td>0.2361477  </td><td>0.57885896 </td><td>0.512960938</td></tr>\n",
       "\t<tr><th scope=row>X86A</th><td>0.7222981  </td><td>0.2492035  </td><td>0.2622594  </td><td>0.03665618 </td><td>0.003103047</td></tr>\n",
       "\t<tr><th scope=row>X144A</th><td>0.5911584  </td><td>0.5487478  </td><td>0.5389369  </td><td>0.52667183 </td><td>0.559757281</td></tr>\n",
       "</tbody>\n",
       "</table>\n"
      ],
      "text/latex": [
       "\\begin{tabular}{r|lllll}\n",
       "  & Dim 1 & Dim 2 & Dim 3 & Dim 4 & Dim 5\\\\\n",
       "\\hline\n",
       "\tX83A & 0.8560038   & 0.4129726   & 0.2255776   & 0.01191641  & 0.023208925\\\\\n",
       "\tX85A & 0.8697770   & 0.2046117   & 0.2361477   & 0.57885896  & 0.512960938\\\\\n",
       "\tX86A & 0.7222981   & 0.2492035   & 0.2622594   & 0.03665618  & 0.003103047\\\\\n",
       "\tX144A & 0.5911584   & 0.5487478   & 0.5389369   & 0.52667183  & 0.559757281\\\\\n",
       "\\end{tabular}\n"
      ],
      "text/markdown": [
       "\n",
       "| <!--/--> | Dim 1 | Dim 2 | Dim 3 | Dim 4 | Dim 5 | \n",
       "|---|---|---|---|\n",
       "| X83A | 0.8560038   | 0.4129726   | 0.2255776   | 0.01191641  | 0.023208925 | \n",
       "| X85A | 0.8697770   | 0.2046117   | 0.2361477   | 0.57885896  | 0.512960938 | \n",
       "| X86A | 0.7222981   | 0.2492035   | 0.2622594   | 0.03665618  | 0.003103047 | \n",
       "| X144A | 0.5911584   | 0.5487478   | 0.5389369   | 0.52667183  | 0.559757281 | \n",
       "\n",
       "\n"
      ],
      "text/plain": [
       "      Dim 1     Dim 2     Dim 3     Dim 4      Dim 5      \n",
       "X83A  0.8560038 0.4129726 0.2255776 0.01191641 0.023208925\n",
       "X85A  0.8697770 0.2046117 0.2361477 0.57885896 0.512960938\n",
       "X86A  0.7222981 0.2492035 0.2622594 0.03665618 0.003103047\n",
       "X144A 0.5911584 0.5487478 0.5389369 0.52667183 0.559757281"
      ]
     },
     "metadata": {},
     "output_type": "display_data"
    }
   ],
   "source": [
    "mca$var$eta2"
   ]
  },
  {
   "cell_type": "code",
   "execution_count": 13,
   "metadata": {
    "collapsed": false
   },
   "outputs": [
    {
     "data": {
      "text/html": [
       "Polish"
      ],
      "text/latex": [
       "Polish"
      ],
      "text/markdown": [
       "Polish"
      ],
      "text/plain": [
       "[1] Polish\n",
       "837 Levels: Aari Abau Abipón Abkhaz Abui Abun Achagua Acholi Adang ... Zuni"
      ]
     },
     "metadata": {},
     "output_type": "display_data"
    }
   ],
   "source": [
    "example9[606,'Name']"
   ]
  },
  {
   "cell_type": "markdown",
   "metadata": {},
   "source": [
    "Aha! Maybe this can be an interesting test case. See for example:\n",
    "\n",
    "    https://scholar.harvard.edu/adam/files/polish_optional_movement.pdf\n",
    "\n",
    "\n",
    "It seems linguists more or less classify it as head-initial, this is probably why Polinsky **unnaturally assigned** it to the high ratios rather than the mediums. But we see it consistently groups with the medium and lows.\n",
    "\n",
    "or see the bottom of this book page:\n",
    "\n",
    "    https://books.google.co.il/books?id=tcFuPYyBERwC&pg=PR15&lpg=PR15&dq=head+parameter+value+in+Polish&source=bl&ots=-XXrVk_n1G&sig=ARigK5I9BZv39k_U7KbWi1w1Bko&hl=en&sa=X&ved=0ahUKEwjbsei4nv7UAhVkJ8AKHeVFBBAQ6AEIRTAG#v=onepage&q=head%20parameter%20value%20in%20Polish&f=false\n",
    "    \n",
    "  \n",
    "It seems Polish indeed poses a problem to the head parameter paradigm, along with Russian. Maybe it could be interesting to check the v/n ratio in Russian (not included in Polinsky's list). Whereas Czech, another slavic language, falls more squarely in the high category and groups accordingly."
   ]
  },
  {
   "cell_type": "code",
   "execution_count": 8,
   "metadata": {
    "collapsed": false
   },
   "outputs": [],
   "source": [
    "example10 <- read.csv('chunked-feature-sets/83A-85A.csv')\n",
    "knownratios = which(example10$verb.noun.ratio != 'unknown')\n",
    "mca <- MCA(example10,quali.sup=1:12)"
   ]
  },
  {
   "cell_type": "code",
   "execution_count": 9,
   "metadata": {
    "collapsed": false
   },
   "outputs": [
    {
     "data": {
      "image/png": "[encoded data removed]",
      "text/plain": [
       "Plot with title “MCA factor map”"
      ]
     },
     "metadata": {},
     "output_type": "display_data"
    }
   ],
   "source": [
    "plot(mca,choix=\"ind\",habillage=\"verb.noun.ratio\",invisible=c(\"var\",\"quali.sup\"),\n",
    "     select=knownratios,unselect=1)"
   ]
  },
  {
   "cell_type": "code",
   "execution_count": 10,
   "metadata": {
    "collapsed": false
   },
   "outputs": [
    {
     "data": {
      "text/html": [
       "<table>\n",
       "<thead><tr><th></th><th scope=col>Dim 1</th><th scope=col>Dim 2</th><th scope=col>Dim 3</th><th scope=col>Dim 4</th><th scope=col>Dim 5</th></tr></thead>\n",
       "<tbody>\n",
       "\t<tr><th scope=row>X83A</th><td>0.9215965   </td><td>0.5835286   </td><td>4.687797e-27</td><td>1.233994e-29</td><td>0.4164714   </td></tr>\n",
       "\t<tr><th scope=row>X85A</th><td>0.9215965   </td><td>0.5835286   </td><td>1.000000e+00</td><td>1.000000e+00</td><td>0.4164714   </td></tr>\n",
       "</tbody>\n",
       "</table>\n"
      ],
      "text/latex": [
       "\\begin{tabular}{r|lllll}\n",
       "  & Dim 1 & Dim 2 & Dim 3 & Dim 4 & Dim 5\\\\\n",
       "\\hline\n",
       "\tX83A & 0.9215965    & 0.5835286    & 4.687797e-27 & 1.233994e-29 & 0.4164714   \\\\\n",
       "\tX85A & 0.9215965    & 0.5835286    & 1.000000e+00 & 1.000000e+00 & 0.4164714   \\\\\n",
       "\\end{tabular}\n"
      ],
      "text/markdown": [
       "\n",
       "| <!--/--> | Dim 1 | Dim 2 | Dim 3 | Dim 4 | Dim 5 | \n",
       "|---|---|\n",
       "| X83A | 0.9215965    | 0.5835286    | 4.687797e-27 | 1.233994e-29 | 0.4164714    | \n",
       "| X85A | 0.9215965    | 0.5835286    | 1.000000e+00 | 1.000000e+00 | 0.4164714    | \n",
       "\n",
       "\n"
      ],
      "text/plain": [
       "     Dim 1     Dim 2     Dim 3        Dim 4        Dim 5    \n",
       "X83A 0.9215965 0.5835286 4.687797e-27 1.233994e-29 0.4164714\n",
       "X85A 0.9215965 0.5835286 1.000000e+00 1.000000e+00 0.4164714"
      ]
     },
     "metadata": {},
     "output_type": "display_data"
    }
   ],
   "source": [
    "mca$var$eta2"
   ]
  },
  {
   "cell_type": "code",
   "execution_count": 11,
   "metadata": {
    "collapsed": false
   },
   "outputs": [
    {
     "data": {
      "text/html": [
       "<dl>\n",
       "\t<dt>$coord</dt>\n",
       "\t\t<dd><table>\n",
       "<thead><tr><th></th><th scope=col>Dim 1</th><th scope=col>Dim 2</th><th scope=col>Dim 3</th><th scope=col>Dim 4</th><th scope=col>Dim 5</th></tr></thead>\n",
       "<tbody>\n",
       "\t<tr><th scope=row>1 OV</th><td> 0.98850031  </td><td>-0.2536779   </td><td>-2.443517e-14</td><td> 0.000000e+00</td><td> 0.21431083  </td></tr>\n",
       "\t<tr><th scope=row>2 VO</th><td>-0.97896850  </td><td>-0.1150994   </td><td>-8.636566e-15</td><td> 1.636140e-15</td><td> 0.09723766  </td></tr>\n",
       "\t<tr><th scope=row>3 No dominant order</th><td> 0.35268423  </td><td> 3.1704388   </td><td> 2.834720e-13</td><td>-1.423868e-14</td><td>-2.67843341  </td></tr>\n",
       "\t<tr><th scope=row>1 Postpositions</th><td> 0.95056469  </td><td>-0.1823163   </td><td>-7.802569e-02</td><td>-6.354601e-02</td><td>-0.15402351  </td></tr>\n",
       "\t<tr><th scope=row>2 Prepositions</th><td>-1.05042697  </td><td>-0.1815816   </td><td>-1.646636e-01</td><td>-2.181679e-01</td><td>-0.15340283  </td></tr>\n",
       "\t<tr><th scope=row>3 Inpositions</th><td> 0.51582582  </td><td> 7.3842793   </td><td>-7.511286e+00</td><td>-2.974443e+00</td><td> 6.23834797  </td></tr>\n",
       "\t<tr><th scope=row>4 No dominant order</th><td>-0.30994414  </td><td> 1.2152072   </td><td> 5.525313e-01</td><td> 4.052582e+00</td><td> 1.02662494  </td></tr>\n",
       "\t<tr><th scope=row>5 No adpositions</th><td>-0.04224555  </td><td> 2.2847145   </td><td> 4.802434e+00</td><td>-2.079083e+00</td><td> 1.93016046  </td></tr>\n",
       "</tbody>\n",
       "</table>\n",
       "</dd>\n",
       "\t<dt>$contrib</dt>\n",
       "\t\t<dd><table>\n",
       "<thead><tr><th></th><th scope=col>Dim 1</th><th scope=col>Dim 2</th><th scope=col>Dim 3</th><th scope=col>Dim 4</th><th scope=col>Dim 5</th></tr></thead>\n",
       "<tbody>\n",
       "\t<tr><th scope=row>1 OV</th><td>24.423870104</td><td> 2.5404156  </td><td>2.750821e-26</td><td>0.000000e+00</td><td> 2.5404156  </td></tr>\n",
       "\t<tr><th scope=row>2 VO</th><td>25.208582731</td><td> 0.5503458  </td><td>3.616296e-27</td><td>1.297846e-28</td><td> 0.5503458  </td></tr>\n",
       "\t<tr><th scope=row>3 No dominant order</th><td> 0.367547165</td><td>46.9092385  </td><td>4.376552e-25</td><td>1.104209e-27</td><td>46.9092385  </td></tr>\n",
       "\t<tr><th scope=row>1 Postpositions</th><td>23.942077938</td><td> 1.3910034  </td><td>2.973340e-01</td><td>1.972177e-01</td><td> 1.3910034  </td></tr>\n",
       "\t<tr><th scope=row>2 Prepositions</th><td>25.709164416</td><td> 1.2133293  </td><td>1.164454e+00</td><td>2.044130e+00</td><td> 1.2133293  </td></tr>\n",
       "\t<tr><th scope=row>3 Inpositions</th><td> 0.090222604</td><td>29.2014268  </td><td>3.526213e+01</td><td>5.529569e+00</td><td>29.2014268  </td></tr>\n",
       "\t<tr><th scope=row>4 No dominant order</th><td> 0.255941495</td><td> 6.2137411  </td><td>1.499196e+00</td><td>8.065072e+01</td><td> 6.2137411  </td></tr>\n",
       "\t<tr><th scope=row>5 No adpositions</th><td> 0.002593548</td><td>11.9804995  </td><td>6.177688e+01</td><td>1.157836e+01</td><td>11.9804995  </td></tr>\n",
       "</tbody>\n",
       "</table>\n",
       "</dd>\n",
       "\t<dt>$cos2</dt>\n",
       "\t\t<dd><table>\n",
       "<thead><tr><th></th><th scope=col>Dim 1</th><th scope=col>Dim 2</th><th scope=col>Dim 3</th><th scope=col>Dim 4</th><th scope=col>Dim 5</th></tr></thead>\n",
       "<tbody>\n",
       "\t<tr><th scope=row>1 OV</th><td>0.8347691341</td><td>0.05497662  </td><td>5.100861e-28</td><td>0.000000e+00</td><td>0.039237470 </td></tr>\n",
       "\t<tr><th scope=row>2 VO</th><td>0.9019063736</td><td>0.01246723  </td><td>7.019500e-29</td><td>2.519215e-30</td><td>0.008898013 </td></tr>\n",
       "\t<tr><th scope=row>3 No dominant order</th><td>0.0071648311</td><td>0.57899207  </td><td>4.628648e-27</td><td>1.167813e-29</td><td>0.413233558 </td></tr>\n",
       "\t<tr><th scope=row>1 Postpositions</th><td>0.8625733932</td><td>0.03173100  </td><td>5.811764e-03</td><td>3.854866e-03</td><td>0.022646794 </td></tr>\n",
       "\t<tr><th scope=row>2 Prepositions</th><td>0.8305694314</td><td>0.02481921  </td><td>2.040983e-02</td><td>3.582826e-02</td><td>0.017713769 </td></tr>\n",
       "\t<tr><th scope=row>3 Inpositions</th><td>0.0016734357</td><td>0.34294076  </td><td>3.548391e-01</td><td>5.564347e-02</td><td>0.244760914 </td></tr>\n",
       "\t<tr><th scope=row>4 No dominant order</th><td>0.0049611223</td><td>0.07626297  </td><td>1.576619e-02</td><td>8.481579e-01</td><td>0.054429796 </td></tr>\n",
       "\t<tr><th scope=row>5 No adpositions</th><td>0.0000491198</td><td>0.14366753  </td><td>6.347717e-01</td><td>1.189703e-01</td><td>0.102537231 </td></tr>\n",
       "</tbody>\n",
       "</table>\n",
       "</dd>\n",
       "\t<dt>$v.test</dt>\n",
       "\t\t<dd><table>\n",
       "<thead><tr><th></th><th scope=col>Dim 1</th><th scope=col>Dim 2</th><th scope=col>Dim 3</th><th scope=col>Dim 4</th><th scope=col>Dim 5</th></tr></thead>\n",
       "<tbody>\n",
       "\t<tr><th scope=row>1 OV</th><td> 30.5631586  </td><td>-7.843394    </td><td>-7.555040e-13</td><td> 0.000000e+00</td><td>  6.626215   </td></tr>\n",
       "\t<tr><th scope=row>2 VO</th><td>-31.7684314  </td><td>-3.735081    </td><td>-2.802645e-13</td><td> 5.309427e-14</td><td>  3.155452   </td></tr>\n",
       "\t<tr><th scope=row>3 No dominant order</th><td>  2.8315095  </td><td>25.453725    </td><td> 2.275842e-12</td><td>-1.143146e-13</td><td>-21.503682   </td></tr>\n",
       "\t<tr><th scope=row>1 Postpositions</th><td> 31.0679840  </td><td>-5.958774    </td><td>-2.550169e+00</td><td>-2.076920e+00</td><td> -5.034060   </td></tr>\n",
       "\t<tr><th scope=row>2 Prepositions</th><td>-30.4861804  </td><td>-5.269981    </td><td>-4.778975e+00</td><td>-6.331811e+00</td><td> -4.452158   </td></tr>\n",
       "\t<tr><th scope=row>3 Inpositions</th><td>  1.3684205  </td><td>19.589556    </td><td>-1.992649e+01</td><td>-7.890820e+00</td><td> 16.549546   </td></tr>\n",
       "\t<tr><th scope=row>4 No dominant order</th><td> -2.3561613  </td><td> 9.237871    </td><td> 4.200282e+00</td><td> 3.080728e+01</td><td>  7.804290   </td></tr>\n",
       "\t<tr><th scope=row>5 No adpositions</th><td> -0.2344463  </td><td>12.679273    </td><td> 2.665163e+01</td><td>-1.153810e+01</td><td> 10.711637   </td></tr>\n",
       "</tbody>\n",
       "</table>\n",
       "</dd>\n",
       "\t<dt>$eta2</dt>\n",
       "\t\t<dd><table>\n",
       "<thead><tr><th></th><th scope=col>Dim 1</th><th scope=col>Dim 2</th><th scope=col>Dim 3</th><th scope=col>Dim 4</th><th scope=col>Dim 5</th></tr></thead>\n",
       "<tbody>\n",
       "\t<tr><th scope=row>X83A</th><td>0.9215965   </td><td>0.5835286   </td><td>4.687797e-27</td><td>1.233994e-29</td><td>0.4164714   </td></tr>\n",
       "\t<tr><th scope=row>X85A</th><td>0.9215965   </td><td>0.5835286   </td><td>1.000000e+00</td><td>1.000000e+00</td><td>0.4164714   </td></tr>\n",
       "</tbody>\n",
       "</table>\n",
       "</dd>\n",
       "</dl>\n"
      ],
      "text/latex": [
       "\\begin{description}\n",
       "\\item[\\$coord] \\begin{tabular}{r|lllll}\n",
       "  & Dim 1 & Dim 2 & Dim 3 & Dim 4 & Dim 5\\\\\n",
       "\\hline\n",
       "\t1 OV &  0.98850031   & -0.2536779    & -2.443517e-14 &  0.000000e+00 &  0.21431083  \\\\\n",
       "\t2 VO & -0.97896850   & -0.1150994    & -8.636566e-15 &  1.636140e-15 &  0.09723766  \\\\\n",
       "\t3 No dominant order &  0.35268423   &  3.1704388    &  2.834720e-13 & -1.423868e-14 & -2.67843341  \\\\\n",
       "\t1 Postpositions &  0.95056469   & -0.1823163    & -7.802569e-02 & -6.354601e-02 & -0.15402351  \\\\\n",
       "\t2 Prepositions & -1.05042697   & -0.1815816    & -1.646636e-01 & -2.181679e-01 & -0.15340283  \\\\\n",
       "\t3 Inpositions &  0.51582582   &  7.3842793    & -7.511286e+00 & -2.974443e+00 &  6.23834797  \\\\\n",
       "\t4 No dominant order & -0.30994414   &  1.2152072    &  5.525313e-01 &  4.052582e+00 &  1.02662494  \\\\\n",
       "\t5 No adpositions & -0.04224555   &  2.2847145    &  4.802434e+00 & -2.079083e+00 &  1.93016046  \\\\\n",
       "\\end{tabular}\n",
       "\n",
       "\\item[\\$contrib] \\begin{tabular}{r|lllll}\n",
       "  & Dim 1 & Dim 2 & Dim 3 & Dim 4 & Dim 5\\\\\n",
       "\\hline\n",
       "\t1 OV & 24.423870104 &  2.5404156   & 2.750821e-26 & 0.000000e+00 &  2.5404156  \\\\\n",
       "\t2 VO & 25.208582731 &  0.5503458   & 3.616296e-27 & 1.297846e-28 &  0.5503458  \\\\\n",
       "\t3 No dominant order &  0.367547165 & 46.9092385   & 4.376552e-25 & 1.104209e-27 & 46.9092385  \\\\\n",
       "\t1 Postpositions & 23.942077938 &  1.3910034   & 2.973340e-01 & 1.972177e-01 &  1.3910034  \\\\\n",
       "\t2 Prepositions & 25.709164416 &  1.2133293   & 1.164454e+00 & 2.044130e+00 &  1.2133293  \\\\\n",
       "\t3 Inpositions &  0.090222604 & 29.2014268   & 3.526213e+01 & 5.529569e+00 & 29.2014268  \\\\\n",
       "\t4 No dominant order &  0.255941495 &  6.2137411   & 1.499196e+00 & 8.065072e+01 &  6.2137411  \\\\\n",
       "\t5 No adpositions &  0.002593548 & 11.9804995   & 6.177688e+01 & 1.157836e+01 & 11.9804995  \\\\\n",
       "\\end{tabular}\n",
       "\n",
       "\\item[\\$cos2] \\begin{tabular}{r|lllll}\n",
       "  & Dim 1 & Dim 2 & Dim 3 & Dim 4 & Dim 5\\\\\n",
       "\\hline\n",
       "\t1 OV & 0.8347691341 & 0.05497662   & 5.100861e-28 & 0.000000e+00 & 0.039237470 \\\\\n",
       "\t2 VO & 0.9019063736 & 0.01246723   & 7.019500e-29 & 2.519215e-30 & 0.008898013 \\\\\n",
       "\t3 No dominant order & 0.0071648311 & 0.57899207   & 4.628648e-27 & 1.167813e-29 & 0.413233558 \\\\\n",
       "\t1 Postpositions & 0.8625733932 & 0.03173100   & 5.811764e-03 & 3.854866e-03 & 0.022646794 \\\\\n",
       "\t2 Prepositions & 0.8305694314 & 0.02481921   & 2.040983e-02 & 3.582826e-02 & 0.017713769 \\\\\n",
       "\t3 Inpositions & 0.0016734357 & 0.34294076   & 3.548391e-01 & 5.564347e-02 & 0.244760914 \\\\\n",
       "\t4 No dominant order & 0.0049611223 & 0.07626297   & 1.576619e-02 & 8.481579e-01 & 0.054429796 \\\\\n",
       "\t5 No adpositions & 0.0000491198 & 0.14366753   & 6.347717e-01 & 1.189703e-01 & 0.102537231 \\\\\n",
       "\\end{tabular}\n",
       "\n",
       "\\item[\\$v.test] \\begin{tabular}{r|lllll}\n",
       "  & Dim 1 & Dim 2 & Dim 3 & Dim 4 & Dim 5\\\\\n",
       "\\hline\n",
       "\t1 OV &  30.5631586   & -7.843394     & -7.555040e-13 &  0.000000e+00 &   6.626215   \\\\\n",
       "\t2 VO & -31.7684314   & -3.735081     & -2.802645e-13 &  5.309427e-14 &   3.155452   \\\\\n",
       "\t3 No dominant order &   2.8315095   & 25.453725     &  2.275842e-12 & -1.143146e-13 & -21.503682   \\\\\n",
       "\t1 Postpositions &  31.0679840   & -5.958774     & -2.550169e+00 & -2.076920e+00 &  -5.034060   \\\\\n",
       "\t2 Prepositions & -30.4861804   & -5.269981     & -4.778975e+00 & -6.331811e+00 &  -4.452158   \\\\\n",
       "\t3 Inpositions &   1.3684205   & 19.589556     & -1.992649e+01 & -7.890820e+00 &  16.549546   \\\\\n",
       "\t4 No dominant order &  -2.3561613   &  9.237871     &  4.200282e+00 &  3.080728e+01 &   7.804290   \\\\\n",
       "\t5 No adpositions &  -0.2344463   & 12.679273     &  2.665163e+01 & -1.153810e+01 &  10.711637   \\\\\n",
       "\\end{tabular}\n",
       "\n",
       "\\item[\\$eta2] \\begin{tabular}{r|lllll}\n",
       "  & Dim 1 & Dim 2 & Dim 3 & Dim 4 & Dim 5\\\\\n",
       "\\hline\n",
       "\tX83A & 0.9215965    & 0.5835286    & 4.687797e-27 & 1.233994e-29 & 0.4164714   \\\\\n",
       "\tX85A & 0.9215965    & 0.5835286    & 1.000000e+00 & 1.000000e+00 & 0.4164714   \\\\\n",
       "\\end{tabular}\n",
       "\n",
       "\\end{description}\n"
      ],
      "text/markdown": [
       "$coord\n",
       ":   \n",
       "| <!--/--> | Dim 1 | Dim 2 | Dim 3 | Dim 4 | Dim 5 | \n",
       "|---|---|---|---|---|---|---|---|\n",
       "| 1 OV |  0.98850031   | -0.2536779    | -2.443517e-14 |  0.000000e+00 |  0.21431083   | \n",
       "| 2 VO | -0.97896850   | -0.1150994    | -8.636566e-15 |  1.636140e-15 |  0.09723766   | \n",
       "| 3 No dominant order |  0.35268423   |  3.1704388    |  2.834720e-13 | -1.423868e-14 | -2.67843341   | \n",
       "| 1 Postpositions |  0.95056469   | -0.1823163    | -7.802569e-02 | -6.354601e-02 | -0.15402351   | \n",
       "| 2 Prepositions | -1.05042697   | -0.1815816    | -1.646636e-01 | -2.181679e-01 | -0.15340283   | \n",
       "| 3 Inpositions |  0.51582582   |  7.3842793    | -7.511286e+00 | -2.974443e+00 |  6.23834797   | \n",
       "| 4 No dominant order | -0.30994414   |  1.2152072    |  5.525313e-01 |  4.052582e+00 |  1.02662494   | \n",
       "| 5 No adpositions | -0.04224555   |  2.2847145    |  4.802434e+00 | -2.079083e+00 |  1.93016046   | \n",
       "\n",
       "\n",
       "\n",
       "$contrib\n",
       ":   \n",
       "| <!--/--> | Dim 1 | Dim 2 | Dim 3 | Dim 4 | Dim 5 | \n",
       "|---|---|---|---|---|---|---|---|\n",
       "| 1 OV | 24.423870104 |  2.5404156   | 2.750821e-26 | 0.000000e+00 |  2.5404156   | \n",
       "| 2 VO | 25.208582731 |  0.5503458   | 3.616296e-27 | 1.297846e-28 |  0.5503458   | \n",
       "| 3 No dominant order |  0.367547165 | 46.9092385   | 4.376552e-25 | 1.104209e-27 | 46.9092385   | \n",
       "| 1 Postpositions | 23.942077938 |  1.3910034   | 2.973340e-01 | 1.972177e-01 |  1.3910034   | \n",
       "| 2 Prepositions | 25.709164416 |  1.2133293   | 1.164454e+00 | 2.044130e+00 |  1.2133293   | \n",
       "| 3 Inpositions |  0.090222604 | 29.2014268   | 3.526213e+01 | 5.529569e+00 | 29.2014268   | \n",
       "| 4 No dominant order |  0.255941495 |  6.2137411   | 1.499196e+00 | 8.065072e+01 |  6.2137411   | \n",
       "| 5 No adpositions |  0.002593548 | 11.9804995   | 6.177688e+01 | 1.157836e+01 | 11.9804995   | \n",
       "\n",
       "\n",
       "\n",
       "$cos2\n",
       ":   \n",
       "| <!--/--> | Dim 1 | Dim 2 | Dim 3 | Dim 4 | Dim 5 | \n",
       "|---|---|---|---|---|---|---|---|\n",
       "| 1 OV | 0.8347691341 | 0.05497662   | 5.100861e-28 | 0.000000e+00 | 0.039237470  | \n",
       "| 2 VO | 0.9019063736 | 0.01246723   | 7.019500e-29 | 2.519215e-30 | 0.008898013  | \n",
       "| 3 No dominant order | 0.0071648311 | 0.57899207   | 4.628648e-27 | 1.167813e-29 | 0.413233558  | \n",
       "| 1 Postpositions | 0.8625733932 | 0.03173100   | 5.811764e-03 | 3.854866e-03 | 0.022646794  | \n",
       "| 2 Prepositions | 0.8305694314 | 0.02481921   | 2.040983e-02 | 3.582826e-02 | 0.017713769  | \n",
       "| 3 Inpositions | 0.0016734357 | 0.34294076   | 3.548391e-01 | 5.564347e-02 | 0.244760914  | \n",
       "| 4 No dominant order | 0.0049611223 | 0.07626297   | 1.576619e-02 | 8.481579e-01 | 0.054429796  | \n",
       "| 5 No adpositions | 0.0000491198 | 0.14366753   | 6.347717e-01 | 1.189703e-01 | 0.102537231  | \n",
       "\n",
       "\n",
       "\n",
       "$v.test\n",
       ":   \n",
       "| <!--/--> | Dim 1 | Dim 2 | Dim 3 | Dim 4 | Dim 5 | \n",
       "|---|---|---|---|---|---|---|---|\n",
       "| 1 OV |  30.5631586   | -7.843394     | -7.555040e-13 |  0.000000e+00 |   6.626215    | \n",
       "| 2 VO | -31.7684314   | -3.735081     | -2.802645e-13 |  5.309427e-14 |   3.155452    | \n",
       "| 3 No dominant order |   2.8315095   | 25.453725     |  2.275842e-12 | -1.143146e-13 | -21.503682    | \n",
       "| 1 Postpositions |  31.0679840   | -5.958774     | -2.550169e+00 | -2.076920e+00 |  -5.034060    | \n",
       "| 2 Prepositions | -30.4861804   | -5.269981     | -4.778975e+00 | -6.331811e+00 |  -4.452158    | \n",
       "| 3 Inpositions |   1.3684205   | 19.589556     | -1.992649e+01 | -7.890820e+00 |  16.549546    | \n",
       "| 4 No dominant order |  -2.3561613   |  9.237871     |  4.200282e+00 |  3.080728e+01 |   7.804290    | \n",
       "| 5 No adpositions |  -0.2344463   | 12.679273     |  2.665163e+01 | -1.153810e+01 |  10.711637    | \n",
       "\n",
       "\n",
       "\n",
       "$eta2\n",
       ":   \n",
       "| <!--/--> | Dim 1 | Dim 2 | Dim 3 | Dim 4 | Dim 5 | \n",
       "|---|---|\n",
       "| X83A | 0.9215965    | 0.5835286    | 4.687797e-27 | 1.233994e-29 | 0.4164714    | \n",
       "| X85A | 0.9215965    | 0.5835286    | 1.000000e+00 | 1.000000e+00 | 0.4164714    | \n",
       "\n",
       "\n",
       "\n",
       "\n",
       "\n"
      ],
      "text/plain": [
       "$coord\n",
       "                          Dim 1      Dim 2         Dim 3         Dim 4\n",
       "1 OV                 0.98850031 -0.2536779 -2.443517e-14  0.000000e+00\n",
       "2 VO                -0.97896850 -0.1150994 -8.636566e-15  1.636140e-15\n",
       "3 No dominant order  0.35268423  3.1704388  2.834720e-13 -1.423868e-14\n",
       "1 Postpositions      0.95056469 -0.1823163 -7.802569e-02 -6.354601e-02\n",
       "2 Prepositions      -1.05042697 -0.1815816 -1.646636e-01 -2.181679e-01\n",
       "3 Inpositions        0.51582582  7.3842793 -7.511286e+00 -2.974443e+00\n",
       "4 No dominant order -0.30994414  1.2152072  5.525313e-01  4.052582e+00\n",
       "5 No adpositions    -0.04224555  2.2847145  4.802434e+00 -2.079083e+00\n",
       "                          Dim 5\n",
       "1 OV                 0.21431083\n",
       "2 VO                 0.09723766\n",
       "3 No dominant order -2.67843341\n",
       "1 Postpositions     -0.15402351\n",
       "2 Prepositions      -0.15340283\n",
       "3 Inpositions        6.23834797\n",
       "4 No dominant order  1.02662494\n",
       "5 No adpositions     1.93016046\n",
       "\n",
       "$contrib\n",
       "                           Dim 1      Dim 2        Dim 3        Dim 4\n",
       "1 OV                24.423870104  2.5404156 2.750821e-26 0.000000e+00\n",
       "2 VO                25.208582731  0.5503458 3.616296e-27 1.297846e-28\n",
       "3 No dominant order  0.367547165 46.9092385 4.376552e-25 1.104209e-27\n",
       "1 Postpositions     23.942077938  1.3910034 2.973340e-01 1.972177e-01\n",
       "2 Prepositions      25.709164416  1.2133293 1.164454e+00 2.044130e+00\n",
       "3 Inpositions        0.090222604 29.2014268 3.526213e+01 5.529569e+00\n",
       "4 No dominant order  0.255941495  6.2137411 1.499196e+00 8.065072e+01\n",
       "5 No adpositions     0.002593548 11.9804995 6.177688e+01 1.157836e+01\n",
       "                         Dim 5\n",
       "1 OV                 2.5404156\n",
       "2 VO                 0.5503458\n",
       "3 No dominant order 46.9092385\n",
       "1 Postpositions      1.3910034\n",
       "2 Prepositions       1.2133293\n",
       "3 Inpositions       29.2014268\n",
       "4 No dominant order  6.2137411\n",
       "5 No adpositions    11.9804995\n",
       "\n",
       "$cos2\n",
       "                           Dim 1      Dim 2        Dim 3        Dim 4\n",
       "1 OV                0.8347691341 0.05497662 5.100861e-28 0.000000e+00\n",
       "2 VO                0.9019063736 0.01246723 7.019500e-29 2.519215e-30\n",
       "3 No dominant order 0.0071648311 0.57899207 4.628648e-27 1.167813e-29\n",
       "1 Postpositions     0.8625733932 0.03173100 5.811764e-03 3.854866e-03\n",
       "2 Prepositions      0.8305694314 0.02481921 2.040983e-02 3.582826e-02\n",
       "3 Inpositions       0.0016734357 0.34294076 3.548391e-01 5.564347e-02\n",
       "4 No dominant order 0.0049611223 0.07626297 1.576619e-02 8.481579e-01\n",
       "5 No adpositions    0.0000491198 0.14366753 6.347717e-01 1.189703e-01\n",
       "                          Dim 5\n",
       "1 OV                0.039237470\n",
       "2 VO                0.008898013\n",
       "3 No dominant order 0.413233558\n",
       "1 Postpositions     0.022646794\n",
       "2 Prepositions      0.017713769\n",
       "3 Inpositions       0.244760914\n",
       "4 No dominant order 0.054429796\n",
       "5 No adpositions    0.102537231\n",
       "\n",
       "$v.test\n",
       "                          Dim 1     Dim 2         Dim 3         Dim 4\n",
       "1 OV                 30.5631586 -7.843394 -7.555040e-13  0.000000e+00\n",
       "2 VO                -31.7684314 -3.735081 -2.802645e-13  5.309427e-14\n",
       "3 No dominant order   2.8315095 25.453725  2.275842e-12 -1.143146e-13\n",
       "1 Postpositions      31.0679840 -5.958774 -2.550169e+00 -2.076920e+00\n",
       "2 Prepositions      -30.4861804 -5.269981 -4.778975e+00 -6.331811e+00\n",
       "3 Inpositions         1.3684205 19.589556 -1.992649e+01 -7.890820e+00\n",
       "4 No dominant order  -2.3561613  9.237871  4.200282e+00  3.080728e+01\n",
       "5 No adpositions     -0.2344463 12.679273  2.665163e+01 -1.153810e+01\n",
       "                         Dim 5\n",
       "1 OV                  6.626215\n",
       "2 VO                  3.155452\n",
       "3 No dominant order -21.503682\n",
       "1 Postpositions      -5.034060\n",
       "2 Prepositions       -4.452158\n",
       "3 Inpositions        16.549546\n",
       "4 No dominant order   7.804290\n",
       "5 No adpositions     10.711637\n",
       "\n",
       "$eta2\n",
       "         Dim 1     Dim 2        Dim 3        Dim 4     Dim 5\n",
       "X83A 0.9215965 0.5835286 4.687797e-27 1.233994e-29 0.4164714\n",
       "X85A 0.9215965 0.5835286 1.000000e+00 1.000000e+00 0.4164714\n"
      ]
     },
     "metadata": {},
     "output_type": "display_data"
    }
   ],
   "source": [
    "mca$var"
   ]
  },
  {
   "cell_type": "code",
   "execution_count": null,
   "metadata": {
    "collapsed": true
   },
   "outputs": [],
   "source": []
  }
 ],
 "metadata": {
  "kernelspec": {
   "display_name": "R",
   "language": "R",
   "name": "ir"
  },
  "language_info": {
   "codemirror_mode": "r",
   "file_extension": ".r",
   "mimetype": "text/x-r-source",
   "name": "R",
   "pygments_lexer": "r",
   "version": "3.4.1"
  }
 },
 "nbformat": 4,
 "nbformat_minor": 1
}
