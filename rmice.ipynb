{
 "cells": [
  {
   "cell_type": "markdown",
   "metadata": {},
   "source": [
    "## Test MICE\n"
   ]
  },
  {
   "cell_type": "code",
   "execution_count": 1,
   "metadata": {
    "collapsed": false
   },
   "outputs": [],
   "source": [
    "library(mice)\n",
    "library(lattice)"
   ]
  },
  {
   "cell_type": "markdown",
   "metadata": {},
   "source": [
    "### First, a small test with a  full sub-matrix from which 5 random values where taken out\n",
    "5 points are missing out of 703 x 3. This is supposed to be easy.\n",
    "\n",
    "#### The Matrix\n",
    "The values in this table are just enumerations of the WALS values. \n",
    "If 81A has six possible values, for example, e.g 1 SOV, 2 SVO, 3 VSO.. etc. then its column in the table will contain values between 1 and 7. The enumeration follows WALS's, so 1 stands for SOV, 2 for SVO 3 for VSO etc."
   ]
  },
  {
   "cell_type": "code",
   "execution_count": 25,
   "metadata": {
    "collapsed": false
   },
   "outputs": [
    {
     "name": "stdout",
     "output_type": "stream",
     "text": [
      "\n",
      " iter imp variable\n",
      "  1   1  X81A  X90A  X143A\n",
      "  1   2  X81A  X90A  X143A\n",
      "  1   3  X81A  X90A  X143A\n",
      "  1   4  X81A  X90A  X143A\n",
      "  1   5  X81A  X90A  X143A\n",
      "  2   1  X81A  X90A  X143A\n",
      "  2   2  X81A  X90A  X143A\n",
      "  2   3  X81A  X90A  X143A\n",
      "  2   4  X81A  X90A  X143A\n",
      "  2   5  X81A  X90A  X143A\n",
      "  3   1  X81A  X90A  X143A\n",
      "  3   2  X81A  X90A  X143A\n",
      "  3   3  X81A  X90A  X143A\n",
      "  3   4  X81A  X90A  X143A\n",
      "  3   5  X81A  X90A  X143A\n",
      "  4   1  X81A  X90A  X143A\n",
      "  4   2  X81A  X90A  X143A\n",
      "  4   3  X81A  X90A  X143A\n",
      "  4   4  X81A  X90A  X143A\n",
      "  4   5  X81A  X90A  X143A\n",
      "  5   1  X81A  X90A  X143A\n",
      "  5   2  X81A  X90A  X143A\n",
      "  5   3  X81A  X90A  X143A\n",
      "  5   4  X81A  X90A  X143A\n",
      "  5   5  X81A  X90A  X143A\n"
     ]
    }
   ],
   "source": [
    "# read this table\n",
    "minitest <- read.csv('../miscsv/703-5-emptied.csv')\n",
    "\n",
    "# some R type stuff\n",
    "for(c in c('X81A','X90A','X143A')) {\n",
    "    minitest[[c]] <- as.factor(minitest[[c]])\n",
    "}\n",
    "test1 = mice(minitest[,c('X81A','X90A','X143A')])"
   ]
  },
  {
   "cell_type": "markdown",
   "metadata": {},
   "source": [
    "### Summary:"
   ]
  },
  {
   "cell_type": "code",
   "execution_count": 26,
   "metadata": {
    "collapsed": false
   },
   "outputs": [
    {
     "data": {
      "text/plain": [
       "Multiply imputed data set\n",
       "Call:\n",
       "mice(data = minitest[, c(\"X81A\", \"X90A\", \"X143A\")])\n",
       "Number of multiple imputations:  5\n",
       "Missing cells per column:\n",
       " X81A  X90A X143A \n",
       "    2     2     1 \n",
       "Imputation methods:\n",
       "     X81A      X90A     X143A \n",
       "\"polyreg\" \"polyreg\" \"polyreg\" \n",
       "VisitSequence:\n",
       " X81A  X90A X143A \n",
       "    1     2     3 \n",
       "PredictorMatrix:\n",
       "      X81A X90A X143A\n",
       "X81A     0    1     1\n",
       "X90A     1    0     1\n",
       "X143A    1    1     0\n",
       "Random generator seed value:  NA "
      ]
     },
     "metadata": {},
     "output_type": "display_data"
    }
   ],
   "source": [
    "test1"
   ]
  },
  {
   "cell_type": "markdown",
   "metadata": {},
   "source": [
    "We can see that the five missing values were two from 81A, two from 90A and 1 from 143A. The method was polyreg -- whatever that means. I also don't know exactly the significance of the visit sequence oand the predictor matrix. Dan can probably explain much better than I.\n",
    "\n",
    "But the import part, are the actual values filled in for the missing ones. The default is five attempts, each one is supposed to be better than the previous. So in practice only the last one matters. So we can see that for 81A the rows (languages) with missing values were 68 and 149 and the final answer was 1 in both.\n",
    "\n",
    "For 90A it was 327 and 392 with 4 and 1 filled in. And for "
   ]
  },
  {
   "cell_type": "code",
   "execution_count": 27,
   "metadata": {
    "collapsed": false
   },
   "outputs": [
    {
     "data": {
      "text/html": [
       "<dl>\n",
       "\t<dt>$X81A</dt>\n",
       "\t\t<dd><table>\n",
       "<thead><tr><th></th><th scope=col>1</th><th scope=col>2</th><th scope=col>3</th><th scope=col>4</th><th scope=col>5</th></tr></thead>\n",
       "<tbody>\n",
       "\t<tr><th scope=row>68</th><td>7</td><td>1</td><td>7</td><td>1</td><td>1</td></tr>\n",
       "\t<tr><th scope=row>149</th><td>1</td><td>7</td><td>1</td><td>1</td><td>1</td></tr>\n",
       "</tbody>\n",
       "</table>\n",
       "</dd>\n",
       "\t<dt>$X90A</dt>\n",
       "\t\t<dd><table>\n",
       "<thead><tr><th></th><th scope=col>1</th><th scope=col>2</th><th scope=col>3</th><th scope=col>4</th><th scope=col>5</th></tr></thead>\n",
       "<tbody>\n",
       "\t<tr><th scope=row>327</th><td>2</td><td>1</td><td>2</td><td>6</td><td>4</td></tr>\n",
       "\t<tr><th scope=row>392</th><td>7</td><td>2</td><td>7</td><td>4</td><td>2</td></tr>\n",
       "</tbody>\n",
       "</table>\n",
       "</dd>\n",
       "\t<dt>$X143A</dt>\n",
       "\t\t<dd><table>\n",
       "<thead><tr><th></th><th scope=col>1</th><th scope=col>2</th><th scope=col>3</th><th scope=col>4</th><th scope=col>5</th></tr></thead>\n",
       "<tbody>\n",
       "\t<tr><th scope=row>48</th><td>1</td><td>2</td><td>3</td><td>1</td><td>4</td></tr>\n",
       "</tbody>\n",
       "</table>\n",
       "</dd>\n",
       "</dl>\n"
      ],
      "text/latex": [
       "\\begin{description}\n",
       "\\item[\\$X81A] \\begin{tabular}{r|lllll}\n",
       "  & 1 & 2 & 3 & 4 & 5\\\\\n",
       "\\hline\n",
       "\t68 & 7 & 1 & 7 & 1 & 1\\\\\n",
       "\t149 & 1 & 7 & 1 & 1 & 1\\\\\n",
       "\\end{tabular}\n",
       "\n",
       "\\item[\\$X90A] \\begin{tabular}{r|lllll}\n",
       "  & 1 & 2 & 3 & 4 & 5\\\\\n",
       "\\hline\n",
       "\t327 & 2 & 1 & 2 & 6 & 4\\\\\n",
       "\t392 & 7 & 2 & 7 & 4 & 2\\\\\n",
       "\\end{tabular}\n",
       "\n",
       "\\item[\\$X143A] \\begin{tabular}{r|lllll}\n",
       "  & 1 & 2 & 3 & 4 & 5\\\\\n",
       "\\hline\n",
       "\t48 & 1 & 2 & 3 & 1 & 4\\\\\n",
       "\\end{tabular}\n",
       "\n",
       "\\end{description}\n"
      ],
      "text/markdown": [
       "$X81A\n",
       ":   \n",
       "| <!--/--> | 1 | 2 | 3 | 4 | 5 | \n",
       "|---|---|\n",
       "| 68 | 7 | 1 | 7 | 1 | 1 | \n",
       "| 149 | 1 | 7 | 1 | 1 | 1 | \n",
       "\n",
       "\n",
       "\n",
       "$X90A\n",
       ":   \n",
       "| <!--/--> | 1 | 2 | 3 | 4 | 5 | \n",
       "|---|---|\n",
       "| 327 | 2 | 1 | 2 | 6 | 4 | \n",
       "| 392 | 7 | 2 | 7 | 4 | 2 | \n",
       "\n",
       "\n",
       "\n",
       "$X143A\n",
       ":   \n",
       "| <!--/--> | 1 | 2 | 3 | 4 | 5 | \n",
       "|---|\n",
       "| 48 | 1 | 2 | 3 | 1 | 4 | \n",
       "\n",
       "\n",
       "\n",
       "\n",
       "\n"
      ],
      "text/plain": [
       "$X81A\n",
       "    1 2 3 4 5\n",
       "68  7 1 7 1 1\n",
       "149 1 7 1 1 1\n",
       "\n",
       "$X90A\n",
       "    1 2 3 4 5\n",
       "327 2 1 2 6 4\n",
       "392 7 2 7 4 2\n",
       "\n",
       "$X143A\n",
       "   1 2 3 4 5\n",
       "48 1 2 3 1 4\n"
      ]
     },
     "metadata": {},
     "output_type": "display_data"
    }
   ],
   "source": [
    "test1$imp"
   ]
  },
  {
   "cell_type": "code",
   "execution_count": 5,
   "metadata": {
    "collapsed": false
   },
   "outputs": [
    {
     "data": {
      "text/html": [
       "<ol class=list-inline>\n",
       "\t<li>265</li>\n",
       "\t<li>591</li>\n",
       "\t<li>1250</li>\n",
       "\t<li>1449</li>\n",
       "\t<li>194</li>\n",
       "</ol>\n"
      ],
      "text/latex": [
       "\\begin{enumerate*}\n",
       "\\item 265\n",
       "\\item 591\n",
       "\\item 1250\n",
       "\\item 1449\n",
       "\\item 194\n",
       "\\end{enumerate*}\n"
      ],
      "text/markdown": [
       "1. 265\n",
       "2. 591\n",
       "3. 1250\n",
       "4. 1449\n",
       "5. 194\n",
       "\n",
       "\n"
      ],
      "text/plain": [
       "[1]  265  591 1250 1449  194"
      ]
     },
     "metadata": {},
     "output_type": "display_data"
    }
   ],
   "source": [
    "# oops the original values... no worries,the X column stores the original indices\n",
    "minitest[c(68,149,327,392,48),'X']"
   ]
  },
  {
   "cell_type": "markdown",
   "metadata": {},
   "source": [
    "Looking up rows  265, 591, 1250, 1449 and 194  in WALS under the relevant features, we find\n",
    "That the original values were: \n",
    " - 81A:  \n",
    "     - row 265 (corresponds to minitest 68): 7 -- matches the first and third guesses\n",
    "     - row 591 (corresponds to minitest 149): 2 -- matches none\n",
    "  \n",
    " - 90A:\n",
    "     - row 1250: 2 -- matches first and third\n",
    "     - row 1449: 2 -- matches second and last\n",
    " - 143A :  \n",
    "     - row 194: 4  -- matches the last guess\n",
    "\n",
    "\n",
    "So even in this mini, easy test R MICE doesn't seem to perform so great. It could be that I used it wrong, but it seems to me that again, this is something made for numeric rather than categorical values.\n",
    "\n",
    "\n",
    "### Bear in mind that there's a probabilistic element here. Every time you run it you get different results.  \n",
    "\n",
    "Anyway, having seen the minitest in detail, we can put it to a more serious test:\n",
    "\n",
    "\n",
    "##  same original table, now 50 values missing"
   ]
  },
  {
   "cell_type": "code",
   "execution_count": 6,
   "metadata": {
    "collapsed": false
   },
   "outputs": [
    {
     "name": "stdout",
     "output_type": "stream",
     "text": [
      "\n",
      " iter imp variable\n",
      "  1   1  X81A  X90A  X143A\n",
      "  1   2  X81A  X90A  X143A\n",
      "  1   3  X81A  X90A  X143A\n",
      "  1   4  X81A  X90A  X143A\n",
      "  1   5  X81A  X90A  X143A\n",
      "  2   1  X81A  X90A  X143A\n",
      "  2   2  X81A  X90A  X143A\n",
      "  2   3  X81A  X90A  X143A\n",
      "  2   4  X81A  X90A  X143A\n",
      "  2   5  X81A  X90A  X143A\n",
      "  3   1  X81A  X90A  X143A\n",
      "  3   2  X81A  X90A  X143A\n",
      "  3   3  X81A  X90A  X143A\n",
      "  3   4  X81A  X90A  X143A\n",
      "  3   5  X81A  X90A  X143A\n",
      "  4   1  X81A  X90A  X143A\n",
      "  4   2  X81A  X90A  X143A\n",
      "  4   3  X81A  X90A  X143A\n",
      "  4   4  X81A  X90A  X143A\n",
      "  4   5  X81A  X90A  X143A\n",
      "  5   1  X81A  X90A  X143A\n",
      "  5   2  X81A  X90A  X143A\n",
      "  5   3  X81A  X90A  X143A\n",
      "  5   4  X81A  X90A  X143A\n",
      "  5   5  X81A  X90A  X143A\n"
     ]
    }
   ],
   "source": [
    "dat50 <- read.csv('../miscsv/703-removed-50.csv')\n",
    "dat50$X <- NULL\n",
    "for(c in c('X81A','X90A','X143A')) {\n",
    "    dat50[[c]] <- as.factor(dat50[[c]])\n",
    "}\n",
    "mdat50 = mice(dat50)"
   ]
  },
  {
   "cell_type": "code",
   "execution_count": 7,
   "metadata": {
    "collapsed": false
   },
   "outputs": [],
   "source": [
    "# we'll get the ogirinals more methodically this time\n",
    "orig = read.csv('../miscsv/removed50-original.csv')"
   ]
  },
  {
   "cell_type": "code",
   "execution_count": 8,
   "metadata": {
    "collapsed": false
   },
   "outputs": [],
   "source": [
    "# to test the output, create two vectors -- one with the original values,\n",
    "# the other with MICE's fifth guess (remember it's supposed to be the best one [I think])\n",
    "origs = c()\n",
    "imputed = c()\n",
    "for(f in c('81A','90A','143A')) {\n",
    "    origs <- c(origs, orig[(orig$feature==f),'original_value'])\n",
    "    imputed <- c(imputed,as.numeric(mdat50$imp[[paste('X',f,sep=\"\")]][,5]))\n",
    "}"
   ]
  },
  {
   "cell_type": "markdown",
   "metadata": {},
   "source": [
    "List of the 50 original values"
   ]
  },
  {
   "cell_type": "code",
   "execution_count": 9,
   "metadata": {
    "collapsed": false
   },
   "outputs": [
    {
     "data": {
      "text/html": [
       "<ol class=list-inline>\n",
       "\t<li>1</li>\n",
       "\t<li>1</li>\n",
       "\t<li>1</li>\n",
       "\t<li>1</li>\n",
       "\t<li>1</li>\n",
       "\t<li>7</li>\n",
       "\t<li>2</li>\n",
       "\t<li>2</li>\n",
       "\t<li>3</li>\n",
       "\t<li>7</li>\n",
       "\t<li>2</li>\n",
       "\t<li>2</li>\n",
       "\t<li>1</li>\n",
       "\t<li>4</li>\n",
       "\t<li>1</li>\n",
       "\t<li>1</li>\n",
       "\t<li>1</li>\n",
       "\t<li>3</li>\n",
       "\t<li>1</li>\n",
       "\t<li>2</li>\n",
       "\t<li>1</li>\n",
       "\t<li>1</li>\n",
       "\t<li>1</li>\n",
       "\t<li>7</li>\n",
       "\t<li>1</li>\n",
       "\t<li>1</li>\n",
       "\t<li>2</li>\n",
       "\t<li>1</li>\n",
       "\t<li>1</li>\n",
       "\t<li>1</li>\n",
       "\t<li>1</li>\n",
       "\t<li>1</li>\n",
       "\t<li>1</li>\n",
       "\t<li>2</li>\n",
       "\t<li>1</li>\n",
       "\t<li>1</li>\n",
       "\t<li>2</li>\n",
       "\t<li>3</li>\n",
       "\t<li>1</li>\n",
       "\t<li>14</li>\n",
       "\t<li>14</li>\n",
       "\t<li>1</li>\n",
       "\t<li>4</li>\n",
       "\t<li>1</li>\n",
       "\t<li>3</li>\n",
       "\t<li>4</li>\n",
       "\t<li>6</li>\n",
       "\t<li>1</li>\n",
       "\t<li>1</li>\n",
       "\t<li>3</li>\n",
       "</ol>\n"
      ],
      "text/latex": [
       "\\begin{enumerate*}\n",
       "\\item 1\n",
       "\\item 1\n",
       "\\item 1\n",
       "\\item 1\n",
       "\\item 1\n",
       "\\item 7\n",
       "\\item 2\n",
       "\\item 2\n",
       "\\item 3\n",
       "\\item 7\n",
       "\\item 2\n",
       "\\item 2\n",
       "\\item 1\n",
       "\\item 4\n",
       "\\item 1\n",
       "\\item 1\n",
       "\\item 1\n",
       "\\item 3\n",
       "\\item 1\n",
       "\\item 2\n",
       "\\item 1\n",
       "\\item 1\n",
       "\\item 1\n",
       "\\item 7\n",
       "\\item 1\n",
       "\\item 1\n",
       "\\item 2\n",
       "\\item 1\n",
       "\\item 1\n",
       "\\item 1\n",
       "\\item 1\n",
       "\\item 1\n",
       "\\item 1\n",
       "\\item 2\n",
       "\\item 1\n",
       "\\item 1\n",
       "\\item 2\n",
       "\\item 3\n",
       "\\item 1\n",
       "\\item 14\n",
       "\\item 14\n",
       "\\item 1\n",
       "\\item 4\n",
       "\\item 1\n",
       "\\item 3\n",
       "\\item 4\n",
       "\\item 6\n",
       "\\item 1\n",
       "\\item 1\n",
       "\\item 3\n",
       "\\end{enumerate*}\n"
      ],
      "text/markdown": [
       "1. 1\n",
       "2. 1\n",
       "3. 1\n",
       "4. 1\n",
       "5. 1\n",
       "6. 7\n",
       "7. 2\n",
       "8. 2\n",
       "9. 3\n",
       "10. 7\n",
       "11. 2\n",
       "12. 2\n",
       "13. 1\n",
       "14. 4\n",
       "15. 1\n",
       "16. 1\n",
       "17. 1\n",
       "18. 3\n",
       "19. 1\n",
       "20. 2\n",
       "21. 1\n",
       "22. 1\n",
       "23. 1\n",
       "24. 7\n",
       "25. 1\n",
       "26. 1\n",
       "27. 2\n",
       "28. 1\n",
       "29. 1\n",
       "30. 1\n",
       "31. 1\n",
       "32. 1\n",
       "33. 1\n",
       "34. 2\n",
       "35. 1\n",
       "36. 1\n",
       "37. 2\n",
       "38. 3\n",
       "39. 1\n",
       "40. 14\n",
       "41. 14\n",
       "42. 1\n",
       "43. 4\n",
       "44. 1\n",
       "45. 3\n",
       "46. 4\n",
       "47. 6\n",
       "48. 1\n",
       "49. 1\n",
       "50. 3\n",
       "\n",
       "\n"
      ],
      "text/plain": [
       " [1]  1  1  1  1  1  7  2  2  3  7  2  2  1  4  1  1  1  3  1  2  1  1  1  7  1\n",
       "[26]  1  2  1  1  1  1  1  1  2  1  1  2  3  1 14 14  1  4  1  3  4  6  1  1  3"
      ]
     },
     "metadata": {},
     "output_type": "display_data"
    }
   ],
   "source": [
    "origs"
   ]
  },
  {
   "cell_type": "code",
   "execution_count": 10,
   "metadata": {
    "collapsed": false
   },
   "outputs": [
    {
     "data": {
      "text/html": [
       "<ol class=list-inline>\n",
       "\t<li>7</li>\n",
       "\t<li>1</li>\n",
       "\t<li>1</li>\n",
       "\t<li>1</li>\n",
       "\t<li>2</li>\n",
       "\t<li>1</li>\n",
       "\t<li>1</li>\n",
       "\t<li>2</li>\n",
       "\t<li>1</li>\n",
       "\t<li>2</li>\n",
       "\t<li>2</li>\n",
       "\t<li>3</li>\n",
       "\t<li>1</li>\n",
       "\t<li>1</li>\n",
       "\t<li>7</li>\n",
       "\t<li>1</li>\n",
       "\t<li>1</li>\n",
       "\t<li>2</li>\n",
       "\t<li>1</li>\n",
       "\t<li>1</li>\n",
       "\t<li>1</li>\n",
       "\t<li>2</li>\n",
       "\t<li>1</li>\n",
       "\t<li>1</li>\n",
       "\t<li>1</li>\n",
       "\t<li>1</li>\n",
       "\t<li>1</li>\n",
       "\t<li>1</li>\n",
       "\t<li>1</li>\n",
       "\t<li>1</li>\n",
       "\t<li>1</li>\n",
       "\t<li>1</li>\n",
       "\t<li>2</li>\n",
       "\t<li>3</li>\n",
       "\t<li>2</li>\n",
       "\t<li>1</li>\n",
       "\t<li>1</li>\n",
       "\t<li>1</li>\n",
       "\t<li>5</li>\n",
       "\t<li>4</li>\n",
       "\t<li>1</li>\n",
       "\t<li>1</li>\n",
       "\t<li>4</li>\n",
       "\t<li>2</li>\n",
       "\t<li>2</li>\n",
       "\t<li>4</li>\n",
       "\t<li>2</li>\n",
       "\t<li>1</li>\n",
       "\t<li>2</li>\n",
       "\t<li>3</li>\n",
       "</ol>\n"
      ],
      "text/latex": [
       "\\begin{enumerate*}\n",
       "\\item 7\n",
       "\\item 1\n",
       "\\item 1\n",
       "\\item 1\n",
       "\\item 2\n",
       "\\item 1\n",
       "\\item 1\n",
       "\\item 2\n",
       "\\item 1\n",
       "\\item 2\n",
       "\\item 2\n",
       "\\item 3\n",
       "\\item 1\n",
       "\\item 1\n",
       "\\item 7\n",
       "\\item 1\n",
       "\\item 1\n",
       "\\item 2\n",
       "\\item 1\n",
       "\\item 1\n",
       "\\item 1\n",
       "\\item 2\n",
       "\\item 1\n",
       "\\item 1\n",
       "\\item 1\n",
       "\\item 1\n",
       "\\item 1\n",
       "\\item 1\n",
       "\\item 1\n",
       "\\item 1\n",
       "\\item 1\n",
       "\\item 1\n",
       "\\item 2\n",
       "\\item 3\n",
       "\\item 2\n",
       "\\item 1\n",
       "\\item 1\n",
       "\\item 1\n",
       "\\item 5\n",
       "\\item 4\n",
       "\\item 1\n",
       "\\item 1\n",
       "\\item 4\n",
       "\\item 2\n",
       "\\item 2\n",
       "\\item 4\n",
       "\\item 2\n",
       "\\item 1\n",
       "\\item 2\n",
       "\\item 3\n",
       "\\end{enumerate*}\n"
      ],
      "text/markdown": [
       "1. 7\n",
       "2. 1\n",
       "3. 1\n",
       "4. 1\n",
       "5. 2\n",
       "6. 1\n",
       "7. 1\n",
       "8. 2\n",
       "9. 1\n",
       "10. 2\n",
       "11. 2\n",
       "12. 3\n",
       "13. 1\n",
       "14. 1\n",
       "15. 7\n",
       "16. 1\n",
       "17. 1\n",
       "18. 2\n",
       "19. 1\n",
       "20. 1\n",
       "21. 1\n",
       "22. 2\n",
       "23. 1\n",
       "24. 1\n",
       "25. 1\n",
       "26. 1\n",
       "27. 1\n",
       "28. 1\n",
       "29. 1\n",
       "30. 1\n",
       "31. 1\n",
       "32. 1\n",
       "33. 2\n",
       "34. 3\n",
       "35. 2\n",
       "36. 1\n",
       "37. 1\n",
       "38. 1\n",
       "39. 5\n",
       "40. 4\n",
       "41. 1\n",
       "42. 1\n",
       "43. 4\n",
       "44. 2\n",
       "45. 2\n",
       "46. 4\n",
       "47. 2\n",
       "48. 1\n",
       "49. 2\n",
       "50. 3\n",
       "\n",
       "\n"
      ],
      "text/plain": [
       " [1] 7 1 1 1 2 1 1 2 1 2 2 3 1 1 7 1 1 2 1 1 1 2 1 1 1 1 1 1 1 1 1 1 2 3 2 1 1 1\n",
       "[39] 5 4 1 1 4 2 2 4 2 1 2 3"
      ]
     },
     "metadata": {},
     "output_type": "display_data"
    }
   ],
   "source": [
    "imputed"
   ]
  },
  {
   "cell_type": "markdown",
   "metadata": {},
   "source": [
    "### Now, how good are the guesses? we can try hamming distance and correlation:"
   ]
  },
  {
   "cell_type": "code",
   "execution_count": 11,
   "metadata": {
    "collapsed": false
   },
   "outputs": [
    {
     "data": {
      "text/html": [
       "26"
      ],
      "text/latex": [
       "26"
      ],
      "text/markdown": [
       "26"
      ],
      "text/plain": [
       "[1] 26"
      ]
     },
     "metadata": {},
     "output_type": "display_data"
    }
   ],
   "source": [
    "#hamming distacne\n",
    "sum(origs != imputed)"
   ]
  },
  {
   "cell_type": "code",
   "execution_count": 12,
   "metadata": {
    "collapsed": false
   },
   "outputs": [
    {
     "data": {
      "text/html": [
       "0.0813138757002773"
      ],
      "text/latex": [
       "0.0813138757002773"
      ],
      "text/markdown": [
       "0.0813138757002773"
      ],
      "text/plain": [
       "[1] 0.08131388"
      ]
     },
     "metadata": {},
     "output_type": "display_data"
    }
   ],
   "source": [
    "#correlation\n",
    "cor(origs,imputed)"
   ]
  },
  {
   "cell_type": "markdown",
   "metadata": {},
   "source": [
    "Doesn't seem too briliant"
   ]
  },
  {
   "cell_type": "markdown",
   "metadata": {},
   "source": [
    "### We can also try other imputation methods"
   ]
  },
  {
   "cell_type": "code",
   "execution_count": 13,
   "metadata": {
    "collapsed": false
   },
   "outputs": [
    {
     "name": "stdout",
     "output_type": "stream",
     "text": [
      "\n",
      " iter imp variable\n",
      "  1   1  X81A  X90A  X143A\n",
      "  1   2  X81A  X90A  X143A\n",
      "  1   3  X81A  X90A  X143A\n",
      "  1   4  X81A  X90A  X143A\n",
      "  1   5  X81A  X90A  X143A\n",
      "  2   1  X81A  X90A  X143A\n",
      "  2   2  X81A  X90A  X143A\n",
      "  2   3  X81A  X90A  X143A\n",
      "  2   4  X81A  X90A  X143A\n",
      "  2   5  X81A  X90A  X143A\n",
      "  3   1  X81A  X90A  X143A\n",
      "  3   2  X81A  X90A  X143A\n",
      "  3   3  X81A  X90A  X143A\n",
      "  3   4  X81A  X90A  X143A\n",
      "  3   5  X81A  X90A  X143A\n",
      "  4   1  X81A  X90A  X143A\n",
      "  4   2  X81A  X90A  X143A\n",
      "  4   3  X81A  X90A  X143A\n",
      "  4   4  X81A  X90A  X143A\n",
      "  4   5  X81A  X90A  X143A\n",
      "  5   1  X81A  X90A  X143A\n",
      "  5   2  X81A  X90A  X143A\n",
      "  5   3  X81A  X90A  X143A\n",
      "  5   4  X81A  X90A  X143A\n",
      "  5   5  X81A  X90A  X143A\n"
     ]
    }
   ],
   "source": [
    "mdat502 = mice(dat50,method=c(\"lda\",\"lda\",\"lda\"))"
   ]
  },
  {
   "cell_type": "code",
   "execution_count": 14,
   "metadata": {
    "collapsed": false
   },
   "outputs": [
    {
     "data": {
      "text/html": [
       "<ol class=list-inline>\n",
       "\t<li>2</li>\n",
       "\t<li>2</li>\n",
       "\t<li>1</li>\n",
       "\t<li>2</li>\n",
       "\t<li>2</li>\n",
       "\t<li>1</li>\n",
       "\t<li>1</li>\n",
       "\t<li>2</li>\n",
       "\t<li>1</li>\n",
       "\t<li>2</li>\n",
       "\t<li>1</li>\n",
       "\t<li>3</li>\n",
       "\t<li>1</li>\n",
       "\t<li>1</li>\n",
       "\t<li>7</li>\n",
       "\t<li>1</li>\n",
       "\t<li>1</li>\n",
       "\t<li>1</li>\n",
       "\t<li>1</li>\n",
       "\t<li>1</li>\n",
       "\t<li>3</li>\n",
       "\t<li>3</li>\n",
       "\t<li>1</li>\n",
       "\t<li>1</li>\n",
       "\t<li>1</li>\n",
       "\t<li>1</li>\n",
       "\t<li>1</li>\n",
       "\t<li>1</li>\n",
       "\t<li>1</li>\n",
       "\t<li>2</li>\n",
       "\t<li>2</li>\n",
       "\t<li>1</li>\n",
       "\t<li>2</li>\n",
       "\t<li>1</li>\n",
       "\t<li>2</li>\n",
       "\t<li>1</li>\n",
       "\t<li>1</li>\n",
       "\t<li>2</li>\n",
       "\t<li>1</li>\n",
       "\t<li>3</li>\n",
       "\t<li>1</li>\n",
       "\t<li>1</li>\n",
       "\t<li>4</li>\n",
       "\t<li>1</li>\n",
       "\t<li>1</li>\n",
       "\t<li>14</li>\n",
       "\t<li>3</li>\n",
       "\t<li>1</li>\n",
       "\t<li>15</li>\n",
       "\t<li>2</li>\n",
       "</ol>\n"
      ],
      "text/latex": [
       "\\begin{enumerate*}\n",
       "\\item 2\n",
       "\\item 2\n",
       "\\item 1\n",
       "\\item 2\n",
       "\\item 2\n",
       "\\item 1\n",
       "\\item 1\n",
       "\\item 2\n",
       "\\item 1\n",
       "\\item 2\n",
       "\\item 1\n",
       "\\item 3\n",
       "\\item 1\n",
       "\\item 1\n",
       "\\item 7\n",
       "\\item 1\n",
       "\\item 1\n",
       "\\item 1\n",
       "\\item 1\n",
       "\\item 1\n",
       "\\item 3\n",
       "\\item 3\n",
       "\\item 1\n",
       "\\item 1\n",
       "\\item 1\n",
       "\\item 1\n",
       "\\item 1\n",
       "\\item 1\n",
       "\\item 1\n",
       "\\item 2\n",
       "\\item 2\n",
       "\\item 1\n",
       "\\item 2\n",
       "\\item 1\n",
       "\\item 2\n",
       "\\item 1\n",
       "\\item 1\n",
       "\\item 2\n",
       "\\item 1\n",
       "\\item 3\n",
       "\\item 1\n",
       "\\item 1\n",
       "\\item 4\n",
       "\\item 1\n",
       "\\item 1\n",
       "\\item 14\n",
       "\\item 3\n",
       "\\item 1\n",
       "\\item 15\n",
       "\\item 2\n",
       "\\end{enumerate*}\n"
      ],
      "text/markdown": [
       "1. 2\n",
       "2. 2\n",
       "3. 1\n",
       "4. 2\n",
       "5. 2\n",
       "6. 1\n",
       "7. 1\n",
       "8. 2\n",
       "9. 1\n",
       "10. 2\n",
       "11. 1\n",
       "12. 3\n",
       "13. 1\n",
       "14. 1\n",
       "15. 7\n",
       "16. 1\n",
       "17. 1\n",
       "18. 1\n",
       "19. 1\n",
       "20. 1\n",
       "21. 3\n",
       "22. 3\n",
       "23. 1\n",
       "24. 1\n",
       "25. 1\n",
       "26. 1\n",
       "27. 1\n",
       "28. 1\n",
       "29. 1\n",
       "30. 2\n",
       "31. 2\n",
       "32. 1\n",
       "33. 2\n",
       "34. 1\n",
       "35. 2\n",
       "36. 1\n",
       "37. 1\n",
       "38. 2\n",
       "39. 1\n",
       "40. 3\n",
       "41. 1\n",
       "42. 1\n",
       "43. 4\n",
       "44. 1\n",
       "45. 1\n",
       "46. 14\n",
       "47. 3\n",
       "48. 1\n",
       "49. 15\n",
       "50. 2\n",
       "\n",
       "\n"
      ],
      "text/plain": [
       " [1]  2  2  1  2  2  1  1  2  1  2  1  3  1  1  7  1  1  1  1  1  3  3  1  1  1\n",
       "[26]  1  1  1  1  2  2  1  2  1  2  1  1  2  1  3  1  1  4  1  1 14  3  1 15  2"
      ]
     },
     "metadata": {},
     "output_type": "display_data"
    }
   ],
   "source": [
    "imputed2 = c()\n",
    "for(f in c('X81A','X90A','X143A')) {\n",
    "    imputed2 <- c(imputed2,as.numeric(mdat502$imp[[f]][,5]))\n",
    "}\n",
    "imputed2"
   ]
  },
  {
   "cell_type": "code",
   "execution_count": 15,
   "metadata": {
    "collapsed": false
   },
   "outputs": [
    {
     "data": {
      "text/html": [
       "0.0225399437289271"
      ],
      "text/latex": [
       "0.0225399437289271"
      ],
      "text/markdown": [
       "0.0225399437289271"
      ],
      "text/plain": [
       "[1] 0.02253994"
      ]
     },
     "metadata": {},
     "output_type": "display_data"
    }
   ],
   "source": [
    "cor(origs,imputed2)"
   ]
  },
  {
   "cell_type": "code",
   "execution_count": 16,
   "metadata": {
    "collapsed": false
   },
   "outputs": [
    {
     "data": {
      "text/html": [
       "32"
      ],
      "text/latex": [
       "32"
      ],
      "text/markdown": [
       "32"
      ],
      "text/plain": [
       "[1] 32"
      ]
     },
     "metadata": {},
     "output_type": "display_data"
    }
   ],
   "source": [
    "sum(origs != imputed2)"
   ]
  },
  {
   "cell_type": "markdown",
   "metadata": {},
   "source": [
    "#### How different are guesses between different methods?"
   ]
  },
  {
   "cell_type": "code",
   "execution_count": 17,
   "metadata": {
    "collapsed": false
   },
   "outputs": [
    {
     "data": {
      "text/html": [
       "0.384201877626726"
      ],
      "text/latex": [
       "0.384201877626726"
      ],
      "text/markdown": [
       "0.384201877626726"
      ],
      "text/plain": [
       "[1] 0.3842019"
      ]
     },
     "metadata": {},
     "output_type": "display_data"
    }
   ],
   "source": [
    "cor(imputed2,imputed)"
   ]
  },
  {
   "cell_type": "code",
   "execution_count": 18,
   "metadata": {
    "collapsed": false
   },
   "outputs": [
    {
     "data": {
      "text/html": [
       "19"
      ],
      "text/latex": [
       "19"
      ],
      "text/markdown": [
       "19"
      ],
      "text/plain": [
       "[1] 19"
      ]
     },
     "metadata": {},
     "output_type": "display_data"
    }
   ],
   "source": [
    "sum(imputed2 != imputed)"
   ]
  },
  {
   "cell_type": "markdown",
   "metadata": {},
   "source": [
    "#### A third method"
   ]
  },
  {
   "cell_type": "code",
   "execution_count": 19,
   "metadata": {
    "collapsed": false
   },
   "outputs": [
    {
     "name": "stdout",
     "output_type": "stream",
     "text": [
      "\n",
      " iter imp variable\n",
      "  1   1  X81A  X90A  X143A\n",
      "  1   2  X81A  X90A  X143A\n",
      "  1   3  X81A  X90A  X143A\n",
      "  1   4  X81A  X90A  X143A\n",
      "  1   5  X81A  X90A  X143A\n",
      "  2   1  X81A  X90A  X143A\n",
      "  2   2  X81A  X90A  X143A\n",
      "  2   3  X81A  X90A  X143A\n",
      "  2   4  X81A  X90A  X143A\n",
      "  2   5  X81A  X90A  X143A\n",
      "  3   1  X81A  X90A  X143A\n",
      "  3   2  X81A  X90A  X143A\n",
      "  3   3  X81A  X90A  X143A\n",
      "  3   4  X81A  X90A  X143A\n",
      "  3   5  X81A  X90A  X143A\n",
      "  4   1  X81A  X90A  X143A\n",
      "  4   2  X81A  X90A  X143A\n",
      "  4   3  X81A  X90A  X143A\n",
      "  4   4  X81A  X90A  X143A\n",
      "  4   5  X81A  X90A  X143A\n",
      "  5   1  X81A  X90A  X143A\n",
      "  5   2  X81A  X90A  X143A\n",
      "  5   3  X81A  X90A  X143A\n",
      "  5   4  X81A  X90A  X143A\n",
      "  5   5  X81A  X90A  X143A\n"
     ]
    }
   ],
   "source": [
    "mdat503 = mice(dat50,method=c(\"polr\",\"polr\",\"polr\"))"
   ]
  },
  {
   "cell_type": "code",
   "execution_count": 20,
   "metadata": {
    "collapsed": false
   },
   "outputs": [
    {
     "data": {
      "text/html": [
       "<ol class=list-inline>\n",
       "\t<li>6</li>\n",
       "\t<li>2</li>\n",
       "\t<li>1</li>\n",
       "\t<li>2</li>\n",
       "\t<li>2</li>\n",
       "\t<li>7</li>\n",
       "\t<li>1</li>\n",
       "\t<li>3</li>\n",
       "\t<li>1</li>\n",
       "\t<li>2</li>\n",
       "\t<li>4</li>\n",
       "\t<li>2</li>\n",
       "\t<li>7</li>\n",
       "\t<li>1</li>\n",
       "\t<li>6</li>\n",
       "\t<li>1</li>\n",
       "\t<li>1</li>\n",
       "\t<li>1</li>\n",
       "\t<li>1</li>\n",
       "\t<li>1</li>\n",
       "\t<li>3</li>\n",
       "\t<li>1</li>\n",
       "\t<li>1</li>\n",
       "\t<li>1</li>\n",
       "\t<li>1</li>\n",
       "\t<li>1</li>\n",
       "\t<li>1</li>\n",
       "\t<li>1</li>\n",
       "\t<li>1</li>\n",
       "\t<li>1</li>\n",
       "\t<li>1</li>\n",
       "\t<li>1</li>\n",
       "\t<li>1</li>\n",
       "\t<li>1</li>\n",
       "\t<li>2</li>\n",
       "\t<li>1</li>\n",
       "\t<li>1</li>\n",
       "\t<li>1</li>\n",
       "\t<li>1</li>\n",
       "\t<li>1</li>\n",
       "\t<li>1</li>\n",
       "\t<li>1</li>\n",
       "\t<li>4</li>\n",
       "\t<li>1</li>\n",
       "\t<li>17</li>\n",
       "\t<li>2</li>\n",
       "\t<li>1</li>\n",
       "\t<li>1</li>\n",
       "\t<li>2</li>\n",
       "\t<li>1</li>\n",
       "</ol>\n"
      ],
      "text/latex": [
       "\\begin{enumerate*}\n",
       "\\item 6\n",
       "\\item 2\n",
       "\\item 1\n",
       "\\item 2\n",
       "\\item 2\n",
       "\\item 7\n",
       "\\item 1\n",
       "\\item 3\n",
       "\\item 1\n",
       "\\item 2\n",
       "\\item 4\n",
       "\\item 2\n",
       "\\item 7\n",
       "\\item 1\n",
       "\\item 6\n",
       "\\item 1\n",
       "\\item 1\n",
       "\\item 1\n",
       "\\item 1\n",
       "\\item 1\n",
       "\\item 3\n",
       "\\item 1\n",
       "\\item 1\n",
       "\\item 1\n",
       "\\item 1\n",
       "\\item 1\n",
       "\\item 1\n",
       "\\item 1\n",
       "\\item 1\n",
       "\\item 1\n",
       "\\item 1\n",
       "\\item 1\n",
       "\\item 1\n",
       "\\item 1\n",
       "\\item 2\n",
       "\\item 1\n",
       "\\item 1\n",
       "\\item 1\n",
       "\\item 1\n",
       "\\item 1\n",
       "\\item 1\n",
       "\\item 1\n",
       "\\item 4\n",
       "\\item 1\n",
       "\\item 17\n",
       "\\item 2\n",
       "\\item 1\n",
       "\\item 1\n",
       "\\item 2\n",
       "\\item 1\n",
       "\\end{enumerate*}\n"
      ],
      "text/markdown": [
       "1. 6\n",
       "2. 2\n",
       "3. 1\n",
       "4. 2\n",
       "5. 2\n",
       "6. 7\n",
       "7. 1\n",
       "8. 3\n",
       "9. 1\n",
       "10. 2\n",
       "11. 4\n",
       "12. 2\n",
       "13. 7\n",
       "14. 1\n",
       "15. 6\n",
       "16. 1\n",
       "17. 1\n",
       "18. 1\n",
       "19. 1\n",
       "20. 1\n",
       "21. 3\n",
       "22. 1\n",
       "23. 1\n",
       "24. 1\n",
       "25. 1\n",
       "26. 1\n",
       "27. 1\n",
       "28. 1\n",
       "29. 1\n",
       "30. 1\n",
       "31. 1\n",
       "32. 1\n",
       "33. 1\n",
       "34. 1\n",
       "35. 2\n",
       "36. 1\n",
       "37. 1\n",
       "38. 1\n",
       "39. 1\n",
       "40. 1\n",
       "41. 1\n",
       "42. 1\n",
       "43. 4\n",
       "44. 1\n",
       "45. 17\n",
       "46. 2\n",
       "47. 1\n",
       "48. 1\n",
       "49. 2\n",
       "50. 1\n",
       "\n",
       "\n"
      ],
      "text/plain": [
       " [1]  6  2  1  2  2  7  1  3  1  2  4  2  7  1  6  1  1  1  1  1  3  1  1  1  1\n",
       "[26]  1  1  1  1  1  1  1  1  1  2  1  1  1  1  1  1  1  4  1 17  2  1  1  2  1"
      ]
     },
     "metadata": {},
     "output_type": "display_data"
    }
   ],
   "source": [
    "imputed3 = c()\n",
    "for(f in c('X81A','X90A','X143A')) {\n",
    "    imputed3 <- c(imputed3,as.numeric(mdat503$imp[[f]][,5]))\n",
    "}\n",
    "imputed3"
   ]
  },
  {
   "cell_type": "code",
   "execution_count": 21,
   "metadata": {
    "collapsed": false
   },
   "outputs": [
    {
     "data": {
      "text/html": [
       "0.0181700272332462"
      ],
      "text/latex": [
       "0.0181700272332462"
      ],
      "text/markdown": [
       "0.0181700272332462"
      ],
      "text/plain": [
       "[1] 0.01817003"
      ]
     },
     "metadata": {},
     "output_type": "display_data"
    }
   ],
   "source": [
    "cor(origs,imputed3)"
   ]
  },
  {
   "cell_type": "code",
   "execution_count": 22,
   "metadata": {
    "collapsed": false
   },
   "outputs": [
    {
     "data": {
      "text/html": [
       "0.269324599749662"
      ],
      "text/latex": [
       "0.269324599749662"
      ],
      "text/markdown": [
       "0.269324599749662"
      ],
      "text/plain": [
       "[1] 0.2693246"
      ]
     },
     "metadata": {},
     "output_type": "display_data"
    }
   ],
   "source": [
    "cor(imputed3,imputed)"
   ]
  },
  {
   "cell_type": "code",
   "execution_count": 23,
   "metadata": {
    "collapsed": false
   },
   "outputs": [
    {
     "data": {
      "text/html": [
       "0.0526291854188568"
      ],
      "text/latex": [
       "0.0526291854188568"
      ],
      "text/markdown": [
       "0.0526291854188568"
      ],
      "text/plain": [
       "[1] 0.05262919"
      ]
     },
     "metadata": {},
     "output_type": "display_data"
    }
   ],
   "source": [
    "cor(imputed2,imputed3)"
   ]
  },
  {
   "cell_type": "code",
   "execution_count": 24,
   "metadata": {
    "collapsed": false
   },
   "outputs": [
    {
     "data": {
      "text/html": [
       "28"
      ],
      "text/latex": [
       "28"
      ],
      "text/markdown": [
       "28"
      ],
      "text/plain": [
       "[1] 28"
      ]
     },
     "metadata": {},
     "output_type": "display_data"
    }
   ],
   "source": [
    "sum(origs != imputed3)"
   ]
  },
  {
   "cell_type": "markdown",
   "metadata": {},
   "source": [
    "And that's all i did with the completion idea. I really don't think this is of any use with algorithms that rely on scalar values."
   ]
  }
 ],
 "metadata": {
  "kernelspec": {
   "display_name": "R",
   "language": "R",
   "name": "ir"
  },
  "language_info": {
   "codemirror_mode": "r",
   "file_extension": ".r",
   "mimetype": "text/x-r-source",
   "name": "R",
   "pygments_lexer": "r",
   "version": "3.4.3"
  }
 },
 "nbformat": 4,
 "nbformat_minor": 1
}
