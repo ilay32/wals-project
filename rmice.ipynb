{
 "cells": [
  {
   "cell_type": "markdown",
   "metadata": {},
   "source": [
    "## Test MICE\n"
   ]
  },
  {
   "cell_type": "code",
   "execution_count": 1,
   "metadata": {
    "collapsed": false
   },
   "outputs": [],
   "source": [
    "library(mice)\n",
    "#library(dummies)\n",
    "library(lattice)"
   ]
  },
  {
   "cell_type": "code",
   "execution_count": 2,
   "metadata": {
    "collapsed": false
   },
   "outputs": [
    {
     "name": "stdout",
     "output_type": "stream",
     "text": [
      "\n",
      " iter imp variable\n",
      "  1   1  X81A  X90A  X143A\n",
      "  1   2  X81A  X90A  X143A\n",
      "  1   3  X81A  X90A  X143A\n",
      "  1   4  X81A  X90A  X143A\n",
      "  1   5  X81A  X90A  X143A\n",
      "  2   1  X81A  X90A  X143A\n",
      "  2   2  X81A  X90A  X143A\n",
      "  2   3  X81A  X90A  X143A\n",
      "  2   4  X81A  X90A  X143A\n",
      "  2   5  X81A  X90A  X143A\n",
      "  3   1  X81A  X90A  X143A\n",
      "  3   2  X81A  X90A  X143A\n",
      "  3   3  X81A  X90A  X143A\n",
      "  3   4  X81A  X90A  X143A\n",
      "  3   5  X81A  X90A  X143A\n",
      "  4   1  X81A  X90A  X143A\n",
      "  4   2  X81A  X90A  X143A\n",
      "  4   3  X81A  X90A  X143A\n",
      "  4   4  X81A  X90A  X143A\n",
      "  4   5  X81A  X90A  X143A\n",
      "  5   1  X81A  X90A  X143A\n",
      "  5   2  X81A  X90A  X143A\n",
      "  5   3  X81A  X90A  X143A\n",
      "  5   4  X81A  X90A  X143A\n",
      "  5   5  X81A  X90A  X143A\n"
     ]
    }
   ],
   "source": [
    "dat <- read.csv('../miscsv/703-5-emptied.csv')\n",
    "dat$X <- NULL\n",
    "\n",
    "for(c in c('X81A','X90A','X143A')) {\n",
    "    dat[[c]] <- as.factor(dat[[c]])\n",
    "}\n",
    "\n",
    "mdat <- mice(dat)"
   ]
  },
  {
   "cell_type": "code",
   "execution_count": 5,
   "metadata": {
    "collapsed": false
   },
   "outputs": [
    {
     "data": {
      "text/plain": [
       "Multiply imputed data set\n",
       "Call:\n",
       "mice(data = dat)\n",
       "Number of multiple imputations:  5\n",
       "Missing cells per column:\n",
       " X81A  X90A X143A \n",
       "    2     2     1 \n",
       "Imputation methods:\n",
       "     X81A      X90A     X143A \n",
       "\"polyreg\" \"polyreg\" \"polyreg\" \n",
       "VisitSequence:\n",
       " X81A  X90A X143A \n",
       "    1     2     3 \n",
       "PredictorMatrix:\n",
       "      X81A X90A X143A\n",
       "X81A     0    1     1\n",
       "X90A     1    0     1\n",
       "X143A    1    1     0\n",
       "Random generator seed value:  NA "
      ]
     },
     "metadata": {},
     "output_type": "display_data"
    }
   ],
   "source": [
    "mdat"
   ]
  },
  {
   "cell_type": "code",
   "execution_count": 6,
   "metadata": {
    "collapsed": false
   },
   "outputs": [
    {
     "data": {
      "text/html": [
       "<dl>\n",
       "\t<dt>$X81A</dt>\n",
       "\t\t<dd><table>\n",
       "<thead><tr><th></th><th scope=col>1</th><th scope=col>2</th><th scope=col>3</th><th scope=col>4</th><th scope=col>5</th></tr></thead>\n",
       "<tbody>\n",
       "\t<tr><th scope=row>68</th><td>7</td><td>7</td><td>1</td><td>1</td><td>4</td></tr>\n",
       "\t<tr><th scope=row>149</th><td>5</td><td>1</td><td>4</td><td>1</td><td>1</td></tr>\n",
       "</tbody>\n",
       "</table>\n",
       "</dd>\n",
       "\t<dt>$X90A</dt>\n",
       "\t\t<dd><table>\n",
       "<thead><tr><th></th><th scope=col>1</th><th scope=col>2</th><th scope=col>3</th><th scope=col>4</th><th scope=col>5</th></tr></thead>\n",
       "<tbody>\n",
       "\t<tr><th scope=row>327</th><td>2</td><td>1</td><td>3</td><td>4</td><td>1</td></tr>\n",
       "\t<tr><th scope=row>392</th><td>2</td><td>2</td><td>5</td><td>3</td><td>1</td></tr>\n",
       "</tbody>\n",
       "</table>\n",
       "</dd>\n",
       "\t<dt>$X143A</dt>\n",
       "\t\t<dd><table>\n",
       "<thead><tr><th></th><th scope=col>1</th><th scope=col>2</th><th scope=col>3</th><th scope=col>4</th><th scope=col>5</th></tr></thead>\n",
       "<tbody>\n",
       "\t<tr><th scope=row>48</th><td>15</td><td>3 </td><td>1 </td><td>1 </td><td>2 </td></tr>\n",
       "</tbody>\n",
       "</table>\n",
       "</dd>\n",
       "</dl>\n"
      ],
      "text/latex": [
       "\\begin{description}\n",
       "\\item[\\$X81A] \\begin{tabular}{r|lllll}\n",
       "  & 1 & 2 & 3 & 4 & 5\\\\\n",
       "\\hline\n",
       "\t68 & 7 & 7 & 1 & 1 & 4\\\\\n",
       "\t149 & 5 & 1 & 4 & 1 & 1\\\\\n",
       "\\end{tabular}\n",
       "\n",
       "\\item[\\$X90A] \\begin{tabular}{r|lllll}\n",
       "  & 1 & 2 & 3 & 4 & 5\\\\\n",
       "\\hline\n",
       "\t327 & 2 & 1 & 3 & 4 & 1\\\\\n",
       "\t392 & 2 & 2 & 5 & 3 & 1\\\\\n",
       "\\end{tabular}\n",
       "\n",
       "\\item[\\$X143A] \\begin{tabular}{r|lllll}\n",
       "  & 1 & 2 & 3 & 4 & 5\\\\\n",
       "\\hline\n",
       "\t48 & 15 & 3  & 1  & 1  & 2 \\\\\n",
       "\\end{tabular}\n",
       "\n",
       "\\end{description}\n"
      ],
      "text/markdown": [
       "$X81A\n",
       ":   \n",
       "| <!--/--> | 1 | 2 | 3 | 4 | 5 | \n",
       "|---|---|\n",
       "| 68 | 7 | 7 | 1 | 1 | 4 | \n",
       "| 149 | 5 | 1 | 4 | 1 | 1 | \n",
       "\n",
       "\n",
       "\n",
       "$X90A\n",
       ":   \n",
       "| <!--/--> | 1 | 2 | 3 | 4 | 5 | \n",
       "|---|---|\n",
       "| 327 | 2 | 1 | 3 | 4 | 1 | \n",
       "| 392 | 2 | 2 | 5 | 3 | 1 | \n",
       "\n",
       "\n",
       "\n",
       "$X143A\n",
       ":   \n",
       "| <!--/--> | 1 | 2 | 3 | 4 | 5 | \n",
       "|---|\n",
       "| 48 | 15 | 3  | 1  | 1  | 2  | \n",
       "\n",
       "\n",
       "\n",
       "\n",
       "\n"
      ],
      "text/plain": [
       "$X81A\n",
       "    1 2 3 4 5\n",
       "68  7 7 1 1 4\n",
       "149 5 1 4 1 1\n",
       "\n",
       "$X90A\n",
       "    1 2 3 4 5\n",
       "327 2 1 3 4 1\n",
       "392 2 2 5 3 1\n",
       "\n",
       "$X143A\n",
       "    1 2 3 4 5\n",
       "48 15 3 1 1 2\n"
      ]
     },
     "metadata": {},
     "output_type": "display_data"
    }
   ],
   "source": [
    "mdat$imp"
   ]
  },
  {
   "cell_type": "markdown",
   "metadata": {},
   "source": [
    "should be:\n",
    "    - 143A :  4\n",
    "    - 81A:  7, 2\n",
    "    - 90A; 2, 2"
   ]
  },
  {
   "cell_type": "markdown",
   "metadata": {
    "collapsed": true
   },
   "source": [
    "Not Bad. Let's try a proper test:"
   ]
  },
  {
   "cell_type": "code",
   "execution_count": 7,
   "metadata": {
    "collapsed": false
   },
   "outputs": [
    {
     "name": "stdout",
     "output_type": "stream",
     "text": [
      "\n",
      " iter imp variable\n",
      "  1   1  X81A  X90A  X143A\n",
      "  1   2  X81A  X90A  X143A\n",
      "  1   3  X81A  X90A  X143A\n",
      "  1   4  X81A  X90A  X143A\n",
      "  1   5  X81A  X90A  X143A\n",
      "  2   1  X81A  X90A  X143A\n",
      "  2   2  X81A  X90A  X143A\n",
      "  2   3  X81A  X90A  X143A\n",
      "  2   4  X81A  X90A  X143A\n",
      "  2   5  X81A  X90A  X143A\n",
      "  3   1  X81A  X90A  X143A\n",
      "  3   2  X81A  X90A  X143A\n",
      "  3   3  X81A  X90A  X143A\n",
      "  3   4  X81A  X90A  X143A\n",
      "  3   5  X81A  X90A  X143A\n",
      "  4   1  X81A  X90A  X143A\n",
      "  4   2  X81A  X90A  X143A\n",
      "  4   3  X81A  X90A  X143A\n",
      "  4   4  X81A  X90A  X143A\n",
      "  4   5  X81A  X90A  X143A\n",
      "  5   1  X81A  X90A  X143A\n",
      "  5   2  X81A  X90A  X143A\n",
      "  5   3  X81A  X90A  X143A\n",
      "  5   4  X81A  X90A  X143A\n",
      "  5   5  X81A  X90A  X143A\n"
     ]
    }
   ],
   "source": [
    "dat50 <- read.csv('../miscsv/703-removed-50.csv')\n",
    "dat50$X <- NULL\n",
    "for(c in c('X81A','X90A','X143A')) {\n",
    "    dat50[[c]] <- as.factor(dat50[[c]])\n",
    "}\n",
    "mdat50 = mice(dat50)"
   ]
  },
  {
   "cell_type": "code",
   "execution_count": 10,
   "metadata": {
    "collapsed": false
   },
   "outputs": [
    {
     "data": {
      "text/html": [
       "<dl>\n",
       "\t<dt>$X81A</dt>\n",
       "\t\t<dd><table>\n",
       "<thead><tr><th></th><th scope=col>1</th><th scope=col>2</th><th scope=col>3</th><th scope=col>4</th><th scope=col>5</th></tr></thead>\n",
       "<tbody>\n",
       "\t<tr><th scope=row>44</th><td>1</td><td>2</td><td>3</td><td>2</td><td>1</td></tr>\n",
       "\t<tr><th scope=row>72</th><td>2</td><td>3</td><td>2</td><td>2</td><td>1</td></tr>\n",
       "\t<tr><th scope=row>95</th><td>1</td><td>1</td><td>1</td><td>1</td><td>1</td></tr>\n",
       "\t<tr><th scope=row>104</th><td>2</td><td>1</td><td>1</td><td>1</td><td>2</td></tr>\n",
       "\t<tr><th scope=row>163</th><td>2</td><td>4</td><td>2</td><td>2</td><td>2</td></tr>\n",
       "\t<tr><th scope=row>215</th><td>5</td><td>2</td><td>1</td><td>7</td><td>2</td></tr>\n",
       "\t<tr><th scope=row>241</th><td>1</td><td>1</td><td>1</td><td>1</td><td>1</td></tr>\n",
       "\t<tr><th scope=row>316</th><td>2</td><td>1</td><td>2</td><td>2</td><td>1</td></tr>\n",
       "\t<tr><th scope=row>443</th><td>1</td><td>1</td><td>7</td><td>2</td><td>1</td></tr>\n",
       "\t<tr><th scope=row>559</th><td>2</td><td>2</td><td>1</td><td>2</td><td>2</td></tr>\n",
       "\t<tr><th scope=row>604</th><td>2</td><td>1</td><td>2</td><td>7</td><td>2</td></tr>\n",
       "\t<tr><th scope=row>632</th><td>2</td><td>2</td><td>1</td><td>2</td><td>2</td></tr>\n",
       "\t<tr><th scope=row>638</th><td>1</td><td>1</td><td>1</td><td>1</td><td>1</td></tr>\n",
       "\t<tr><th scope=row>643</th><td>1</td><td>1</td><td>1</td><td>1</td><td>1</td></tr>\n",
       "\t<tr><th scope=row>644</th><td>1</td><td>1</td><td>7</td><td>7</td><td>1</td></tr>\n",
       "\t<tr><th scope=row>696</th><td>3</td><td>1</td><td>3</td><td>1</td><td>7</td></tr>\n",
       "</tbody>\n",
       "</table>\n",
       "</dd>\n",
       "\t<dt>$X90A</dt>\n",
       "\t\t<dd><table>\n",
       "<thead><tr><th></th><th scope=col>1</th><th scope=col>2</th><th scope=col>3</th><th scope=col>4</th><th scope=col>5</th></tr></thead>\n",
       "<tbody>\n",
       "\t<tr><th scope=row>39</th><td>1</td><td>1</td><td>1</td><td>1</td><td>1</td></tr>\n",
       "\t<tr><th scope=row>47</th><td>2</td><td>2</td><td>2</td><td>2</td><td>3</td></tr>\n",
       "\t<tr><th scope=row>101</th><td>1</td><td>7</td><td>1</td><td>1</td><td>7</td></tr>\n",
       "\t<tr><th scope=row>160</th><td>1</td><td>5</td><td>7</td><td>1</td><td>1</td></tr>\n",
       "\t<tr><th scope=row>200</th><td>2</td><td>1</td><td>1</td><td>2</td><td>2</td></tr>\n",
       "\t<tr><th scope=row>203</th><td>3</td><td>2</td><td>7</td><td>2</td><td>1</td></tr>\n",
       "\t<tr><th scope=row>242</th><td>1</td><td>1</td><td>1</td><td>1</td><td>1</td></tr>\n",
       "\t<tr><th scope=row>259</th><td>1</td><td>1</td><td>1</td><td>1</td><td>6</td></tr>\n",
       "\t<tr><th scope=row>347</th><td>1</td><td>1</td><td>1</td><td>1</td><td>1</td></tr>\n",
       "\t<tr><th scope=row>383</th><td>1</td><td>1</td><td>1</td><td>1</td><td>1</td></tr>\n",
       "\t<tr><th scope=row>386</th><td>2</td><td>1</td><td>1</td><td>1</td><td>1</td></tr>\n",
       "\t<tr><th scope=row>416</th><td>1</td><td>4</td><td>7</td><td>1</td><td>1</td></tr>\n",
       "\t<tr><th scope=row>441</th><td>1</td><td>1</td><td>1</td><td>1</td><td>1</td></tr>\n",
       "\t<tr><th scope=row>443</th><td>7</td><td>1</td><td>1</td><td>1</td><td>2</td></tr>\n",
       "\t<tr><th scope=row>491</th><td>1</td><td>1</td><td>1</td><td>1</td><td>3</td></tr>\n",
       "\t<tr><th scope=row>511</th><td>1</td><td>1</td><td>1</td><td>1</td><td>1</td></tr>\n",
       "\t<tr><th scope=row>521</th><td>2</td><td>2</td><td>2</td><td>2</td><td>2</td></tr>\n",
       "\t<tr><th scope=row>634</th><td>2</td><td>1</td><td>2</td><td>1</td><td>4</td></tr>\n",
       "\t<tr><th scope=row>638</th><td>3</td><td>2</td><td>1</td><td>2</td><td>2</td></tr>\n",
       "\t<tr><th scope=row>674</th><td>1</td><td>1</td><td>1</td><td>1</td><td>1</td></tr>\n",
       "\t<tr><th scope=row>699</th><td>1</td><td>1</td><td>7</td><td>1</td><td>1</td></tr>\n",
       "</tbody>\n",
       "</table>\n",
       "</dd>\n",
       "\t<dt>$X143A</dt>\n",
       "\t\t<dd><table>\n",
       "<thead><tr><th></th><th scope=col>1</th><th scope=col>2</th><th scope=col>3</th><th scope=col>4</th><th scope=col>5</th></tr></thead>\n",
       "<tbody>\n",
       "\t<tr><th scope=row>168</th><td>1 </td><td>1 </td><td>2 </td><td>1 </td><td>2 </td></tr>\n",
       "\t<tr><th scope=row>221</th><td>1 </td><td>1 </td><td>15</td><td>1 </td><td>7 </td></tr>\n",
       "\t<tr><th scope=row>317</th><td>2 </td><td>15</td><td>1 </td><td>1 </td><td>4 </td></tr>\n",
       "\t<tr><th scope=row>331</th><td>1 </td><td>1 </td><td>1 </td><td>1 </td><td>1 </td></tr>\n",
       "\t<tr><th scope=row>343</th><td>1 </td><td>1 </td><td>2 </td><td>2 </td><td>1 </td></tr>\n",
       "\t<tr><th scope=row>405</th><td>4 </td><td>4 </td><td>1 </td><td>4 </td><td>2 </td></tr>\n",
       "\t<tr><th scope=row>454</th><td>1 </td><td>1 </td><td>4 </td><td>1 </td><td>1 </td></tr>\n",
       "\t<tr><th scope=row>468</th><td>4 </td><td>2 </td><td>1 </td><td>14</td><td>2 </td></tr>\n",
       "\t<tr><th scope=row>490</th><td>8 </td><td>3 </td><td>4 </td><td>1 </td><td>1 </td></tr>\n",
       "\t<tr><th scope=row>548</th><td>1 </td><td>1 </td><td>1 </td><td>3 </td><td>14</td></tr>\n",
       "\t<tr><th scope=row>607</th><td>4 </td><td>1 </td><td>1 </td><td>1 </td><td>1 </td></tr>\n",
       "\t<tr><th scope=row>626</th><td>15</td><td>2 </td><td>1 </td><td>8 </td><td>15</td></tr>\n",
       "\t<tr><th scope=row>683</th><td>15</td><td>1 </td><td>2 </td><td>2 </td><td>1 </td></tr>\n",
       "</tbody>\n",
       "</table>\n",
       "</dd>\n",
       "</dl>\n"
      ],
      "text/latex": [
       "\\begin{description}\n",
       "\\item[\\$X81A] \\begin{tabular}{r|lllll}\n",
       "  & 1 & 2 & 3 & 4 & 5\\\\\n",
       "\\hline\n",
       "\t44 & 1 & 2 & 3 & 2 & 1\\\\\n",
       "\t72 & 2 & 3 & 2 & 2 & 1\\\\\n",
       "\t95 & 1 & 1 & 1 & 1 & 1\\\\\n",
       "\t104 & 2 & 1 & 1 & 1 & 2\\\\\n",
       "\t163 & 2 & 4 & 2 & 2 & 2\\\\\n",
       "\t215 & 5 & 2 & 1 & 7 & 2\\\\\n",
       "\t241 & 1 & 1 & 1 & 1 & 1\\\\\n",
       "\t316 & 2 & 1 & 2 & 2 & 1\\\\\n",
       "\t443 & 1 & 1 & 7 & 2 & 1\\\\\n",
       "\t559 & 2 & 2 & 1 & 2 & 2\\\\\n",
       "\t604 & 2 & 1 & 2 & 7 & 2\\\\\n",
       "\t632 & 2 & 2 & 1 & 2 & 2\\\\\n",
       "\t638 & 1 & 1 & 1 & 1 & 1\\\\\n",
       "\t643 & 1 & 1 & 1 & 1 & 1\\\\\n",
       "\t644 & 1 & 1 & 7 & 7 & 1\\\\\n",
       "\t696 & 3 & 1 & 3 & 1 & 7\\\\\n",
       "\\end{tabular}\n",
       "\n",
       "\\item[\\$X90A] \\begin{tabular}{r|lllll}\n",
       "  & 1 & 2 & 3 & 4 & 5\\\\\n",
       "\\hline\n",
       "\t39 & 1 & 1 & 1 & 1 & 1\\\\\n",
       "\t47 & 2 & 2 & 2 & 2 & 3\\\\\n",
       "\t101 & 1 & 7 & 1 & 1 & 7\\\\\n",
       "\t160 & 1 & 5 & 7 & 1 & 1\\\\\n",
       "\t200 & 2 & 1 & 1 & 2 & 2\\\\\n",
       "\t203 & 3 & 2 & 7 & 2 & 1\\\\\n",
       "\t242 & 1 & 1 & 1 & 1 & 1\\\\\n",
       "\t259 & 1 & 1 & 1 & 1 & 6\\\\\n",
       "\t347 & 1 & 1 & 1 & 1 & 1\\\\\n",
       "\t383 & 1 & 1 & 1 & 1 & 1\\\\\n",
       "\t386 & 2 & 1 & 1 & 1 & 1\\\\\n",
       "\t416 & 1 & 4 & 7 & 1 & 1\\\\\n",
       "\t441 & 1 & 1 & 1 & 1 & 1\\\\\n",
       "\t443 & 7 & 1 & 1 & 1 & 2\\\\\n",
       "\t491 & 1 & 1 & 1 & 1 & 3\\\\\n",
       "\t511 & 1 & 1 & 1 & 1 & 1\\\\\n",
       "\t521 & 2 & 2 & 2 & 2 & 2\\\\\n",
       "\t634 & 2 & 1 & 2 & 1 & 4\\\\\n",
       "\t638 & 3 & 2 & 1 & 2 & 2\\\\\n",
       "\t674 & 1 & 1 & 1 & 1 & 1\\\\\n",
       "\t699 & 1 & 1 & 7 & 1 & 1\\\\\n",
       "\\end{tabular}\n",
       "\n",
       "\\item[\\$X143A] \\begin{tabular}{r|lllll}\n",
       "  & 1 & 2 & 3 & 4 & 5\\\\\n",
       "\\hline\n",
       "\t168 & 1  & 1  & 2  & 1  & 2 \\\\\n",
       "\t221 & 1  & 1  & 15 & 1  & 7 \\\\\n",
       "\t317 & 2  & 15 & 1  & 1  & 4 \\\\\n",
       "\t331 & 1  & 1  & 1  & 1  & 1 \\\\\n",
       "\t343 & 1  & 1  & 2  & 2  & 1 \\\\\n",
       "\t405 & 4  & 4  & 1  & 4  & 2 \\\\\n",
       "\t454 & 1  & 1  & 4  & 1  & 1 \\\\\n",
       "\t468 & 4  & 2  & 1  & 14 & 2 \\\\\n",
       "\t490 & 8  & 3  & 4  & 1  & 1 \\\\\n",
       "\t548 & 1  & 1  & 1  & 3  & 14\\\\\n",
       "\t607 & 4  & 1  & 1  & 1  & 1 \\\\\n",
       "\t626 & 15 & 2  & 1  & 8  & 15\\\\\n",
       "\t683 & 15 & 1  & 2  & 2  & 1 \\\\\n",
       "\\end{tabular}\n",
       "\n",
       "\\end{description}\n"
      ],
      "text/markdown": [
       "$X81A\n",
       ":   \n",
       "| <!--/--> | 1 | 2 | 3 | 4 | 5 | \n",
       "|---|---|---|---|---|---|---|---|---|---|---|---|---|---|---|---|\n",
       "| 44 | 1 | 2 | 3 | 2 | 1 | \n",
       "| 72 | 2 | 3 | 2 | 2 | 1 | \n",
       "| 95 | 1 | 1 | 1 | 1 | 1 | \n",
       "| 104 | 2 | 1 | 1 | 1 | 2 | \n",
       "| 163 | 2 | 4 | 2 | 2 | 2 | \n",
       "| 215 | 5 | 2 | 1 | 7 | 2 | \n",
       "| 241 | 1 | 1 | 1 | 1 | 1 | \n",
       "| 316 | 2 | 1 | 2 | 2 | 1 | \n",
       "| 443 | 1 | 1 | 7 | 2 | 1 | \n",
       "| 559 | 2 | 2 | 1 | 2 | 2 | \n",
       "| 604 | 2 | 1 | 2 | 7 | 2 | \n",
       "| 632 | 2 | 2 | 1 | 2 | 2 | \n",
       "| 638 | 1 | 1 | 1 | 1 | 1 | \n",
       "| 643 | 1 | 1 | 1 | 1 | 1 | \n",
       "| 644 | 1 | 1 | 7 | 7 | 1 | \n",
       "| 696 | 3 | 1 | 3 | 1 | 7 | \n",
       "\n",
       "\n",
       "\n",
       "$X90A\n",
       ":   \n",
       "| <!--/--> | 1 | 2 | 3 | 4 | 5 | \n",
       "|---|---|---|---|---|---|---|---|---|---|---|---|---|---|---|---|---|---|---|---|---|\n",
       "| 39 | 1 | 1 | 1 | 1 | 1 | \n",
       "| 47 | 2 | 2 | 2 | 2 | 3 | \n",
       "| 101 | 1 | 7 | 1 | 1 | 7 | \n",
       "| 160 | 1 | 5 | 7 | 1 | 1 | \n",
       "| 200 | 2 | 1 | 1 | 2 | 2 | \n",
       "| 203 | 3 | 2 | 7 | 2 | 1 | \n",
       "| 242 | 1 | 1 | 1 | 1 | 1 | \n",
       "| 259 | 1 | 1 | 1 | 1 | 6 | \n",
       "| 347 | 1 | 1 | 1 | 1 | 1 | \n",
       "| 383 | 1 | 1 | 1 | 1 | 1 | \n",
       "| 386 | 2 | 1 | 1 | 1 | 1 | \n",
       "| 416 | 1 | 4 | 7 | 1 | 1 | \n",
       "| 441 | 1 | 1 | 1 | 1 | 1 | \n",
       "| 443 | 7 | 1 | 1 | 1 | 2 | \n",
       "| 491 | 1 | 1 | 1 | 1 | 3 | \n",
       "| 511 | 1 | 1 | 1 | 1 | 1 | \n",
       "| 521 | 2 | 2 | 2 | 2 | 2 | \n",
       "| 634 | 2 | 1 | 2 | 1 | 4 | \n",
       "| 638 | 3 | 2 | 1 | 2 | 2 | \n",
       "| 674 | 1 | 1 | 1 | 1 | 1 | \n",
       "| 699 | 1 | 1 | 7 | 1 | 1 | \n",
       "\n",
       "\n",
       "\n",
       "$X143A\n",
       ":   \n",
       "| <!--/--> | 1 | 2 | 3 | 4 | 5 | \n",
       "|---|---|---|---|---|---|---|---|---|---|---|---|---|\n",
       "| 168 | 1  | 1  | 2  | 1  | 2  | \n",
       "| 221 | 1  | 1  | 15 | 1  | 7  | \n",
       "| 317 | 2  | 15 | 1  | 1  | 4  | \n",
       "| 331 | 1  | 1  | 1  | 1  | 1  | \n",
       "| 343 | 1  | 1  | 2  | 2  | 1  | \n",
       "| 405 | 4  | 4  | 1  | 4  | 2  | \n",
       "| 454 | 1  | 1  | 4  | 1  | 1  | \n",
       "| 468 | 4  | 2  | 1  | 14 | 2  | \n",
       "| 490 | 8  | 3  | 4  | 1  | 1  | \n",
       "| 548 | 1  | 1  | 1  | 3  | 14 | \n",
       "| 607 | 4  | 1  | 1  | 1  | 1  | \n",
       "| 626 | 15 | 2  | 1  | 8  | 15 | \n",
       "| 683 | 15 | 1  | 2  | 2  | 1  | \n",
       "\n",
       "\n",
       "\n",
       "\n",
       "\n"
      ],
      "text/plain": [
       "$X81A\n",
       "    1 2 3 4 5\n",
       "44  1 2 3 2 1\n",
       "72  2 3 2 2 1\n",
       "95  1 1 1 1 1\n",
       "104 2 1 1 1 2\n",
       "163 2 4 2 2 2\n",
       "215 5 2 1 7 2\n",
       "241 1 1 1 1 1\n",
       "316 2 1 2 2 1\n",
       "443 1 1 7 2 1\n",
       "559 2 2 1 2 2\n",
       "604 2 1 2 7 2\n",
       "632 2 2 1 2 2\n",
       "638 1 1 1 1 1\n",
       "643 1 1 1 1 1\n",
       "644 1 1 7 7 1\n",
       "696 3 1 3 1 7\n",
       "\n",
       "$X90A\n",
       "    1 2 3 4 5\n",
       "39  1 1 1 1 1\n",
       "47  2 2 2 2 3\n",
       "101 1 7 1 1 7\n",
       "160 1 5 7 1 1\n",
       "200 2 1 1 2 2\n",
       "203 3 2 7 2 1\n",
       "242 1 1 1 1 1\n",
       "259 1 1 1 1 6\n",
       "347 1 1 1 1 1\n",
       "383 1 1 1 1 1\n",
       "386 2 1 1 1 1\n",
       "416 1 4 7 1 1\n",
       "441 1 1 1 1 1\n",
       "443 7 1 1 1 2\n",
       "491 1 1 1 1 3\n",
       "511 1 1 1 1 1\n",
       "521 2 2 2 2 2\n",
       "634 2 1 2 1 4\n",
       "638 3 2 1 2 2\n",
       "674 1 1 1 1 1\n",
       "699 1 1 7 1 1\n",
       "\n",
       "$X143A\n",
       "     1  2  3  4  5\n",
       "168  1  1  2  1  2\n",
       "221  1  1 15  1  7\n",
       "317  2 15  1  1  4\n",
       "331  1  1  1  1  1\n",
       "343  1  1  2  2  1\n",
       "405  4  4  1  4  2\n",
       "454  1  1  4  1  1\n",
       "468  4  2  1 14  2\n",
       "490  8  3  4  1  1\n",
       "548  1  1  1  3 14\n",
       "607  4  1  1  1  1\n",
       "626 15  2  1  8 15\n",
       "683 15  1  2  2  1\n"
      ]
     },
     "metadata": {},
     "output_type": "display_data"
    }
   ],
   "source": [
    "mdat50$imp"
   ]
  },
  {
   "cell_type": "code",
   "execution_count": 11,
   "metadata": {
    "collapsed": false
   },
   "outputs": [],
   "source": [
    "orig = read.csv('../miscsv/removed50-original.csv')"
   ]
  },
  {
   "cell_type": "code",
   "execution_count": 12,
   "metadata": {
    "collapsed": false
   },
   "outputs": [],
   "source": [
    "origs = c()\n",
    "imputed = c()\n",
    "for(f in c('81A','90A','143A')) {\n",
    "    origs <- c(origs, orig[(orig$feature==f),'original_value'])\n",
    "    imputed <- c(imputed,as.numeric(mdat50$imp[[paste('X',f,sep=\"\")]][,5]))\n",
    "}"
   ]
  },
  {
   "cell_type": "code",
   "execution_count": 13,
   "metadata": {
    "collapsed": false
   },
   "outputs": [
    {
     "data": {
      "text/html": [
       "<ol class=list-inline>\n",
       "\t<li>1</li>\n",
       "\t<li>1</li>\n",
       "\t<li>1</li>\n",
       "\t<li>1</li>\n",
       "\t<li>1</li>\n",
       "\t<li>7</li>\n",
       "\t<li>2</li>\n",
       "\t<li>2</li>\n",
       "\t<li>3</li>\n",
       "\t<li>7</li>\n",
       "\t<li>2</li>\n",
       "\t<li>2</li>\n",
       "\t<li>1</li>\n",
       "\t<li>4</li>\n",
       "\t<li>1</li>\n",
       "\t<li>1</li>\n",
       "\t<li>1</li>\n",
       "\t<li>3</li>\n",
       "\t<li>1</li>\n",
       "\t<li>2</li>\n",
       "\t<li>1</li>\n",
       "\t<li>1</li>\n",
       "\t<li>1</li>\n",
       "\t<li>7</li>\n",
       "\t<li>1</li>\n",
       "\t<li>1</li>\n",
       "\t<li>2</li>\n",
       "\t<li>1</li>\n",
       "\t<li>1</li>\n",
       "\t<li>1</li>\n",
       "\t<li>1</li>\n",
       "\t<li>1</li>\n",
       "\t<li>1</li>\n",
       "\t<li>2</li>\n",
       "\t<li>1</li>\n",
       "\t<li>1</li>\n",
       "\t<li>2</li>\n",
       "\t<li>3</li>\n",
       "\t<li>1</li>\n",
       "\t<li>14</li>\n",
       "\t<li>14</li>\n",
       "\t<li>1</li>\n",
       "\t<li>4</li>\n",
       "\t<li>1</li>\n",
       "\t<li>3</li>\n",
       "\t<li>4</li>\n",
       "\t<li>6</li>\n",
       "\t<li>1</li>\n",
       "\t<li>1</li>\n",
       "\t<li>3</li>\n",
       "</ol>\n"
      ],
      "text/latex": [
       "\\begin{enumerate*}\n",
       "\\item 1\n",
       "\\item 1\n",
       "\\item 1\n",
       "\\item 1\n",
       "\\item 1\n",
       "\\item 7\n",
       "\\item 2\n",
       "\\item 2\n",
       "\\item 3\n",
       "\\item 7\n",
       "\\item 2\n",
       "\\item 2\n",
       "\\item 1\n",
       "\\item 4\n",
       "\\item 1\n",
       "\\item 1\n",
       "\\item 1\n",
       "\\item 3\n",
       "\\item 1\n",
       "\\item 2\n",
       "\\item 1\n",
       "\\item 1\n",
       "\\item 1\n",
       "\\item 7\n",
       "\\item 1\n",
       "\\item 1\n",
       "\\item 2\n",
       "\\item 1\n",
       "\\item 1\n",
       "\\item 1\n",
       "\\item 1\n",
       "\\item 1\n",
       "\\item 1\n",
       "\\item 2\n",
       "\\item 1\n",
       "\\item 1\n",
       "\\item 2\n",
       "\\item 3\n",
       "\\item 1\n",
       "\\item 14\n",
       "\\item 14\n",
       "\\item 1\n",
       "\\item 4\n",
       "\\item 1\n",
       "\\item 3\n",
       "\\item 4\n",
       "\\item 6\n",
       "\\item 1\n",
       "\\item 1\n",
       "\\item 3\n",
       "\\end{enumerate*}\n"
      ],
      "text/markdown": [
       "1. 1\n",
       "2. 1\n",
       "3. 1\n",
       "4. 1\n",
       "5. 1\n",
       "6. 7\n",
       "7. 2\n",
       "8. 2\n",
       "9. 3\n",
       "10. 7\n",
       "11. 2\n",
       "12. 2\n",
       "13. 1\n",
       "14. 4\n",
       "15. 1\n",
       "16. 1\n",
       "17. 1\n",
       "18. 3\n",
       "19. 1\n",
       "20. 2\n",
       "21. 1\n",
       "22. 1\n",
       "23. 1\n",
       "24. 7\n",
       "25. 1\n",
       "26. 1\n",
       "27. 2\n",
       "28. 1\n",
       "29. 1\n",
       "30. 1\n",
       "31. 1\n",
       "32. 1\n",
       "33. 1\n",
       "34. 2\n",
       "35. 1\n",
       "36. 1\n",
       "37. 2\n",
       "38. 3\n",
       "39. 1\n",
       "40. 14\n",
       "41. 14\n",
       "42. 1\n",
       "43. 4\n",
       "44. 1\n",
       "45. 3\n",
       "46. 4\n",
       "47. 6\n",
       "48. 1\n",
       "49. 1\n",
       "50. 3\n",
       "\n",
       "\n"
      ],
      "text/plain": [
       " [1]  1  1  1  1  1  7  2  2  3  7  2  2  1  4  1  1  1  3  1  2  1  1  1  7  1\n",
       "[26]  1  2  1  1  1  1  1  1  2  1  1  2  3  1 14 14  1  4  1  3  4  6  1  1  3"
      ]
     },
     "metadata": {},
     "output_type": "display_data"
    }
   ],
   "source": [
    "origs"
   ]
  },
  {
   "cell_type": "code",
   "execution_count": 14,
   "metadata": {
    "collapsed": false
   },
   "outputs": [
    {
     "data": {
      "text/html": [
       "<ol class=list-inline>\n",
       "\t<li>1</li>\n",
       "\t<li>1</li>\n",
       "\t<li>1</li>\n",
       "\t<li>2</li>\n",
       "\t<li>2</li>\n",
       "\t<li>2</li>\n",
       "\t<li>1</li>\n",
       "\t<li>1</li>\n",
       "\t<li>1</li>\n",
       "\t<li>2</li>\n",
       "\t<li>2</li>\n",
       "\t<li>2</li>\n",
       "\t<li>1</li>\n",
       "\t<li>1</li>\n",
       "\t<li>1</li>\n",
       "\t<li>7</li>\n",
       "\t<li>1</li>\n",
       "\t<li>3</li>\n",
       "\t<li>7</li>\n",
       "\t<li>1</li>\n",
       "\t<li>2</li>\n",
       "\t<li>1</li>\n",
       "\t<li>1</li>\n",
       "\t<li>6</li>\n",
       "\t<li>1</li>\n",
       "\t<li>1</li>\n",
       "\t<li>1</li>\n",
       "\t<li>1</li>\n",
       "\t<li>1</li>\n",
       "\t<li>2</li>\n",
       "\t<li>3</li>\n",
       "\t<li>1</li>\n",
       "\t<li>2</li>\n",
       "\t<li>4</li>\n",
       "\t<li>2</li>\n",
       "\t<li>1</li>\n",
       "\t<li>1</li>\n",
       "\t<li>2</li>\n",
       "\t<li>7</li>\n",
       "\t<li>4</li>\n",
       "\t<li>1</li>\n",
       "\t<li>1</li>\n",
       "\t<li>2</li>\n",
       "\t<li>1</li>\n",
       "\t<li>2</li>\n",
       "\t<li>1</li>\n",
       "\t<li>14</li>\n",
       "\t<li>1</li>\n",
       "\t<li>15</li>\n",
       "\t<li>1</li>\n",
       "</ol>\n"
      ],
      "text/latex": [
       "\\begin{enumerate*}\n",
       "\\item 1\n",
       "\\item 1\n",
       "\\item 1\n",
       "\\item 2\n",
       "\\item 2\n",
       "\\item 2\n",
       "\\item 1\n",
       "\\item 1\n",
       "\\item 1\n",
       "\\item 2\n",
       "\\item 2\n",
       "\\item 2\n",
       "\\item 1\n",
       "\\item 1\n",
       "\\item 1\n",
       "\\item 7\n",
       "\\item 1\n",
       "\\item 3\n",
       "\\item 7\n",
       "\\item 1\n",
       "\\item 2\n",
       "\\item 1\n",
       "\\item 1\n",
       "\\item 6\n",
       "\\item 1\n",
       "\\item 1\n",
       "\\item 1\n",
       "\\item 1\n",
       "\\item 1\n",
       "\\item 2\n",
       "\\item 3\n",
       "\\item 1\n",
       "\\item 2\n",
       "\\item 4\n",
       "\\item 2\n",
       "\\item 1\n",
       "\\item 1\n",
       "\\item 2\n",
       "\\item 7\n",
       "\\item 4\n",
       "\\item 1\n",
       "\\item 1\n",
       "\\item 2\n",
       "\\item 1\n",
       "\\item 2\n",
       "\\item 1\n",
       "\\item 14\n",
       "\\item 1\n",
       "\\item 15\n",
       "\\item 1\n",
       "\\end{enumerate*}\n"
      ],
      "text/markdown": [
       "1. 1\n",
       "2. 1\n",
       "3. 1\n",
       "4. 2\n",
       "5. 2\n",
       "6. 2\n",
       "7. 1\n",
       "8. 1\n",
       "9. 1\n",
       "10. 2\n",
       "11. 2\n",
       "12. 2\n",
       "13. 1\n",
       "14. 1\n",
       "15. 1\n",
       "16. 7\n",
       "17. 1\n",
       "18. 3\n",
       "19. 7\n",
       "20. 1\n",
       "21. 2\n",
       "22. 1\n",
       "23. 1\n",
       "24. 6\n",
       "25. 1\n",
       "26. 1\n",
       "27. 1\n",
       "28. 1\n",
       "29. 1\n",
       "30. 2\n",
       "31. 3\n",
       "32. 1\n",
       "33. 2\n",
       "34. 4\n",
       "35. 2\n",
       "36. 1\n",
       "37. 1\n",
       "38. 2\n",
       "39. 7\n",
       "40. 4\n",
       "41. 1\n",
       "42. 1\n",
       "43. 2\n",
       "44. 1\n",
       "45. 2\n",
       "46. 1\n",
       "47. 14\n",
       "48. 1\n",
       "49. 15\n",
       "50. 1\n",
       "\n",
       "\n"
      ],
      "text/plain": [
       " [1]  1  1  1  2  2  2  1  1  1  2  2  2  1  1  1  7  1  3  7  1  2  1  1  6  1\n",
       "[26]  1  1  1  1  2  3  1  2  4  2  1  1  2  7  4  1  1  2  1  2  1 14  1 15  1"
      ]
     },
     "metadata": {},
     "output_type": "display_data"
    }
   ],
   "source": [
    "imputed"
   ]
  },
  {
   "cell_type": "code",
   "execution_count": 16,
   "metadata": {
    "collapsed": false
   },
   "outputs": [
    {
     "ename": "ERROR",
     "evalue": "Error in hamming(origs, imputed): could not find function \"hamming\"\n",
     "output_type": "error",
     "traceback": [
      "Error in hamming(origs, imputed): could not find function \"hamming\"\nTraceback:\n"
     ]
    }
   ],
   "source": [
    "hamming(origs,imputed)"
   ]
  },
  {
   "cell_type": "markdown",
   "metadata": {},
   "source": [
    "### Not so briliant after all"
   ]
  },
  {
   "cell_type": "code",
   "execution_count": 14,
   "metadata": {
    "collapsed": false
   },
   "outputs": [
    {
     "name": "stdout",
     "output_type": "stream",
     "text": [
      "\n",
      " iter imp variable\n",
      "  1   1  X81A  X90A  X143A\n",
      "  1   2  X81A  X90A  X143A\n",
      "  1   3  X81A  X90A  X143A\n",
      "  1   4  X81A  X90A  X143A\n",
      "  1   5  X81A  X90A  X143A\n",
      "  2   1  X81A  X90A  X143A\n",
      "  2   2  X81A  X90A  X143A\n",
      "  2   3  X81A  X90A  X143A\n",
      "  2   4  X81A  X90A  X143A\n",
      "  2   5  X81A  X90A  X143A\n",
      "  3   1  X81A  X90A  X143A\n",
      "  3   2  X81A  X90A  X143A\n",
      "  3   3  X81A  X90A  X143A\n",
      "  3   4  X81A  X90A  X143A\n",
      "  3   5  X81A  X90A  X143A\n",
      "  4   1  X81A  X90A  X143A\n",
      "  4   2  X81A  X90A  X143A\n",
      "  4   3  X81A  X90A  X143A\n",
      "  4   4  X81A  X90A  X143A\n",
      "  4   5  X81A  X90A  X143A\n",
      "  5   1  X81A  X90A  X143A\n",
      "  5   2  X81A  X90A  X143A\n",
      "  5   3  X81A  X90A  X143A\n",
      "  5   4  X81A  X90A  X143A\n",
      "  5   5  X81A  X90A  X143A\n"
     ]
    }
   ],
   "source": [
    "mdat502 = mice(dat50,method=c(\"lda\",\"lda\",\"lda\"))"
   ]
  },
  {
   "cell_type": "code",
   "execution_count": 15,
   "metadata": {
    "collapsed": false
   },
   "outputs": [
    {
     "data": {
      "text/html": [
       "<ol class=list-inline>\n",
       "\t<li>3</li>\n",
       "\t<li>2</li>\n",
       "\t<li>1</li>\n",
       "\t<li>2</li>\n",
       "\t<li>7</li>\n",
       "\t<li>5</li>\n",
       "\t<li>1</li>\n",
       "\t<li>2</li>\n",
       "\t<li>2</li>\n",
       "\t<li>2</li>\n",
       "\t<li>2</li>\n",
       "\t<li>1</li>\n",
       "\t<li>1</li>\n",
       "\t<li>1</li>\n",
       "\t<li>1</li>\n",
       "\t<li>1</li>\n",
       "\t<li>1</li>\n",
       "\t<li>3</li>\n",
       "\t<li>1</li>\n",
       "\t<li>1</li>\n",
       "\t<li>2</li>\n",
       "\t<li>2</li>\n",
       "\t<li>1</li>\n",
       "\t<li>1</li>\n",
       "\t<li>1</li>\n",
       "\t<li>1</li>\n",
       "\t<li>1</li>\n",
       "\t<li>1</li>\n",
       "\t<li>1</li>\n",
       "\t<li>1</li>\n",
       "\t<li>1</li>\n",
       "\t<li>1</li>\n",
       "\t<li>2</li>\n",
       "\t<li>2</li>\n",
       "\t<li>3</li>\n",
       "\t<li>1</li>\n",
       "\t<li>1</li>\n",
       "\t<li>1</li>\n",
       "\t<li>1</li>\n",
       "\t<li>4</li>\n",
       "\t<li>2</li>\n",
       "\t<li>1</li>\n",
       "\t<li>4</li>\n",
       "\t<li>1</li>\n",
       "\t<li>1</li>\n",
       "\t<li>1</li>\n",
       "\t<li>4</li>\n",
       "\t<li>1</li>\n",
       "\t<li>1</li>\n",
       "\t<li>15</li>\n",
       "</ol>\n"
      ],
      "text/latex": [
       "\\begin{enumerate*}\n",
       "\\item 3\n",
       "\\item 2\n",
       "\\item 1\n",
       "\\item 2\n",
       "\\item 7\n",
       "\\item 5\n",
       "\\item 1\n",
       "\\item 2\n",
       "\\item 2\n",
       "\\item 2\n",
       "\\item 2\n",
       "\\item 1\n",
       "\\item 1\n",
       "\\item 1\n",
       "\\item 1\n",
       "\\item 1\n",
       "\\item 1\n",
       "\\item 3\n",
       "\\item 1\n",
       "\\item 1\n",
       "\\item 2\n",
       "\\item 2\n",
       "\\item 1\n",
       "\\item 1\n",
       "\\item 1\n",
       "\\item 1\n",
       "\\item 1\n",
       "\\item 1\n",
       "\\item 1\n",
       "\\item 1\n",
       "\\item 1\n",
       "\\item 1\n",
       "\\item 2\n",
       "\\item 2\n",
       "\\item 3\n",
       "\\item 1\n",
       "\\item 1\n",
       "\\item 1\n",
       "\\item 1\n",
       "\\item 4\n",
       "\\item 2\n",
       "\\item 1\n",
       "\\item 4\n",
       "\\item 1\n",
       "\\item 1\n",
       "\\item 1\n",
       "\\item 4\n",
       "\\item 1\n",
       "\\item 1\n",
       "\\item 15\n",
       "\\end{enumerate*}\n"
      ],
      "text/markdown": [
       "1. 3\n",
       "2. 2\n",
       "3. 1\n",
       "4. 2\n",
       "5. 7\n",
       "6. 5\n",
       "7. 1\n",
       "8. 2\n",
       "9. 2\n",
       "10. 2\n",
       "11. 2\n",
       "12. 1\n",
       "13. 1\n",
       "14. 1\n",
       "15. 1\n",
       "16. 1\n",
       "17. 1\n",
       "18. 3\n",
       "19. 1\n",
       "20. 1\n",
       "21. 2\n",
       "22. 2\n",
       "23. 1\n",
       "24. 1\n",
       "25. 1\n",
       "26. 1\n",
       "27. 1\n",
       "28. 1\n",
       "29. 1\n",
       "30. 1\n",
       "31. 1\n",
       "32. 1\n",
       "33. 2\n",
       "34. 2\n",
       "35. 3\n",
       "36. 1\n",
       "37. 1\n",
       "38. 1\n",
       "39. 1\n",
       "40. 4\n",
       "41. 2\n",
       "42. 1\n",
       "43. 4\n",
       "44. 1\n",
       "45. 1\n",
       "46. 1\n",
       "47. 4\n",
       "48. 1\n",
       "49. 1\n",
       "50. 15\n",
       "\n",
       "\n"
      ],
      "text/plain": [
       " [1]  3  2  1  2  7  5  1  2  2  2  2  1  1  1  1  1  1  3  1  1  2  2  1  1  1\n",
       "[26]  1  1  1  1  1  1  1  2  2  3  1  1  1  1  4  2  1  4  1  1  1  4  1  1 15"
      ]
     },
     "metadata": {},
     "output_type": "display_data"
    }
   ],
   "source": [
    "imputed2 = c()\n",
    "for(f in c('X81A','X90A','X143A')) {\n",
    "    imputed2 <- c(imputed2,as.numeric(mdat502$imp[[f]][,5]))\n",
    "}\n",
    "imputed2"
   ]
  },
  {
   "cell_type": "code",
   "execution_count": 17,
   "metadata": {
    "collapsed": false
   },
   "outputs": [
    {
     "data": {
      "text/html": [
       "0.209992102312333"
      ],
      "text/latex": [
       "0.209992102312333"
      ],
      "text/markdown": [
       "0.209992102312333"
      ],
      "text/plain": [
       "[1] 0.2099921"
      ]
     },
     "metadata": {},
     "output_type": "display_data"
    }
   ],
   "source": [
    "cor(origs,imputed2)"
   ]
  },
  {
   "cell_type": "code",
   "execution_count": 18,
   "metadata": {
    "collapsed": false
   },
   "outputs": [
    {
     "data": {
      "text/html": [
       "0.0162494092634641"
      ],
      "text/latex": [
       "0.0162494092634641"
      ],
      "text/markdown": [
       "0.0162494092634641"
      ],
      "text/plain": [
       "[1] 0.01624941"
      ]
     },
     "metadata": {},
     "output_type": "display_data"
    }
   ],
   "source": [
    "cor(imputed2,imputed)"
   ]
  },
  {
   "cell_type": "code",
   "execution_count": 20,
   "metadata": {
    "collapsed": false
   },
   "outputs": [
    {
     "name": "stdout",
     "output_type": "stream",
     "text": [
      "\n",
      " iter imp variable\n",
      "  1   1  X81A  X90A  X143A\n",
      "  1   2  X81A  X90A  X143A\n",
      "  1   3  X81A  X90A  X143A\n",
      "  1   4  X81A  X90A  X143A\n",
      "  1   5  X81A  X90A  X143A\n",
      "  2   1  X81A  X90A  X143A\n",
      "  2   2  X81A  X90A  X143A\n",
      "  2   3  X81A  X90A  X143A\n",
      "  2   4  X81A  X90A  X143A\n",
      "  2   5  X81A  X90A  X143A\n",
      "  3   1  X81A  X90A  X143A\n",
      "  3   2  X81A  X90A  X143A\n",
      "  3   3  X81A  X90A  X143A\n",
      "  3   4  X81A  X90A  X143A\n",
      "  3   5  X81A  X90A  X143A\n",
      "  4   1  X81A  X90A  X143A\n",
      "  4   2  X81A  X90A  X143A\n",
      "  4   3  X81A  X90A  X143A\n",
      "  4   4  X81A  X90A  X143A\n",
      "  4   5  X81A  X90A  X143A\n",
      "  5   1  X81A  X90A  X143A\n",
      "  5   2  X81A  X90A  X143A\n",
      "  5   3  X81A  X90A  X143A\n",
      "  5   4  X81A  X90A  X143A\n",
      "  5   5  X81A  X90A  X143A\n"
     ]
    }
   ],
   "source": [
    "mdat503 = mice(dat50,method=c(\"polr\",\"polr\",\"polr\"))"
   ]
  },
  {
   "cell_type": "code",
   "execution_count": 21,
   "metadata": {
    "collapsed": false
   },
   "outputs": [
    {
     "data": {
      "text/html": [
       "<ol class=list-inline>\n",
       "\t<li>3</li>\n",
       "\t<li>2</li>\n",
       "\t<li>1</li>\n",
       "\t<li>2</li>\n",
       "\t<li>7</li>\n",
       "\t<li>5</li>\n",
       "\t<li>1</li>\n",
       "\t<li>2</li>\n",
       "\t<li>2</li>\n",
       "\t<li>2</li>\n",
       "\t<li>2</li>\n",
       "\t<li>1</li>\n",
       "\t<li>1</li>\n",
       "\t<li>1</li>\n",
       "\t<li>1</li>\n",
       "\t<li>1</li>\n",
       "\t<li>1</li>\n",
       "\t<li>3</li>\n",
       "\t<li>1</li>\n",
       "\t<li>1</li>\n",
       "\t<li>2</li>\n",
       "\t<li>2</li>\n",
       "\t<li>1</li>\n",
       "\t<li>1</li>\n",
       "\t<li>1</li>\n",
       "\t<li>1</li>\n",
       "\t<li>1</li>\n",
       "\t<li>1</li>\n",
       "\t<li>1</li>\n",
       "\t<li>1</li>\n",
       "\t<li>1</li>\n",
       "\t<li>1</li>\n",
       "\t<li>2</li>\n",
       "\t<li>2</li>\n",
       "\t<li>3</li>\n",
       "\t<li>1</li>\n",
       "\t<li>1</li>\n",
       "\t<li>1</li>\n",
       "\t<li>1</li>\n",
       "\t<li>4</li>\n",
       "\t<li>2</li>\n",
       "\t<li>1</li>\n",
       "\t<li>4</li>\n",
       "\t<li>1</li>\n",
       "\t<li>1</li>\n",
       "\t<li>1</li>\n",
       "\t<li>4</li>\n",
       "\t<li>1</li>\n",
       "\t<li>1</li>\n",
       "\t<li>15</li>\n",
       "</ol>\n"
      ],
      "text/latex": [
       "\\begin{enumerate*}\n",
       "\\item 3\n",
       "\\item 2\n",
       "\\item 1\n",
       "\\item 2\n",
       "\\item 7\n",
       "\\item 5\n",
       "\\item 1\n",
       "\\item 2\n",
       "\\item 2\n",
       "\\item 2\n",
       "\\item 2\n",
       "\\item 1\n",
       "\\item 1\n",
       "\\item 1\n",
       "\\item 1\n",
       "\\item 1\n",
       "\\item 1\n",
       "\\item 3\n",
       "\\item 1\n",
       "\\item 1\n",
       "\\item 2\n",
       "\\item 2\n",
       "\\item 1\n",
       "\\item 1\n",
       "\\item 1\n",
       "\\item 1\n",
       "\\item 1\n",
       "\\item 1\n",
       "\\item 1\n",
       "\\item 1\n",
       "\\item 1\n",
       "\\item 1\n",
       "\\item 2\n",
       "\\item 2\n",
       "\\item 3\n",
       "\\item 1\n",
       "\\item 1\n",
       "\\item 1\n",
       "\\item 1\n",
       "\\item 4\n",
       "\\item 2\n",
       "\\item 1\n",
       "\\item 4\n",
       "\\item 1\n",
       "\\item 1\n",
       "\\item 1\n",
       "\\item 4\n",
       "\\item 1\n",
       "\\item 1\n",
       "\\item 15\n",
       "\\end{enumerate*}\n"
      ],
      "text/markdown": [
       "1. 3\n",
       "2. 2\n",
       "3. 1\n",
       "4. 2\n",
       "5. 7\n",
       "6. 5\n",
       "7. 1\n",
       "8. 2\n",
       "9. 2\n",
       "10. 2\n",
       "11. 2\n",
       "12. 1\n",
       "13. 1\n",
       "14. 1\n",
       "15. 1\n",
       "16. 1\n",
       "17. 1\n",
       "18. 3\n",
       "19. 1\n",
       "20. 1\n",
       "21. 2\n",
       "22. 2\n",
       "23. 1\n",
       "24. 1\n",
       "25. 1\n",
       "26. 1\n",
       "27. 1\n",
       "28. 1\n",
       "29. 1\n",
       "30. 1\n",
       "31. 1\n",
       "32. 1\n",
       "33. 2\n",
       "34. 2\n",
       "35. 3\n",
       "36. 1\n",
       "37. 1\n",
       "38. 1\n",
       "39. 1\n",
       "40. 4\n",
       "41. 2\n",
       "42. 1\n",
       "43. 4\n",
       "44. 1\n",
       "45. 1\n",
       "46. 1\n",
       "47. 4\n",
       "48. 1\n",
       "49. 1\n",
       "50. 15\n",
       "\n",
       "\n"
      ],
      "text/plain": [
       " [1]  3  2  1  2  7  5  1  2  2  2  2  1  1  1  1  1  1  3  1  1  2  2  1  1  1\n",
       "[26]  1  1  1  1  1  1  1  2  2  3  1  1  1  1  4  2  1  4  1  1  1  4  1  1 15"
      ]
     },
     "metadata": {},
     "output_type": "display_data"
    }
   ],
   "source": [
    "imputed3 = c()\n",
    "for(f in c('X81A','X90A','X143A')) {\n",
    "    imputed3 <- c(imputed3,as.numeric(mdat503$imp[[f]][,5]))\n",
    "}\n",
    "imputed2"
   ]
  },
  {
   "cell_type": "code",
   "execution_count": 22,
   "metadata": {
    "collapsed": false
   },
   "outputs": [
    {
     "data": {
      "text/html": [
       "-0.0105358339218568"
      ],
      "text/latex": [
       "-0.0105358339218568"
      ],
      "text/markdown": [
       "-0.0105358339218568"
      ],
      "text/plain": [
       "[1] -0.01053583"
      ]
     },
     "metadata": {},
     "output_type": "display_data"
    }
   ],
   "source": [
    "cor(origs,imputed3)"
   ]
  },
  {
   "cell_type": "code",
   "execution_count": 24,
   "metadata": {
    "collapsed": false
   },
   "outputs": [
    {
     "data": {
      "text/html": [
       "0.244146867845258"
      ],
      "text/latex": [
       "0.244146867845258"
      ],
      "text/markdown": [
       "0.244146867845258"
      ],
      "text/plain": [
       "[1] 0.2441469"
      ]
     },
     "metadata": {},
     "output_type": "display_data"
    }
   ],
   "source": [
    "cor(imputed3,imputed)"
   ]
  },
  {
   "cell_type": "code",
   "execution_count": 25,
   "metadata": {
    "collapsed": false
   },
   "outputs": [
    {
     "data": {
      "text/html": [
       "0.151279843618986"
      ],
      "text/latex": [
       "0.151279843618986"
      ],
      "text/markdown": [
       "0.151279843618986"
      ],
      "text/plain": [
       "[1] 0.1512798"
      ]
     },
     "metadata": {},
     "output_type": "display_data"
    }
   ],
   "source": [
    "cor(imputed2,imputed3)"
   ]
  },
  {
   "cell_type": "code",
   "execution_count": null,
   "metadata": {
    "collapsed": true
   },
   "outputs": [],
   "source": []
  },
  {
   "cell_type": "code",
   "execution_count": null,
   "metadata": {
    "collapsed": true
   },
   "outputs": [],
   "source": []
  }
 ],
 "metadata": {
  "kernelspec": {
   "display_name": "R",
   "language": "R",
   "name": "ir"
  },
  "language_info": {
   "codemirror_mode": "r",
   "file_extension": ".r",
   "mimetype": "text/x-r-source",
   "name": "R",
   "pygments_lexer": "r",
   "version": "3.4.1"
  }
 },
 "nbformat": 4,
 "nbformat_minor": 1
}
